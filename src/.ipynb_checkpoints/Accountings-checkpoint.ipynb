{
 "cells": [
  {
   "cell_type": "code",
   "execution_count": 430,
   "metadata": {
    "collapsed": true
   },
   "outputs": [],
   "source": [
    "%matplotlib inline\n",
    "import numpy \n",
    "import pandas\n",
    "import matplotlib.pyplot as plt\n",
    "import seaborn as sns\n",
    "import re"
   ]
  },
  {
   "cell_type": "code",
   "execution_count": 431,
   "metadata": {
    "collapsed": false
   },
   "outputs": [],
   "source": [
    "accounting_neeq = pandas.read_excel(\"../data/raw/accounting2015.xlsx\")\n",
    "accounting_cf_neeq = pandas.read_excel(\"../data/raw/accounting2015_cf.xlsx\")\n",
    "accounting_neeq = accounting_neeq[:-2]\n",
    "accounting_cf_neeq = accounting_cf_neeq[:-2]\n",
    "#833822"
   ]
  },
  {
   "cell_type": "code",
   "execution_count": 432,
   "metadata": {
    "collapsed": true
   },
   "outputs": [],
   "source": [
    "accounting_neeq = pandas.merge(accounting_neeq, accounting_cf_neeq, on=[\"证券代码\", \"证券简称\"])"
   ]
  },
  {
   "cell_type": "code",
   "execution_count": 433,
   "metadata": {
    "collapsed": false
   },
   "outputs": [],
   "source": [
    "columns = [\"资产总计\", \"归属母公司股东的权益\", \"营业收入\", \"营业成本\", \"销售费用\", \n",
    "           \"管理费用\", \"财务费用\", \"归属母公司股东的净利润\", \"非经常性损益\", \"扣除非经常性损益后的净利\", \n",
    "          \"经营活动产生的现金流量净额\", \"应收账款\", \"固定资产\", \"ROA\", \"折旧\", \"长期待摊费用摊销\",\n",
    "           \"存货的减少\", \"经营性应收项目的减少\", \"经营性应付项目的增加\"]\n",
    "\n",
    "year = numpy.arange(2003, 2016)\n",
    "\n",
    "column_names = [item + str(iyear) for item in columns for iyear in year]"
   ]
  },
  {
   "cell_type": "code",
   "execution_count": 434,
   "metadata": {
    "collapsed": false
   },
   "outputs": [],
   "source": [
    "accounting_neeq.columns = [\"证券代码\", \"证券简称\"] + column_names"
   ]
  },
  {
   "cell_type": "code",
   "execution_count": 435,
   "metadata": {
    "collapsed": false
   },
   "outputs": [],
   "source": [
    "accounting_neeq_long = pandas.wide_to_long(accounting_neeq, stubnames=columns, i=\"证券代码\", j=\"年度\")"
   ]
  },
  {
   "cell_type": "code",
   "execution_count": 436,
   "metadata": {
    "collapsed": true
   },
   "outputs": [],
   "source": [
    "neeq_sample = pandas.read_csv(\"../data/NEEQ_sample.csv\", parse_dates=[7, 8], index_col=13)"
   ]
  },
  {
   "cell_type": "code",
   "execution_count": 437,
   "metadata": {
    "collapsed": true
   },
   "outputs": [],
   "source": [
    "neeq_sample = neeq_sample[[\"挂牌日期\", \"主办券商\", \"所属园区\", \"所属证监会行业\", \"摘牌日期\"]]\n",
    "neeq_sample = neeq_sample.sort_index()\n",
    "neeq_sample[\"挂牌年度\"] = neeq_sample[\"挂牌日期\"].apply(lambda x: x.year)\n",
    "neeq_sample[\"挂牌月份\"] = neeq_sample[\"挂牌日期\"].apply(lambda x: x.month)"
   ]
  },
  {
   "cell_type": "code",
   "execution_count": 438,
   "metadata": {
    "collapsed": false
   },
   "outputs": [],
   "source": [
    "accounting_neeq_long = pandas.merge(neeq_sample, accounting_neeq_long, \n",
    "                                    how=\"inner\", left_index=True, \n",
    "                                    right_index=True)"
   ]
  },
  {
   "cell_type": "code",
   "execution_count": 439,
   "metadata": {
    "collapsed": false,
    "scrolled": true
   },
   "outputs": [],
   "source": [
    "accounting_neeq_long.reset_index(inplace=True)"
   ]
  },
  {
   "cell_type": "code",
   "execution_count": 440,
   "metadata": {
    "collapsed": false
   },
   "outputs": [
    {
     "data": {
      "text/html": [
       "<div>\n",
       "<table border=\"1\" class=\"dataframe\">\n",
       "  <thead>\n",
       "    <tr style=\"text-align: right;\">\n",
       "      <th></th>\n",
       "      <th>证券代码</th>\n",
       "      <th>年度</th>\n",
       "      <th>挂牌日期</th>\n",
       "      <th>主办券商</th>\n",
       "      <th>所属园区</th>\n",
       "      <th>所属证监会行业</th>\n",
       "      <th>摘牌日期</th>\n",
       "      <th>挂牌年度</th>\n",
       "      <th>挂牌月份</th>\n",
       "      <th>证券简称</th>\n",
       "      <th>...</th>\n",
       "      <th>扣除非经常性损益后的净利</th>\n",
       "      <th>经营活动产生的现金流量净额</th>\n",
       "      <th>应收账款</th>\n",
       "      <th>固定资产</th>\n",
       "      <th>ROA</th>\n",
       "      <th>折旧</th>\n",
       "      <th>长期待摊费用摊销</th>\n",
       "      <th>存货的减少</th>\n",
       "      <th>经营性应收项目的减少</th>\n",
       "      <th>经营性应付项目的增加</th>\n",
       "    </tr>\n",
       "  </thead>\n",
       "  <tbody>\n",
       "    <tr>\n",
       "      <th>0</th>\n",
       "      <td>430001.OC</td>\n",
       "      <td>2003</td>\n",
       "      <td>2006-01-18</td>\n",
       "      <td>申银万国证券股份有限公司</td>\n",
       "      <td>中关村科技园区非上市股份有限公司</td>\n",
       "      <td>软件与服务</td>\n",
       "      <td>2010-12-06</td>\n",
       "      <td>2006</td>\n",
       "      <td>1</td>\n",
       "      <td>世纪瑞尔(退市)</td>\n",
       "      <td>...</td>\n",
       "      <td>NaN</td>\n",
       "      <td>10843347.75</td>\n",
       "      <td>27121681.98</td>\n",
       "      <td>29395524.57</td>\n",
       "      <td>NaN</td>\n",
       "      <td>943428.0</td>\n",
       "      <td>610643.0</td>\n",
       "      <td>-2692313.1</td>\n",
       "      <td>-13831571.1</td>\n",
       "      <td>13440729.88</td>\n",
       "    </tr>\n",
       "    <tr>\n",
       "      <th>1</th>\n",
       "      <td>430002.OC</td>\n",
       "      <td>2003</td>\n",
       "      <td>2006-01-23</td>\n",
       "      <td>申万宏源证券有限公司</td>\n",
       "      <td>中关村科技园区</td>\n",
       "      <td>软件和信息技术服务业</td>\n",
       "      <td>NaT</td>\n",
       "      <td>2006</td>\n",
       "      <td>1</td>\n",
       "      <td>中科软</td>\n",
       "      <td>...</td>\n",
       "      <td>6039888.09</td>\n",
       "      <td>NaN</td>\n",
       "      <td>19541521.43</td>\n",
       "      <td>6683984.09</td>\n",
       "      <td>NaN</td>\n",
       "      <td>NaN</td>\n",
       "      <td>NaN</td>\n",
       "      <td>NaN</td>\n",
       "      <td>NaN</td>\n",
       "      <td>NaN</td>\n",
       "    </tr>\n",
       "    <tr>\n",
       "      <th>2</th>\n",
       "      <td>430003.OC</td>\n",
       "      <td>2003</td>\n",
       "      <td>2006-03-31</td>\n",
       "      <td>国泰君安证券股份有限公司</td>\n",
       "      <td>中关村科技园区</td>\n",
       "      <td>通用设备制造业</td>\n",
       "      <td>NaT</td>\n",
       "      <td>2006</td>\n",
       "      <td>3</td>\n",
       "      <td>北京时代</td>\n",
       "      <td>...</td>\n",
       "      <td>NaN</td>\n",
       "      <td>NaN</td>\n",
       "      <td>8586266.12</td>\n",
       "      <td>51466641.87</td>\n",
       "      <td>NaN</td>\n",
       "      <td>NaN</td>\n",
       "      <td>NaN</td>\n",
       "      <td>NaN</td>\n",
       "      <td>NaN</td>\n",
       "      <td>NaN</td>\n",
       "    </tr>\n",
       "    <tr>\n",
       "      <th>3</th>\n",
       "      <td>430004.OC</td>\n",
       "      <td>2003</td>\n",
       "      <td>2006-06-07</td>\n",
       "      <td>广发证券股份有限公司</td>\n",
       "      <td>中关村科技园区</td>\n",
       "      <td>专用设备制造业</td>\n",
       "      <td>NaT</td>\n",
       "      <td>2006</td>\n",
       "      <td>6</td>\n",
       "      <td>绿创环保</td>\n",
       "      <td>...</td>\n",
       "      <td>NaN</td>\n",
       "      <td>NaN</td>\n",
       "      <td>NaN</td>\n",
       "      <td>NaN</td>\n",
       "      <td>NaN</td>\n",
       "      <td>NaN</td>\n",
       "      <td>NaN</td>\n",
       "      <td>NaN</td>\n",
       "      <td>NaN</td>\n",
       "      <td>NaN</td>\n",
       "    </tr>\n",
       "    <tr>\n",
       "      <th>4</th>\n",
       "      <td>430005.OC</td>\n",
       "      <td>2003</td>\n",
       "      <td>2006-07-28</td>\n",
       "      <td>广发证券股份有限公司</td>\n",
       "      <td>中关村科技园区</td>\n",
       "      <td>医药制造业</td>\n",
       "      <td>NaT</td>\n",
       "      <td>2006</td>\n",
       "      <td>7</td>\n",
       "      <td>原子高科</td>\n",
       "      <td>...</td>\n",
       "      <td>NaN</td>\n",
       "      <td>NaN</td>\n",
       "      <td>NaN</td>\n",
       "      <td>NaN</td>\n",
       "      <td>NaN</td>\n",
       "      <td>NaN</td>\n",
       "      <td>NaN</td>\n",
       "      <td>NaN</td>\n",
       "      <td>NaN</td>\n",
       "      <td>NaN</td>\n",
       "    </tr>\n",
       "  </tbody>\n",
       "</table>\n",
       "<p>5 rows × 29 columns</p>\n",
       "</div>"
      ],
      "text/plain": [
       "        证券代码    年度       挂牌日期          主办券商              所属园区     所属证监会行业  \\\n",
       "0  430001.OC  2003 2006-01-18  申银万国证券股份有限公司  中关村科技园区非上市股份有限公司       软件与服务   \n",
       "1  430002.OC  2003 2006-01-23    申万宏源证券有限公司           中关村科技园区  软件和信息技术服务业   \n",
       "2  430003.OC  2003 2006-03-31  国泰君安证券股份有限公司           中关村科技园区     通用设备制造业   \n",
       "3  430004.OC  2003 2006-06-07    广发证券股份有限公司           中关村科技园区     专用设备制造业   \n",
       "4  430005.OC  2003 2006-07-28    广发证券股份有限公司           中关村科技园区       医药制造业   \n",
       "\n",
       "        摘牌日期  挂牌年度  挂牌月份      证券简称     ...       扣除非经常性损益后的净利  经营活动产生的现金流量净额  \\\n",
       "0 2010-12-06  2006     1  世纪瑞尔(退市)     ...                NaN    10843347.75   \n",
       "1        NaT  2006     1       中科软     ...         6039888.09            NaN   \n",
       "2        NaT  2006     3      北京时代     ...                NaN            NaN   \n",
       "3        NaT  2006     6      绿创环保     ...                NaN            NaN   \n",
       "4        NaT  2006     7      原子高科     ...                NaN            NaN   \n",
       "\n",
       "          应收账款         固定资产  ROA        折旧  长期待摊费用摊销      存货的减少  经营性应收项目的减少  \\\n",
       "0  27121681.98  29395524.57  NaN  943428.0  610643.0 -2692313.1 -13831571.1   \n",
       "1  19541521.43   6683984.09  NaN       NaN       NaN        NaN         NaN   \n",
       "2   8586266.12  51466641.87  NaN       NaN       NaN        NaN         NaN   \n",
       "3          NaN          NaN  NaN       NaN       NaN        NaN         NaN   \n",
       "4          NaN          NaN  NaN       NaN       NaN        NaN         NaN   \n",
       "\n",
       "    经营性应付项目的增加  \n",
       "0  13440729.88  \n",
       "1          NaN  \n",
       "2          NaN  \n",
       "3          NaN  \n",
       "4          NaN  \n",
       "\n",
       "[5 rows x 29 columns]"
      ]
     },
     "execution_count": 440,
     "metadata": {},
     "output_type": "execute_result"
    }
   ],
   "source": [
    "accounting_neeq_long.head()"
   ]
  },
  {
   "cell_type": "code",
   "execution_count": 441,
   "metadata": {
    "collapsed": false
   },
   "outputs": [],
   "source": [
    "files = !ls ../data/raw/\n",
    "files_fin_state = []\n",
    "for file in files:\n",
    "    match = re.match(\"财报披露日\", file)\n",
    "    if match is not None:\n",
    "        files_fin_state.append(file)"
   ]
  },
  {
   "cell_type": "code",
   "execution_count": 442,
   "metadata": {
    "collapsed": false
   },
   "outputs": [],
   "source": [
    "fin_report_data = []\n",
    "for item in files_fin_state:\n",
    "    data_dir = \"../data/raw/\" + item\n",
    "    data = pandas.read_excel(data_dir)\n",
    "    data = data[:-2]\n",
    "    fin_report_data.append(data)"
   ]
  },
  {
   "cell_type": "code",
   "execution_count": 443,
   "metadata": {
    "collapsed": false
   },
   "outputs": [],
   "source": [
    "financial_reports = pandas.concat(fin_report_data)"
   ]
  },
  {
   "cell_type": "code",
   "execution_count": 444,
   "metadata": {
    "collapsed": false
   },
   "outputs": [],
   "source": [
    "financial_reports = financial_reports[[\"证券代码\", \"实际披露日期\", \"报告期\"]]\n",
    "financial_reports[\"年度\"] = financial_reports[\"报告期\"].apply(lambda x: x.year)"
   ]
  },
  {
   "cell_type": "code",
   "execution_count": 445,
   "metadata": {
    "collapsed": false
   },
   "outputs": [
    {
     "data": {
      "text/html": [
       "<div>\n",
       "<table border=\"1\" class=\"dataframe\">\n",
       "  <thead>\n",
       "    <tr style=\"text-align: right;\">\n",
       "      <th></th>\n",
       "      <th>证券代码</th>\n",
       "      <th>实际披露日期</th>\n",
       "      <th>报告期</th>\n",
       "      <th>年度</th>\n",
       "    </tr>\n",
       "  </thead>\n",
       "  <tbody>\n",
       "    <tr>\n",
       "      <th>0</th>\n",
       "      <td>400028.OC</td>\n",
       "      <td>2004-05-19</td>\n",
       "      <td>2003-12-31</td>\n",
       "      <td>2003</td>\n",
       "    </tr>\n",
       "    <tr>\n",
       "      <th>1</th>\n",
       "      <td>400029.OC</td>\n",
       "      <td>2004-04-22</td>\n",
       "      <td>2003-12-31</td>\n",
       "      <td>2003</td>\n",
       "    </tr>\n",
       "    <tr>\n",
       "      <th>2</th>\n",
       "      <td>400030.OC</td>\n",
       "      <td>2004-04-17</td>\n",
       "      <td>2003-12-31</td>\n",
       "      <td>2003</td>\n",
       "    </tr>\n",
       "    <tr>\n",
       "      <th>3</th>\n",
       "      <td>400031.OC</td>\n",
       "      <td>2004-03-19</td>\n",
       "      <td>2003-12-31</td>\n",
       "      <td>2003</td>\n",
       "    </tr>\n",
       "    <tr>\n",
       "      <th>4</th>\n",
       "      <td>400032.OC</td>\n",
       "      <td>2004-04-29</td>\n",
       "      <td>2003-12-31</td>\n",
       "      <td>2003</td>\n",
       "    </tr>\n",
       "  </tbody>\n",
       "</table>\n",
       "</div>"
      ],
      "text/plain": [
       "        证券代码     实际披露日期        报告期    年度\n",
       "0  400028.OC 2004-05-19 2003-12-31  2003\n",
       "1  400029.OC 2004-04-22 2003-12-31  2003\n",
       "2  400030.OC 2004-04-17 2003-12-31  2003\n",
       "3  400031.OC 2004-03-19 2003-12-31  2003\n",
       "4  400032.OC 2004-04-29 2003-12-31  2003"
      ]
     },
     "execution_count": 445,
     "metadata": {},
     "output_type": "execute_result"
    }
   ],
   "source": [
    "financial_reports.head()"
   ]
  },
  {
   "cell_type": "code",
   "execution_count": 446,
   "metadata": {
    "collapsed": false
   },
   "outputs": [],
   "source": [
    "accounting_neeq_long = pandas.merge(accounting_neeq_long, financial_reports, \n",
    "                                    how=\"left\", on=[\"证券代码\", \"年度\"])"
   ]
  },
  {
   "cell_type": "code",
   "execution_count": 447,
   "metadata": {
    "collapsed": false
   },
   "outputs": [
    {
     "data": {
      "text/plain": [
       "证券代码                       430001.OC\n",
       "年度                              2003\n",
       "挂牌日期             2006-01-18 00:00:00\n",
       "主办券商                    申银万国证券股份有限公司\n",
       "所属园区                中关村科技园区非上市股份有限公司\n",
       "所属证监会行业                        软件与服务\n",
       "摘牌日期             2010-12-06 00:00:00\n",
       "挂牌年度                            2006\n",
       "挂牌月份                               1\n",
       "证券简称                        世纪瑞尔(退市)\n",
       "资产总计                     1.03696e+08\n",
       "归属母公司股东的权益               7.06015e+07\n",
       "营业收入                     4.02414e+07\n",
       "营业成本                     1.35694e+07\n",
       "销售费用                     7.71494e+06\n",
       "管理费用                     9.77092e+06\n",
       "财务费用                          235899\n",
       "归属母公司股东的净利润               1.0645e+07\n",
       "非经常性损益                           NaN\n",
       "扣除非经常性损益后的净利                     NaN\n",
       "经营活动产生的现金流量净额            1.08433e+07\n",
       "应收账款                     2.71217e+07\n",
       "固定资产                     2.93955e+07\n",
       "ROA                              NaN\n",
       "折旧                            943428\n",
       "长期待摊费用摊销                      610643\n",
       "存货的减少                   -2.69231e+06\n",
       "经营性应收项目的减少              -1.38316e+07\n",
       "经营性应付项目的增加               1.34407e+07\n",
       "实际披露日期                           NaT\n",
       "报告期                              NaT\n",
       "Name: 0, dtype: object"
      ]
     },
     "execution_count": 447,
     "metadata": {},
     "output_type": "execute_result"
    }
   ],
   "source": [
    "accounting_neeq_long.iloc[0]"
   ]
  },
  {
   "cell_type": "code",
   "execution_count": 448,
   "metadata": {
    "collapsed": false
   },
   "outputs": [],
   "source": [
    "accounting_neeq_long[\"挂牌前后\"] = numpy.nan"
   ]
  },
  {
   "cell_type": "code",
   "execution_count": 449,
   "metadata": {
    "collapsed": false
   },
   "outputs": [],
   "source": [
    "accounting_neeq_long.loc[(accounting_neeq_long[\"年度\"] >= accounting_neeq_long[\"挂牌年度\"]), \"挂牌前后\"] = \"挂牌后\"\n",
    "accounting_neeq_long.loc[(accounting_neeq_long[\"年度\"] == accounting_neeq_long[\"挂牌年度\"] - 1) &\n",
    "                         (accounting_neeq_long[\"实际披露日期\"] > accounting_neeq_long[\"挂牌日期\"]), \"挂牌前后\"] = \"挂牌后\"\n",
    "\n",
    "accounting_neeq_long.loc[(accounting_neeq_long[\"年度\"] <= accounting_neeq_long[\"挂牌年度\"] - 2), \"挂牌前后\"] = \"挂牌前\"\n",
    "accounting_neeq_long.loc[(accounting_neeq_long[\"年度\"] == accounting_neeq_long[\"挂牌年度\"] - 1) &\n",
    "                         (accounting_neeq_long[\"实际披露日期\"] <= accounting_neeq_long[\"挂牌日期\"]), \"挂牌前后\"] = \"挂牌前\""
   ]
  },
  {
   "cell_type": "code",
   "execution_count": 450,
   "metadata": {
    "collapsed": false
   },
   "outputs": [],
   "source": [
    "drops = accounting_neeq_long.loc[(accounting_neeq_long[\"年度\"] < accounting_neeq_long[\"挂牌年度\"] - 1) &\n",
    "                                 (accounting_neeq_long.iloc[:, 10:28].isnull().all(axis=1))].index"
   ]
  },
  {
   "cell_type": "code",
   "execution_count": 451,
   "metadata": {
    "collapsed": false
   },
   "outputs": [],
   "source": [
    "accounting_neeq_long = accounting_neeq_long.drop(drops)"
   ]
  },
  {
   "cell_type": "code",
   "execution_count": 452,
   "metadata": {
    "collapsed": false
   },
   "outputs": [],
   "source": [
    "accounting_neeq_long.loc[(accounting_neeq_long[\"年度\"] == accounting_neeq_long[\"挂牌年度\"] - 1) &\n",
    "                         (accounting_neeq_long[\"挂牌月份\"] < 5), \"挂牌前后\"] = \"挂牌后\"\n",
    "\n",
    "accounting_neeq_long.loc[(accounting_neeq_long[\"年度\"] == accounting_neeq_long[\"挂牌年度\"] - 1) &\n",
    "                         (accounting_neeq_long[\"挂牌月份\"] >= 5) & \n",
    "                         (~accounting_neeq_long.iloc[:, 10:28].isnull().all(axis=1)), \"挂牌前后\"] = \"挂牌前\""
   ]
  },
  {
   "cell_type": "code",
   "execution_count": 453,
   "metadata": {
    "collapsed": false
   },
   "outputs": [],
   "source": [
    "accounting_neeq_long.loc[(accounting_neeq_long[\"证券代码\"] == \"832668.OC\"), \"挂牌前后\"] = \"挂牌后\""
   ]
  },
  {
   "cell_type": "code",
   "execution_count": 454,
   "metadata": {
    "collapsed": false
   },
   "outputs": [],
   "source": [
    "accounting_groups = accounting_neeq_long.groupby(\"证券代码\")"
   ]
  },
  {
   "cell_type": "code",
   "execution_count": 455,
   "metadata": {
    "collapsed": true
   },
   "outputs": [],
   "source": [
    "def relative_index(data):\n",
    "    data = data.sort_values(\"年度\")\n",
    "    len1 = len(data[data[\"挂牌前后\"] == \"挂牌前\"])\n",
    "    len2 = len(data[data[\"挂牌前后\"] == \"挂牌后\"])\n",
    "    year_pre = numpy.arange(start=-1 * len1, stop=0, step=1)\n",
    "    year_post = numpy.arange(start=0, stop=len2, step=1)\n",
    "    data[\"relativeYear\"] = numpy.concatenate((year_pre, year_post))\n",
    "    return data"
   ]
  },
  {
   "cell_type": "code",
   "execution_count": 456,
   "metadata": {
    "collapsed": false
   },
   "outputs": [],
   "source": [
    "accounting_neeq_long1 = accounting_groups.apply(relative_index)"
   ]
  },
  {
   "cell_type": "code",
   "execution_count": 457,
   "metadata": {
    "collapsed": false
   },
   "outputs": [],
   "source": [
    "accounting_neeq_long1 = accounting_neeq_long1.reset_index(drop=True)"
   ]
  },
  {
   "cell_type": "code",
   "execution_count": 250,
   "metadata": {
    "collapsed": false,
    "scrolled": true
   },
   "outputs": [],
   "source": [
    "accounting_neeq_long1[accounting_neeq_long1[\"relativeYear\"] == -3].to_csv('../data/tmp2.csv', index=False)"
   ]
  },
  {
   "cell_type": "code",
   "execution_count": 417,
   "metadata": {
    "collapsed": false
   },
   "outputs": [],
   "source": [
    "accounting_neeq_long1.loc[accounting_neeq_long1[\"relativeYear\"] == -1][~(accounting_neeq_long1.loc[accounting_neeq_long1[\"relativeYear\"] == -1, \"证券代码\"].isin(\n",
    "accounting_neeq_long1.loc[accounting_neeq_long1[\"relativeYear\"] == -2, \"证券代码\"]))].to_csv(\"../data/tmp5.csv\", index=False)"
   ]
  },
  {
   "cell_type": "code",
   "execution_count": 638,
   "metadata": {
    "collapsed": false
   },
   "outputs": [
    {
     "data": {
      "text/html": [
       "<div>\n",
       "<table border=\"1\" class=\"dataframe\">\n",
       "  <thead>\n",
       "    <tr style=\"text-align: right;\">\n",
       "      <th></th>\n",
       "      <th>证券代码</th>\n",
       "      <th>年度</th>\n",
       "      <th>挂牌日期</th>\n",
       "      <th>主办券商</th>\n",
       "      <th>所属园区</th>\n",
       "      <th>所属证监会行业</th>\n",
       "      <th>摘牌日期</th>\n",
       "      <th>挂牌年度</th>\n",
       "      <th>挂牌月份</th>\n",
       "      <th>证券简称</th>\n",
       "      <th>...</th>\n",
       "      <th>ROA</th>\n",
       "      <th>折旧</th>\n",
       "      <th>长期待摊费用摊销</th>\n",
       "      <th>存货的减少</th>\n",
       "      <th>经营性应收项目的减少</th>\n",
       "      <th>经营性应付项目的增加</th>\n",
       "      <th>实际披露日期</th>\n",
       "      <th>报告期</th>\n",
       "      <th>挂牌前后</th>\n",
       "      <th>relativeYear</th>\n",
       "    </tr>\n",
       "  </thead>\n",
       "  <tbody>\n",
       "    <tr>\n",
       "      <th>11692</th>\n",
       "      <td>832548.OC</td>\n",
       "      <td>2012</td>\n",
       "      <td>2015-06-10</td>\n",
       "      <td>财通证券股份有限公司</td>\n",
       "      <td>非高新产业区</td>\n",
       "      <td>医药制造业</td>\n",
       "      <td>NaT</td>\n",
       "      <td>2015</td>\n",
       "      <td>6</td>\n",
       "      <td>金泉科技</td>\n",
       "      <td>...</td>\n",
       "      <td>3.1496</td>\n",
       "      <td>1735666.42</td>\n",
       "      <td>NaN</td>\n",
       "      <td>-1350106.15</td>\n",
       "      <td>-1369721.92</td>\n",
       "      <td>1824063.05</td>\n",
       "      <td>NaT</td>\n",
       "      <td>NaT</td>\n",
       "      <td>挂牌前</td>\n",
       "      <td>-2</td>\n",
       "    </tr>\n",
       "    <tr>\n",
       "      <th>11693</th>\n",
       "      <td>832548.OC</td>\n",
       "      <td>2013</td>\n",
       "      <td>2015-06-10</td>\n",
       "      <td>财通证券股份有限公司</td>\n",
       "      <td>非高新产业区</td>\n",
       "      <td>医药制造业</td>\n",
       "      <td>NaT</td>\n",
       "      <td>2015</td>\n",
       "      <td>6</td>\n",
       "      <td>金泉科技</td>\n",
       "      <td>...</td>\n",
       "      <td>1.1890</td>\n",
       "      <td>1759291.84</td>\n",
       "      <td>NaN</td>\n",
       "      <td>-1121059.78</td>\n",
       "      <td>-5368876.36</td>\n",
       "      <td>2237937.50</td>\n",
       "      <td>NaT</td>\n",
       "      <td>NaT</td>\n",
       "      <td>挂牌前</td>\n",
       "      <td>-1</td>\n",
       "    </tr>\n",
       "    <tr>\n",
       "      <th>11694</th>\n",
       "      <td>832548.OC</td>\n",
       "      <td>2014</td>\n",
       "      <td>2015-06-10</td>\n",
       "      <td>财通证券股份有限公司</td>\n",
       "      <td>非高新产业区</td>\n",
       "      <td>医药制造业</td>\n",
       "      <td>NaT</td>\n",
       "      <td>2015</td>\n",
       "      <td>6</td>\n",
       "      <td>金泉科技</td>\n",
       "      <td>...</td>\n",
       "      <td>1.1633</td>\n",
       "      <td>1634862.06</td>\n",
       "      <td>NaN</td>\n",
       "      <td>68772.43</td>\n",
       "      <td>1924420.22</td>\n",
       "      <td>-1852251.37</td>\n",
       "      <td>2015-07-07</td>\n",
       "      <td>2014-12-31</td>\n",
       "      <td>挂牌前</td>\n",
       "      <td>0</td>\n",
       "    </tr>\n",
       "    <tr>\n",
       "      <th>11695</th>\n",
       "      <td>832548.OC</td>\n",
       "      <td>2015</td>\n",
       "      <td>2015-06-10</td>\n",
       "      <td>财通证券股份有限公司</td>\n",
       "      <td>非高新产业区</td>\n",
       "      <td>医药制造业</td>\n",
       "      <td>NaT</td>\n",
       "      <td>2015</td>\n",
       "      <td>6</td>\n",
       "      <td>金泉科技</td>\n",
       "      <td>...</td>\n",
       "      <td>10.0878</td>\n",
       "      <td>1816726.16</td>\n",
       "      <td>NaN</td>\n",
       "      <td>2664340.69</td>\n",
       "      <td>-5673240.06</td>\n",
       "      <td>-2785573.20</td>\n",
       "      <td>2016-03-24</td>\n",
       "      <td>2015-12-31</td>\n",
       "      <td>挂牌后</td>\n",
       "      <td>1</td>\n",
       "    </tr>\n",
       "  </tbody>\n",
       "</table>\n",
       "<p>4 rows × 33 columns</p>\n",
       "</div>"
      ],
      "text/plain": [
       "            证券代码    年度       挂牌日期        主办券商    所属园区 所属证监会行业 摘牌日期  挂牌年度  \\\n",
       "11692  832548.OC  2012 2015-06-10  财通证券股份有限公司  非高新产业区   医药制造业  NaT  2015   \n",
       "11693  832548.OC  2013 2015-06-10  财通证券股份有限公司  非高新产业区   医药制造业  NaT  2015   \n",
       "11694  832548.OC  2014 2015-06-10  财通证券股份有限公司  非高新产业区   医药制造业  NaT  2015   \n",
       "11695  832548.OC  2015 2015-06-10  财通证券股份有限公司  非高新产业区   医药制造业  NaT  2015   \n",
       "\n",
       "       挂牌月份  证券简称      ...           ROA          折旧  长期待摊费用摊销       存货的减少  \\\n",
       "11692     6  金泉科技      ...        3.1496  1735666.42       NaN -1350106.15   \n",
       "11693     6  金泉科技      ...        1.1890  1759291.84       NaN -1121059.78   \n",
       "11694     6  金泉科技      ...        1.1633  1634862.06       NaN    68772.43   \n",
       "11695     6  金泉科技      ...       10.0878  1816726.16       NaN  2664340.69   \n",
       "\n",
       "       经营性应收项目的减少  经营性应付项目的增加     实际披露日期        报告期  挂牌前后  relativeYear  \n",
       "11692 -1369721.92  1824063.05        NaT        NaT   挂牌前            -2  \n",
       "11693 -5368876.36  2237937.50        NaT        NaT   挂牌前            -1  \n",
       "11694  1924420.22 -1852251.37 2015-07-07 2014-12-31   挂牌前             0  \n",
       "11695 -5673240.06 -2785573.20 2016-03-24 2015-12-31   挂牌后             1  \n",
       "\n",
       "[4 rows x 33 columns]"
      ]
     },
     "execution_count": 638,
     "metadata": {},
     "output_type": "execute_result"
    }
   ],
   "source": [
    "accounting_neeq_long1[accounting_neeq_long1[\"证券代码\"]==\"832548.OC\"]"
   ]
  },
  {
   "cell_type": "code",
   "execution_count": 460,
   "metadata": {
    "collapsed": false
   },
   "outputs": [],
   "source": [
    "StkcdChangedYear = [\"832482.OC\", \"832498.OC\", \"832537.OC\", \"430702.OC\", \"830767.OC\", \"830780.OC\", \n",
    "                   \"830825.OC\", \"832383.OC\", \"832611.OC\", \"832615.OC\", \"832686.OC\", \"430213.OC\",\n",
    "                   \"430214.OC\", \"430215.OC\", \"430217.OC\", \"430218.OC\", \"430219.OC\", \"430699.OC\", \n",
    "                   \"430720.OC\", \"430722.OC\", \"430724.OC\", \"430725.OC\", \"430727.OC\", \"430729.OC\", \n",
    "                   \"430730.OC\", \"430733.OC\", \"430734.OC\", \"430735.OC\", \"430736.OC\", \"430741.OC\", \n",
    "                   \"430743.OC\", \"430744.OC\", \"430745.OC\", \"430746.OC\", \"430747.OC\", \"430749.OC\", \n",
    "                   \"430750.OC\", \"430751.OC\", \"430752.OC\", \"430754.OC\", \"430755.OC\", \"430756.OC\", \n",
    "                   \"430757.OC\", \"430758.OC\", \"430759.OC\", \"430760.OC\", \"430762.OC\", \"430763.OC\", \n",
    "                   \"830773.OC\", \"830775.OC\", \"830778.OC\", \"830781.OC\", \"830785.OC\", \"830787.OC\", \n",
    "                   \"830790.OC\", \"830799.OC\", \"830800.OC\", \"830801.OC\", \"830805.OC\", \"830806.OC\", \n",
    "                   \"830819.OC\", \"832004.OC\", \"832066.OC\", \"832337.OC\", \"832347.OC\", \"832355.OC\", \n",
    "                   \"832360.OC\", \"832373.OC\", \"832374.OC\", \"832376.OC\", \"832377.OC\", \"832385.OC\", \n",
    "                   \"832386.OC\", \"832387.OC\", \"832388.OC\", \"832389.OC\", \"832390.OC\", \"832391.OC\", \n",
    "                   \"832392.OC\", \"832393.OC\", \"832394.OC\", \"832395.OC\", \"832398.OC\", \"832400.OC\", \n",
    "                   \"832401.OC\", \"832402.OC\", \"832403.OC\", \"832404.OC\", \"832406.OC\", \"832407.OC\", \n",
    "                   \"832408.OC\", \"832409.OC\", \"832410.OC\", \"832411.OC\", \"832412.OC\", \"832413.OC\", \n",
    "                   \"832414.OC\", \"832415.OC\", \"832416.OC\", \"832417.OC\", \"832418.OC\", \"832420.OC\", \n",
    "                   \"832421.OC\", \"832422.OC\", \"832423.OC\", \"832424.OC\", \"832425.OC\", \"832426.OC\", \n",
    "                   \"832427.OC\", \"832432.OC\", \"832433.OC\", \"832434.OC\", \"832436.OC\", \"832437.OC\", \n",
    "                   \"832438.OC\", \"832439.OC\", \"832440.OC\", \"832441.OC\", \"832442.OC\", \"832443.OC\", \n",
    "                   \"832444.OC\", \"832445.OC\", \"832446.OC\", \"832447.OC\", \"832448.OC\", \"832449.OC\", \n",
    "                   \"832452.OC\", \"832453.OC\", \"832454.OC\", \"832455.OC\", \"832456.OC\", \"832457.OC\", \n",
    "                   \"832461.OC\", \"832462.OC\", \"832463.OC\", \"832464.OC\", \"832465.OC\", \"832466.OC\", \n",
    "                   \"832467.OC\", \"832468.OC\", \"832469.OC\", \"832470.OC\", \"832471.OC\", \"832472.OC\", \n",
    "                   \"832473.OC\", \"832475.OC\", \"832477.OC\", \"832478.OC\", \"832479.OC\", \"832480.OC\", \n",
    "                   \"832481.OC\", \"832483.OC\", \"832484.OC\", \"832485.OC\", \"832486.OC\", \"832487.OC\", \n",
    "                   \"832488.OC\", \"832489.OC\", \"832490.OC\", \"832491.OC\", \"832492.OC\", \"832493.OC\", \n",
    "                   \"832494.OC\", \"832495.OC\", \"832496.OC\", \"832497.OC\", \"832500.OC\", \"832501.OC\", \n",
    "                   \"832502.OC\", \"832503.OC\", \"832504.OC\", \"832506.OC\", \"832507.OC\", \"832548.OC\",\n",
    "                   \"832508.OC\", \"832509.OC\", \"832510.OC\", \"832515.OC\", \"832516.OC\", \"832517.OC\", \n",
    "                   \"832518.OC\", \"832520.OC\", \"832521.OC\", \"832522.OC\", \"832523.OC\", \"832524.PC\", \n",
    "                   \"832525.OC\", \"832526.OC\", \"832527.OC\", \"832529.OC\", \"832530.OC\", \"832531.OC\", \n",
    "                   \"832532.OC\", \"832534.OC\", \"832536.OC\", \"832538.OC\", \"832540.OC\", \"832542.OC\", \n",
    "                   \"832545.OC\", \"832546.OC\", \"832547.OC\", \"832552.OC\", \"832553.OC\", \"832556.OC\", \n",
    "                   \"832558.OC\", \"832559.OC\", \"832560.OC\", \"832561.OC\", \"832562.OC\", \"832563.OC\", \n",
    "                   \"832565.OC\", \"832566.OC\", \"832569.OC\", \"832578.OC\", \"832587.OC\", \"832588.OC\", \n",
    "                   \"832589.OC\", \"832592.OC\", \"832593.OC\", \"832594.OC\", \"832595.OC\", \"832596.OC\", \n",
    "                   \"832601.OC\", \"832606.OC\", \"832609.OC\", \"832610.OC\", \"832612.OC\",\n",
    "                   \"832613.OC\", \"832614.OC\", \"832616.OC\", \"832629.OC\", \"832631.OC\", \"832634.OC\", \n",
    "                   \"832637.OC\", \"832639.OC\", \"832650.OC\", \"832663.OC\", \"832680.OC\", \"832687.OC\", \n",
    "                   \"832688.OC\", \"832753.OC\", \"832754.OC\", \"832773.OC\", \"832775.OC\", \"832778.OC\",\n",
    "                   \"832779.OC\", \"832809.OC\"]"
   ]
  },
  {
   "cell_type": "code",
   "execution_count": null,
   "metadata": {
    "collapsed": true
   },
   "outputs": [],
   "source": [
    "accounting_neeq_long1.loc[accounting_neeq_long1[\"证券代码\"] == \"832548.OC\", \"relativeYear\"] =\\\n",
    "accounting_neeq_long1.loc[accounting_neeq_long1[\"证券代码\"] == \"832548.OC\", \"relativeYear\"] + 1"
   ]
  },
  {
   "cell_type": "code",
   "execution_count": 461,
   "metadata": {
    "collapsed": true
   },
   "outputs": [],
   "source": [
    "for stkcd in StkcdChangedYear:\n",
    "    accounting_neeq_long1.loc[accounting_neeq_long1[\"证券代码\"] == stkcd, \"relativeYear\"] =\\\n",
    "    accounting_neeq_long1.loc[accounting_neeq_long1[\"证券代码\"] == stkcd, \"relativeYear\"] + 1"
   ]
  },
  {
   "cell_type": "code",
   "execution_count": 462,
   "metadata": {
    "collapsed": true
   },
   "outputs": [],
   "source": [
    "StkcdChangedYear1 = [\"430709.OC\", \"832372.OC\", \"832545.OC\", \"832560.OC\", \"832601.OC\", \n",
    "                     \"836715.OC\", \"836910.OC\"]\n",
    "\n",
    "for stkcd in StkcdChangedYear1:\n",
    "    accounting_neeq_long1.loc[accounting_neeq_long1[\"证券代码\"] == stkcd, \"relativeYear\"] =\\\n",
    "    accounting_neeq_long1.loc[accounting_neeq_long1[\"证券代码\"] == stkcd, \"relativeYear\"] - 1"
   ]
  },
  {
   "cell_type": "code",
   "execution_count": 243,
   "metadata": {
    "collapsed": false
   },
   "outputs": [],
   "source": [
    "StkcdAbsense = [\"430072.OC\", \"834609.OC\"]"
   ]
  },
  {
   "cell_type": "code",
   "execution_count": 464,
   "metadata": {
    "collapsed": true
   },
   "outputs": [],
   "source": [
    "accounting_neeq_long1.loc[(accounting_neeq_long1[\"证券代码\"] == \"830805.OC\") & \n",
    "                          (accounting_neeq_long1[\"年度\"] == 2013), \n",
    "                          [\"实际披露日期\", \"报告期\"]] = [pandas.datetime(2014, 6, 26), pandas.datetime(2013, 12, 31)]"
   ]
  },
  {
   "cell_type": "code",
   "execution_count": 465,
   "metadata": {
    "collapsed": true
   },
   "outputs": [],
   "source": [
    "accounting_neeq_long1.loc[(accounting_neeq_long1[\"证券代码\"] == \"830806.OC\") & \n",
    "                          (accounting_neeq_long1[\"年度\"] == 2013), \n",
    "                          [\"实际披露日期\", \"报告期\"]] = [pandas.datetime(2014, 9, 24), pandas.datetime(2013, 12, 31)]"
   ]
  },
  {
   "cell_type": "code",
   "execution_count": 466,
   "metadata": {
    "collapsed": true
   },
   "outputs": [],
   "source": [
    "accounting_neeq_long1.loc[(accounting_neeq_long1[\"证券代码\"] == \"832385.OC\") & \n",
    "                          (accounting_neeq_long1[\"年度\"] == 2014), \n",
    "                          [\"实际披露日期\", \"报告期\"]] = [pandas.datetime(2015, 5, 20), pandas.datetime(2014, 12, 31)]"
   ]
  },
  {
   "cell_type": "code",
   "execution_count": 467,
   "metadata": {
    "collapsed": true
   },
   "outputs": [],
   "source": [
    "accounting_neeq_long1.loc[(accounting_neeq_long1[\"证券代码\"] == \"832809.OC\") & \n",
    "                          (accounting_neeq_long1[\"年度\"] == 2014), \n",
    "                          [\"实际披露日期\", \"报告期\"]] = [pandas.datetime(2015, 8, 21), pandas.datetime(2014, 12, 31)]"
   ]
  },
  {
   "cell_type": "code",
   "execution_count": 468,
   "metadata": {
    "collapsed": true
   },
   "outputs": [],
   "source": [
    "accounting_neeq_long1.loc[(accounting_neeq_long1[\"证券代码\"] == \"832779.OC\") & \n",
    "                          (accounting_neeq_long1[\"年度\"] == 2014), \n",
    "                          \"报告期\"] = pandas.datetime(2014, 12, 31)"
   ]
  },
  {
   "cell_type": "code",
   "execution_count": 469,
   "metadata": {
    "collapsed": true
   },
   "outputs": [],
   "source": [
    "accounting_neeq_long1.loc[(accounting_neeq_long1[\"证券代码\"] == \"832778.OC\") & \n",
    "                          (accounting_neeq_long1[\"年度\"] == 2014), \n",
    "                          [\"实际披露日期\", \"报告期\"]] = [pandas.datetime(2015, 7, 20), pandas.datetime(2014, 12, 31)]"
   ]
  },
  {
   "cell_type": "code",
   "execution_count": 470,
   "metadata": {
    "collapsed": true
   },
   "outputs": [],
   "source": [
    "accounting_neeq_long1.loc[(accounting_neeq_long1[\"证券代码\"] == \"832775.OC\") & \n",
    "                          (accounting_neeq_long1[\"年度\"] == 2014), \n",
    "                          [\"实际披露日期\", \"报告期\"]] = [pandas.datetime(2015, 8, 19), pandas.datetime(2014, 12, 31)]"
   ]
  },
  {
   "cell_type": "code",
   "execution_count": 471,
   "metadata": {
    "collapsed": true
   },
   "outputs": [],
   "source": [
    "accounting_neeq_long1.loc[(accounting_neeq_long1[\"证券代码\"] == \"832773.OC\") & \n",
    "                          (accounting_neeq_long1[\"年度\"] == 2014), \n",
    "                          [\"实际披露日期\", \"报告期\"]] = [pandas.datetime(2015, 7, 24), pandas.datetime(2014, 12, 31)]"
   ]
  },
  {
   "cell_type": "code",
   "execution_count": 472,
   "metadata": {
    "collapsed": true
   },
   "outputs": [],
   "source": [
    "accounting_neeq_long1.loc[(accounting_neeq_long1[\"证券代码\"] == \"832754.OC\") & \n",
    "                          (accounting_neeq_long1[\"年度\"] == 2014), \n",
    "                          [\"实际披露日期\", \"报告期\"]] = [pandas.datetime(2015, 8, 5), pandas.datetime(2014, 12, 31)]"
   ]
  },
  {
   "cell_type": "code",
   "execution_count": 473,
   "metadata": {
    "collapsed": true
   },
   "outputs": [],
   "source": [
    "accounting_neeq_long1.loc[(accounting_neeq_long1[\"证券代码\"] == \"832753.OC\") & \n",
    "                          (accounting_neeq_long1[\"年度\"] == 2014), \n",
    "                          [\"实际披露日期\", \"报告期\"]] = [pandas.datetime(2015, 8, 13), pandas.datetime(2014, 12, 31)]"
   ]
  },
  {
   "cell_type": "code",
   "execution_count": 474,
   "metadata": {
    "collapsed": true
   },
   "outputs": [],
   "source": [
    "accounting_neeq_long1.loc[(accounting_neeq_long1[\"证券代码\"] == \"832688.OC\") & \n",
    "                          (accounting_neeq_long1[\"年度\"] == 2014), \n",
    "                          [\"实际披露日期\", \"报告期\"]] = [pandas.datetime(2015, 7, 13), pandas.datetime(2014, 12, 31)]"
   ]
  },
  {
   "cell_type": "code",
   "execution_count": 475,
   "metadata": {
    "collapsed": true
   },
   "outputs": [],
   "source": [
    "accounting_neeq_long1.loc[(accounting_neeq_long1[\"证券代码\"] == \"832687.OC\") & \n",
    "                          (accounting_neeq_long1[\"年度\"] == 2014), \n",
    "                          [\"实际披露日期\", \"报告期\"]] = [pandas.datetime(2015, 7, 28), pandas.datetime(2014, 12, 31)]"
   ]
  },
  {
   "cell_type": "code",
   "execution_count": 476,
   "metadata": {
    "collapsed": true
   },
   "outputs": [],
   "source": [
    "accounting_neeq_long1.loc[(accounting_neeq_long1[\"证券代码\"] == \"832680.OC\") & \n",
    "                          (accounting_neeq_long1[\"年度\"] == 2014), \n",
    "                          [\"实际披露日期\", \"报告期\"]] = [pandas.datetime(2015, 6, 29), pandas.datetime(2014, 12, 31)]"
   ]
  },
  {
   "cell_type": "code",
   "execution_count": 477,
   "metadata": {
    "collapsed": true
   },
   "outputs": [],
   "source": [
    "accounting_neeq_long1.loc[(accounting_neeq_long1[\"证券代码\"] == \"832663.OC\") & \n",
    "                          (accounting_neeq_long1[\"年度\"] == 2014), \n",
    "                          \"报告期\"] = pandas.datetime(2014, 12, 31)"
   ]
  },
  {
   "cell_type": "code",
   "execution_count": 478,
   "metadata": {
    "collapsed": true
   },
   "outputs": [],
   "source": [
    "accounting_neeq_long1.loc[(accounting_neeq_long1[\"证券代码\"] == \"832650.OC\") & \n",
    "                          (accounting_neeq_long1[\"年度\"] == 2014), \n",
    "                          [\"实际披露日期\", \"报告期\"]] = [pandas.datetime(2015, 7, 15), pandas.datetime(2014, 12, 31)]"
   ]
  },
  {
   "cell_type": "code",
   "execution_count": 479,
   "metadata": {
    "collapsed": true
   },
   "outputs": [],
   "source": [
    "accounting_neeq_long1.loc[(accounting_neeq_long1[\"证券代码\"] == \"832639.OC\") & \n",
    "                          (accounting_neeq_long1[\"年度\"] == 2014), \n",
    "                          [\"实际披露日期\", \"报告期\"]] = [pandas.datetime(2015, 6, 16), pandas.datetime(2014, 12, 31)]"
   ]
  },
  {
   "cell_type": "code",
   "execution_count": 480,
   "metadata": {
    "collapsed": true
   },
   "outputs": [],
   "source": [
    "accounting_neeq_long1.loc[(accounting_neeq_long1[\"证券代码\"] == \"832637.OC\") & \n",
    "                          (accounting_neeq_long1[\"年度\"] == 2014), \n",
    "                          [\"实际披露日期\", \"报告期\"]] = [pandas.datetime(2015, 7, 27), pandas.datetime(2014, 12, 31)]"
   ]
  },
  {
   "cell_type": "code",
   "execution_count": 481,
   "metadata": {
    "collapsed": true
   },
   "outputs": [],
   "source": [
    "accounting_neeq_long1.loc[(accounting_neeq_long1[\"证券代码\"] == \"832634.OC\") & \n",
    "                          (accounting_neeq_long1[\"年度\"] == 2014), \n",
    "                          [\"实际披露日期\", \"报告期\"]] = [pandas.datetime(2015, 6, 16), pandas.datetime(2014, 12, 31)]"
   ]
  },
  {
   "cell_type": "code",
   "execution_count": 482,
   "metadata": {
    "collapsed": true
   },
   "outputs": [],
   "source": [
    "accounting_neeq_long1.loc[(accounting_neeq_long1[\"证券代码\"] == \"832631.OC\") & \n",
    "                          (accounting_neeq_long1[\"年度\"] == 2014), \n",
    "                          [\"实际披露日期\", \"报告期\"]] = [pandas.datetime(2015, 6, 16), pandas.datetime(2014, 12, 31)]"
   ]
  },
  {
   "cell_type": "code",
   "execution_count": 483,
   "metadata": {
    "collapsed": true
   },
   "outputs": [],
   "source": [
    "accounting_neeq_long1.loc[(accounting_neeq_long1[\"证券代码\"] == \"832629.OC\") & \n",
    "                          (accounting_neeq_long1[\"年度\"] == 2014), \n",
    "                          [\"实际披露日期\", \"报告期\"]] = [pandas.datetime(2015, 7, 7), pandas.datetime(2014, 12, 31)]"
   ]
  },
  {
   "cell_type": "code",
   "execution_count": 484,
   "metadata": {
    "collapsed": true
   },
   "outputs": [],
   "source": [
    "accounting_neeq_long1.loc[(accounting_neeq_long1[\"证券代码\"] == \"832616.OC\") & \n",
    "                          (accounting_neeq_long1[\"年度\"] == 2014), \n",
    "                          [\"实际披露日期\", \"报告期\"]] = [pandas.datetime(2015, 7, 10), pandas.datetime(2014, 12, 31)]"
   ]
  },
  {
   "cell_type": "code",
   "execution_count": 485,
   "metadata": {
    "collapsed": true
   },
   "outputs": [],
   "source": [
    "accounting_neeq_long1.loc[(accounting_neeq_long1[\"证券代码\"] == \"832614.OC\") & \n",
    "                          (accounting_neeq_long1[\"年度\"] == 2014), \n",
    "                          [\"实际披露日期\", \"报告期\"]] = [pandas.datetime(2015, 6, 11), pandas.datetime(2014, 12, 31)]"
   ]
  },
  {
   "cell_type": "code",
   "execution_count": 486,
   "metadata": {
    "collapsed": true
   },
   "outputs": [],
   "source": [
    "accounting_neeq_long1.loc[(accounting_neeq_long1[\"证券代码\"] == \"832613.OC\") & \n",
    "                          (accounting_neeq_long1[\"年度\"] == 2014), \n",
    "                          [\"实际披露日期\", \"报告期\"]] = [pandas.datetime(2015, 6, 9), pandas.datetime(2014, 12, 31)]"
   ]
  },
  {
   "cell_type": "code",
   "execution_count": 487,
   "metadata": {
    "collapsed": true
   },
   "outputs": [],
   "source": [
    "accounting_neeq_long1.loc[(accounting_neeq_long1[\"证券代码\"] == \"832612.OC\") & \n",
    "                          (accounting_neeq_long1[\"年度\"] == 2014), \n",
    "                          [\"实际披露日期\", \"报告期\"]] = [pandas.datetime(2015, 6, 24), pandas.datetime(2014, 12, 31)]"
   ]
  },
  {
   "cell_type": "code",
   "execution_count": 488,
   "metadata": {
    "collapsed": true
   },
   "outputs": [],
   "source": [
    "accounting_neeq_long1.loc[(accounting_neeq_long1[\"证券代码\"] == \"832610.OC\") & \n",
    "                          (accounting_neeq_long1[\"年度\"] == 2014), \n",
    "                          [\"实际披露日期\", \"报告期\"]] = [pandas.datetime(2015, 7, 2), pandas.datetime(2014, 12, 31)]"
   ]
  },
  {
   "cell_type": "code",
   "execution_count": 489,
   "metadata": {
    "collapsed": true
   },
   "outputs": [],
   "source": [
    "accounting_neeq_long1.loc[(accounting_neeq_long1[\"证券代码\"] == \"832609.OC\") & \n",
    "                          (accounting_neeq_long1[\"年度\"] == 2014), \n",
    "                          [\"实际披露日期\", \"报告期\"]] = [pandas.datetime(2015, 6, 30), pandas.datetime(2014, 12, 31)]"
   ]
  },
  {
   "cell_type": "code",
   "execution_count": 490,
   "metadata": {
    "collapsed": true
   },
   "outputs": [],
   "source": [
    "accounting_neeq_long1.loc[(accounting_neeq_long1[\"证券代码\"] == \"832606.OC\") & \n",
    "                          (accounting_neeq_long1[\"年度\"] == 2014), \n",
    "                          [\"实际披露日期\", \"报告期\"]] = [pandas.datetime(2015, 6, 10), pandas.datetime(2014, 12, 31)]"
   ]
  },
  {
   "cell_type": "code",
   "execution_count": 491,
   "metadata": {
    "collapsed": true
   },
   "outputs": [],
   "source": [
    "accounting_neeq_long1.loc[(accounting_neeq_long1[\"证券代码\"] == \"832601.OC\") & \n",
    "                          (accounting_neeq_long1[\"年度\"] == 2014), \n",
    "                          \"报告期\"] = pandas.datetime(2014, 12, 31)"
   ]
  },
  {
   "cell_type": "code",
   "execution_count": 492,
   "metadata": {
    "collapsed": true
   },
   "outputs": [],
   "source": [
    "accounting_neeq_long1.loc[(accounting_neeq_long1[\"证券代码\"] == \"832596.OC\") & \n",
    "                          (accounting_neeq_long1[\"年度\"] == 2014), \n",
    "                          [\"实际披露日期\", \"报告期\"]] = [pandas.datetime(2015, 7, 3), pandas.datetime(2014, 12, 31)]"
   ]
  },
  {
   "cell_type": "code",
   "execution_count": 493,
   "metadata": {
    "collapsed": true
   },
   "outputs": [],
   "source": [
    "accounting_neeq_long1.loc[(accounting_neeq_long1[\"证券代码\"] == \"832595.OC\") & \n",
    "                          (accounting_neeq_long1[\"年度\"] == 2014), \n",
    "                          [\"实际披露日期\", \"报告期\"]] = [pandas.datetime(2015, 7, 3), pandas.datetime(2014, 12, 31)]"
   ]
  },
  {
   "cell_type": "code",
   "execution_count": 494,
   "metadata": {
    "collapsed": true
   },
   "outputs": [],
   "source": [
    "accounting_neeq_long1.loc[(accounting_neeq_long1[\"证券代码\"] == \"832594.OC\") & \n",
    "                          (accounting_neeq_long1[\"年度\"] == 2014), \n",
    "                          [\"实际披露日期\", \"报告期\"]] = [pandas.datetime(2015, 7, 8), pandas.datetime(2014, 12, 31)]"
   ]
  },
  {
   "cell_type": "code",
   "execution_count": 495,
   "metadata": {
    "collapsed": true
   },
   "outputs": [],
   "source": [
    "accounting_neeq_long1.loc[(accounting_neeq_long1[\"证券代码\"] == \"832593.OC\") & \n",
    "                          (accounting_neeq_long1[\"年度\"] == 2014), \n",
    "                          [\"实际披露日期\", \"报告期\"]] = [pandas.datetime(2015, 6, 12), pandas.datetime(2014, 12, 31)]"
   ]
  },
  {
   "cell_type": "code",
   "execution_count": 496,
   "metadata": {
    "collapsed": true
   },
   "outputs": [],
   "source": [
    "accounting_neeq_long1.loc[(accounting_neeq_long1[\"证券代码\"] == \"832592.OC\") & \n",
    "                          (accounting_neeq_long1[\"年度\"] == 2014), \n",
    "                          \"报告期\"] = pandas.datetime(2014, 12, 31)"
   ]
  },
  {
   "cell_type": "code",
   "execution_count": 497,
   "metadata": {
    "collapsed": true
   },
   "outputs": [],
   "source": [
    "accounting_neeq_long1.loc[(accounting_neeq_long1[\"证券代码\"] == \"832589.OC\") & \n",
    "                          (accounting_neeq_long1[\"年度\"] == 2014), \n",
    "                          [\"实际披露日期\", \"报告期\"]] = [pandas.datetime(2015, 6, 11), pandas.datetime(2014, 12, 31)]"
   ]
  },
  {
   "cell_type": "code",
   "execution_count": 498,
   "metadata": {
    "collapsed": true
   },
   "outputs": [],
   "source": [
    "accounting_neeq_long1.loc[(accounting_neeq_long1[\"证券代码\"] == \"832588.OC\") & \n",
    "                          (accounting_neeq_long1[\"年度\"] == 2014), \n",
    "                          \"报告期\"] = pandas.datetime(2014, 12, 31)"
   ]
  },
  {
   "cell_type": "code",
   "execution_count": 499,
   "metadata": {
    "collapsed": true
   },
   "outputs": [],
   "source": [
    "accounting_neeq_long1.loc[(accounting_neeq_long1[\"证券代码\"] == \"832587.OC\") & \n",
    "                          (accounting_neeq_long1[\"年度\"] == 2014), \n",
    "                          \"报告期\"] = pandas.datetime(2014, 12, 31)"
   ]
  },
  {
   "cell_type": "code",
   "execution_count": 500,
   "metadata": {
    "collapsed": true
   },
   "outputs": [],
   "source": [
    "accounting_neeq_long1.loc[(accounting_neeq_long1[\"证券代码\"] == \"832578.OC\") & \n",
    "                          (accounting_neeq_long1[\"年度\"] == 2014), \n",
    "                          [\"实际披露日期\", \"报告期\"]] = [pandas.datetime(2015, 6, 29), pandas.datetime(2014, 12, 31)]"
   ]
  },
  {
   "cell_type": "code",
   "execution_count": 501,
   "metadata": {
    "collapsed": true
   },
   "outputs": [],
   "source": [
    "accounting_neeq_long1.loc[(accounting_neeq_long1[\"证券代码\"] == \"832569.OC\") & \n",
    "                          (accounting_neeq_long1[\"年度\"] == 2014), \n",
    "                          [\"实际披露日期\", \"报告期\"]] = [pandas.datetime(2015, 6, 10), pandas.datetime(2014, 12, 31)]"
   ]
  },
  {
   "cell_type": "code",
   "execution_count": 502,
   "metadata": {
    "collapsed": true
   },
   "outputs": [],
   "source": [
    "accounting_neeq_long1.loc[(accounting_neeq_long1[\"证券代码\"] == \"832566.OC\") & \n",
    "                          (accounting_neeq_long1[\"年度\"] == 2014), \n",
    "                          [\"实际披露日期\", \"报告期\"]] = [pandas.datetime(2015, 7, 7), pandas.datetime(2014, 12, 31)]"
   ]
  },
  {
   "cell_type": "code",
   "execution_count": 503,
   "metadata": {
    "collapsed": true
   },
   "outputs": [],
   "source": [
    "accounting_neeq_long1.loc[(accounting_neeq_long1[\"证券代码\"] == \"832565.OC\") & \n",
    "                          (accounting_neeq_long1[\"年度\"] == 2014), \n",
    "                          \"报告期\"] = pandas.datetime(2014, 12, 31)"
   ]
  },
  {
   "cell_type": "code",
   "execution_count": 504,
   "metadata": {
    "collapsed": true
   },
   "outputs": [],
   "source": [
    "accounting_neeq_long1.loc[(accounting_neeq_long1[\"证券代码\"] == \"832563.OC\") & \n",
    "                          (accounting_neeq_long1[\"年度\"] == 2014), \n",
    "                          [\"实际披露日期\", \"报告期\"]] = [pandas.datetime(2015, 8, 4), pandas.datetime(2014, 12, 31)]"
   ]
  },
  {
   "cell_type": "code",
   "execution_count": 505,
   "metadata": {
    "collapsed": true
   },
   "outputs": [],
   "source": [
    "accounting_neeq_long1.loc[(accounting_neeq_long1[\"证券代码\"] == \"832562.OC\") & \n",
    "                          (accounting_neeq_long1[\"年度\"] == 2014), \n",
    "                          [\"实际披露日期\", \"报告期\"]] = [pandas.datetime(2015, 7, 1), pandas.datetime(2014, 12, 31)]"
   ]
  },
  {
   "cell_type": "code",
   "execution_count": 506,
   "metadata": {
    "collapsed": true
   },
   "outputs": [],
   "source": [
    "accounting_neeq_long1.loc[(accounting_neeq_long1[\"证券代码\"] == \"832561.OC\") & \n",
    "                          (accounting_neeq_long1[\"年度\"] == 2014), \n",
    "                          \"报告期\"] = pandas.datetime(2014, 12, 31)"
   ]
  },
  {
   "cell_type": "code",
   "execution_count": 507,
   "metadata": {
    "collapsed": true
   },
   "outputs": [],
   "source": [
    "accounting_neeq_long1.loc[(accounting_neeq_long1[\"证券代码\"] == \"832560.OC\") & \n",
    "                          (accounting_neeq_long1[\"年度\"] == 2014), \n",
    "                          [\"实际披露日期\", \"报告期\"]] = [pandas.datetime(2015, 6, 30), pandas.datetime(2014, 12, 31)]"
   ]
  },
  {
   "cell_type": "code",
   "execution_count": 508,
   "metadata": {
    "collapsed": true
   },
   "outputs": [],
   "source": [
    "accounting_neeq_long1.loc[(accounting_neeq_long1[\"证券代码\"] == \"832559.OC\") & \n",
    "                          (accounting_neeq_long1[\"年度\"] == 2014), \n",
    "                          [\"实际披露日期\", \"报告期\"]] = [pandas.datetime(2015, 7, 2), pandas.datetime(2014, 12, 31)]"
   ]
  },
  {
   "cell_type": "code",
   "execution_count": 509,
   "metadata": {
    "collapsed": true
   },
   "outputs": [],
   "source": [
    "accounting_neeq_long1.loc[(accounting_neeq_long1[\"证券代码\"] == \"832558.OC\") & \n",
    "                          (accounting_neeq_long1[\"年度\"] == 2014), \n",
    "                          [\"实际披露日期\", \"报告期\"]] = [pandas.datetime(2015, 6, 12), pandas.datetime(2014, 12, 31)]"
   ]
  },
  {
   "cell_type": "code",
   "execution_count": 510,
   "metadata": {
    "collapsed": true
   },
   "outputs": [],
   "source": [
    "accounting_neeq_long1.loc[(accounting_neeq_long1[\"证券代码\"] == \"832556.OC\") & \n",
    "                          (accounting_neeq_long1[\"年度\"] == 2014), \n",
    "                          [\"实际披露日期\", \"报告期\"]] = [pandas.datetime(2015, 6, 11), pandas.datetime(2014, 12, 31)]"
   ]
  },
  {
   "cell_type": "code",
   "execution_count": 511,
   "metadata": {
    "collapsed": true
   },
   "outputs": [],
   "source": [
    "accounting_neeq_long1.loc[(accounting_neeq_long1[\"证券代码\"] == \"832553.OC\") & \n",
    "                          (accounting_neeq_long1[\"年度\"] == 2014), \n",
    "                          [\"实际披露日期\", \"报告期\"]] = [pandas.datetime(2015, 6, 5), pandas.datetime(2014, 12, 31)]"
   ]
  },
  {
   "cell_type": "code",
   "execution_count": 512,
   "metadata": {
    "collapsed": true
   },
   "outputs": [],
   "source": [
    "accounting_neeq_long1.loc[(accounting_neeq_long1[\"证券代码\"] == \"832552.OC\") & \n",
    "                          (accounting_neeq_long1[\"年度\"] == 2014), \n",
    "                          [\"实际披露日期\", \"报告期\"]] = [pandas.datetime(2015, 6, 16), pandas.datetime(2014, 12, 31)]"
   ]
  },
  {
   "cell_type": "code",
   "execution_count": 513,
   "metadata": {
    "collapsed": true
   },
   "outputs": [],
   "source": [
    "accounting_neeq_long1.loc[(accounting_neeq_long1[\"证券代码\"] == \"832548.OC\") & \n",
    "                          (accounting_neeq_long1[\"年度\"] == 2014), \n",
    "                          [\"实际披露日期\", \"报告期\"]] = [pandas.datetime(2015, 7, 7), pandas.datetime(2014, 12, 31)]"
   ]
  },
  {
   "cell_type": "code",
   "execution_count": 515,
   "metadata": {
    "collapsed": true
   },
   "outputs": [],
   "source": [
    "accounting_neeq_long1.loc[(accounting_neeq_long1[\"证券代码\"] == \"832547.OC\") & \n",
    "                          (accounting_neeq_long1[\"年度\"] == 2014), \n",
    "                          [\"实际披露日期\", \"报告期\"]] = [pandas.datetime(2015, 6, 4), pandas.datetime(2014, 12, 31)]"
   ]
  },
  {
   "cell_type": "code",
   "execution_count": 516,
   "metadata": {
    "collapsed": true
   },
   "outputs": [],
   "source": [
    "accounting_neeq_long1.loc[(accounting_neeq_long1[\"证券代码\"] == \"832546.OC\") & \n",
    "                          (accounting_neeq_long1[\"年度\"] == 2014), \n",
    "                          [\"实际披露日期\", \"报告期\"]] = [pandas.datetime(2015, 6, 24), pandas.datetime(2014, 12, 31)]"
   ]
  },
  {
   "cell_type": "code",
   "execution_count": 517,
   "metadata": {
    "collapsed": true
   },
   "outputs": [],
   "source": [
    "accounting_neeq_long1.loc[(accounting_neeq_long1[\"证券代码\"] == \"832545.OC\") & \n",
    "                          (accounting_neeq_long1[\"年度\"] == 2014), \n",
    "                          [\"实际披露日期\", \"报告期\"]] = [pandas.datetime(2015, 7, 2), pandas.datetime(2014, 12, 31)]"
   ]
  },
  {
   "cell_type": "code",
   "execution_count": 518,
   "metadata": {
    "collapsed": true
   },
   "outputs": [],
   "source": [
    "accounting_neeq_long1.loc[(accounting_neeq_long1[\"证券代码\"] == \"832542.OC\") & \n",
    "                          (accounting_neeq_long1[\"年度\"] == 2014), \n",
    "                          [\"实际披露日期\", \"报告期\"]] = [pandas.datetime(2015, 6, 24), pandas.datetime(2014, 12, 31)]"
   ]
  },
  {
   "cell_type": "code",
   "execution_count": 519,
   "metadata": {
    "collapsed": false
   },
   "outputs": [],
   "source": [
    "accounting_neeq_long1.loc[(accounting_neeq_long1[\"证券代码\"] == \"832540.OC\") & \n",
    "                          (accounting_neeq_long1[\"年度\"] == 2014), \n",
    "                          [\"实际披露日期\", \"报告期\"]] = [pandas.datetime(2015, 6, 5), pandas.datetime(2014, 12, 31)]"
   ]
  },
  {
   "cell_type": "code",
   "execution_count": 520,
   "metadata": {
    "collapsed": true
   },
   "outputs": [],
   "source": [
    "accounting_neeq_long1.loc[(accounting_neeq_long1[\"证券代码\"] == \"832538.OC\") & \n",
    "                          (accounting_neeq_long1[\"年度\"] == 2014), \n",
    "                          [\"实际披露日期\", \"报告期\"]] = [pandas.datetime(2015, 6, 8), pandas.datetime(2014, 12, 31)]"
   ]
  },
  {
   "cell_type": "code",
   "execution_count": 521,
   "metadata": {
    "collapsed": true
   },
   "outputs": [],
   "source": [
    "accounting_neeq_long1.loc[(accounting_neeq_long1[\"证券代码\"] == \"832536.OC\") & \n",
    "                          (accounting_neeq_long1[\"年度\"] == 2014), \n",
    "                          [\"实际披露日期\", \"报告期\"]] = [pandas.datetime(2015, 8, 6), pandas.datetime(2014, 12, 31)]"
   ]
  },
  {
   "cell_type": "code",
   "execution_count": 522,
   "metadata": {
    "collapsed": true
   },
   "outputs": [],
   "source": [
    "accounting_neeq_long1.loc[(accounting_neeq_long1[\"证券代码\"] == \"832532.OC\") & \n",
    "                          (accounting_neeq_long1[\"年度\"] == 2014), \n",
    "                          [\"实际披露日期\", \"报告期\"]] = [pandas.datetime(2015, 6, 12), pandas.datetime(2014, 12, 31)]"
   ]
  },
  {
   "cell_type": "code",
   "execution_count": 523,
   "metadata": {
    "collapsed": true
   },
   "outputs": [],
   "source": [
    "accounting_neeq_long1.loc[(accounting_neeq_long1[\"证券代码\"] == \"832531.OC\") & \n",
    "                          (accounting_neeq_long1[\"年度\"] == 2014), \n",
    "                          [\"实际披露日期\", \"报告期\"]] = [pandas.datetime(2015, 6, 8), pandas.datetime(2014, 12, 31)]"
   ]
  },
  {
   "cell_type": "code",
   "execution_count": 524,
   "metadata": {
    "collapsed": true
   },
   "outputs": [],
   "source": [
    "accounting_neeq_long1.loc[(accounting_neeq_long1[\"证券代码\"] == \"832530.OC\") & \n",
    "                          (accounting_neeq_long1[\"年度\"] == 2014), \n",
    "                          [\"实际披露日期\", \"报告期\"]] = [pandas.datetime(2015, 7, 9), pandas.datetime(2014, 12, 31)]"
   ]
  },
  {
   "cell_type": "code",
   "execution_count": 525,
   "metadata": {
    "collapsed": true
   },
   "outputs": [],
   "source": [
    "accounting_neeq_long1.loc[(accounting_neeq_long1[\"证券代码\"] == \"832529.OC\") & \n",
    "                          (accounting_neeq_long1[\"年度\"] == 2014), \n",
    "                          \"报告期\"] = pandas.datetime(2014, 12, 31)"
   ]
  },
  {
   "cell_type": "code",
   "execution_count": 526,
   "metadata": {
    "collapsed": true
   },
   "outputs": [],
   "source": [
    "accounting_neeq_long1.loc[(accounting_neeq_long1[\"证券代码\"] == \"832526.OC\") & \n",
    "                          (accounting_neeq_long1[\"年度\"] == 2014), \n",
    "                          [\"实际披露日期\", \"报告期\"]] = [pandas.datetime(2015, 6, 15), pandas.datetime(2014, 12, 31)]"
   ]
  },
  {
   "cell_type": "code",
   "execution_count": 527,
   "metadata": {
    "collapsed": true
   },
   "outputs": [],
   "source": [
    "accounting_neeq_long1.loc[(accounting_neeq_long1[\"证券代码\"] == \"832525.OC\") & \n",
    "                          (accounting_neeq_long1[\"年度\"] == 2014), \n",
    "                          [\"实际披露日期\", \"报告期\"]] = [pandas.datetime(2015, 6, 11), pandas.datetime(2014, 12, 31)]"
   ]
  },
  {
   "cell_type": "code",
   "execution_count": 528,
   "metadata": {
    "collapsed": true
   },
   "outputs": [],
   "source": [
    "accounting_neeq_long1.loc[(accounting_neeq_long1[\"证券代码\"] == \"832524.OC\") & \n",
    "                          (accounting_neeq_long1[\"年度\"] == 2014), \n",
    "                          [\"实际披露日期\", \"报告期\"]] = [pandas.datetime(2015, 7, 3), pandas.datetime(2014, 12, 31)]"
   ]
  },
  {
   "cell_type": "code",
   "execution_count": 529,
   "metadata": {
    "collapsed": true
   },
   "outputs": [],
   "source": [
    "accounting_neeq_long1.loc[(accounting_neeq_long1[\"证券代码\"] == \"832521.OC\") & \n",
    "                          (accounting_neeq_long1[\"年度\"] == 2014), \n",
    "                          [\"实际披露日期\", \"报告期\"]] = [pandas.datetime(2015, 6, 9), pandas.datetime(2014, 12, 31)]"
   ]
  },
  {
   "cell_type": "code",
   "execution_count": 530,
   "metadata": {
    "collapsed": true
   },
   "outputs": [],
   "source": [
    "accounting_neeq_long1.loc[(accounting_neeq_long1[\"证券代码\"] == \"832522.OC\") & \n",
    "                          (accounting_neeq_long1[\"年度\"] == 2014), \n",
    "                          [\"实际披露日期\", \"报告期\"]] = [pandas.datetime(2015, 6, 8), pandas.datetime(2014, 12, 31)]"
   ]
  },
  {
   "cell_type": "code",
   "execution_count": 531,
   "metadata": {
    "collapsed": true
   },
   "outputs": [],
   "source": [
    "accounting_neeq_long1.loc[(accounting_neeq_long1[\"证券代码\"] == \"832520.OC\") & \n",
    "                          (accounting_neeq_long1[\"年度\"] == 2014), \n",
    "                          [\"实际披露日期\", \"报告期\"]] = [pandas.datetime(2015, 5, 28), pandas.datetime(2014, 12, 31)]"
   ]
  },
  {
   "cell_type": "code",
   "execution_count": 532,
   "metadata": {
    "collapsed": true
   },
   "outputs": [],
   "source": [
    "accounting_neeq_long1.loc[(accounting_neeq_long1[\"证券代码\"] == \"832518.OC\") & \n",
    "                          (accounting_neeq_long1[\"年度\"] == 2014), \n",
    "                          [\"实际披露日期\", \"报告期\"]] = [pandas.datetime(2015, 5, 29), pandas.datetime(2014, 12, 31)]"
   ]
  },
  {
   "cell_type": "code",
   "execution_count": 533,
   "metadata": {
    "collapsed": true
   },
   "outputs": [],
   "source": [
    "accounting_neeq_long1.loc[(accounting_neeq_long1[\"证券代码\"] == \"832517.OC\") & \n",
    "                          (accounting_neeq_long1[\"年度\"] == 2014), \n",
    "                          [\"实际披露日期\", \"报告期\"]] = [pandas.datetime(2015, 5, 27), pandas.datetime(2014, 12, 31)]"
   ]
  },
  {
   "cell_type": "code",
   "execution_count": 534,
   "metadata": {
    "collapsed": true
   },
   "outputs": [],
   "source": [
    "accounting_neeq_long1.loc[(accounting_neeq_long1[\"证券代码\"] == \"832516.OC\") & \n",
    "                          (accounting_neeq_long1[\"年度\"] == 2014), \n",
    "                          [\"实际披露日期\", \"报告期\"]] = [pandas.datetime(2015, 6, 9), pandas.datetime(2014, 12, 31)]"
   ]
  },
  {
   "cell_type": "code",
   "execution_count": 535,
   "metadata": {
    "collapsed": true
   },
   "outputs": [],
   "source": [
    "accounting_neeq_long1.loc[(accounting_neeq_long1[\"证券代码\"] == \"832515.OC\") & \n",
    "                          (accounting_neeq_long1[\"年度\"] == 2014), \n",
    "                          [\"实际披露日期\", \"报告期\"]] = [pandas.datetime(2015, 6, 29), pandas.datetime(2014, 12, 31)]"
   ]
  },
  {
   "cell_type": "code",
   "execution_count": 536,
   "metadata": {
    "collapsed": true
   },
   "outputs": [],
   "source": [
    "accounting_neeq_long1.loc[(accounting_neeq_long1[\"证券代码\"] == \"832510.OC\") & \n",
    "                          (accounting_neeq_long1[\"年度\"] == 2014), \n",
    "                          [\"实际披露日期\", \"报告期\"]] = [pandas.datetime(2015, 6, 10), pandas.datetime(2014, 12, 31)]"
   ]
  },
  {
   "cell_type": "code",
   "execution_count": 537,
   "metadata": {
    "collapsed": true
   },
   "outputs": [],
   "source": [
    "accounting_neeq_long1.loc[(accounting_neeq_long1[\"证券代码\"] == \"832509.OC\") & \n",
    "                          (accounting_neeq_long1[\"年度\"] == 2014), \n",
    "                          [\"实际披露日期\", \"报告期\"]] = [pandas.datetime(2015, 5, 29), pandas.datetime(2014, 12, 31)]"
   ]
  },
  {
   "cell_type": "code",
   "execution_count": 538,
   "metadata": {
    "collapsed": true
   },
   "outputs": [],
   "source": [
    "accounting_neeq_long1.loc[(accounting_neeq_long1[\"证券代码\"] == \"832508.OC\") & \n",
    "                          (accounting_neeq_long1[\"年度\"] == 2014), \n",
    "                          [\"实际披露日期\", \"报告期\"]] = [pandas.datetime(2015, 6, 12), pandas.datetime(2014, 12, 31)]"
   ]
  },
  {
   "cell_type": "code",
   "execution_count": 539,
   "metadata": {
    "collapsed": true
   },
   "outputs": [],
   "source": [
    "accounting_neeq_long1.loc[(accounting_neeq_long1[\"证券代码\"] == \"832507.OC\") & \n",
    "                          (accounting_neeq_long1[\"年度\"] == 2014), \n",
    "                          [\"实际披露日期\", \"报告期\"]] = [pandas.datetime(2015, 5, 22), pandas.datetime(2014, 12, 31)]"
   ]
  },
  {
   "cell_type": "code",
   "execution_count": 540,
   "metadata": {
    "collapsed": true
   },
   "outputs": [],
   "source": [
    "accounting_neeq_long1.loc[(accounting_neeq_long1[\"证券代码\"] == \"832506.OC\") & \n",
    "                          (accounting_neeq_long1[\"年度\"] == 2014), \n",
    "                          [\"实际披露日期\", \"报告期\"]] = [pandas.datetime(2015, 6, 8), pandas.datetime(2014, 12, 31)]"
   ]
  },
  {
   "cell_type": "code",
   "execution_count": 541,
   "metadata": {
    "collapsed": true
   },
   "outputs": [],
   "source": [
    "accounting_neeq_long1.loc[(accounting_neeq_long1[\"证券代码\"] == \"832502.OC\") & \n",
    "                          (accounting_neeq_long1[\"年度\"] == 2014), \n",
    "                          [\"实际披露日期\", \"报告期\"]] = [pandas.datetime(2015, 6, 12), pandas.datetime(2014, 12, 31)]"
   ]
  },
  {
   "cell_type": "code",
   "execution_count": 542,
   "metadata": {
    "collapsed": true
   },
   "outputs": [],
   "source": [
    "accounting_neeq_long1.loc[(accounting_neeq_long1[\"证券代码\"] == \"832503.OC\") & \n",
    "                          (accounting_neeq_long1[\"年度\"] == 2014), \n",
    "                          [\"实际披露日期\", \"报告期\"]] = [pandas.datetime(2015, 5, 28), pandas.datetime(2014, 12, 31)]"
   ]
  },
  {
   "cell_type": "code",
   "execution_count": 543,
   "metadata": {
    "collapsed": true
   },
   "outputs": [],
   "source": [
    "accounting_neeq_long1.loc[(accounting_neeq_long1[\"证券代码\"] == \"832501.OC\") & \n",
    "                          (accounting_neeq_long1[\"年度\"] == 2014), \n",
    "                          [\"实际披露日期\", \"报告期\"]] = [pandas.datetime(2015, 6, 10), pandas.datetime(2014, 12, 31)]"
   ]
  },
  {
   "cell_type": "code",
   "execution_count": 544,
   "metadata": {
    "collapsed": true
   },
   "outputs": [],
   "source": [
    "accounting_neeq_long1.loc[(accounting_neeq_long1[\"证券代码\"] == \"832500.OC\") & \n",
    "                          (accounting_neeq_long1[\"年度\"] == 2014), \n",
    "                          [\"实际披露日期\", \"报告期\"]] = [pandas.datetime(2015, 6, 4), pandas.datetime(2014, 12, 31)]"
   ]
  },
  {
   "cell_type": "code",
   "execution_count": 545,
   "metadata": {
    "collapsed": false
   },
   "outputs": [],
   "source": [
    "accounting_neeq_long1.loc[(accounting_neeq_long1[\"证券代码\"] == \"832497.OC\") & \n",
    "                          (accounting_neeq_long1[\"年度\"] == 2014), \n",
    "                          \"报告期\"] = pandas.datetime(2014, 12, 31)"
   ]
  },
  {
   "cell_type": "code",
   "execution_count": 546,
   "metadata": {
    "collapsed": true
   },
   "outputs": [],
   "source": [
    "accounting_neeq_long1.loc[(accounting_neeq_long1[\"证券代码\"] == \"832496.OC\") & \n",
    "                          (accounting_neeq_long1[\"年度\"] == 2014), \n",
    "                          [\"实际披露日期\", \"报告期\"]] = [pandas.datetime(2015, 6, 4), pandas.datetime(2014, 12, 31)]"
   ]
  },
  {
   "cell_type": "code",
   "execution_count": 547,
   "metadata": {
    "collapsed": true
   },
   "outputs": [],
   "source": [
    "accounting_neeq_long1.loc[(accounting_neeq_long1[\"证券代码\"] == \"832495.OC\") & \n",
    "                          (accounting_neeq_long1[\"年度\"] == 2014), \n",
    "                          [\"实际披露日期\", \"报告期\"]] = [pandas.datetime(2015, 5, 14), pandas.datetime(2014, 12, 31)]"
   ]
  },
  {
   "cell_type": "code",
   "execution_count": 548,
   "metadata": {
    "collapsed": true
   },
   "outputs": [],
   "source": [
    "accounting_neeq_long1.loc[(accounting_neeq_long1[\"证券代码\"] == \"832494.OC\") & \n",
    "                          (accounting_neeq_long1[\"年度\"] == 2014), \n",
    "                          [\"实际披露日期\", \"报告期\"]] = [pandas.datetime(2015, 6, 19), pandas.datetime(2014, 12, 31)]"
   ]
  },
  {
   "cell_type": "code",
   "execution_count": 549,
   "metadata": {
    "collapsed": true
   },
   "outputs": [],
   "source": [
    "accounting_neeq_long1.loc[(accounting_neeq_long1[\"证券代码\"] == \"832493.OC\") & \n",
    "                          (accounting_neeq_long1[\"年度\"] == 2014), \n",
    "                          [\"实际披露日期\", \"报告期\"]] = [pandas.datetime(2015, 6, 2), pandas.datetime(2014, 12, 31)]"
   ]
  },
  {
   "cell_type": "code",
   "execution_count": 550,
   "metadata": {
    "collapsed": true
   },
   "outputs": [],
   "source": [
    "accounting_neeq_long1.loc[(accounting_neeq_long1[\"证券代码\"] == \"832492.OC\") & \n",
    "                          (accounting_neeq_long1[\"年度\"] == 2014), \n",
    "                          [\"实际披露日期\", \"报告期\"]] = [pandas.datetime(2015, 6, 25), pandas.datetime(2014, 12, 31)]"
   ]
  },
  {
   "cell_type": "code",
   "execution_count": 551,
   "metadata": {
    "collapsed": true
   },
   "outputs": [],
   "source": [
    "accounting_neeq_long1.loc[(accounting_neeq_long1[\"证券代码\"] == \"832491.OC\") & \n",
    "                          (accounting_neeq_long1[\"年度\"] == 2014), \n",
    "                          [\"实际披露日期\", \"报告期\"]] = [pandas.datetime(2015, 5, 15), pandas.datetime(2014, 12, 31)]"
   ]
  },
  {
   "cell_type": "code",
   "execution_count": 552,
   "metadata": {
    "collapsed": true
   },
   "outputs": [],
   "source": [
    "accounting_neeq_long1.loc[(accounting_neeq_long1[\"证券代码\"] == \"832489.OC\") & \n",
    "                          (accounting_neeq_long1[\"年度\"] == 2014), \n",
    "                          [\"实际披露日期\", \"报告期\"]] = [pandas.datetime(2015, 5, 26), pandas.datetime(2014, 12, 31)]"
   ]
  },
  {
   "cell_type": "code",
   "execution_count": 553,
   "metadata": {
    "collapsed": true
   },
   "outputs": [],
   "source": [
    "accounting_neeq_long1.loc[(accounting_neeq_long1[\"证券代码\"] == \"832488.OC\") & \n",
    "                          (accounting_neeq_long1[\"年度\"] == 2014), \n",
    "                          [\"实际披露日期\", \"报告期\"]] = [pandas.datetime(2015, 5, 29), pandas.datetime(2014, 12, 31)]"
   ]
  },
  {
   "cell_type": "code",
   "execution_count": 554,
   "metadata": {
    "collapsed": true
   },
   "outputs": [],
   "source": [
    "accounting_neeq_long1.loc[(accounting_neeq_long1[\"证券代码\"] == \"832487.OC\") & \n",
    "                          (accounting_neeq_long1[\"年度\"] == 2014), \n",
    "                          [\"实际披露日期\", \"报告期\"]] = [pandas.datetime(2015, 6, 19), pandas.datetime(2014, 12, 31)]"
   ]
  },
  {
   "cell_type": "code",
   "execution_count": 555,
   "metadata": {
    "collapsed": true
   },
   "outputs": [],
   "source": [
    "accounting_neeq_long1.loc[(accounting_neeq_long1[\"证券代码\"] == \"832486.OC\") & \n",
    "                          (accounting_neeq_long1[\"年度\"] == 2014), \n",
    "                          [\"实际披露日期\", \"报告期\"]] = [pandas.datetime(2015, 6, 2), pandas.datetime(2014, 12, 31)]"
   ]
  },
  {
   "cell_type": "code",
   "execution_count": 556,
   "metadata": {
    "collapsed": true
   },
   "outputs": [],
   "source": [
    "accounting_neeq_long1.loc[(accounting_neeq_long1[\"证券代码\"] == \"832485.OC\") & \n",
    "                          (accounting_neeq_long1[\"年度\"] == 2014), \n",
    "                          [\"实际披露日期\", \"报告期\"]] = [pandas.datetime(2015, 5, 18), pandas.datetime(2014, 12, 31)]"
   ]
  },
  {
   "cell_type": "code",
   "execution_count": 557,
   "metadata": {
    "collapsed": true
   },
   "outputs": [],
   "source": [
    "accounting_neeq_long1.loc[(accounting_neeq_long1[\"证券代码\"] == \"832483.OC\") & \n",
    "                          (accounting_neeq_long1[\"年度\"] == 2014), \n",
    "                          [\"实际披露日期\", \"报告期\"]] = [pandas.datetime(2015, 6, 9), pandas.datetime(2014, 12, 31)]"
   ]
  },
  {
   "cell_type": "code",
   "execution_count": 558,
   "metadata": {
    "collapsed": true
   },
   "outputs": [],
   "source": [
    "accounting_neeq_long1.loc[(accounting_neeq_long1[\"证券代码\"] == \"832481.OC\") & \n",
    "                          (accounting_neeq_long1[\"年度\"] == 2014), \n",
    "                          [\"实际披露日期\", \"报告期\"]] = [pandas.datetime(2015, 6, 9), pandas.datetime(2014, 12, 31)]"
   ]
  },
  {
   "cell_type": "code",
   "execution_count": 559,
   "metadata": {
    "collapsed": true
   },
   "outputs": [],
   "source": [
    "accounting_neeq_long1.loc[(accounting_neeq_long1[\"证券代码\"] == \"832480.OC\") & \n",
    "                          (accounting_neeq_long1[\"年度\"] == 2014), \n",
    "                          [\"实际披露日期\", \"报告期\"]] = [pandas.datetime(2015, 6, 5), pandas.datetime(2014, 12, 31)]"
   ]
  },
  {
   "cell_type": "code",
   "execution_count": 560,
   "metadata": {
    "collapsed": true
   },
   "outputs": [],
   "source": [
    "accounting_neeq_long1.loc[(accounting_neeq_long1[\"证券代码\"] == \"832479.OC\") & \n",
    "                          (accounting_neeq_long1[\"年度\"] == 2014), \n",
    "                          [\"实际披露日期\", \"报告期\"]] = [pandas.datetime(2015, 5, 27), pandas.datetime(2014, 12, 31)]"
   ]
  },
  {
   "cell_type": "code",
   "execution_count": 561,
   "metadata": {
    "collapsed": true
   },
   "outputs": [],
   "source": [
    "accounting_neeq_long1.loc[(accounting_neeq_long1[\"证券代码\"] == \"832478.OC\") & \n",
    "                          (accounting_neeq_long1[\"年度\"] == 2014), \n",
    "                          [\"实际披露日期\", \"报告期\"]] = [pandas.datetime(2015, 6, 8), pandas.datetime(2014, 12, 31)]"
   ]
  },
  {
   "cell_type": "code",
   "execution_count": 562,
   "metadata": {
    "collapsed": true
   },
   "outputs": [],
   "source": [
    "accounting_neeq_long1.loc[(accounting_neeq_long1[\"证券代码\"] == \"832477.OC\") & \n",
    "                          (accounting_neeq_long1[\"年度\"] == 2014), \n",
    "                          [\"实际披露日期\", \"报告期\"]] = [pandas.datetime(2015, 6, 10), pandas.datetime(2014, 12, 31)]"
   ]
  },
  {
   "cell_type": "code",
   "execution_count": 563,
   "metadata": {
    "collapsed": true
   },
   "outputs": [],
   "source": [
    "accounting_neeq_long1.loc[(accounting_neeq_long1[\"证券代码\"] == \"832476.OC\") & \n",
    "                          (accounting_neeq_long1[\"年度\"] == 2014), \n",
    "                          [\"实际披露日期\", \"报告期\"]] = [pandas.datetime(2015, 5, 25), pandas.datetime(2014, 12, 31)]"
   ]
  },
  {
   "cell_type": "code",
   "execution_count": 564,
   "metadata": {
    "collapsed": true
   },
   "outputs": [],
   "source": [
    "accounting_neeq_long1.loc[(accounting_neeq_long1[\"证券代码\"] == \"832475.OC\") & \n",
    "                          (accounting_neeq_long1[\"年度\"] == 2014), \n",
    "                          [\"实际披露日期\", \"报告期\"]] = [pandas.datetime(2015, 6, 5), pandas.datetime(2014, 12, 31)]"
   ]
  },
  {
   "cell_type": "code",
   "execution_count": 565,
   "metadata": {
    "collapsed": true
   },
   "outputs": [],
   "source": [
    "accounting_neeq_long1.loc[(accounting_neeq_long1[\"证券代码\"] == \"832473.OC\") & \n",
    "                          (accounting_neeq_long1[\"年度\"] == 2014), \n",
    "                          [\"实际披露日期\", \"报告期\"]] = [pandas.datetime(2015, 5, 28), pandas.datetime(2014, 12, 31)]"
   ]
  },
  {
   "cell_type": "code",
   "execution_count": 566,
   "metadata": {
    "collapsed": true
   },
   "outputs": [],
   "source": [
    "accounting_neeq_long1.loc[(accounting_neeq_long1[\"证券代码\"] == \"832472.OC\") & \n",
    "                          (accounting_neeq_long1[\"年度\"] == 2014), \n",
    "                          [\"实际披露日期\", \"报告期\"]] = [pandas.datetime(2015, 5, 27), pandas.datetime(2014, 12, 31)]"
   ]
  },
  {
   "cell_type": "code",
   "execution_count": 567,
   "metadata": {
    "collapsed": true
   },
   "outputs": [],
   "source": [
    "accounting_neeq_long1.loc[(accounting_neeq_long1[\"证券代码\"] == \"832471.OC\") & \n",
    "                          (accounting_neeq_long1[\"年度\"] == 2014), \n",
    "                          [\"实际披露日期\", \"报告期\"]] = [pandas.datetime(2015, 5, 27), pandas.datetime(2014, 12, 31)]"
   ]
  },
  {
   "cell_type": "code",
   "execution_count": 568,
   "metadata": {
    "collapsed": true
   },
   "outputs": [],
   "source": [
    "accounting_neeq_long1.loc[(accounting_neeq_long1[\"证券代码\"] == \"832470.OC\") & \n",
    "                          (accounting_neeq_long1[\"年度\"] == 2014), \n",
    "                          [\"实际披露日期\", \"报告期\"]] = [pandas.datetime(2015, 6, 5), pandas.datetime(2014, 12, 31)]"
   ]
  },
  {
   "cell_type": "code",
   "execution_count": 569,
   "metadata": {
    "collapsed": true
   },
   "outputs": [],
   "source": [
    "accounting_neeq_long1.loc[(accounting_neeq_long1[\"证券代码\"] == \"832469.OC\") & \n",
    "                          (accounting_neeq_long1[\"年度\"] == 2014), \n",
    "                          [\"实际披露日期\", \"报告期\"]] = [pandas.datetime(2015, 5, 26), pandas.datetime(2014, 12, 31)]"
   ]
  },
  {
   "cell_type": "code",
   "execution_count": 570,
   "metadata": {
    "collapsed": true
   },
   "outputs": [],
   "source": [
    "accounting_neeq_long1.loc[(accounting_neeq_long1[\"证券代码\"] == \"832468.OC\") & \n",
    "                          (accounting_neeq_long1[\"年度\"] == 2014), \n",
    "                          [\"实际披露日期\", \"报告期\"]] = [pandas.datetime(2015, 5, 14), pandas.datetime(2014, 12, 31)]"
   ]
  },
  {
   "cell_type": "code",
   "execution_count": 571,
   "metadata": {
    "collapsed": true
   },
   "outputs": [],
   "source": [
    "accounting_neeq_long1.loc[(accounting_neeq_long1[\"证券代码\"] == \"832467.OC\") & \n",
    "                          (accounting_neeq_long1[\"年度\"] == 2014), \n",
    "                          [\"实际披露日期\", \"报告期\"]] = [pandas.datetime(2015, 5, 21), pandas.datetime(2014, 12, 31)]"
   ]
  },
  {
   "cell_type": "code",
   "execution_count": 572,
   "metadata": {
    "collapsed": true
   },
   "outputs": [],
   "source": [
    "accounting_neeq_long1.loc[(accounting_neeq_long1[\"证券代码\"] == \"832466.OC\") & \n",
    "                          (accounting_neeq_long1[\"年度\"] == 2014), \n",
    "                          [\"实际披露日期\", \"报告期\"]] = [pandas.datetime(2015, 5, 18), pandas.datetime(2014, 12, 31)]"
   ]
  },
  {
   "cell_type": "code",
   "execution_count": 573,
   "metadata": {
    "collapsed": true
   },
   "outputs": [],
   "source": [
    "accounting_neeq_long1.loc[(accounting_neeq_long1[\"证券代码\"] == \"832465.OC\") & \n",
    "                          (accounting_neeq_long1[\"年度\"] == 2014), \n",
    "                          [\"实际披露日期\", \"报告期\"]] = [pandas.datetime(2015, 6, 9), pandas.datetime(2014, 12, 31)]"
   ]
  },
  {
   "cell_type": "code",
   "execution_count": 574,
   "metadata": {
    "collapsed": true
   },
   "outputs": [],
   "source": [
    "accounting_neeq_long1.loc[(accounting_neeq_long1[\"证券代码\"] == \"832464.OC\") & \n",
    "                          (accounting_neeq_long1[\"年度\"] == 2014), \n",
    "                          [\"实际披露日期\", \"报告期\"]] = [pandas.datetime(2015, 6, 9), pandas.datetime(2014, 12, 31)]"
   ]
  },
  {
   "cell_type": "code",
   "execution_count": 575,
   "metadata": {
    "collapsed": true
   },
   "outputs": [],
   "source": [
    "accounting_neeq_long1.loc[(accounting_neeq_long1[\"证券代码\"] == \"832463.OC\") & \n",
    "                          (accounting_neeq_long1[\"年度\"] == 2014), \n",
    "                          [\"实际披露日期\", \"报告期\"]] = [pandas.datetime(2015, 5, 18), pandas.datetime(2014, 12, 31)]"
   ]
  },
  {
   "cell_type": "code",
   "execution_count": 576,
   "metadata": {
    "collapsed": true
   },
   "outputs": [],
   "source": [
    "accounting_neeq_long1.loc[(accounting_neeq_long1[\"证券代码\"] == \"832462.OC\") & \n",
    "                          (accounting_neeq_long1[\"年度\"] == 2014), \n",
    "                          [\"实际披露日期\", \"报告期\"]] = [pandas.datetime(2015, 5, 13), pandas.datetime(2014, 12, 31)]"
   ]
  },
  {
   "cell_type": "code",
   "execution_count": 577,
   "metadata": {
    "collapsed": true
   },
   "outputs": [],
   "source": [
    "accounting_neeq_long1.loc[(accounting_neeq_long1[\"证券代码\"] == \"832461.OC\") & \n",
    "                          (accounting_neeq_long1[\"年度\"] == 2014), \n",
    "                          [\"实际披露日期\", \"报告期\"]] = [pandas.datetime(2015, 6, 10), pandas.datetime(2014, 12, 31)]"
   ]
  },
  {
   "cell_type": "code",
   "execution_count": 578,
   "metadata": {
    "collapsed": true
   },
   "outputs": [],
   "source": [
    "accounting_neeq_long1.loc[(accounting_neeq_long1[\"证券代码\"] == \"832457.OC\") & \n",
    "                          (accounting_neeq_long1[\"年度\"] == 2014), \n",
    "                          [\"实际披露日期\", \"报告期\"]] = [pandas.datetime(2015, 5, 29), pandas.datetime(2014, 12, 31)]"
   ]
  },
  {
   "cell_type": "code",
   "execution_count": 579,
   "metadata": {
    "collapsed": true
   },
   "outputs": [],
   "source": [
    "accounting_neeq_long1.loc[(accounting_neeq_long1[\"证券代码\"] == \"832456.OC\") & \n",
    "                          (accounting_neeq_long1[\"年度\"] == 2014), \n",
    "                          [\"实际披露日期\", \"报告期\"]] = [pandas.datetime(2015, 6, 8), pandas.datetime(2014, 12, 31)]"
   ]
  },
  {
   "cell_type": "code",
   "execution_count": 580,
   "metadata": {
    "collapsed": true
   },
   "outputs": [],
   "source": [
    "accounting_neeq_long1.loc[(accounting_neeq_long1[\"证券代码\"] == \"832454.OC\") & \n",
    "                          (accounting_neeq_long1[\"年度\"] == 2014), \n",
    "                          [\"实际披露日期\", \"报告期\"]] = [pandas.datetime(2015, 6, 3), pandas.datetime(2014, 12, 31)]"
   ]
  },
  {
   "cell_type": "code",
   "execution_count": 581,
   "metadata": {
    "collapsed": true
   },
   "outputs": [],
   "source": [
    "accounting_neeq_long1.loc[(accounting_neeq_long1[\"证券代码\"] == \"832453.OC\") & \n",
    "                          (accounting_neeq_long1[\"年度\"] == 2014), \n",
    "                          [\"实际披露日期\", \"报告期\"]] = [pandas.datetime(2015, 6, 9), pandas.datetime(2014, 12, 31)]"
   ]
  },
  {
   "cell_type": "code",
   "execution_count": 582,
   "metadata": {
    "collapsed": true
   },
   "outputs": [],
   "source": [
    "accounting_neeq_long1.loc[(accounting_neeq_long1[\"证券代码\"] == \"832452.OC\") & \n",
    "                          (accounting_neeq_long1[\"年度\"] == 2014), \n",
    "                          [\"实际披露日期\", \"报告期\"]] = [pandas.datetime(2015, 6, 10), pandas.datetime(2014, 12, 31)]"
   ]
  },
  {
   "cell_type": "code",
   "execution_count": 583,
   "metadata": {
    "collapsed": true
   },
   "outputs": [],
   "source": [
    "accounting_neeq_long1.loc[(accounting_neeq_long1[\"证券代码\"] == \"832449.OC\") & \n",
    "                          (accounting_neeq_long1[\"年度\"] == 2014), \n",
    "                          [\"实际披露日期\", \"报告期\"]] = [pandas.datetime(2015, 5, 18), pandas.datetime(2014, 12, 31)]"
   ]
  },
  {
   "cell_type": "code",
   "execution_count": 584,
   "metadata": {
    "collapsed": true
   },
   "outputs": [],
   "source": [
    "accounting_neeq_long1.loc[(accounting_neeq_long1[\"证券代码\"] == \"832448.OC\") & \n",
    "                          (accounting_neeq_long1[\"年度\"] == 2014), \n",
    "                          [\"实际披露日期\", \"报告期\"]] = [pandas.datetime(2015, 6, 11), pandas.datetime(2014, 12, 31)]"
   ]
  },
  {
   "cell_type": "code",
   "execution_count": 585,
   "metadata": {
    "collapsed": true
   },
   "outputs": [],
   "source": [
    "accounting_neeq_long1.loc[(accounting_neeq_long1[\"证券代码\"] == \"832447.OC\") & \n",
    "                          (accounting_neeq_long1[\"年度\"] == 2014), \n",
    "                          [\"实际披露日期\", \"报告期\"]] = [pandas.datetime(2015, 5, 21), pandas.datetime(2014, 12, 31)]"
   ]
  },
  {
   "cell_type": "code",
   "execution_count": 586,
   "metadata": {
    "collapsed": true
   },
   "outputs": [],
   "source": [
    "accounting_neeq_long1.loc[(accounting_neeq_long1[\"证券代码\"] == \"832446.OC\") & \n",
    "                          (accounting_neeq_long1[\"年度\"] == 2014), \n",
    "                          [\"实际披露日期\", \"报告期\"]] = [pandas.datetime(2015, 6, 19), pandas.datetime(2014, 12, 31)]"
   ]
  },
  {
   "cell_type": "code",
   "execution_count": 587,
   "metadata": {
    "collapsed": true
   },
   "outputs": [],
   "source": [
    "accounting_neeq_long1.loc[(accounting_neeq_long1[\"证券代码\"] == \"832445.OC\") & \n",
    "                          (accounting_neeq_long1[\"年度\"] == 2014), \n",
    "                          [\"实际披露日期\", \"报告期\"]] = [pandas.datetime(2015, 5, 21), pandas.datetime(2014, 12, 31)]"
   ]
  },
  {
   "cell_type": "code",
   "execution_count": 588,
   "metadata": {
    "collapsed": true
   },
   "outputs": [],
   "source": [
    "accounting_neeq_long1.loc[(accounting_neeq_long1[\"证券代码\"] == \"832444.OC\") & \n",
    "                          (accounting_neeq_long1[\"年度\"] == 2014), \n",
    "                          [\"实际披露日期\", \"报告期\"]] = [pandas.datetime(2015, 5, 11), pandas.datetime(2014, 12, 31)]"
   ]
  },
  {
   "cell_type": "code",
   "execution_count": 589,
   "metadata": {
    "collapsed": true
   },
   "outputs": [],
   "source": [
    "accounting_neeq_long1.loc[(accounting_neeq_long1[\"证券代码\"] == \"832443.OC\") & \n",
    "                          (accounting_neeq_long1[\"年度\"] == 2014), \n",
    "                          [\"实际披露日期\", \"报告期\"]] = [pandas.datetime(2015, 6, 3), pandas.datetime(2014, 12, 31)]\n",
    "\n",
    "accounting_neeq_long1.loc[(accounting_neeq_long1[\"证券代码\"] == \"832442.OC\") & \n",
    "                          (accounting_neeq_long1[\"年度\"] == 2014), \n",
    "                          [\"实际披露日期\", \"报告期\"]] = [pandas.datetime(2015, 5, 12), pandas.datetime(2014, 12, 31)]\n",
    "\n",
    "accounting_neeq_long1.loc[(accounting_neeq_long1[\"证券代码\"] == \"832440.OC\") & \n",
    "                          (accounting_neeq_long1[\"年度\"] == 2014), \n",
    "                          [\"实际披露日期\", \"报告期\"]] = [pandas.datetime(2015, 5, 25), pandas.datetime(2014, 12, 31)]\n",
    "\n",
    "accounting_neeq_long1.loc[(accounting_neeq_long1[\"证券代码\"] == \"832439.OC\") & \n",
    "                          (accounting_neeq_long1[\"年度\"] == 2014), \n",
    "                          [\"实际披露日期\", \"报告期\"]] = [pandas.datetime(2015, 5, 28), pandas.datetime(2014, 12, 31)]\n",
    "\n",
    "accounting_neeq_long1.loc[(accounting_neeq_long1[\"证券代码\"] == \"832438.OC\") & \n",
    "                          (accounting_neeq_long1[\"年度\"] == 2014), \n",
    "                          [\"实际披露日期\", \"报告期\"]] = [pandas.datetime(2015, 6, 9), pandas.datetime(2014, 12, 31)]\n",
    "\n",
    "accounting_neeq_long1.loc[(accounting_neeq_long1[\"证券代码\"] == \"832437.OC\") & \n",
    "                          (accounting_neeq_long1[\"年度\"] == 2014), \n",
    "                          [\"实际披露日期\", \"报告期\"]] = [pandas.datetime(2015, 6, 16), pandas.datetime(2014, 12, 31)]\n",
    "\n",
    "accounting_neeq_long1.loc[(accounting_neeq_long1[\"证券代码\"] == \"832436.OC\") & \n",
    "                          (accounting_neeq_long1[\"年度\"] == 2014), \n",
    "                          [\"实际披露日期\", \"报告期\"]] = [pandas.datetime(2015, 5, 28), pandas.datetime(2014, 12, 31)]\n",
    "\n",
    "accounting_neeq_long1.loc[(accounting_neeq_long1[\"证券代码\"] == \"832434.OC\") & \n",
    "                          (accounting_neeq_long1[\"年度\"] == 2014), \n",
    "                          [\"实际披露日期\", \"报告期\"]] = [pandas.datetime(2015, 5, 29), pandas.datetime(2014, 12, 31)]\n",
    "\n",
    "accounting_neeq_long1.loc[(accounting_neeq_long1[\"证券代码\"] == \"832433.OC\") & \n",
    "                          (accounting_neeq_long1[\"年度\"] == 2014), \n",
    "                          [\"实际披露日期\", \"报告期\"]] = [pandas.datetime(2015, 5, 28), pandas.datetime(2014, 12, 31)]\n",
    "\n",
    "accounting_neeq_long1.loc[(accounting_neeq_long1[\"证券代码\"] == \"832432.OC\") & \n",
    "                          (accounting_neeq_long1[\"年度\"] == 2014), \n",
    "                          [\"实际披露日期\", \"报告期\"]] = [pandas.datetime(2015, 7, 14), pandas.datetime(2014, 12, 31)]\n",
    "\n",
    "accounting_neeq_long1.loc[(accounting_neeq_long1[\"证券代码\"] == \"832427.OC\") & \n",
    "                          (accounting_neeq_long1[\"年度\"] == 2014), \n",
    "                          [\"实际披露日期\", \"报告期\"]] = [pandas.datetime(2015, 6, 5), pandas.datetime(2014, 12, 31)]\n",
    "\n",
    "accounting_neeq_long1.loc[(accounting_neeq_long1[\"证券代码\"] == \"832426.OC\") & \n",
    "                          (accounting_neeq_long1[\"年度\"] == 2014), \n",
    "                          [\"实际披露日期\", \"报告期\"]] = [pandas.datetime(2015, 6, 1), pandas.datetime(2014, 12, 31)]\n",
    "\n",
    "accounting_neeq_long1.loc[(accounting_neeq_long1[\"证券代码\"] == \"832425.OC\") & \n",
    "                          (accounting_neeq_long1[\"年度\"] == 2014), \n",
    "                          [\"实际披露日期\", \"报告期\"]] = [pandas.datetime(2015, 5, 29), pandas.datetime(2014, 12, 31)]\n",
    "\n",
    "accounting_neeq_long1.loc[(accounting_neeq_long1[\"证券代码\"] == \"832424.OC\") & \n",
    "                          (accounting_neeq_long1[\"年度\"] == 2014), \n",
    "                          [\"实际披露日期\", \"报告期\"]] = [pandas.datetime(2015, 10, 26), pandas.datetime(2014, 12, 31)]\n",
    "\n",
    "accounting_neeq_long1.loc[(accounting_neeq_long1[\"证券代码\"] == \"832422.OC\") & \n",
    "                          (accounting_neeq_long1[\"年度\"] == 2014), \n",
    "                          [\"实际披露日期\", \"报告期\"]] = [pandas.datetime(2015, 5, 12), pandas.datetime(2014, 12, 31)]\n",
    "\n",
    "accounting_neeq_long1.loc[(accounting_neeq_long1[\"证券代码\"] == \"832421.OC\") & \n",
    "                          (accounting_neeq_long1[\"年度\"] == 2014), \n",
    "                          [\"实际披露日期\", \"报告期\"]] = [pandas.datetime(2015, 5, 22), pandas.datetime(2014, 12, 31)]\n",
    "\n",
    "accounting_neeq_long1.loc[(accounting_neeq_long1[\"证券代码\"] == \"832420.OC\") & \n",
    "                          (accounting_neeq_long1[\"年度\"] == 2014), \n",
    "                          [\"实际披露日期\", \"报告期\"]] = [pandas.datetime(2015, 6, 9), pandas.datetime(2014, 12, 31)]\n",
    "\n",
    "accounting_neeq_long1.loc[(accounting_neeq_long1[\"证券代码\"] == \"832418.OC\") & \n",
    "                          (accounting_neeq_long1[\"年度\"] == 2014), \n",
    "                          [\"实际披露日期\", \"报告期\"]] = [pandas.datetime(2015, 5, 18), pandas.datetime(2014, 12, 31)]\n",
    "\n",
    "accounting_neeq_long1.loc[(accounting_neeq_long1[\"证券代码\"] == \"832417.OC\") & \n",
    "                          (accounting_neeq_long1[\"年度\"] == 2014), \n",
    "                          [\"实际披露日期\", \"报告期\"]] = [pandas.datetime(2015, 6, 5), pandas.datetime(2014, 12, 31)]\n",
    "\n",
    "accounting_neeq_long1.loc[(accounting_neeq_long1[\"证券代码\"] == \"832416.OC\") & \n",
    "                          (accounting_neeq_long1[\"年度\"] == 2014), \n",
    "                          [\"实际披露日期\", \"报告期\"]] = [pandas.datetime(2015, 5, 19), pandas.datetime(2014, 12, 31)]\n",
    "\n",
    "accounting_neeq_long1.loc[(accounting_neeq_long1[\"证券代码\"] == \"832415.OC\") & \n",
    "                          (accounting_neeq_long1[\"年度\"] == 2014), \n",
    "                          [\"实际披露日期\", \"报告期\"]] = [pandas.datetime(2015, 6, 5), pandas.datetime(2014, 12, 31)]\n",
    "\n",
    "accounting_neeq_long1.loc[(accounting_neeq_long1[\"证券代码\"] == \"832414.OC\") & \n",
    "                          (accounting_neeq_long1[\"年度\"] == 2014), \n",
    "                          [\"实际披露日期\", \"报告期\"]] = [pandas.datetime(2015, 5, 27), pandas.datetime(2014, 12, 31)]\n",
    "\n",
    "accounting_neeq_long1.loc[(accounting_neeq_long1[\"证券代码\"] == \"832413.OC\") & \n",
    "                          (accounting_neeq_long1[\"年度\"] == 2014), \n",
    "                          [\"实际披露日期\", \"报告期\"]] = [pandas.datetime(2015, 5, 19), pandas.datetime(2014, 12, 31)]\n",
    "\n",
    "accounting_neeq_long1.loc[(accounting_neeq_long1[\"证券代码\"] == \"832412.OC\") & \n",
    "                          (accounting_neeq_long1[\"年度\"] == 2014), \n",
    "                          [\"实际披露日期\", \"报告期\"]] = [pandas.datetime(2015, 5, 12), pandas.datetime(2014, 12, 31)]\n",
    "\n",
    "accounting_neeq_long1.loc[(accounting_neeq_long1[\"证券代码\"] == \"832411.OC\") & \n",
    "                          (accounting_neeq_long1[\"年度\"] == 2014), \n",
    "                          [\"实际披露日期\", \"报告期\"]] = [pandas.datetime(2015, 5, 28), pandas.datetime(2014, 12, 31)]\n",
    "\n",
    "accounting_neeq_long1.loc[(accounting_neeq_long1[\"证券代码\"] == \"832410.OC\") & \n",
    "                          (accounting_neeq_long1[\"年度\"] == 2014), \n",
    "                          [\"实际披露日期\", \"报告期\"]] = [pandas.datetime(2015, 5, 19), pandas.datetime(2014, 12, 31)]\n",
    "\n",
    "accounting_neeq_long1.loc[(accounting_neeq_long1[\"证券代码\"] == \"832409.OC\") & \n",
    "                          (accounting_neeq_long1[\"年度\"] == 2014), \n",
    "                          [\"实际披露日期\", \"报告期\"]] = [pandas.datetime(2015, 5, 5), pandas.datetime(2014, 12, 31)]\n",
    "\n",
    "accounting_neeq_long1.loc[(accounting_neeq_long1[\"证券代码\"] == \"832407.OC\") & \n",
    "                          (accounting_neeq_long1[\"年度\"] == 2014), \n",
    "                          [\"实际披露日期\", \"报告期\"]] = [pandas.datetime(2015, 6, 1), pandas.datetime(2014, 12, 31)]\n",
    "\n",
    "accounting_neeq_long1.loc[(accounting_neeq_long1[\"证券代码\"] == \"832406.OC\") & \n",
    "                          (accounting_neeq_long1[\"年度\"] == 2014), \n",
    "                          [\"实际披露日期\", \"报告期\"]] = [pandas.datetime(2015, 5, 21), pandas.datetime(2014, 12, 31)]\n",
    "\n",
    "accounting_neeq_long1.loc[(accounting_neeq_long1[\"证券代码\"] == \"832404.OC\") & \n",
    "                          (accounting_neeq_long1[\"年度\"] == 2014), \n",
    "                          [\"实际披露日期\", \"报告期\"]] = [pandas.datetime(2015, 5, 12), pandas.datetime(2014, 12, 31)]\n",
    "\n",
    "accounting_neeq_long1.loc[(accounting_neeq_long1[\"证券代码\"] == \"832403.OC\") & \n",
    "                          (accounting_neeq_long1[\"年度\"] == 2014), \n",
    "                          [\"实际披露日期\", \"报告期\"]] = [pandas.datetime(2015, 5, 8), pandas.datetime(2014, 12, 31)]\n",
    "\n",
    "accounting_neeq_long1.loc[(accounting_neeq_long1[\"证券代码\"] == \"832398.OC\") & \n",
    "                          (accounting_neeq_long1[\"年度\"] == 2014), \n",
    "                          [\"实际披露日期\", \"报告期\"]] = [pandas.datetime(2015, 5, 7), pandas.datetime(2014, 12, 31)]\n",
    "\n",
    "accounting_neeq_long1.loc[(accounting_neeq_long1[\"证券代码\"] == \"832395.OC\") & \n",
    "                          (accounting_neeq_long1[\"年度\"] == 2014), \n",
    "                          [\"实际披露日期\", \"报告期\"]] = [pandas.datetime(2015, 5, 12), pandas.datetime(2014, 12, 31)]\n",
    "\n",
    "accounting_neeq_long1.loc[(accounting_neeq_long1[\"证券代码\"] == \"832394.OC\") & \n",
    "                          (accounting_neeq_long1[\"年度\"] == 2014), \n",
    "                          [\"实际披露日期\", \"报告期\"]] = [pandas.datetime(2015, 5, 8), pandas.datetime(2014, 12, 31)]\n",
    "\n",
    "accounting_neeq_long1.loc[(accounting_neeq_long1[\"证券代码\"] == \"832393.OC\") & \n",
    "                          (accounting_neeq_long1[\"年度\"] == 2014), \n",
    "                          [\"实际披露日期\", \"报告期\"]] = [pandas.datetime(2015, 6, 18), pandas.datetime(2014, 12, 31)]\n",
    "\n",
    "accounting_neeq_long1.loc[(accounting_neeq_long1[\"证券代码\"] == \"832391.OC\") & \n",
    "                          (accounting_neeq_long1[\"年度\"] == 2014), \n",
    "                          [\"实际披露日期\", \"报告期\"]] = [pandas.datetime(2015, 5, 20), pandas.datetime(2014, 12, 31)]\n",
    "\n",
    "accounting_neeq_long1.loc[(accounting_neeq_long1[\"证券代码\"] == \"832390.OC\") & \n",
    "                          (accounting_neeq_long1[\"年度\"] == 2014), \n",
    "                          [\"实际披露日期\", \"报告期\"]] = [pandas.datetime(2015, 5, 5), pandas.datetime(2014, 12, 31)]\n",
    "\n",
    "accounting_neeq_long1.loc[(accounting_neeq_long1[\"证券代码\"] == \"832389.OC\") & \n",
    "                          (accounting_neeq_long1[\"年度\"] == 2014), \n",
    "                          [\"实际披露日期\", \"报告期\"]] = [pandas.datetime(2015, 5, 6), pandas.datetime(2014, 12, 31)]\n",
    "\n",
    "accounting_neeq_long1.loc[(accounting_neeq_long1[\"证券代码\"] == \"832388.OC\") & \n",
    "                          (accounting_neeq_long1[\"年度\"] == 2014), \n",
    "                          [\"实际披露日期\", \"报告期\"]] = [pandas.datetime(2015, 6, 4), pandas.datetime(2014, 12, 31)]\n",
    "\n",
    "\n",
    "accounting_neeq_long1.loc[(accounting_neeq_long1[\"证券代码\"] == \"832387.OC\") & \n",
    "                          (accounting_neeq_long1[\"年度\"] == 2014), \n",
    "                          [\"实际披露日期\", \"报告期\"]] = [pandas.datetime(2015, 6, 8), pandas.datetime(2014, 12, 31)]\n",
    "\n",
    "accounting_neeq_long1.loc[(accounting_neeq_long1[\"证券代码\"] == \"832386.OC\") & \n",
    "                          (accounting_neeq_long1[\"年度\"] == 2014), \n",
    "                          [\"实际披露日期\", \"报告期\"]] = [pandas.datetime(2015, 5, 18), pandas.datetime(2014, 12, 31)]\n",
    "\n",
    "accounting_neeq_long1.loc[(accounting_neeq_long1[\"证券代码\"] == \"832377.OC\") & \n",
    "                          (accounting_neeq_long1[\"年度\"] == 2014), \n",
    "                          [\"实际披露日期\", \"报告期\"]] = [pandas.datetime(2015, 5, 11), pandas.datetime(2014, 12, 31)]\n",
    "\n",
    "accounting_neeq_long1.loc[(accounting_neeq_long1[\"证券代码\"] == \"832374.OC\") & \n",
    "                          (accounting_neeq_long1[\"年度\"] == 2014), \n",
    "                          [\"实际披露日期\", \"报告期\"]] = [pandas.datetime(2015, 6, 12), pandas.datetime(2014, 12, 31)]\n",
    "\n",
    "accounting_neeq_long1.loc[(accounting_neeq_long1[\"证券代码\"] == \"832373.OC\") & \n",
    "                          (accounting_neeq_long1[\"年度\"] == 2014), \n",
    "                          [\"实际披露日期\", \"报告期\"]] = [pandas.datetime(2015, 5, 27), pandas.datetime(2014, 12, 31)]\n",
    "\n",
    "accounting_neeq_long1.loc[(accounting_neeq_long1[\"证券代码\"] == \"832360.OC\") & \n",
    "                          (accounting_neeq_long1[\"年度\"] == 2014), \n",
    "                          [\"实际披露日期\", \"报告期\"]] = [pandas.datetime(2015, 5, 20), pandas.datetime(2014, 12, 31)]\n",
    "\n",
    "accounting_neeq_long1.loc[(accounting_neeq_long1[\"证券代码\"] == \"832355.OC\") & \n",
    "                          (accounting_neeq_long1[\"年度\"] == 2014), \n",
    "                          [\"实际披露日期\", \"报告期\"]] = [pandas.datetime(2015, 5, 29), pandas.datetime(2014, 12, 31)]\n",
    "\n",
    "accounting_neeq_long1.loc[(accounting_neeq_long1[\"证券代码\"] == \"832347.OC\") & \n",
    "                          (accounting_neeq_long1[\"年度\"] == 2014), \n",
    "                          [\"实际披露日期\", \"报告期\"]] = [pandas.datetime(2015, 4, 29), pandas.datetime(2014, 12, 31)]\n",
    "\n",
    "accounting_neeq_long1.loc[(accounting_neeq_long1[\"证券代码\"] == \"830819.OC\") & \n",
    "                          (accounting_neeq_long1[\"年度\"] == 2013), \n",
    "                          [\"实际披露日期\", \"报告期\"]] = [pandas.datetime(2014, 8, 6), pandas.datetime(2013, 12, 31)]\n",
    "\n",
    "accounting_neeq_long1.loc[(accounting_neeq_long1[\"证券代码\"] == \"832337.OC\") & \n",
    "                          (accounting_neeq_long1[\"年度\"] == 2014), \n",
    "                          [\"实际披露日期\", \"报告期\"]] = [pandas.datetime(2015, 5, 12), pandas.datetime(2014, 12, 31)]\n",
    "\n",
    "accounting_neeq_long1.loc[(accounting_neeq_long1[\"证券代码\"] == \"830800.OC\") & \n",
    "                          (accounting_neeq_long1[\"年度\"] == 2013), \n",
    "                          [\"实际披露日期\", \"报告期\"]] = [pandas.datetime(2014, 5, 30), pandas.datetime(2013, 12, 31)]\n",
    "\n",
    "accounting_neeq_long1.loc[(accounting_neeq_long1[\"证券代码\"] == \"830799.OC\") & \n",
    "                          (accounting_neeq_long1[\"年度\"] == 2013), \n",
    "                          [\"实际披露日期\", \"报告期\"]] = [pandas.datetime(2014, 6, 27), pandas.datetime(2013, 12, 31)]\n",
    "\n",
    "accounting_neeq_long1.loc[(accounting_neeq_long1[\"证券代码\"] == \"830786.OC\") & \n",
    "                          (accounting_neeq_long1[\"年度\"] == 2013), \n",
    "                          [\"实际披露日期\", \"报告期\"]] = [pandas.datetime(2014, 5, 30), pandas.datetime(2013, 12, 31)]\n",
    "\n",
    "accounting_neeq_long1.loc[(accounting_neeq_long1[\"证券代码\"] == \"830790.OC\") & \n",
    "                          (accounting_neeq_long1[\"年度\"] == 2013), \n",
    "                          [\"实际披露日期\", \"报告期\"]] = [pandas.datetime(2014, 7, 7), pandas.datetime(2013, 12, 31)]\n",
    "\n",
    "accounting_neeq_long1.loc[(accounting_neeq_long1[\"证券代码\"] == \"830787.OC\") & \n",
    "                          (accounting_neeq_long1[\"年度\"] == 2013), \n",
    "                          [\"实际披露日期\", \"报告期\"]] = [pandas.datetime(2014, 6, 30), pandas.datetime(2013, 12, 31)]\n",
    "\n",
    "accounting_neeq_long1.loc[(accounting_neeq_long1[\"证券代码\"] == \"830785.OC\") & \n",
    "                          (accounting_neeq_long1[\"年度\"] == 2013), \n",
    "                          [\"实际披露日期\", \"报告期\"]] = [pandas.datetime(2014, 6, 11), pandas.datetime(2013, 12, 31)]"
   ]
  },
  {
   "cell_type": "code",
   "execution_count": 591,
   "metadata": {
    "collapsed": false
   },
   "outputs": [],
   "source": [
    "accounting_neeq_long1.loc[(accounting_neeq_long1[\"证券代码\"] == \"832482.OC\") & \n",
    "                          (accounting_neeq_long1[\"年度\"] == 2014), \n",
    "                          [\"实际披露日期\", \"报告期\"]] = [pandas.datetime(2015, 5, 18), pandas.datetime(2014, 12, 31)]"
   ]
  },
  {
   "cell_type": "code",
   "execution_count": 592,
   "metadata": {
    "collapsed": true
   },
   "outputs": [],
   "source": [
    "accounting_neeq_long1.loc[(accounting_neeq_long1[\"证券代码\"] == \"832498.OC\") & \n",
    "                          (accounting_neeq_long1[\"年度\"] == 2014), \n",
    "                          [\"实际披露日期\", \"报告期\"]] = [pandas.datetime(2015, 6, 23), pandas.datetime(2014, 12, 31)]"
   ]
  },
  {
   "cell_type": "code",
   "execution_count": 593,
   "metadata": {
    "collapsed": false
   },
   "outputs": [],
   "source": [
    "accounting_neeq_long1.loc[(accounting_neeq_long1[\"证券代码\"] == \"832537.OC\") & \n",
    "                          (accounting_neeq_long1[\"年度\"] == 2014), \n",
    "                          [\"实际披露日期\", \"报告期\"]] = [pandas.datetime(2015, 6, 5), pandas.datetime(2014, 12, 31)]"
   ]
  },
  {
   "cell_type": "code",
   "execution_count": 594,
   "metadata": {
    "collapsed": false
   },
   "outputs": [],
   "source": [
    "accounting_neeq_long1.loc[(accounting_neeq_long1[\"证券代码\"] == \"832568.OC\") & \n",
    "                          (accounting_neeq_long1[\"年度\"] == 2015), \n",
    "                          [\"折旧\", \"长期待摊费用摊销\", \"存货的减少\", \"经营性应收项目的减少\", \"经营性应付项目的增加\"]] =\\\n",
    "[14500391.74, 0, 32365482.17, -102364408.41, -137055152.65]\n",
    "\n",
    "accounting_neeq_long1.loc[(accounting_neeq_long1[\"证券代码\"] == \"832568.OC\") & \n",
    "                          (accounting_neeq_long1[\"年度\"] == 2014), \n",
    "                          [\"折旧\", \"长期待摊费用摊销\", \"存货的减少\", \"经营性应收项目的减少\", \"经营性应付项目的增加\"]] =\\\n",
    "[10058905.53, 0, -17061012.49,  -10599958.09, 459435.69]\n",
    "\n",
    "accounting_neeq_long1.loc[(accounting_neeq_long1[\"证券代码\"] == \"832568.OC\") & \n",
    "                          (accounting_neeq_long1[\"年度\"] == 2013), \n",
    "                          [\"折旧\", \"长期待摊费用摊销\", \"存货的减少\", \"经营性应收项目的减少\", \"经营性应付项目的增加\"]] =\\\n",
    "[11218661.06, 0, -25707153.13, 34482646.00, 112376137.46]"
   ]
  },
  {
   "cell_type": "code",
   "execution_count": 595,
   "metadata": {
    "collapsed": false
   },
   "outputs": [],
   "source": [
    "accounting_neeq_long1.loc[(accounting_neeq_long1[\"证券代码\"] == \"430702.OC\") &\n",
    "                          (accounting_neeq_long1[\"年度\"] == 2013), [\"实际披露日期\", \"报告期\"]] =\\\n",
    "[pandas.datetime(2014, 5, 21), pandas.datetime(2013, 12, 31)]"
   ]
  },
  {
   "cell_type": "code",
   "execution_count": 596,
   "metadata": {
    "collapsed": true
   },
   "outputs": [],
   "source": [
    "accounting_neeq_long1.loc[(accounting_neeq_long1[\"证券代码\"] == \"830825.OC\") &\n",
    "                          (accounting_neeq_long1[\"年度\"] == 2013), [\"实际披露日期\", \"报告期\"]] =\\\n",
    "[pandas.datetime(2014, 6, 24), pandas.datetime(2013, 12, 31)]"
   ]
  },
  {
   "cell_type": "code",
   "execution_count": 597,
   "metadata": {
    "collapsed": true
   },
   "outputs": [],
   "source": [
    "accounting_neeq_long1.loc[(accounting_neeq_long1[\"证券代码\"] == \"830767.OC\") &\n",
    "                          (accounting_neeq_long1[\"年度\"] == 2013), [\"实际披露日期\", \"报告期\"]] =\\\n",
    "[pandas.datetime(2014, 6, 9), pandas.datetime(2013, 12, 31)]"
   ]
  },
  {
   "cell_type": "code",
   "execution_count": 598,
   "metadata": {
    "collapsed": true
   },
   "outputs": [],
   "source": [
    "accounting_neeq_long1.loc[(accounting_neeq_long1[\"证券代码\"] == \"830780.OC\") &\n",
    "                          (accounting_neeq_long1[\"年度\"] == 2013), [\"实际披露日期\", \"报告期\"]] =\\\n",
    "[pandas.datetime(2014, 6, 9), pandas.datetime(2013, 12, 31)]"
   ]
  },
  {
   "cell_type": "code",
   "execution_count": 599,
   "metadata": {
    "collapsed": true
   },
   "outputs": [],
   "source": [
    "accounting_neeq_long1.loc[(accounting_neeq_long1[\"证券代码\"] == \"832383.OC\") &\n",
    "                          (accounting_neeq_long1[\"年度\"] == 2014), [\"实际披露日期\", \"报告期\"]] =\\\n",
    "[pandas.datetime(2015, 6, 9), pandas.datetime(2014, 12, 31)]"
   ]
  },
  {
   "cell_type": "code",
   "execution_count": 600,
   "metadata": {
    "collapsed": true
   },
   "outputs": [],
   "source": [
    "accounting_neeq_long1.loc[(accounting_neeq_long1[\"证券代码\"] == \"832611.OC\") &\n",
    "                          (accounting_neeq_long1[\"年度\"] == 2014), [\"实际披露日期\", \"报告期\"]] =\\\n",
    "[pandas.datetime(2015, 6, 11), pandas.datetime(2014, 12, 31)]"
   ]
  },
  {
   "cell_type": "code",
   "execution_count": 601,
   "metadata": {
    "collapsed": true
   },
   "outputs": [],
   "source": [
    "accounting_neeq_long1.loc[(accounting_neeq_long1[\"证券代码\"] == \"832615.OC\") &\n",
    "                          (accounting_neeq_long1[\"年度\"] == 2014), [\"实际披露日期\", \"报告期\"]] =\\\n",
    "[pandas.datetime(2015, 7, 17), pandas.datetime(2014, 12, 31)]"
   ]
  },
  {
   "cell_type": "code",
   "execution_count": 602,
   "metadata": {
    "collapsed": true
   },
   "outputs": [],
   "source": [
    "accounting_neeq_long1.loc[(accounting_neeq_long1[\"证券代码\"] == \"832686.OC\") &\n",
    "                          (accounting_neeq_long1[\"年度\"] == 2014), [\"实际披露日期\", \"报告期\"]] =\\\n",
    "[pandas.datetime(2015, 10, 13), pandas.datetime(2014, 12, 31)]"
   ]
  },
  {
   "cell_type": "code",
   "execution_count": 603,
   "metadata": {
    "collapsed": true
   },
   "outputs": [],
   "source": [
    "accounting_neeq_long1.loc[(accounting_neeq_long1[\"证券代码\"] == \"430699.OC\") &\n",
    "                          (accounting_neeq_long1[\"年度\"] == 2013), [\"实际披露日期\", \"报告期\"]] =\\\n",
    "[pandas.datetime(2014, 5, 20), pandas.datetime(2013, 12, 31)]"
   ]
  },
  {
   "cell_type": "code",
   "execution_count": 604,
   "metadata": {
    "collapsed": true
   },
   "outputs": [],
   "source": [
    "accounting_neeq_long1.loc[(accounting_neeq_long1[\"证券代码\"] == \"430718.OC\") &\n",
    "                          (accounting_neeq_long1[\"年度\"] == 2013), [\"实际披露日期\", \"报告期\"]] =\\\n",
    "[pandas.datetime(2014, 5, 14), pandas.datetime(2013, 12, 31)]"
   ]
  },
  {
   "cell_type": "code",
   "execution_count": 605,
   "metadata": {
    "collapsed": true
   },
   "outputs": [],
   "source": [
    "accounting_neeq_long1.loc[(accounting_neeq_long1[\"证券代码\"] == \"430720.OC\") &\n",
    "                          (accounting_neeq_long1[\"年度\"] == 2013), [\"实际披露日期\", \"报告期\"]] =\\\n",
    "[pandas.datetime(2014, 5, 7), pandas.datetime(2013, 12, 31)]"
   ]
  },
  {
   "cell_type": "code",
   "execution_count": 606,
   "metadata": {
    "collapsed": true
   },
   "outputs": [],
   "source": [
    "accounting_neeq_long1.loc[(accounting_neeq_long1[\"证券代码\"] == \"430722.OC\") &\n",
    "                          (accounting_neeq_long1[\"年度\"] == 2013), [\"实际披露日期\", \"报告期\"]] =\\\n",
    "[pandas.datetime(2014, 5, 23), pandas.datetime(2013, 12, 31)]"
   ]
  },
  {
   "cell_type": "code",
   "execution_count": 607,
   "metadata": {
    "collapsed": true
   },
   "outputs": [],
   "source": [
    "accounting_neeq_long1.loc[(accounting_neeq_long1[\"证券代码\"] == \"430725.OC\") &\n",
    "                          (accounting_neeq_long1[\"年度\"] == 2013), [\"实际披露日期\", \"报告期\"]] =\\\n",
    "[pandas.datetime(2014, 5, 21), pandas.datetime(2013, 12, 31)]"
   ]
  },
  {
   "cell_type": "code",
   "execution_count": 608,
   "metadata": {
    "collapsed": true
   },
   "outputs": [],
   "source": [
    "accounting_neeq_long1.loc[(accounting_neeq_long1[\"证券代码\"] == \"430727.OC\") &\n",
    "                          (accounting_neeq_long1[\"年度\"] == 2013), [\"实际披露日期\", \"报告期\"]] =\\\n",
    "[pandas.datetime(2014, 6, 4), pandas.datetime(2013, 12, 31)]"
   ]
  },
  {
   "cell_type": "code",
   "execution_count": 609,
   "metadata": {
    "collapsed": true
   },
   "outputs": [],
   "source": [
    "accounting_neeq_long1.loc[(accounting_neeq_long1[\"证券代码\"] == \"430729.OC\") &\n",
    "                          (accounting_neeq_long1[\"年度\"] == 2013), [\"实际披露日期\", \"报告期\"]] =\\\n",
    "[pandas.datetime(2014, 5, 30), pandas.datetime(2013, 12, 31)]"
   ]
  },
  {
   "cell_type": "code",
   "execution_count": 610,
   "metadata": {
    "collapsed": true
   },
   "outputs": [],
   "source": [
    "accounting_neeq_long1.loc[(accounting_neeq_long1[\"证券代码\"] == \"430730.OC\") &\n",
    "                          (accounting_neeq_long1[\"年度\"] == 2013), [\"实际披露日期\", \"报告期\"]] =\\\n",
    "[pandas.datetime(2014, 5, 16), pandas.datetime(2013, 12, 31)]"
   ]
  },
  {
   "cell_type": "code",
   "execution_count": 611,
   "metadata": {
    "collapsed": true
   },
   "outputs": [],
   "source": [
    "accounting_neeq_long1.loc[(accounting_neeq_long1[\"证券代码\"] == \"430733.OC\") &\n",
    "                          (accounting_neeq_long1[\"年度\"] == 2013), [\"实际披露日期\", \"报告期\"]] =\\\n",
    "[pandas.datetime(2014, 5, 19), pandas.datetime(2013, 12, 31)]"
   ]
  },
  {
   "cell_type": "code",
   "execution_count": 612,
   "metadata": {
    "collapsed": true
   },
   "outputs": [],
   "source": [
    "accounting_neeq_long1.loc[(accounting_neeq_long1[\"证券代码\"] == \"430734.OC\") &\n",
    "                          (accounting_neeq_long1[\"年度\"] == 2013), [\"实际披露日期\", \"报告期\"]] =\\\n",
    "[pandas.datetime(2014, 5, 8), pandas.datetime(2013, 12, 31)]"
   ]
  },
  {
   "cell_type": "code",
   "execution_count": 613,
   "metadata": {
    "collapsed": true
   },
   "outputs": [],
   "source": [
    "accounting_neeq_long1.loc[(accounting_neeq_long1[\"证券代码\"] == \"430735.OC\") &\n",
    "                          (accounting_neeq_long1[\"年度\"] == 2013), [\"实际披露日期\", \"报告期\"]] =\\\n",
    "[pandas.datetime(2014, 7, 11), pandas.datetime(2013, 12, 31)]"
   ]
  },
  {
   "cell_type": "code",
   "execution_count": 614,
   "metadata": {
    "collapsed": true
   },
   "outputs": [],
   "source": [
    "accounting_neeq_long1.loc[(accounting_neeq_long1[\"证券代码\"] == \"430736.OC\") &\n",
    "                          (accounting_neeq_long1[\"年度\"] == 2013), [\"实际披露日期\", \"报告期\"]] =\\\n",
    "[pandas.datetime(2014, 5, 8), pandas.datetime(2013, 12, 31)]"
   ]
  },
  {
   "cell_type": "code",
   "execution_count": 615,
   "metadata": {
    "collapsed": true
   },
   "outputs": [],
   "source": [
    "accounting_neeq_long1.loc[(accounting_neeq_long1[\"证券代码\"] == \"430741.OC\") &\n",
    "                          (accounting_neeq_long1[\"年度\"] == 2013), [\"实际披露日期\", \"报告期\"]] =\\\n",
    "[pandas.datetime(2014, 5, 9), pandas.datetime(2013, 12, 31)]"
   ]
  },
  {
   "cell_type": "code",
   "execution_count": 616,
   "metadata": {
    "collapsed": true
   },
   "outputs": [],
   "source": [
    "accounting_neeq_long1.loc[(accounting_neeq_long1[\"证券代码\"] == \"430743.OC\") &\n",
    "                          (accounting_neeq_long1[\"年度\"] == 2013), [\"实际披露日期\", \"报告期\"]] =\\\n",
    "[pandas.datetime(2014, 5, 30), pandas.datetime(2013, 12, 31)]"
   ]
  },
  {
   "cell_type": "code",
   "execution_count": 617,
   "metadata": {
    "collapsed": true
   },
   "outputs": [],
   "source": [
    "accounting_neeq_long1.loc[(accounting_neeq_long1[\"证券代码\"] == \"430744.OC\") &\n",
    "                          (accounting_neeq_long1[\"年度\"] == 2013), [\"实际披露日期\", \"报告期\"]] =\\\n",
    "[pandas.datetime(2014, 5, 5), pandas.datetime(2013, 12, 31)]"
   ]
  },
  {
   "cell_type": "code",
   "execution_count": 618,
   "metadata": {
    "collapsed": true
   },
   "outputs": [],
   "source": [
    "accounting_neeq_long1.loc[(accounting_neeq_long1[\"证券代码\"] == \"430745.OC\") &\n",
    "                          (accounting_neeq_long1[\"年度\"] == 2013), [\"实际披露日期\", \"报告期\"]] =\\\n",
    "[pandas.datetime(2014, 5, 26), pandas.datetime(2013, 12, 31)]"
   ]
  },
  {
   "cell_type": "code",
   "execution_count": 619,
   "metadata": {
    "collapsed": true
   },
   "outputs": [],
   "source": [
    "accounting_neeq_long1.loc[(accounting_neeq_long1[\"证券代码\"] == \"430746.OC\") &\n",
    "                          (accounting_neeq_long1[\"年度\"] == 2013), [\"实际披露日期\", \"报告期\"]] =\\\n",
    "[pandas.datetime(2014, 6, 5), pandas.datetime(2013, 12, 31)]"
   ]
  },
  {
   "cell_type": "code",
   "execution_count": 620,
   "metadata": {
    "collapsed": true
   },
   "outputs": [],
   "source": [
    "accounting_neeq_long1.loc[(accounting_neeq_long1[\"证券代码\"] == \"430747.OC\") &\n",
    "                          (accounting_neeq_long1[\"年度\"] == 2013), [\"实际披露日期\", \"报告期\"]] =\\\n",
    "[pandas.datetime(2014, 5, 20), pandas.datetime(2013, 12, 31)]"
   ]
  },
  {
   "cell_type": "code",
   "execution_count": 621,
   "metadata": {
    "collapsed": true
   },
   "outputs": [],
   "source": [
    "accounting_neeq_long1.loc[(accounting_neeq_long1[\"证券代码\"] == \"430749.OC\") &\n",
    "                          (accounting_neeq_long1[\"年度\"] == 2013), [\"实际披露日期\", \"报告期\"]] =\\\n",
    "[pandas.datetime(2014, 5, 15), pandas.datetime(2013, 12, 31)]"
   ]
  },
  {
   "cell_type": "code",
   "execution_count": 622,
   "metadata": {
    "collapsed": true
   },
   "outputs": [],
   "source": [
    "accounting_neeq_long1.loc[(accounting_neeq_long1[\"证券代码\"] == \"430750.OC\") &\n",
    "                          (accounting_neeq_long1[\"年度\"] == 2013), [\"实际披露日期\", \"报告期\"]] =\\\n",
    "[pandas.datetime(2014, 6, 9), pandas.datetime(2013, 12, 31)]"
   ]
  },
  {
   "cell_type": "code",
   "execution_count": 623,
   "metadata": {
    "collapsed": true
   },
   "outputs": [],
   "source": [
    "accounting_neeq_long1.loc[(accounting_neeq_long1[\"证券代码\"] == \"430751.OC\") &\n",
    "                          (accounting_neeq_long1[\"年度\"] == 2013), [\"实际披露日期\", \"报告期\"]] =\\\n",
    "[pandas.datetime(2014, 5, 30), pandas.datetime(2013, 12, 31)]"
   ]
  },
  {
   "cell_type": "code",
   "execution_count": 624,
   "metadata": {
    "collapsed": true
   },
   "outputs": [],
   "source": [
    "accounting_neeq_long1.loc[(accounting_neeq_long1[\"证券代码\"] == \"430752.OC\") &\n",
    "                          (accounting_neeq_long1[\"年度\"] == 2013), [\"实际披露日期\", \"报告期\"]] =\\\n",
    "[pandas.datetime(2014, 5, 30), pandas.datetime(2013, 12, 31)]"
   ]
  },
  {
   "cell_type": "code",
   "execution_count": 625,
   "metadata": {
    "collapsed": true
   },
   "outputs": [],
   "source": [
    "accounting_neeq_long1.loc[(accounting_neeq_long1[\"证券代码\"] == \"430754.OC\") &\n",
    "                          (accounting_neeq_long1[\"年度\"] == 2013), [\"实际披露日期\", \"报告期\"]] =\\\n",
    "[pandas.datetime(2014, 6, 9), pandas.datetime(2013, 12, 31)]"
   ]
  },
  {
   "cell_type": "code",
   "execution_count": 626,
   "metadata": {
    "collapsed": true
   },
   "outputs": [],
   "source": [
    "accounting_neeq_long1.loc[(accounting_neeq_long1[\"证券代码\"] == \"430755.OC\") &\n",
    "                          (accounting_neeq_long1[\"年度\"] == 2013), [\"实际披露日期\", \"报告期\"]] =\\\n",
    "[pandas.datetime(2014, 6, 24), pandas.datetime(2013, 12, 31)]"
   ]
  },
  {
   "cell_type": "code",
   "execution_count": 627,
   "metadata": {
    "collapsed": true
   },
   "outputs": [],
   "source": [
    "accounting_neeq_long1.loc[(accounting_neeq_long1[\"证券代码\"] == \"430757.OC\") &\n",
    "                          (accounting_neeq_long1[\"年度\"] == 2013), [\"实际披露日期\", \"报告期\"]] =\\\n",
    "[pandas.datetime(2014, 5, 30), pandas.datetime(2013, 12, 31)]"
   ]
  },
  {
   "cell_type": "code",
   "execution_count": 628,
   "metadata": {
    "collapsed": true
   },
   "outputs": [],
   "source": [
    "accounting_neeq_long1.loc[(accounting_neeq_long1[\"证券代码\"] == \"430758.OC\") &\n",
    "                          (accounting_neeq_long1[\"年度\"] == 2013), [\"实际披露日期\", \"报告期\"]] =\\\n",
    "[pandas.datetime(2014, 6, 6), pandas.datetime(2013, 12, 31)]"
   ]
  },
  {
   "cell_type": "code",
   "execution_count": 629,
   "metadata": {
    "collapsed": true
   },
   "outputs": [],
   "source": [
    "accounting_neeq_long1.loc[(accounting_neeq_long1[\"证券代码\"] == \"430759.OC\") &\n",
    "                          (accounting_neeq_long1[\"年度\"] == 2013), [\"实际披露日期\", \"报告期\"]] =\\\n",
    "[pandas.datetime(2014, 6, 12), pandas.datetime(2013, 12, 31)]"
   ]
  },
  {
   "cell_type": "code",
   "execution_count": 630,
   "metadata": {
    "collapsed": true
   },
   "outputs": [],
   "source": [
    "accounting_neeq_long1.loc[(accounting_neeq_long1[\"证券代码\"] == \"430760.OC\") &\n",
    "                          (accounting_neeq_long1[\"年度\"] == 2013), [\"实际披露日期\", \"报告期\"]] =\\\n",
    "[pandas.datetime(2014, 6, 11), pandas.datetime(2013, 12, 31)]"
   ]
  },
  {
   "cell_type": "code",
   "execution_count": 631,
   "metadata": {
    "collapsed": true
   },
   "outputs": [],
   "source": [
    "accounting_neeq_long1.loc[(accounting_neeq_long1[\"证券代码\"] == \"430761.OC\") &\n",
    "                          (accounting_neeq_long1[\"年度\"] == 2013), [\"实际披露日期\", \"报告期\"]] =\\\n",
    "[pandas.datetime(2014, 6, 11), pandas.datetime(2013, 12, 31)]"
   ]
  },
  {
   "cell_type": "code",
   "execution_count": 632,
   "metadata": {
    "collapsed": true
   },
   "outputs": [],
   "source": [
    "accounting_neeq_long1.loc[(accounting_neeq_long1[\"证券代码\"] == \"430763.OC\") &\n",
    "                          (accounting_neeq_long1[\"年度\"] == 2013), [\"实际披露日期\", \"报告期\"]] =\\\n",
    "[pandas.datetime(2014, 6, 3), pandas.datetime(2013, 12, 31)]"
   ]
  },
  {
   "cell_type": "code",
   "execution_count": 633,
   "metadata": {
    "collapsed": true
   },
   "outputs": [],
   "source": [
    "accounting_neeq_long1.loc[(accounting_neeq_long1[\"证券代码\"] == \"830773.OC\") &\n",
    "                          (accounting_neeq_long1[\"年度\"] == 2013), [\"实际披露日期\", \"报告期\"]] =\\\n",
    "[pandas.datetime(2014, 6, 17), pandas.datetime(2013, 12, 31)]"
   ]
  },
  {
   "cell_type": "code",
   "execution_count": 634,
   "metadata": {
    "collapsed": true
   },
   "outputs": [],
   "source": [
    "accounting_neeq_long1.loc[(accounting_neeq_long1[\"证券代码\"] == \"830775.OC\") &\n",
    "                          (accounting_neeq_long1[\"年度\"] == 2013), [\"实际披露日期\", \"报告期\"]] =\\\n",
    "[pandas.datetime(2014, 6, 16), pandas.datetime(2013, 12, 31)]"
   ]
  },
  {
   "cell_type": "code",
   "execution_count": 635,
   "metadata": {
    "collapsed": true
   },
   "outputs": [],
   "source": [
    "accounting_neeq_long1.loc[(accounting_neeq_long1[\"证券代码\"] == \"830778.OC\") &\n",
    "                          (accounting_neeq_long1[\"年度\"] == 2013), [\"实际披露日期\", \"报告期\"]] =\\\n",
    "[pandas.datetime(2014, 6, 3), pandas.datetime(2013, 12, 31)]"
   ]
  },
  {
   "cell_type": "code",
   "execution_count": 636,
   "metadata": {
    "collapsed": true
   },
   "outputs": [],
   "source": [
    "accounting_neeq_long1.loc[(accounting_neeq_long1[\"证券代码\"] == \"830781.OC\") &\n",
    "                          (accounting_neeq_long1[\"年度\"] == 2013), [\"实际披露日期\", \"报告期\"]] =\\\n",
    "[pandas.datetime(2014, 9, 25), pandas.datetime(2013, 12, 31)]"
   ]
  },
  {
   "cell_type": "code",
   "execution_count": 639,
   "metadata": {
    "collapsed": false
   },
   "outputs": [],
   "source": [
    "file = \"FinancialStatementDisclosingDateUpdated.csv\"\n",
    "accounting_neeq_long1.loc[(accounting_neeq_long1[\"证券代码\"].isin(pandas.Series(numpy.concatenate((StkcdChangedYear, StkcdChangedYear1)), \n",
    "                                                                            name=\"证券代码\"))) & \n",
    "                          (accounting_neeq_long1[\"relativeYear\"] == 0)].to_csv(\"../data/\" + file, \n",
    "                                                                              index=False)"
   ]
  },
  {
   "cell_type": "code",
   "execution_count": null,
   "metadata": {
    "collapsed": true
   },
   "outputs": [],
   "source": [
    "accounting_neeq_long1.to_csv(\"../data/NEEQAccountingData.csv\", index=False)"
   ]
  },
  {
   "cell_type": "code",
   "execution_count": null,
   "metadata": {
    "collapsed": true
   },
   "outputs": [],
   "source": [
    "items = [\"资产总计\", \"营业收入\", \"归属母公司股东的净利润\", \"经营活动产生的现金流量净额\", \"固定资产\"]\n",
    "accounting_neeq_long1[item].isnull().all(axis=1)"
   ]
  }
 ],
 "metadata": {
  "kernelspec": {
   "display_name": "Python 3",
   "language": "python",
   "name": "python3"
  },
  "language_info": {
   "codemirror_mode": {
    "name": "ipython",
    "version": 3
   },
   "file_extension": ".py",
   "mimetype": "text/x-python",
   "name": "python",
   "nbconvert_exporter": "python",
   "pygments_lexer": "ipython3",
   "version": "3.5.1"
  }
 },
 "nbformat": 4,
 "nbformat_minor": 0
}
