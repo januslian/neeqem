{
 "cells": [
  {
   "cell_type": "code",
   "execution_count": 1,
   "metadata": {
    "collapsed": true
   },
   "outputs": [],
   "source": [
    "%matplotlib inline\n",
    "import numpy \n",
    "import pandas\n",
    "import matplotlib.pyplot as plt\n",
    "import seaborn as sns\n",
    "import re"
   ]
  },
  {
   "cell_type": "code",
   "execution_count": 2,
   "metadata": {
    "collapsed": false
   },
   "outputs": [],
   "source": [
    "accounting_neeq = pandas.read_excel(\"../data/raw/accounting2015.xlsx\")\n",
    "accounting_cf_neeq = pandas.read_excel(\"../data/raw/accounting2015_cf.xlsx\")\n",
    "accounting_neeq = accounting_neeq[:-2]\n",
    "accounting_cf_neeq = accounting_cf_neeq[:-2]\n",
    "#833822"
   ]
  },
  {
   "cell_type": "code",
   "execution_count": 3,
   "metadata": {
    "collapsed": true
   },
   "outputs": [],
   "source": [
    "accounting_neeq = pandas.merge(accounting_neeq, accounting_cf_neeq, on=[\"证券代码\", \"证券简称\"])"
   ]
  },
  {
   "cell_type": "code",
   "execution_count": 4,
   "metadata": {
    "collapsed": false
   },
   "outputs": [],
   "source": [
    "columns = [\"资产总计\", \"归属母公司股东的权益\", \"营业收入\", \"营业成本\", \"销售费用\", \n",
    "           \"管理费用\", \"财务费用\", \"归属母公司股东的净利润\", \"非经常性损益\", \"扣除非经常性损益后的净利\", \n",
    "          \"经营活动产生的现金流量净额\", \"应收账款\", \"固定资产\", \"ROA\", \"折旧\", \"长期待摊费用摊销\",\n",
    "           \"存货的减少\", \"经营性应收项目的减少\", \"经营性应付项目的增加\"]\n",
    "\n",
    "year = numpy.arange(2003, 2016)\n",
    "\n",
    "column_names = [item + str(iyear) for item in columns for iyear in year]"
   ]
  },
  {
   "cell_type": "code",
   "execution_count": 5,
   "metadata": {
    "collapsed": false
   },
   "outputs": [],
   "source": [
    "accounting_neeq.columns = [\"证券代码\", \"证券简称\"] + column_names"
   ]
  },
  {
   "cell_type": "code",
   "execution_count": 6,
   "metadata": {
    "collapsed": false
   },
   "outputs": [],
   "source": [
    "accounting_neeq_long = pandas.wide_to_long(accounting_neeq, stubnames=columns, i=\"证券代码\", j=\"年度\")"
   ]
  },
  {
   "cell_type": "code",
   "execution_count": 7,
   "metadata": {
    "collapsed": true
   },
   "outputs": [],
   "source": [
    "neeq_sample = pandas.read_csv(\"../data/NEEQ_sample.csv\", parse_dates=[7, 8], index_col=13)"
   ]
  },
  {
   "cell_type": "code",
   "execution_count": 8,
   "metadata": {
    "collapsed": true
   },
   "outputs": [],
   "source": [
    "neeq_sample = neeq_sample[[\"挂牌日期\", \"主办券商\", \"所属园区\", \"所属证监会行业\", \"摘牌日期\"]]\n",
    "neeq_sample = neeq_sample.sort_index()\n",
    "neeq_sample[\"挂牌年度\"] = neeq_sample[\"挂牌日期\"].apply(lambda x: x.year)\n",
    "neeq_sample[\"挂牌月份\"] = neeq_sample[\"挂牌日期\"].apply(lambda x: x.month)"
   ]
  },
  {
   "cell_type": "code",
   "execution_count": 9,
   "metadata": {
    "collapsed": false
   },
   "outputs": [],
   "source": [
    "accounting_neeq_long = pandas.merge(neeq_sample, accounting_neeq_long, \n",
    "                                    how=\"inner\", left_index=True, \n",
    "                                    right_index=True)"
   ]
  },
  {
   "cell_type": "code",
   "execution_count": 10,
   "metadata": {
    "collapsed": false,
    "scrolled": true
   },
   "outputs": [],
   "source": [
    "accounting_neeq_long.reset_index(inplace=True)"
   ]
  },
  {
   "cell_type": "code",
   "execution_count": 11,
   "metadata": {
    "collapsed": false
   },
   "outputs": [
    {
     "data": {
      "text/html": [
       "<div>\n",
       "<table border=\"1\" class=\"dataframe\">\n",
       "  <thead>\n",
       "    <tr style=\"text-align: right;\">\n",
       "      <th></th>\n",
       "      <th>证券代码</th>\n",
       "      <th>年度</th>\n",
       "      <th>挂牌日期</th>\n",
       "      <th>主办券商</th>\n",
       "      <th>所属园区</th>\n",
       "      <th>所属证监会行业</th>\n",
       "      <th>摘牌日期</th>\n",
       "      <th>挂牌年度</th>\n",
       "      <th>挂牌月份</th>\n",
       "      <th>证券简称</th>\n",
       "      <th>...</th>\n",
       "      <th>扣除非经常性损益后的净利</th>\n",
       "      <th>经营活动产生的现金流量净额</th>\n",
       "      <th>应收账款</th>\n",
       "      <th>固定资产</th>\n",
       "      <th>ROA</th>\n",
       "      <th>折旧</th>\n",
       "      <th>长期待摊费用摊销</th>\n",
       "      <th>存货的减少</th>\n",
       "      <th>经营性应收项目的减少</th>\n",
       "      <th>经营性应付项目的增加</th>\n",
       "    </tr>\n",
       "  </thead>\n",
       "  <tbody>\n",
       "    <tr>\n",
       "      <th>0</th>\n",
       "      <td>430001.OC</td>\n",
       "      <td>2003</td>\n",
       "      <td>2006-01-18</td>\n",
       "      <td>申银万国证券股份有限公司</td>\n",
       "      <td>中关村科技园区非上市股份有限公司</td>\n",
       "      <td>软件与服务</td>\n",
       "      <td>2010-12-06</td>\n",
       "      <td>2006</td>\n",
       "      <td>1</td>\n",
       "      <td>世纪瑞尔(退市)</td>\n",
       "      <td>...</td>\n",
       "      <td>NaN</td>\n",
       "      <td>10843347.75</td>\n",
       "      <td>27121681.98</td>\n",
       "      <td>29395524.57</td>\n",
       "      <td>NaN</td>\n",
       "      <td>943428.0</td>\n",
       "      <td>610643.0</td>\n",
       "      <td>-2692313.1</td>\n",
       "      <td>-13831571.1</td>\n",
       "      <td>13440729.88</td>\n",
       "    </tr>\n",
       "    <tr>\n",
       "      <th>1</th>\n",
       "      <td>430002.OC</td>\n",
       "      <td>2003</td>\n",
       "      <td>2006-01-23</td>\n",
       "      <td>申万宏源证券有限公司</td>\n",
       "      <td>中关村科技园区</td>\n",
       "      <td>软件和信息技术服务业</td>\n",
       "      <td>NaT</td>\n",
       "      <td>2006</td>\n",
       "      <td>1</td>\n",
       "      <td>中科软</td>\n",
       "      <td>...</td>\n",
       "      <td>6039888.09</td>\n",
       "      <td>NaN</td>\n",
       "      <td>19541521.43</td>\n",
       "      <td>6683984.09</td>\n",
       "      <td>NaN</td>\n",
       "      <td>NaN</td>\n",
       "      <td>NaN</td>\n",
       "      <td>NaN</td>\n",
       "      <td>NaN</td>\n",
       "      <td>NaN</td>\n",
       "    </tr>\n",
       "    <tr>\n",
       "      <th>2</th>\n",
       "      <td>430003.OC</td>\n",
       "      <td>2003</td>\n",
       "      <td>2006-03-31</td>\n",
       "      <td>国泰君安证券股份有限公司</td>\n",
       "      <td>中关村科技园区</td>\n",
       "      <td>通用设备制造业</td>\n",
       "      <td>NaT</td>\n",
       "      <td>2006</td>\n",
       "      <td>3</td>\n",
       "      <td>北京时代</td>\n",
       "      <td>...</td>\n",
       "      <td>NaN</td>\n",
       "      <td>NaN</td>\n",
       "      <td>8586266.12</td>\n",
       "      <td>51466641.87</td>\n",
       "      <td>NaN</td>\n",
       "      <td>NaN</td>\n",
       "      <td>NaN</td>\n",
       "      <td>NaN</td>\n",
       "      <td>NaN</td>\n",
       "      <td>NaN</td>\n",
       "    </tr>\n",
       "    <tr>\n",
       "      <th>3</th>\n",
       "      <td>430004.OC</td>\n",
       "      <td>2003</td>\n",
       "      <td>2006-06-07</td>\n",
       "      <td>广发证券股份有限公司</td>\n",
       "      <td>中关村科技园区</td>\n",
       "      <td>专用设备制造业</td>\n",
       "      <td>NaT</td>\n",
       "      <td>2006</td>\n",
       "      <td>6</td>\n",
       "      <td>绿创环保</td>\n",
       "      <td>...</td>\n",
       "      <td>NaN</td>\n",
       "      <td>NaN</td>\n",
       "      <td>NaN</td>\n",
       "      <td>NaN</td>\n",
       "      <td>NaN</td>\n",
       "      <td>NaN</td>\n",
       "      <td>NaN</td>\n",
       "      <td>NaN</td>\n",
       "      <td>NaN</td>\n",
       "      <td>NaN</td>\n",
       "    </tr>\n",
       "    <tr>\n",
       "      <th>4</th>\n",
       "      <td>430005.OC</td>\n",
       "      <td>2003</td>\n",
       "      <td>2006-07-28</td>\n",
       "      <td>广发证券股份有限公司</td>\n",
       "      <td>中关村科技园区</td>\n",
       "      <td>医药制造业</td>\n",
       "      <td>NaT</td>\n",
       "      <td>2006</td>\n",
       "      <td>7</td>\n",
       "      <td>原子高科</td>\n",
       "      <td>...</td>\n",
       "      <td>NaN</td>\n",
       "      <td>NaN</td>\n",
       "      <td>NaN</td>\n",
       "      <td>NaN</td>\n",
       "      <td>NaN</td>\n",
       "      <td>NaN</td>\n",
       "      <td>NaN</td>\n",
       "      <td>NaN</td>\n",
       "      <td>NaN</td>\n",
       "      <td>NaN</td>\n",
       "    </tr>\n",
       "  </tbody>\n",
       "</table>\n",
       "<p>5 rows × 29 columns</p>\n",
       "</div>"
      ],
      "text/plain": [
       "        证券代码    年度       挂牌日期          主办券商              所属园区     所属证监会行业  \\\n",
       "0  430001.OC  2003 2006-01-18  申银万国证券股份有限公司  中关村科技园区非上市股份有限公司       软件与服务   \n",
       "1  430002.OC  2003 2006-01-23    申万宏源证券有限公司           中关村科技园区  软件和信息技术服务业   \n",
       "2  430003.OC  2003 2006-03-31  国泰君安证券股份有限公司           中关村科技园区     通用设备制造业   \n",
       "3  430004.OC  2003 2006-06-07    广发证券股份有限公司           中关村科技园区     专用设备制造业   \n",
       "4  430005.OC  2003 2006-07-28    广发证券股份有限公司           中关村科技园区       医药制造业   \n",
       "\n",
       "        摘牌日期  挂牌年度  挂牌月份      证券简称     ...       扣除非经常性损益后的净利  经营活动产生的现金流量净额  \\\n",
       "0 2010-12-06  2006     1  世纪瑞尔(退市)     ...                NaN    10843347.75   \n",
       "1        NaT  2006     1       中科软     ...         6039888.09            NaN   \n",
       "2        NaT  2006     3      北京时代     ...                NaN            NaN   \n",
       "3        NaT  2006     6      绿创环保     ...                NaN            NaN   \n",
       "4        NaT  2006     7      原子高科     ...                NaN            NaN   \n",
       "\n",
       "          应收账款         固定资产  ROA        折旧  长期待摊费用摊销      存货的减少  经营性应收项目的减少  \\\n",
       "0  27121681.98  29395524.57  NaN  943428.0  610643.0 -2692313.1 -13831571.1   \n",
       "1  19541521.43   6683984.09  NaN       NaN       NaN        NaN         NaN   \n",
       "2   8586266.12  51466641.87  NaN       NaN       NaN        NaN         NaN   \n",
       "3          NaN          NaN  NaN       NaN       NaN        NaN         NaN   \n",
       "4          NaN          NaN  NaN       NaN       NaN        NaN         NaN   \n",
       "\n",
       "    经营性应付项目的增加  \n",
       "0  13440729.88  \n",
       "1          NaN  \n",
       "2          NaN  \n",
       "3          NaN  \n",
       "4          NaN  \n",
       "\n",
       "[5 rows x 29 columns]"
      ]
     },
     "execution_count": 11,
     "metadata": {},
     "output_type": "execute_result"
    }
   ],
   "source": [
    "accounting_neeq_long.head()"
   ]
  },
  {
   "cell_type": "code",
   "execution_count": 12,
   "metadata": {
    "collapsed": false
   },
   "outputs": [],
   "source": [
    "files = !ls ../data/raw/\n",
    "files_fin_state = []\n",
    "for file in files:\n",
    "    match = re.match(\"财报披露日\", file)\n",
    "    if match is not None:\n",
    "        files_fin_state.append(file)"
   ]
  },
  {
   "cell_type": "code",
   "execution_count": 13,
   "metadata": {
    "collapsed": false
   },
   "outputs": [],
   "source": [
    "fin_report_data = []\n",
    "for item in files_fin_state:\n",
    "    data_dir = \"../data/raw/\" + item\n",
    "    data = pandas.read_excel(data_dir)\n",
    "    data = data[:-2]\n",
    "    fin_report_data.append(data)"
   ]
  },
  {
   "cell_type": "code",
   "execution_count": 14,
   "metadata": {
    "collapsed": false
   },
   "outputs": [],
   "source": [
    "financial_reports = pandas.concat(fin_report_data)"
   ]
  },
  {
   "cell_type": "code",
   "execution_count": 15,
   "metadata": {
    "collapsed": false
   },
   "outputs": [],
   "source": [
    "financial_reports = financial_reports[[\"证券代码\", \"实际披露日期\", \"报告期\"]]\n",
    "financial_reports[\"年度\"] = financial_reports[\"报告期\"].apply(lambda x: x.year)"
   ]
  },
  {
   "cell_type": "code",
   "execution_count": 16,
   "metadata": {
    "collapsed": false
   },
   "outputs": [
    {
     "data": {
      "text/html": [
       "<div>\n",
       "<table border=\"1\" class=\"dataframe\">\n",
       "  <thead>\n",
       "    <tr style=\"text-align: right;\">\n",
       "      <th></th>\n",
       "      <th>证券代码</th>\n",
       "      <th>实际披露日期</th>\n",
       "      <th>报告期</th>\n",
       "      <th>年度</th>\n",
       "    </tr>\n",
       "  </thead>\n",
       "  <tbody>\n",
       "    <tr>\n",
       "      <th>0</th>\n",
       "      <td>400028.OC</td>\n",
       "      <td>2004-05-19</td>\n",
       "      <td>2003-12-31</td>\n",
       "      <td>2003</td>\n",
       "    </tr>\n",
       "    <tr>\n",
       "      <th>1</th>\n",
       "      <td>400029.OC</td>\n",
       "      <td>2004-04-22</td>\n",
       "      <td>2003-12-31</td>\n",
       "      <td>2003</td>\n",
       "    </tr>\n",
       "    <tr>\n",
       "      <th>2</th>\n",
       "      <td>400030.OC</td>\n",
       "      <td>2004-04-17</td>\n",
       "      <td>2003-12-31</td>\n",
       "      <td>2003</td>\n",
       "    </tr>\n",
       "    <tr>\n",
       "      <th>3</th>\n",
       "      <td>400031.OC</td>\n",
       "      <td>2004-03-19</td>\n",
       "      <td>2003-12-31</td>\n",
       "      <td>2003</td>\n",
       "    </tr>\n",
       "    <tr>\n",
       "      <th>4</th>\n",
       "      <td>400032.OC</td>\n",
       "      <td>2004-04-29</td>\n",
       "      <td>2003-12-31</td>\n",
       "      <td>2003</td>\n",
       "    </tr>\n",
       "  </tbody>\n",
       "</table>\n",
       "</div>"
      ],
      "text/plain": [
       "        证券代码     实际披露日期        报告期    年度\n",
       "0  400028.OC 2004-05-19 2003-12-31  2003\n",
       "1  400029.OC 2004-04-22 2003-12-31  2003\n",
       "2  400030.OC 2004-04-17 2003-12-31  2003\n",
       "3  400031.OC 2004-03-19 2003-12-31  2003\n",
       "4  400032.OC 2004-04-29 2003-12-31  2003"
      ]
     },
     "execution_count": 16,
     "metadata": {},
     "output_type": "execute_result"
    }
   ],
   "source": [
    "financial_reports.head()"
   ]
  },
  {
   "cell_type": "code",
   "execution_count": 17,
   "metadata": {
    "collapsed": false
   },
   "outputs": [],
   "source": [
    "accounting_neeq_long = pandas.merge(accounting_neeq_long, financial_reports, \n",
    "                                    how=\"left\", on=[\"证券代码\", \"年度\"])"
   ]
  },
  {
   "cell_type": "code",
   "execution_count": 18,
   "metadata": {
    "collapsed": false
   },
   "outputs": [
    {
     "data": {
      "text/plain": [
       "证券代码                       430001.OC\n",
       "年度                              2003\n",
       "挂牌日期             2006-01-18 00:00:00\n",
       "主办券商                    申银万国证券股份有限公司\n",
       "所属园区                中关村科技园区非上市股份有限公司\n",
       "所属证监会行业                        软件与服务\n",
       "摘牌日期             2010-12-06 00:00:00\n",
       "挂牌年度                            2006\n",
       "挂牌月份                               1\n",
       "证券简称                        世纪瑞尔(退市)\n",
       "资产总计                     1.03696e+08\n",
       "归属母公司股东的权益               7.06015e+07\n",
       "营业收入                     4.02414e+07\n",
       "营业成本                     1.35694e+07\n",
       "销售费用                     7.71494e+06\n",
       "管理费用                     9.77092e+06\n",
       "财务费用                          235899\n",
       "归属母公司股东的净利润               1.0645e+07\n",
       "非经常性损益                           NaN\n",
       "扣除非经常性损益后的净利                     NaN\n",
       "经营活动产生的现金流量净额            1.08433e+07\n",
       "应收账款                     2.71217e+07\n",
       "固定资产                     2.93955e+07\n",
       "ROA                              NaN\n",
       "折旧                            943428\n",
       "长期待摊费用摊销                      610643\n",
       "存货的减少                   -2.69231e+06\n",
       "经营性应收项目的减少              -1.38316e+07\n",
       "经营性应付项目的增加               1.34407e+07\n",
       "实际披露日期                           NaT\n",
       "报告期                              NaT\n",
       "Name: 0, dtype: object"
      ]
     },
     "execution_count": 18,
     "metadata": {},
     "output_type": "execute_result"
    }
   ],
   "source": [
    "accounting_neeq_long.iloc[0]"
   ]
  },
  {
   "cell_type": "code",
   "execution_count": 19,
   "metadata": {
    "collapsed": false
   },
   "outputs": [],
   "source": [
    "accounting_neeq_long[\"挂牌前后\"] = numpy.nan"
   ]
  },
  {
   "cell_type": "code",
   "execution_count": 20,
   "metadata": {
    "collapsed": false
   },
   "outputs": [],
   "source": [
    "accounting_neeq_long.loc[(accounting_neeq_long[\"年度\"] >= accounting_neeq_long[\"挂牌年度\"]), \"挂牌前后\"] = \"挂牌后\"\n",
    "accounting_neeq_long.loc[(accounting_neeq_long[\"年度\"] == accounting_neeq_long[\"挂牌年度\"] - 1) &\n",
    "                         (accounting_neeq_long[\"实际披露日期\"] > accounting_neeq_long[\"挂牌日期\"]), \"挂牌前后\"] = \"挂牌后\"\n",
    "\n",
    "accounting_neeq_long.loc[(accounting_neeq_long[\"年度\"] <= accounting_neeq_long[\"挂牌年度\"] - 2), \"挂牌前后\"] = \"挂牌前\"\n",
    "accounting_neeq_long.loc[(accounting_neeq_long[\"年度\"] == accounting_neeq_long[\"挂牌年度\"] - 1) &\n",
    "                         (accounting_neeq_long[\"实际披露日期\"] <= accounting_neeq_long[\"挂牌日期\"]), \"挂牌前后\"] = \"挂牌前\""
   ]
  },
  {
   "cell_type": "code",
   "execution_count": 21,
   "metadata": {
    "collapsed": false
   },
   "outputs": [],
   "source": [
    "drops = accounting_neeq_long.loc[(accounting_neeq_long[\"年度\"] < accounting_neeq_long[\"挂牌年度\"] - 1) &\n",
    "                                 (accounting_neeq_long.iloc[:, 10:28].isnull().all(axis=1))].index"
   ]
  },
  {
   "cell_type": "code",
   "execution_count": 22,
   "metadata": {
    "collapsed": false
   },
   "outputs": [],
   "source": [
    "accounting_neeq_long = accounting_neeq_long.drop(drops)"
   ]
  },
  {
   "cell_type": "code",
   "execution_count": 23,
   "metadata": {
    "collapsed": false
   },
   "outputs": [],
   "source": [
    "accounting_neeq_long.loc[(accounting_neeq_long[\"年度\"] == accounting_neeq_long[\"挂牌年度\"] - 1) &\n",
    "                         (accounting_neeq_long[\"挂牌月份\"] < 5), \"挂牌前后\"] = \"挂牌后\"\n",
    "\n",
    "accounting_neeq_long.loc[(accounting_neeq_long[\"年度\"] == accounting_neeq_long[\"挂牌年度\"] - 1) &\n",
    "                         (accounting_neeq_long[\"挂牌月份\"] >= 5) & \n",
    "                         (~accounting_neeq_long.iloc[:, 10:28].isnull().all(axis=1)), \"挂牌前后\"] = \"挂牌前\""
   ]
  },
  {
   "cell_type": "code",
   "execution_count": 24,
   "metadata": {
    "collapsed": false
   },
   "outputs": [],
   "source": [
    "accounting_neeq_long.loc[(accounting_neeq_long[\"证券代码\"] == \"832668.OC\"), \"挂牌前后\"] = \"挂牌后\""
   ]
  },
  {
   "cell_type": "code",
   "execution_count": 25,
   "metadata": {
    "collapsed": false
   },
   "outputs": [],
   "source": [
    "accounting_groups = accounting_neeq_long.groupby(\"证券代码\")"
   ]
  },
  {
   "cell_type": "code",
   "execution_count": 26,
   "metadata": {
    "collapsed": true
   },
   "outputs": [],
   "source": [
    "def relative_index(data):\n",
    "    data = data.sort_values(\"年度\")\n",
    "    len1 = len(data[data[\"挂牌前后\"] == \"挂牌前\"])\n",
    "    len2 = len(data[data[\"挂牌前后\"] == \"挂牌后\"])\n",
    "    year_pre = numpy.arange(start=-1 * len1, stop=0, step=1)\n",
    "    year_post = numpy.arange(start=0, stop=len2, step=1)\n",
    "    data[\"relativeYear\"] = numpy.concatenate((year_pre, year_post))\n",
    "    return data"
   ]
  },
  {
   "cell_type": "code",
   "execution_count": 27,
   "metadata": {
    "collapsed": false
   },
   "outputs": [],
   "source": [
    "accounting_neeq_long1 = accounting_groups.apply(relative_index)"
   ]
  },
  {
   "cell_type": "code",
   "execution_count": 28,
   "metadata": {
    "collapsed": false
   },
   "outputs": [],
   "source": [
    "accounting_neeq_long1 = accounting_neeq_long1.reset_index(drop=True)"
   ]
  },
  {
   "cell_type": "code",
   "execution_count": 151,
   "metadata": {
    "collapsed": false,
    "scrolled": true
   },
   "outputs": [],
   "source": [
    "accounting_neeq_long1[accounting_neeq_long1[\"relativeYear\"] == -3].to_csv('../data/tmp2.csv', index=False)"
   ]
  },
  {
   "cell_type": "code",
   "execution_count": null,
   "metadata": {
    "collapsed": false
   },
   "outputs": [],
   "source": [
    "accounting_neeq_long1.loc[accounting_neeq_long1[\"relativeYear\"] == -3][~(accounting_neeq_long1.loc[accounting_neeq_long1[\"relativeYear\"] == -3, \"证券代码\"].isin(\n",
    "accounting_neeq_long1.loc[accounting_neeq_long1[\"relativeYear\"] == -4, \"证券代码\"]))].to_csv(\"../data/tmp3.csv\", index=False)"
   ]
  },
  {
   "cell_type": "code",
   "execution_count": 227,
   "metadata": {
    "collapsed": false
   },
   "outputs": [
    {
     "data": {
      "text/html": [
       "<div>\n",
       "<table border=\"1\" class=\"dataframe\">\n",
       "  <thead>\n",
       "    <tr style=\"text-align: right;\">\n",
       "      <th></th>\n",
       "      <th>证券代码</th>\n",
       "      <th>年度</th>\n",
       "      <th>挂牌日期</th>\n",
       "      <th>主办券商</th>\n",
       "      <th>所属园区</th>\n",
       "      <th>所属证监会行业</th>\n",
       "      <th>摘牌日期</th>\n",
       "      <th>挂牌年度</th>\n",
       "      <th>挂牌月份</th>\n",
       "      <th>证券简称</th>\n",
       "      <th>...</th>\n",
       "      <th>ROA</th>\n",
       "      <th>折旧</th>\n",
       "      <th>长期待摊费用摊销</th>\n",
       "      <th>存货的减少</th>\n",
       "      <th>经营性应收项目的减少</th>\n",
       "      <th>经营性应付项目的增加</th>\n",
       "      <th>实际披露日期</th>\n",
       "      <th>报告期</th>\n",
       "      <th>挂牌前后</th>\n",
       "      <th>relativeYear</th>\n",
       "    </tr>\n",
       "  </thead>\n",
       "  <tbody>\n",
       "    <tr>\n",
       "      <th>4533</th>\n",
       "      <td>830781.OC</td>\n",
       "      <td>2011</td>\n",
       "      <td>2014-06-04</td>\n",
       "      <td>东兴证券股份有限公司</td>\n",
       "      <td>非高新产业区</td>\n",
       "      <td>商务服务业</td>\n",
       "      <td>NaT</td>\n",
       "      <td>2014</td>\n",
       "      <td>6</td>\n",
       "      <td>精鹰传媒</td>\n",
       "      <td>...</td>\n",
       "      <td>-4.0250</td>\n",
       "      <td>187122.60</td>\n",
       "      <td>31666.67</td>\n",
       "      <td>NaN</td>\n",
       "      <td>-10487.00</td>\n",
       "      <td>1523634.08</td>\n",
       "      <td>NaT</td>\n",
       "      <td>NaT</td>\n",
       "      <td>挂牌前</td>\n",
       "      <td>-2</td>\n",
       "    </tr>\n",
       "    <tr>\n",
       "      <th>4534</th>\n",
       "      <td>830781.OC</td>\n",
       "      <td>2012</td>\n",
       "      <td>2014-06-04</td>\n",
       "      <td>东兴证券股份有限公司</td>\n",
       "      <td>非高新产业区</td>\n",
       "      <td>商务服务业</td>\n",
       "      <td>NaT</td>\n",
       "      <td>2014</td>\n",
       "      <td>6</td>\n",
       "      <td>精鹰传媒</td>\n",
       "      <td>...</td>\n",
       "      <td>1.0153</td>\n",
       "      <td>178085.88</td>\n",
       "      <td>76000.00</td>\n",
       "      <td>NaN</td>\n",
       "      <td>-617068.85</td>\n",
       "      <td>-950727.61</td>\n",
       "      <td>NaT</td>\n",
       "      <td>NaT</td>\n",
       "      <td>挂牌前</td>\n",
       "      <td>-1</td>\n",
       "    </tr>\n",
       "    <tr>\n",
       "      <th>4535</th>\n",
       "      <td>830781.OC</td>\n",
       "      <td>2013</td>\n",
       "      <td>2014-06-04</td>\n",
       "      <td>东兴证券股份有限公司</td>\n",
       "      <td>非高新产业区</td>\n",
       "      <td>商务服务业</td>\n",
       "      <td>NaT</td>\n",
       "      <td>2014</td>\n",
       "      <td>6</td>\n",
       "      <td>精鹰传媒</td>\n",
       "      <td>...</td>\n",
       "      <td>12.8424</td>\n",
       "      <td>163665.58</td>\n",
       "      <td>115199.96</td>\n",
       "      <td>NaN</td>\n",
       "      <td>-539158.14</td>\n",
       "      <td>-1184836.43</td>\n",
       "      <td>2014-09-25</td>\n",
       "      <td>2013-12-31</td>\n",
       "      <td>挂牌前</td>\n",
       "      <td>0</td>\n",
       "    </tr>\n",
       "    <tr>\n",
       "      <th>4536</th>\n",
       "      <td>830781.OC</td>\n",
       "      <td>2014</td>\n",
       "      <td>2014-06-04</td>\n",
       "      <td>东兴证券股份有限公司</td>\n",
       "      <td>非高新产业区</td>\n",
       "      <td>商务服务业</td>\n",
       "      <td>NaT</td>\n",
       "      <td>2014</td>\n",
       "      <td>6</td>\n",
       "      <td>精鹰传媒</td>\n",
       "      <td>...</td>\n",
       "      <td>13.3590</td>\n",
       "      <td>219758.55</td>\n",
       "      <td>188288.96</td>\n",
       "      <td>-43680.00</td>\n",
       "      <td>-1037075.93</td>\n",
       "      <td>302774.33</td>\n",
       "      <td>2015-04-25</td>\n",
       "      <td>2014-12-31</td>\n",
       "      <td>挂牌后</td>\n",
       "      <td>1</td>\n",
       "    </tr>\n",
       "    <tr>\n",
       "      <th>4537</th>\n",
       "      <td>830781.OC</td>\n",
       "      <td>2015</td>\n",
       "      <td>2014-06-04</td>\n",
       "      <td>东兴证券股份有限公司</td>\n",
       "      <td>非高新产业区</td>\n",
       "      <td>商务服务业</td>\n",
       "      <td>NaT</td>\n",
       "      <td>2014</td>\n",
       "      <td>6</td>\n",
       "      <td>精鹰传媒</td>\n",
       "      <td>...</td>\n",
       "      <td>12.8075</td>\n",
       "      <td>390853.68</td>\n",
       "      <td>248733.31</td>\n",
       "      <td>-718497.84</td>\n",
       "      <td>-15851020.59</td>\n",
       "      <td>4402049.97</td>\n",
       "      <td>2016-04-16</td>\n",
       "      <td>2015-12-31</td>\n",
       "      <td>挂牌后</td>\n",
       "      <td>2</td>\n",
       "    </tr>\n",
       "  </tbody>\n",
       "</table>\n",
       "<p>5 rows × 33 columns</p>\n",
       "</div>"
      ],
      "text/plain": [
       "           证券代码    年度       挂牌日期        主办券商    所属园区 所属证监会行业 摘牌日期  挂牌年度  挂牌月份  \\\n",
       "4533  830781.OC  2011 2014-06-04  东兴证券股份有限公司  非高新产业区   商务服务业  NaT  2014     6   \n",
       "4534  830781.OC  2012 2014-06-04  东兴证券股份有限公司  非高新产业区   商务服务业  NaT  2014     6   \n",
       "4535  830781.OC  2013 2014-06-04  东兴证券股份有限公司  非高新产业区   商务服务业  NaT  2014     6   \n",
       "4536  830781.OC  2014 2014-06-04  东兴证券股份有限公司  非高新产业区   商务服务业  NaT  2014     6   \n",
       "4537  830781.OC  2015 2014-06-04  东兴证券股份有限公司  非高新产业区   商务服务业  NaT  2014     6   \n",
       "\n",
       "      证券简称      ...           ROA         折旧   长期待摊费用摊销      存货的减少  \\\n",
       "4533  精鹰传媒      ...       -4.0250  187122.60   31666.67        NaN   \n",
       "4534  精鹰传媒      ...        1.0153  178085.88   76000.00        NaN   \n",
       "4535  精鹰传媒      ...       12.8424  163665.58  115199.96        NaN   \n",
       "4536  精鹰传媒      ...       13.3590  219758.55  188288.96  -43680.00   \n",
       "4537  精鹰传媒      ...       12.8075  390853.68  248733.31 -718497.84   \n",
       "\n",
       "       经营性应收项目的减少  经营性应付项目的增加     实际披露日期        报告期  挂牌前后  relativeYear  \n",
       "4533    -10487.00  1523634.08        NaT        NaT   挂牌前            -2  \n",
       "4534   -617068.85  -950727.61        NaT        NaT   挂牌前            -1  \n",
       "4535   -539158.14 -1184836.43 2014-09-25 2013-12-31   挂牌前             0  \n",
       "4536  -1037075.93   302774.33 2015-04-25 2014-12-31   挂牌后             1  \n",
       "4537 -15851020.59  4402049.97 2016-04-16 2015-12-31   挂牌后             2  \n",
       "\n",
       "[5 rows x 33 columns]"
      ]
     },
     "execution_count": 227,
     "metadata": {},
     "output_type": "execute_result"
    }
   ],
   "source": [
    "accounting_neeq_long1[accounting_neeq_long1[\"证券代码\"] == \"830781.OC\"]"
   ]
  },
  {
   "cell_type": "code",
   "execution_count": 45,
   "metadata": {
    "collapsed": false
   },
   "outputs": [],
   "source": [
    "accounting_neeq_long1.loc[accounting_neeq_long1[\"证券代码\"] == \"832482.OC\", \"relativeYear\"] =\\\n",
    "accounting_neeq_long1.loc[accounting_neeq_long1[\"证券代码\"] == \"832482.OC\", \"relativeYear\"] + 1"
   ]
  },
  {
   "cell_type": "code",
   "execution_count": 63,
   "metadata": {
    "collapsed": true
   },
   "outputs": [],
   "source": [
    "accounting_neeq_long1.loc[accounting_neeq_long1[\"证券代码\"] == \"832498.OC\", \"relativeYear\"] =\\\n",
    "accounting_neeq_long1.loc[accounting_neeq_long1[\"证券代码\"] == \"832498.OC\", \"relativeYear\"] + 1"
   ]
  },
  {
   "cell_type": "code",
   "execution_count": 68,
   "metadata": {
    "collapsed": true
   },
   "outputs": [],
   "source": [
    "accounting_neeq_long1.loc[accounting_neeq_long1[\"证券代码\"] == \"832537.OC\", \"relativeYear\"] =\\\n",
    "accounting_neeq_long1.loc[accounting_neeq_long1[\"证券代码\"] == \"832537.OC\", \"relativeYear\"] + 1"
   ]
  },
  {
   "cell_type": "code",
   "execution_count": null,
   "metadata": {
    "collapsed": true
   },
   "outputs": [],
   "source": [
    "accounting_neeq_long1.loc[accounting_neeq_long1[\"证券代码\"] == \"430702.OC\", \"relativeYear\"] =\\\n",
    "accounting_neeq_long1.loc[accounting_neeq_long1[\"证券代码\"] == \"430702.OC\", \"relativeYear\"] + 1"
   ]
  },
  {
   "cell_type": "code",
   "execution_count": null,
   "metadata": {
    "collapsed": true
   },
   "outputs": [],
   "source": [
    "accounting_neeq_long1.loc[accounting_neeq_long1[\"证券代码\"] == \"830767.OC\", \"relativeYear\"] =\\\n",
    "accounting_neeq_long1.loc[accounting_neeq_long1[\"证券代码\"] == \"830767.OC\", \"relativeYear\"] + 1"
   ]
  },
  {
   "cell_type": "code",
   "execution_count": null,
   "metadata": {
    "collapsed": true
   },
   "outputs": [],
   "source": [
    "accounting_neeq_long1.loc[accounting_neeq_long1[\"证券代码\"] == \"830780.OC\", \"relativeYear\"] =\\\n",
    "accounting_neeq_long1.loc[accounting_neeq_long1[\"证券代码\"] == \"830780.OC\", \"relativeYear\"] + 1"
   ]
  },
  {
   "cell_type": "code",
   "execution_count": null,
   "metadata": {
    "collapsed": true
   },
   "outputs": [],
   "source": [
    "accounting_neeq_long1.loc[accounting_neeq_long1[\"证券代码\"] == \"830825.OC\", \"relativeYear\"] =\\\n",
    "accounting_neeq_long1.loc[accounting_neeq_long1[\"证券代码\"] == \"830825.OC\", \"relativeYear\"] + 1"
   ]
  },
  {
   "cell_type": "code",
   "execution_count": null,
   "metadata": {
    "collapsed": true
   },
   "outputs": [],
   "source": [
    "accounting_neeq_long1.loc[accounting_neeq_long1[\"证券代码\"] == \"832383.OC\", \"relativeYear\"] =\\\n",
    "accounting_neeq_long1.loc[accounting_neeq_long1[\"证券代码\"] == \"832383.OC\", \"relativeYear\"] + 1"
   ]
  },
  {
   "cell_type": "code",
   "execution_count": null,
   "metadata": {
    "collapsed": true
   },
   "outputs": [],
   "source": [
    "accounting_neeq_long1.loc[accounting_neeq_long1[\"证券代码\"] == \"832611.OC\", \"relativeYear\"] =\\\n",
    "accounting_neeq_long1.loc[accounting_neeq_long1[\"证券代码\"] == \"832611.OC\", \"relativeYear\"] + 1"
   ]
  },
  {
   "cell_type": "code",
   "execution_count": null,
   "metadata": {
    "collapsed": true
   },
   "outputs": [],
   "source": [
    "accounting_neeq_long1.loc[accounting_neeq_long1[\"证券代码\"] == \"832615.OC\", \"relativeYear\"] =\\\n",
    "accounting_neeq_long1.loc[accounting_neeq_long1[\"证券代码\"] == \"832615.OC\", \"relativeYear\"] + 1"
   ]
  },
  {
   "cell_type": "code",
   "execution_count": null,
   "metadata": {
    "collapsed": true
   },
   "outputs": [],
   "source": [
    "accounting_neeq_long1.loc[accounting_neeq_long1[\"证券代码\"] == \"832686.OC\", \"relativeYear\"] =\\\n",
    "accounting_neeq_long1.loc[accounting_neeq_long1[\"证券代码\"] == \"832686.OC\", \"relativeYear\"] + 1"
   ]
  },
  {
   "cell_type": "code",
   "execution_count": 38,
   "metadata": {
    "collapsed": true
   },
   "outputs": [],
   "source": [
    "accounting_neeq_long1.loc[accounting_neeq_long1[\"证券代码\"] == \"430213.OC\", \"relativeYear\"] =\\\n",
    "accounting_neeq_long1.loc[accounting_neeq_long1[\"证券代码\"] == \"430213.OC\", \"relativeYear\"] + 1"
   ]
  },
  {
   "cell_type": "code",
   "execution_count": 41,
   "metadata": {
    "collapsed": true
   },
   "outputs": [],
   "source": [
    "accounting_neeq_long1.loc[accounting_neeq_long1[\"证券代码\"] == \"430214.OC\", \"relativeYear\"] =\\\n",
    "accounting_neeq_long1.loc[accounting_neeq_long1[\"证券代码\"] == \"430214.OC\", \"relativeYear\"] + 1"
   ]
  },
  {
   "cell_type": "code",
   "execution_count": 44,
   "metadata": {
    "collapsed": true
   },
   "outputs": [],
   "source": [
    "accounting_neeq_long1.loc[accounting_neeq_long1[\"证券代码\"] == \"430215.OC\", \"relativeYear\"] =\\\n",
    "accounting_neeq_long1.loc[accounting_neeq_long1[\"证券代码\"] == \"430215.OC\", \"relativeYear\"] + 1"
   ]
  },
  {
   "cell_type": "code",
   "execution_count": 47,
   "metadata": {
    "collapsed": true
   },
   "outputs": [],
   "source": [
    "accounting_neeq_long1.loc[accounting_neeq_long1[\"证券代码\"] == \"430217.OC\", \"relativeYear\"] =\\\n",
    "accounting_neeq_long1.loc[accounting_neeq_long1[\"证券代码\"] == \"430217.OC\", \"relativeYear\"] + 1"
   ]
  },
  {
   "cell_type": "code",
   "execution_count": 50,
   "metadata": {
    "collapsed": true
   },
   "outputs": [],
   "source": [
    "accounting_neeq_long1.loc[accounting_neeq_long1[\"证券代码\"] == \"430218.OC\", \"relativeYear\"] =\\\n",
    "accounting_neeq_long1.loc[accounting_neeq_long1[\"证券代码\"] == \"430218.OC\", \"relativeYear\"] + 1"
   ]
  },
  {
   "cell_type": "code",
   "execution_count": 53,
   "metadata": {
    "collapsed": true
   },
   "outputs": [],
   "source": [
    "accounting_neeq_long1.loc[accounting_neeq_long1[\"证券代码\"] == \"430219.OC\", \"relativeYear\"] =\\\n",
    "accounting_neeq_long1.loc[accounting_neeq_long1[\"证券代码\"] == \"430219.OC\", \"relativeYear\"] + 1"
   ]
  },
  {
   "cell_type": "code",
   "execution_count": 76,
   "metadata": {
    "collapsed": true
   },
   "outputs": [],
   "source": [
    "accounting_neeq_long1.loc[accounting_neeq_long1[\"证券代码\"] == \"430699.OC\", \"relativeYear\"] =\\\n",
    "accounting_neeq_long1.loc[accounting_neeq_long1[\"证券代码\"] == \"430699.OC\", \"relativeYear\"] + 1"
   ]
  },
  {
   "cell_type": "code",
   "execution_count": 81,
   "metadata": {
    "collapsed": true
   },
   "outputs": [],
   "source": [
    "accounting_neeq_long1.loc[accounting_neeq_long1[\"证券代码\"] == \"430718.OC\", \"relativeYear\"] =\\\n",
    "accounting_neeq_long1.loc[accounting_neeq_long1[\"证券代码\"] == \"430718.OC\", \"relativeYear\"] + 1"
   ]
  },
  {
   "cell_type": "code",
   "execution_count": 86,
   "metadata": {
    "collapsed": true
   },
   "outputs": [],
   "source": [
    "accounting_neeq_long1.loc[accounting_neeq_long1[\"证券代码\"] == \"430720.OC\", \"relativeYear\"] =\\\n",
    "accounting_neeq_long1.loc[accounting_neeq_long1[\"证券代码\"] == \"430720.OC\", \"relativeYear\"] + 1"
   ]
  },
  {
   "cell_type": "code",
   "execution_count": 90,
   "metadata": {
    "collapsed": true
   },
   "outputs": [],
   "source": [
    "accounting_neeq_long1.loc[accounting_neeq_long1[\"证券代码\"] == \"430722.OC\", \"relativeYear\"] =\\\n",
    "accounting_neeq_long1.loc[accounting_neeq_long1[\"证券代码\"] == \"430722.OC\", \"relativeYear\"] + 1"
   ]
  },
  {
   "cell_type": "code",
   "execution_count": 94,
   "metadata": {
    "collapsed": true
   },
   "outputs": [],
   "source": [
    "accounting_neeq_long1.loc[accounting_neeq_long1[\"证券代码\"] == \"430724.OC\", \"relativeYear\"] =\\\n",
    "accounting_neeq_long1.loc[accounting_neeq_long1[\"证券代码\"] == \"430724.OC\", \"relativeYear\"] + 1"
   ]
  },
  {
   "cell_type": "code",
   "execution_count": 97,
   "metadata": {
    "collapsed": true
   },
   "outputs": [],
   "source": [
    "accounting_neeq_long1.loc[accounting_neeq_long1[\"证券代码\"] == \"430725.OC\", \"relativeYear\"] =\\\n",
    "accounting_neeq_long1.loc[accounting_neeq_long1[\"证券代码\"] == \"430725.OC\", \"relativeYear\"] + 1"
   ]
  },
  {
   "cell_type": "code",
   "execution_count": 101,
   "metadata": {
    "collapsed": true
   },
   "outputs": [],
   "source": [
    "accounting_neeq_long1.loc[accounting_neeq_long1[\"证券代码\"] == \"430727.OC\", \"relativeYear\"] =\\\n",
    "accounting_neeq_long1.loc[accounting_neeq_long1[\"证券代码\"] == \"430727.OC\", \"relativeYear\"] + 1"
   ]
  },
  {
   "cell_type": "code",
   "execution_count": 105,
   "metadata": {
    "collapsed": true
   },
   "outputs": [],
   "source": [
    "accounting_neeq_long1.loc[accounting_neeq_long1[\"证券代码\"] == \"430729.OC\", \"relativeYear\"] =\\\n",
    "accounting_neeq_long1.loc[accounting_neeq_long1[\"证券代码\"] == \"430729.OC\", \"relativeYear\"] + 1"
   ]
  },
  {
   "cell_type": "code",
   "execution_count": 109,
   "metadata": {
    "collapsed": true
   },
   "outputs": [],
   "source": [
    "accounting_neeq_long1.loc[accounting_neeq_long1[\"证券代码\"] == \"430730.OC\", \"relativeYear\"] =\\\n",
    "accounting_neeq_long1.loc[accounting_neeq_long1[\"证券代码\"] == \"430730.OC\", \"relativeYear\"] + 1"
   ]
  },
  {
   "cell_type": "code",
   "execution_count": 114,
   "metadata": {
    "collapsed": true
   },
   "outputs": [],
   "source": [
    "accounting_neeq_long1.loc[accounting_neeq_long1[\"证券代码\"] == \"430733.OC\", \"relativeYear\"] =\\\n",
    "accounting_neeq_long1.loc[accounting_neeq_long1[\"证券代码\"] == \"430733.OC\", \"relativeYear\"] + 1"
   ]
  },
  {
   "cell_type": "code",
   "execution_count": 119,
   "metadata": {
    "collapsed": true
   },
   "outputs": [],
   "source": [
    "accounting_neeq_long1.loc[accounting_neeq_long1[\"证券代码\"] == \"430734.OC\", \"relativeYear\"] =\\\n",
    "accounting_neeq_long1.loc[accounting_neeq_long1[\"证券代码\"] == \"430734.OC\", \"relativeYear\"] + 1"
   ]
  },
  {
   "cell_type": "code",
   "execution_count": 123,
   "metadata": {
    "collapsed": true
   },
   "outputs": [],
   "source": [
    "accounting_neeq_long1.loc[accounting_neeq_long1[\"证券代码\"] == \"430735.OC\", \"relativeYear\"] =\\\n",
    "accounting_neeq_long1.loc[accounting_neeq_long1[\"证券代码\"] == \"430735.OC\", \"relativeYear\"] + 1"
   ]
  },
  {
   "cell_type": "code",
   "execution_count": 127,
   "metadata": {
    "collapsed": true
   },
   "outputs": [],
   "source": [
    "accounting_neeq_long1.loc[accounting_neeq_long1[\"证券代码\"] == \"430736.OC\", \"relativeYear\"] =\\\n",
    "accounting_neeq_long1.loc[accounting_neeq_long1[\"证券代码\"] == \"430736.OC\", \"relativeYear\"] + 1"
   ]
  },
  {
   "cell_type": "code",
   "execution_count": 131,
   "metadata": {
    "collapsed": true
   },
   "outputs": [],
   "source": [
    "accounting_neeq_long1.loc[accounting_neeq_long1[\"证券代码\"] == \"430741.OC\", \"relativeYear\"] =\\\n",
    "accounting_neeq_long1.loc[accounting_neeq_long1[\"证券代码\"] == \"430741.OC\", \"relativeYear\"] + 1"
   ]
  },
  {
   "cell_type": "code",
   "execution_count": 135,
   "metadata": {
    "collapsed": true
   },
   "outputs": [],
   "source": [
    "accounting_neeq_long1.loc[accounting_neeq_long1[\"证券代码\"] == \"430743.OC\", \"relativeYear\"] =\\\n",
    "accounting_neeq_long1.loc[accounting_neeq_long1[\"证券代码\"] == \"430743.OC\", \"relativeYear\"] + 1"
   ]
  },
  {
   "cell_type": "code",
   "execution_count": 139,
   "metadata": {
    "collapsed": true
   },
   "outputs": [],
   "source": [
    "accounting_neeq_long1.loc[accounting_neeq_long1[\"证券代码\"] == \"430744.OC\", \"relativeYear\"] =\\\n",
    "accounting_neeq_long1.loc[accounting_neeq_long1[\"证券代码\"] == \"430744.OC\", \"relativeYear\"] + 1"
   ]
  },
  {
   "cell_type": "code",
   "execution_count": 143,
   "metadata": {
    "collapsed": true
   },
   "outputs": [],
   "source": [
    "accounting_neeq_long1.loc[accounting_neeq_long1[\"证券代码\"] == \"430745.OC\", \"relativeYear\"] =\\\n",
    "accounting_neeq_long1.loc[accounting_neeq_long1[\"证券代码\"] == \"430745.OC\", \"relativeYear\"] + 1"
   ]
  },
  {
   "cell_type": "code",
   "execution_count": 147,
   "metadata": {
    "collapsed": true
   },
   "outputs": [],
   "source": [
    "accounting_neeq_long1.loc[accounting_neeq_long1[\"证券代码\"] == \"430746.OC\", \"relativeYear\"] =\\\n",
    "accounting_neeq_long1.loc[accounting_neeq_long1[\"证券代码\"] == \"430746.OC\", \"relativeYear\"] + 1"
   ]
  },
  {
   "cell_type": "code",
   "execution_count": 151,
   "metadata": {
    "collapsed": true
   },
   "outputs": [],
   "source": [
    "accounting_neeq_long1.loc[accounting_neeq_long1[\"证券代码\"] == \"430747.OC\", \"relativeYear\"] =\\\n",
    "accounting_neeq_long1.loc[accounting_neeq_long1[\"证券代码\"] == \"430747.OC\", \"relativeYear\"] + 1"
   ]
  },
  {
   "cell_type": "code",
   "execution_count": 155,
   "metadata": {
    "collapsed": true
   },
   "outputs": [],
   "source": [
    "accounting_neeq_long1.loc[accounting_neeq_long1[\"证券代码\"] == \"430749.OC\", \"relativeYear\"] =\\\n",
    "accounting_neeq_long1.loc[accounting_neeq_long1[\"证券代码\"] == \"430749.OC\", \"relativeYear\"] + 1"
   ]
  },
  {
   "cell_type": "code",
   "execution_count": 159,
   "metadata": {
    "collapsed": true
   },
   "outputs": [],
   "source": [
    "accounting_neeq_long1.loc[accounting_neeq_long1[\"证券代码\"] == \"430750.OC\", \"relativeYear\"] =\\\n",
    "accounting_neeq_long1.loc[accounting_neeq_long1[\"证券代码\"] == \"430750.OC\", \"relativeYear\"] + 1"
   ]
  },
  {
   "cell_type": "code",
   "execution_count": 163,
   "metadata": {
    "collapsed": true
   },
   "outputs": [],
   "source": [
    "accounting_neeq_long1.loc[accounting_neeq_long1[\"证券代码\"] == \"430751.OC\", \"relativeYear\"] =\\\n",
    "accounting_neeq_long1.loc[accounting_neeq_long1[\"证券代码\"] == \"430751.OC\", \"relativeYear\"] + 1"
   ]
  },
  {
   "cell_type": "code",
   "execution_count": 168,
   "metadata": {
    "collapsed": true
   },
   "outputs": [],
   "source": [
    "accounting_neeq_long1.loc[accounting_neeq_long1[\"证券代码\"] == \"430752.OC\", \"relativeYear\"] =\\\n",
    "accounting_neeq_long1.loc[accounting_neeq_long1[\"证券代码\"] == \"430752.OC\", \"relativeYear\"] + 1"
   ]
  },
  {
   "cell_type": "code",
   "execution_count": 173,
   "metadata": {
    "collapsed": true
   },
   "outputs": [],
   "source": [
    "accounting_neeq_long1.loc[accounting_neeq_long1[\"证券代码\"] == \"430754.OC\", \"relativeYear\"] =\\\n",
    "accounting_neeq_long1.loc[accounting_neeq_long1[\"证券代码\"] == \"430754.OC\", \"relativeYear\"] + 1"
   ]
  },
  {
   "cell_type": "code",
   "execution_count": 177,
   "metadata": {
    "collapsed": true
   },
   "outputs": [],
   "source": [
    "accounting_neeq_long1.loc[accounting_neeq_long1[\"证券代码\"] == \"430755.OC\", \"relativeYear\"] =\\\n",
    "accounting_neeq_long1.loc[accounting_neeq_long1[\"证券代码\"] == \"430755.OC\", \"relativeYear\"] + 1"
   ]
  },
  {
   "cell_type": "code",
   "execution_count": 181,
   "metadata": {
    "collapsed": true
   },
   "outputs": [],
   "source": [
    "accounting_neeq_long1.loc[accounting_neeq_long1[\"证券代码\"] == \"430756.OC\", \"relativeYear\"] =\\\n",
    "accounting_neeq_long1.loc[accounting_neeq_long1[\"证券代码\"] == \"430756.OC\", \"relativeYear\"] + 1"
   ]
  },
  {
   "cell_type": "code",
   "execution_count": 184,
   "metadata": {
    "collapsed": true
   },
   "outputs": [],
   "source": [
    "accounting_neeq_long1.loc[accounting_neeq_long1[\"证券代码\"] == \"430757.OC\", \"relativeYear\"] =\\\n",
    "accounting_neeq_long1.loc[accounting_neeq_long1[\"证券代码\"] == \"430757.OC\", \"relativeYear\"] + 1"
   ]
  },
  {
   "cell_type": "code",
   "execution_count": 188,
   "metadata": {
    "collapsed": true
   },
   "outputs": [],
   "source": [
    "accounting_neeq_long1.loc[accounting_neeq_long1[\"证券代码\"] == \"430758.OC\", \"relativeYear\"] =\\\n",
    "accounting_neeq_long1.loc[accounting_neeq_long1[\"证券代码\"] == \"430758.OC\", \"relativeYear\"] + 1"
   ]
  },
  {
   "cell_type": "code",
   "execution_count": 192,
   "metadata": {
    "collapsed": true
   },
   "outputs": [],
   "source": [
    "accounting_neeq_long1.loc[accounting_neeq_long1[\"证券代码\"] == \"430759.OC\", \"relativeYear\"] =\\\n",
    "accounting_neeq_long1.loc[accounting_neeq_long1[\"证券代码\"] == \"430759.OC\", \"relativeYear\"] + 1"
   ]
  },
  {
   "cell_type": "code",
   "execution_count": 196,
   "metadata": {
    "collapsed": true
   },
   "outputs": [],
   "source": [
    "accounting_neeq_long1.loc[accounting_neeq_long1[\"证券代码\"] == \"430760.OC\", \"relativeYear\"] =\\\n",
    "accounting_neeq_long1.loc[accounting_neeq_long1[\"证券代码\"] == \"430760.OC\", \"relativeYear\"] + 1"
   ]
  },
  {
   "cell_type": "code",
   "execution_count": 200,
   "metadata": {
    "collapsed": true
   },
   "outputs": [],
   "source": [
    "accounting_neeq_long1.loc[accounting_neeq_long1[\"证券代码\"] == \"430761.OC\", \"relativeYear\"] =\\\n",
    "accounting_neeq_long1.loc[accounting_neeq_long1[\"证券代码\"] == \"430761.OC\", \"relativeYear\"] + 1"
   ]
  },
  {
   "cell_type": "code",
   "execution_count": 205,
   "metadata": {
    "collapsed": true
   },
   "outputs": [],
   "source": [
    "accounting_neeq_long1.loc[accounting_neeq_long1[\"证券代码\"] == \"430762.OC\", \"relativeYear\"] =\\\n",
    "accounting_neeq_long1.loc[accounting_neeq_long1[\"证券代码\"] == \"430762.OC\", \"relativeYear\"] + 1"
   ]
  },
  {
   "cell_type": "code",
   "execution_count": 208,
   "metadata": {
    "collapsed": true
   },
   "outputs": [],
   "source": [
    "accounting_neeq_long1.loc[accounting_neeq_long1[\"证券代码\"] == \"430763.OC\", \"relativeYear\"] =\\\n",
    "accounting_neeq_long1.loc[accounting_neeq_long1[\"证券代码\"] == \"430763.OC\", \"relativeYear\"] + 1"
   ]
  },
  {
   "cell_type": "code",
   "execution_count": 213,
   "metadata": {
    "collapsed": true
   },
   "outputs": [],
   "source": [
    "accounting_neeq_long1.loc[accounting_neeq_long1[\"证券代码\"] == \"830773.OC\", \"relativeYear\"] =\\\n",
    "accounting_neeq_long1.loc[accounting_neeq_long1[\"证券代码\"] == \"830773.OC\", \"relativeYear\"] + 1"
   ]
  },
  {
   "cell_type": "code",
   "execution_count": 217,
   "metadata": {
    "collapsed": true
   },
   "outputs": [],
   "source": [
    "accounting_neeq_long1.loc[accounting_neeq_long1[\"证券代码\"] == \"830775.OC\", \"relativeYear\"] =\\\n",
    "accounting_neeq_long1.loc[accounting_neeq_long1[\"证券代码\"] == \"830775.OC\", \"relativeYear\"] + 1"
   ]
  },
  {
   "cell_type": "code",
   "execution_count": 221,
   "metadata": {
    "collapsed": true
   },
   "outputs": [],
   "source": [
    "accounting_neeq_long1.loc[accounting_neeq_long1[\"证券代码\"] == \"830778.OC\", \"relativeYear\"] =\\\n",
    "accounting_neeq_long1.loc[accounting_neeq_long1[\"证券代码\"] == \"830778.OC\", \"relativeYear\"] + 1"
   ]
  },
  {
   "cell_type": "code",
   "execution_count": 225,
   "metadata": {
    "collapsed": true
   },
   "outputs": [],
   "source": [
    "accounting_neeq_long1.loc[accounting_neeq_long1[\"证券代码\"] == \"830781.OC\", \"relativeYear\"] =\\\n",
    "accounting_neeq_long1.loc[accounting_neeq_long1[\"证券代码\"] == \"830781.OC\", \"relativeYear\"] + 1"
   ]
  },
  {
   "cell_type": "code",
   "execution_count": 57,
   "metadata": {
    "collapsed": false
   },
   "outputs": [],
   "source": [
    "accounting_neeq_long1.loc[(accounting_neeq_long1[\"证券代码\"] == \"832482.OC\") & \n",
    "                          (accounting_neeq_long1[\"年度\"] == 2014), \n",
    "                          [\"实际披露日期\", \"报告期\"]] = [pandas.datetime(2015, 5, 18), pandas.datetime(2014, 12, 31)]"
   ]
  },
  {
   "cell_type": "code",
   "execution_count": 64,
   "metadata": {
    "collapsed": true
   },
   "outputs": [],
   "source": [
    "accounting_neeq_long1.loc[(accounting_neeq_long1[\"证券代码\"] == \"832498.OC\") & \n",
    "                          (accounting_neeq_long1[\"年度\"] == 2014), \n",
    "                          [\"实际披露日期\", \"报告期\"]] = [pandas.datetime(2015, 6, 23), pandas.datetime(2014, 12, 31)]"
   ]
  },
  {
   "cell_type": "code",
   "execution_count": 69,
   "metadata": {
    "collapsed": false
   },
   "outputs": [],
   "source": [
    "accounting_neeq_long1.loc[(accounting_neeq_long1[\"证券代码\"] == \"832537.OC\") & \n",
    "                          (accounting_neeq_long1[\"年度\"] == 2014), \n",
    "                          [\"实际披露日期\", \"报告期\"]] = [pandas.datetime(2015, 6, 5), pandas.datetime(2014, 12, 31)]"
   ]
  },
  {
   "cell_type": "code",
   "execution_count": 80,
   "metadata": {
    "collapsed": false
   },
   "outputs": [],
   "source": [
    "accounting_neeq_long1.loc[(accounting_neeq_long1[\"证券代码\"] == \"832568.OC\") & \n",
    "                          (accounting_neeq_long1[\"年度\"] == 2015), \n",
    "                          [\"折旧\", \"长期待摊费用摊销\", \"存货的减少\", \"经营性应收项目的减少\", \"经营性应付项目的增加\"]] =\\\n",
    "[14500391.74, 0, 32365482.17, -102364408.41, -137055152.65]\n",
    "\n",
    "accounting_neeq_long1.loc[(accounting_neeq_long1[\"证券代码\"] == \"832568.OC\") & \n",
    "                          (accounting_neeq_long1[\"年度\"] == 2014), \n",
    "                          [\"折旧\", \"长期待摊费用摊销\", \"存货的减少\", \"经营性应收项目的减少\", \"经营性应付项目的增加\"]] =\\\n",
    "[10058905.53, 0, -17061012.49,  -10599958.09, 459435.69]\n",
    "\n",
    "accounting_neeq_long1.loc[(accounting_neeq_long1[\"证券代码\"] == \"832568.OC\") & \n",
    "                          (accounting_neeq_long1[\"年度\"] == 2013), \n",
    "                          [\"折旧\", \"长期待摊费用摊销\", \"存货的减少\", \"经营性应收项目的减少\", \"经营性应付项目的增加\"]] =\\\n",
    "[11218661.06, 0, -25707153.13, 34482646.00, 112376137.46]"
   ]
  },
  {
   "cell_type": "code",
   "execution_count": 82,
   "metadata": {
    "collapsed": false
   },
   "outputs": [],
   "source": [
    "accounting_neeq_long1.loc[(accounting_neeq_long1[\"证券代码\"] == \"430702.OC\") &\n",
    "                          (accounting_neeq_long1[\"年度\"] == 2013), [\"实际披露日期\", \"报告期\"]] =\\\n",
    "[pandas.datetime(2014, 5, 21), pandas.datetime(2013, 12, 31)]"
   ]
  },
  {
   "cell_type": "code",
   "execution_count": null,
   "metadata": {
    "collapsed": true
   },
   "outputs": [],
   "source": [
    "accounting_neeq_long1.loc[(accounting_neeq_long1[\"证券代码\"] == \"830825.OC\") &\n",
    "                          (accounting_neeq_long1[\"年度\"] == 2013), [\"实际披露日期\", \"报告期\"]] =\\\n",
    "[pandas.datetime(2014, 6, 24), pandas.datetime(2013, 12, 31)]"
   ]
  },
  {
   "cell_type": "code",
   "execution_count": null,
   "metadata": {
    "collapsed": true
   },
   "outputs": [],
   "source": [
    "accounting_neeq_long1.loc[(accounting_neeq_long1[\"证券代码\"] == \"830767.OC\") &\n",
    "                          (accounting_neeq_long1[\"年度\"] == 2013), [\"实际披露日期\", \"报告期\"]] =\\\n",
    "[pandas.datetime(2014, 6, 9), pandas.datetime(2013, 12, 31)]"
   ]
  },
  {
   "cell_type": "code",
   "execution_count": null,
   "metadata": {
    "collapsed": true
   },
   "outputs": [],
   "source": [
    "accounting_neeq_long1.loc[(accounting_neeq_long1[\"证券代码\"] == \"830780.OC\") &\n",
    "                          (accounting_neeq_long1[\"年度\"] == 2013), [\"实际披露日期\", \"报告期\"]] =\\\n",
    "[pandas.datetime(2014, 6, 9), pandas.datetime(2013, 12, 31)]"
   ]
  },
  {
   "cell_type": "code",
   "execution_count": null,
   "metadata": {
    "collapsed": true
   },
   "outputs": [],
   "source": [
    "accounting_neeq_long1.loc[(accounting_neeq_long1[\"证券代码\"] == \"832383.OC\") &\n",
    "                          (accounting_neeq_long1[\"年度\"] == 2014), [\"实际披露日期\", \"报告期\"]] =\\\n",
    "[pandas.datetime(2015, 6, 9), pandas.datetime(2014, 12, 31)]"
   ]
  },
  {
   "cell_type": "code",
   "execution_count": null,
   "metadata": {
    "collapsed": true
   },
   "outputs": [],
   "source": [
    "accounting_neeq_long1.loc[(accounting_neeq_long1[\"证券代码\"] == \"832611.OC\") &\n",
    "                          (accounting_neeq_long1[\"年度\"] == 2014), [\"实际披露日期\", \"报告期\"]] =\\\n",
    "[pandas.datetime(2015, 6, 11), pandas.datetime(2014, 12, 31)]"
   ]
  },
  {
   "cell_type": "code",
   "execution_count": null,
   "metadata": {
    "collapsed": true
   },
   "outputs": [],
   "source": [
    "accounting_neeq_long1.loc[(accounting_neeq_long1[\"证券代码\"] == \"832615.OC\") &\n",
    "                          (accounting_neeq_long1[\"年度\"] == 2014), [\"实际披露日期\", \"报告期\"]] =\\\n",
    "[pandas.datetime(2015, 7, 17), pandas.datetime(2014, 12, 31)]"
   ]
  },
  {
   "cell_type": "code",
   "execution_count": null,
   "metadata": {
    "collapsed": true
   },
   "outputs": [],
   "source": [
    "accounting_neeq_long1.loc[(accounting_neeq_long1[\"证券代码\"] == \"832686.OC\") &\n",
    "                          (accounting_neeq_long1[\"年度\"] == 2014), [\"实际披露日期\", \"报告期\"]] =\\\n",
    "[pandas.datetime(2015, 10, 13), pandas.datetime(2014, 12, 31)]"
   ]
  },
  {
   "cell_type": "code",
   "execution_count": 78,
   "metadata": {
    "collapsed": true
   },
   "outputs": [],
   "source": [
    "accounting_neeq_long1.loc[(accounting_neeq_long1[\"证券代码\"] == \"430699.OC\") &\n",
    "                          (accounting_neeq_long1[\"年度\"] == 2013), [\"实际披露日期\", \"报告期\"]] =\\\n",
    "[pandas.datetime(2014, 5, 20), pandas.datetime(2013, 12, 31)]"
   ]
  },
  {
   "cell_type": "code",
   "execution_count": 83,
   "metadata": {
    "collapsed": true
   },
   "outputs": [],
   "source": [
    "accounting_neeq_long1.loc[(accounting_neeq_long1[\"证券代码\"] == \"430718.OC\") &\n",
    "                          (accounting_neeq_long1[\"年度\"] == 2013), [\"实际披露日期\", \"报告期\"]] =\\\n",
    "[pandas.datetime(2014, 5, 14), pandas.datetime(2013, 12, 31)]"
   ]
  },
  {
   "cell_type": "code",
   "execution_count": 87,
   "metadata": {
    "collapsed": true
   },
   "outputs": [],
   "source": [
    "accounting_neeq_long1.loc[(accounting_neeq_long1[\"证券代码\"] == \"430720.OC\") &\n",
    "                          (accounting_neeq_long1[\"年度\"] == 2013), [\"实际披露日期\", \"报告期\"]] =\\\n",
    "[pandas.datetime(2014, 5, 7), pandas.datetime(2013, 12, 31)]"
   ]
  },
  {
   "cell_type": "code",
   "execution_count": 91,
   "metadata": {
    "collapsed": true
   },
   "outputs": [],
   "source": [
    "accounting_neeq_long1.loc[(accounting_neeq_long1[\"证券代码\"] == \"430722.OC\") &\n",
    "                          (accounting_neeq_long1[\"年度\"] == 2013), [\"实际披露日期\", \"报告期\"]] =\\\n",
    "[pandas.datetime(2014, 5, 23), pandas.datetime(2013, 12, 31)]"
   ]
  },
  {
   "cell_type": "code",
   "execution_count": 98,
   "metadata": {
    "collapsed": true
   },
   "outputs": [],
   "source": [
    "accounting_neeq_long1.loc[(accounting_neeq_long1[\"证券代码\"] == \"430725.OC\") &\n",
    "                          (accounting_neeq_long1[\"年度\"] == 2013), [\"实际披露日期\", \"报告期\"]] =\\\n",
    "[pandas.datetime(2014, 5, 21), pandas.datetime(2013, 12, 31)]"
   ]
  },
  {
   "cell_type": "code",
   "execution_count": 102,
   "metadata": {
    "collapsed": true
   },
   "outputs": [],
   "source": [
    "accounting_neeq_long1.loc[(accounting_neeq_long1[\"证券代码\"] == \"430727.OC\") &\n",
    "                          (accounting_neeq_long1[\"年度\"] == 2013), [\"实际披露日期\", \"报告期\"]] =\\\n",
    "[pandas.datetime(2014, 6, 4), pandas.datetime(2013, 12, 31)]"
   ]
  },
  {
   "cell_type": "code",
   "execution_count": 106,
   "metadata": {
    "collapsed": true
   },
   "outputs": [],
   "source": [
    "accounting_neeq_long1.loc[(accounting_neeq_long1[\"证券代码\"] == \"430729.OC\") &\n",
    "                          (accounting_neeq_long1[\"年度\"] == 2013), [\"实际披露日期\", \"报告期\"]] =\\\n",
    "[pandas.datetime(2014, 5, 30), pandas.datetime(2013, 12, 31)]"
   ]
  },
  {
   "cell_type": "code",
   "execution_count": 110,
   "metadata": {
    "collapsed": true
   },
   "outputs": [],
   "source": [
    "accounting_neeq_long1.loc[(accounting_neeq_long1[\"证券代码\"] == \"430730.OC\") &\n",
    "                          (accounting_neeq_long1[\"年度\"] == 2013), [\"实际披露日期\", \"报告期\"]] =\\\n",
    "[pandas.datetime(2014, 5, 16), pandas.datetime(2013, 12, 31)]"
   ]
  },
  {
   "cell_type": "code",
   "execution_count": 115,
   "metadata": {
    "collapsed": true
   },
   "outputs": [],
   "source": [
    "accounting_neeq_long1.loc[(accounting_neeq_long1[\"证券代码\"] == \"430733.OC\") &\n",
    "                          (accounting_neeq_long1[\"年度\"] == 2013), [\"实际披露日期\", \"报告期\"]] =\\\n",
    "[pandas.datetime(2014, 5, 19), pandas.datetime(2013, 12, 31)]"
   ]
  },
  {
   "cell_type": "code",
   "execution_count": 120,
   "metadata": {
    "collapsed": true
   },
   "outputs": [],
   "source": [
    "accounting_neeq_long1.loc[(accounting_neeq_long1[\"证券代码\"] == \"430734.OC\") &\n",
    "                          (accounting_neeq_long1[\"年度\"] == 2013), [\"实际披露日期\", \"报告期\"]] =\\\n",
    "[pandas.datetime(2014, 5, 8), pandas.datetime(2013, 12, 31)]"
   ]
  },
  {
   "cell_type": "code",
   "execution_count": 124,
   "metadata": {
    "collapsed": true
   },
   "outputs": [],
   "source": [
    "accounting_neeq_long1.loc[(accounting_neeq_long1[\"证券代码\"] == \"430735.OC\") &\n",
    "                          (accounting_neeq_long1[\"年度\"] == 2013), [\"实际披露日期\", \"报告期\"]] =\\\n",
    "[pandas.datetime(2014, 7, 11), pandas.datetime(2013, 12, 31)]"
   ]
  },
  {
   "cell_type": "code",
   "execution_count": 128,
   "metadata": {
    "collapsed": true
   },
   "outputs": [],
   "source": [
    "accounting_neeq_long1.loc[(accounting_neeq_long1[\"证券代码\"] == \"430736.OC\") &\n",
    "                          (accounting_neeq_long1[\"年度\"] == 2013), [\"实际披露日期\", \"报告期\"]] =\\\n",
    "[pandas.datetime(2014, 5, 8), pandas.datetime(2013, 12, 31)]"
   ]
  },
  {
   "cell_type": "code",
   "execution_count": 132,
   "metadata": {
    "collapsed": true
   },
   "outputs": [],
   "source": [
    "accounting_neeq_long1.loc[(accounting_neeq_long1[\"证券代码\"] == \"430741.OC\") &\n",
    "                          (accounting_neeq_long1[\"年度\"] == 2013), [\"实际披露日期\", \"报告期\"]] =\\\n",
    "[pandas.datetime(2014, 5, 9), pandas.datetime(2013, 12, 31)]"
   ]
  },
  {
   "cell_type": "code",
   "execution_count": 136,
   "metadata": {
    "collapsed": true
   },
   "outputs": [],
   "source": [
    "accounting_neeq_long1.loc[(accounting_neeq_long1[\"证券代码\"] == \"430743.OC\") &\n",
    "                          (accounting_neeq_long1[\"年度\"] == 2013), [\"实际披露日期\", \"报告期\"]] =\\\n",
    "[pandas.datetime(2014, 5, 30), pandas.datetime(2013, 12, 31)]"
   ]
  },
  {
   "cell_type": "code",
   "execution_count": 140,
   "metadata": {
    "collapsed": true
   },
   "outputs": [],
   "source": [
    "accounting_neeq_long1.loc[(accounting_neeq_long1[\"证券代码\"] == \"430744.OC\") &\n",
    "                          (accounting_neeq_long1[\"年度\"] == 2013), [\"实际披露日期\", \"报告期\"]] =\\\n",
    "[pandas.datetime(2014, 5, 5), pandas.datetime(2013, 12, 31)]"
   ]
  },
  {
   "cell_type": "code",
   "execution_count": 144,
   "metadata": {
    "collapsed": true
   },
   "outputs": [],
   "source": [
    "accounting_neeq_long1.loc[(accounting_neeq_long1[\"证券代码\"] == \"430745.OC\") &\n",
    "                          (accounting_neeq_long1[\"年度\"] == 2013), [\"实际披露日期\", \"报告期\"]] =\\\n",
    "[pandas.datetime(2014, 5, 26), pandas.datetime(2013, 12, 31)]"
   ]
  },
  {
   "cell_type": "code",
   "execution_count": 148,
   "metadata": {
    "collapsed": true
   },
   "outputs": [],
   "source": [
    "accounting_neeq_long1.loc[(accounting_neeq_long1[\"证券代码\"] == \"430746.OC\") &\n",
    "                          (accounting_neeq_long1[\"年度\"] == 2013), [\"实际披露日期\", \"报告期\"]] =\\\n",
    "[pandas.datetime(2014, 6, 5), pandas.datetime(2013, 12, 31)]"
   ]
  },
  {
   "cell_type": "code",
   "execution_count": 152,
   "metadata": {
    "collapsed": true
   },
   "outputs": [],
   "source": [
    "accounting_neeq_long1.loc[(accounting_neeq_long1[\"证券代码\"] == \"430747.OC\") &\n",
    "                          (accounting_neeq_long1[\"年度\"] == 2013), [\"实际披露日期\", \"报告期\"]] =\\\n",
    "[pandas.datetime(2014, 5, 20), pandas.datetime(2013, 12, 31)]"
   ]
  },
  {
   "cell_type": "code",
   "execution_count": 156,
   "metadata": {
    "collapsed": true
   },
   "outputs": [],
   "source": [
    "accounting_neeq_long1.loc[(accounting_neeq_long1[\"证券代码\"] == \"430749.OC\") &\n",
    "                          (accounting_neeq_long1[\"年度\"] == 2013), [\"实际披露日期\", \"报告期\"]] =\\\n",
    "[pandas.datetime(2014, 5, 15), pandas.datetime(2013, 12, 31)]"
   ]
  },
  {
   "cell_type": "code",
   "execution_count": 160,
   "metadata": {
    "collapsed": true
   },
   "outputs": [],
   "source": [
    "accounting_neeq_long1.loc[(accounting_neeq_long1[\"证券代码\"] == \"430750.OC\") &\n",
    "                          (accounting_neeq_long1[\"年度\"] == 2013), [\"实际披露日期\", \"报告期\"]] =\\\n",
    "[pandas.datetime(2014, 6, 9), pandas.datetime(2013, 12, 31)]"
   ]
  },
  {
   "cell_type": "code",
   "execution_count": 164,
   "metadata": {
    "collapsed": true
   },
   "outputs": [],
   "source": [
    "accounting_neeq_long1.loc[(accounting_neeq_long1[\"证券代码\"] == \"430751.OC\") &\n",
    "                          (accounting_neeq_long1[\"年度\"] == 2013), [\"实际披露日期\", \"报告期\"]] =\\\n",
    "[pandas.datetime(2014, 5, 30), pandas.datetime(2013, 12, 31)]"
   ]
  },
  {
   "cell_type": "code",
   "execution_count": 169,
   "metadata": {
    "collapsed": true
   },
   "outputs": [],
   "source": [
    "accounting_neeq_long1.loc[(accounting_neeq_long1[\"证券代码\"] == \"430752.OC\") &\n",
    "                          (accounting_neeq_long1[\"年度\"] == 2013), [\"实际披露日期\", \"报告期\"]] =\\\n",
    "[pandas.datetime(2014, 5, 30), pandas.datetime(2013, 12, 31)]"
   ]
  },
  {
   "cell_type": "code",
   "execution_count": 174,
   "metadata": {
    "collapsed": true
   },
   "outputs": [],
   "source": [
    "accounting_neeq_long1.loc[(accounting_neeq_long1[\"证券代码\"] == \"430754.OC\") &\n",
    "                          (accounting_neeq_long1[\"年度\"] == 2013), [\"实际披露日期\", \"报告期\"]] =\\\n",
    "[pandas.datetime(2014, 6, 9), pandas.datetime(2013, 12, 31)]"
   ]
  },
  {
   "cell_type": "code",
   "execution_count": 178,
   "metadata": {
    "collapsed": true
   },
   "outputs": [],
   "source": [
    "accounting_neeq_long1.loc[(accounting_neeq_long1[\"证券代码\"] == \"430755.OC\") &\n",
    "                          (accounting_neeq_long1[\"年度\"] == 2013), [\"实际披露日期\", \"报告期\"]] =\\\n",
    "[pandas.datetime(2014, 6, 24), pandas.datetime(2013, 12, 31)]"
   ]
  },
  {
   "cell_type": "code",
   "execution_count": 185,
   "metadata": {
    "collapsed": true
   },
   "outputs": [],
   "source": [
    "accounting_neeq_long1.loc[(accounting_neeq_long1[\"证券代码\"] == \"430757.OC\") &\n",
    "                          (accounting_neeq_long1[\"年度\"] == 2013), [\"实际披露日期\", \"报告期\"]] =\\\n",
    "[pandas.datetime(2014, 5, 30), pandas.datetime(2013, 12, 31)]"
   ]
  },
  {
   "cell_type": "code",
   "execution_count": 189,
   "metadata": {
    "collapsed": true
   },
   "outputs": [],
   "source": [
    "accounting_neeq_long1.loc[(accounting_neeq_long1[\"证券代码\"] == \"430758.OC\") &\n",
    "                          (accounting_neeq_long1[\"年度\"] == 2013), [\"实际披露日期\", \"报告期\"]] =\\\n",
    "[pandas.datetime(2014, 6, 6), pandas.datetime(2013, 12, 31)]"
   ]
  },
  {
   "cell_type": "code",
   "execution_count": 193,
   "metadata": {
    "collapsed": true
   },
   "outputs": [],
   "source": [
    "accounting_neeq_long1.loc[(accounting_neeq_long1[\"证券代码\"] == \"430759.OC\") &\n",
    "                          (accounting_neeq_long1[\"年度\"] == 2013), [\"实际披露日期\", \"报告期\"]] =\\\n",
    "[pandas.datetime(2014, 6, 12), pandas.datetime(2013, 12, 31)]"
   ]
  },
  {
   "cell_type": "code",
   "execution_count": 197,
   "metadata": {
    "collapsed": true
   },
   "outputs": [],
   "source": [
    "accounting_neeq_long1.loc[(accounting_neeq_long1[\"证券代码\"] == \"430760.OC\") &\n",
    "                          (accounting_neeq_long1[\"年度\"] == 2013), [\"实际披露日期\", \"报告期\"]] =\\\n",
    "[pandas.datetime(2014, 6, 11), pandas.datetime(2013, 12, 31)]"
   ]
  },
  {
   "cell_type": "code",
   "execution_count": 202,
   "metadata": {
    "collapsed": true
   },
   "outputs": [],
   "source": [
    "accounting_neeq_long1.loc[(accounting_neeq_long1[\"证券代码\"] == \"430761.OC\") &\n",
    "                          (accounting_neeq_long1[\"年度\"] == 2013), [\"实际披露日期\", \"报告期\"]] =\\\n",
    "[pandas.datetime(2014, 6, 11), pandas.datetime(2013, 12, 31)]"
   ]
  },
  {
   "cell_type": "code",
   "execution_count": 209,
   "metadata": {
    "collapsed": true
   },
   "outputs": [],
   "source": [
    "accounting_neeq_long1.loc[(accounting_neeq_long1[\"证券代码\"] == \"430763.OC\") &\n",
    "                          (accounting_neeq_long1[\"年度\"] == 2013), [\"实际披露日期\", \"报告期\"]] =\\\n",
    "[pandas.datetime(2014, 6, 3), pandas.datetime(2013, 12, 31)]"
   ]
  },
  {
   "cell_type": "code",
   "execution_count": 214,
   "metadata": {
    "collapsed": true
   },
   "outputs": [],
   "source": [
    "accounting_neeq_long1.loc[(accounting_neeq_long1[\"证券代码\"] == \"830773.OC\") &\n",
    "                          (accounting_neeq_long1[\"年度\"] == 2013), [\"实际披露日期\", \"报告期\"]] =\\\n",
    "[pandas.datetime(2014, 6, 17), pandas.datetime(2013, 12, 31)]"
   ]
  },
  {
   "cell_type": "code",
   "execution_count": 218,
   "metadata": {
    "collapsed": true
   },
   "outputs": [],
   "source": [
    "accounting_neeq_long1.loc[(accounting_neeq_long1[\"证券代码\"] == \"830775.OC\") &\n",
    "                          (accounting_neeq_long1[\"年度\"] == 2013), [\"实际披露日期\", \"报告期\"]] =\\\n",
    "[pandas.datetime(2014, 6, 16), pandas.datetime(2013, 12, 31)]"
   ]
  },
  {
   "cell_type": "code",
   "execution_count": 222,
   "metadata": {
    "collapsed": true
   },
   "outputs": [],
   "source": [
    "accounting_neeq_long1.loc[(accounting_neeq_long1[\"证券代码\"] == \"830778.OC\") &\n",
    "                          (accounting_neeq_long1[\"年度\"] == 2013), [\"实际披露日期\", \"报告期\"]] =\\\n",
    "[pandas.datetime(2014, 6, 3), pandas.datetime(2013, 12, 31)]"
   ]
  },
  {
   "cell_type": "code",
   "execution_count": 226,
   "metadata": {
    "collapsed": true
   },
   "outputs": [],
   "source": [
    "accounting_neeq_long1.loc[(accounting_neeq_long1[\"证券代码\"] == \"830781.OC\") &\n",
    "                          (accounting_neeq_long1[\"年度\"] == 2013), [\"实际披露日期\", \"报告期\"]] =\\\n",
    "[pandas.datetime(2014, 9, 25), pandas.datetime(2013, 12, 31)]"
   ]
  },
  {
   "cell_type": "code",
   "execution_count": null,
   "metadata": {
    "collapsed": true
   },
   "outputs": [],
   "source": []
  }
 ],
 "metadata": {
  "kernelspec": {
   "display_name": "Python 3",
   "language": "python",
   "name": "python3"
  },
  "language_info": {
   "codemirror_mode": {
    "name": "ipython",
    "version": 3
   },
   "file_extension": ".py",
   "mimetype": "text/x-python",
   "name": "python",
   "nbconvert_exporter": "python",
   "pygments_lexer": "ipython3",
   "version": "3.5.1"
  }
 },
 "nbformat": 4,
 "nbformat_minor": 0
}
