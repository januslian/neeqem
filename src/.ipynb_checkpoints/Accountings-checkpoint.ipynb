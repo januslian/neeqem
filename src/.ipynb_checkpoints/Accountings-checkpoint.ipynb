{
 "cells": [
  {
   "cell_type": "code",
   "execution_count": 148,
   "metadata": {
    "collapsed": true
   },
   "outputs": [],
   "source": [
    "%matplotlib inline\n",
    "import numpy \n",
    "import pandas\n",
    "import matplotlib.pyplot as plt\n",
    "import seaborn as sns\n",
    "import re"
   ]
  },
  {
   "cell_type": "code",
   "execution_count": 149,
   "metadata": {
    "collapsed": false
   },
   "outputs": [],
   "source": [
    "accounting_neeq = pandas.read_excel(\"../data/raw/accounting2015.xlsx\")\n",
    "accounting_cf_neeq = pandas.read_excel(\"../data/raw/accounting2015_cf.xlsx\")\n",
    "accounting_neeq = accounting_neeq[:-2]\n",
    "accounting_cf_neeq = accounting_cf_neeq[:-2]\n",
    "#833822"
   ]
  },
  {
   "cell_type": "code",
   "execution_count": 150,
   "metadata": {
    "collapsed": true
   },
   "outputs": [],
   "source": [
    "accounting_neeq = pandas.merge(accounting_neeq, accounting_cf_neeq, on=[\"证券代码\", \"证券简称\"])"
   ]
  },
  {
   "cell_type": "code",
   "execution_count": 151,
   "metadata": {
    "collapsed": false
   },
   "outputs": [],
   "source": [
    "columns = [\"资产总计\", \"归属母公司股东的权益\", \"营业收入\", \"营业成本\", \"销售费用\", \n",
    "           \"管理费用\", \"财务费用\", \"归属母公司股东的净利润\", \"非经常性损益\", \"扣除非经常性损益后的净利\", \n",
    "          \"经营活动产生的现金流量净额\", \"应收账款\", \"固定资产\", \"ROA\", \"折旧\", \"长期待摊费用摊销\",\n",
    "           \"存货的减少\", \"经营性应收项目的减少\", \"经营性应付项目的增加\"]\n",
    "\n",
    "year = numpy.arange(2003, 2016)\n",
    "\n",
    "column_names = [item + str(iyear) for item in columns for iyear in year]"
   ]
  },
  {
   "cell_type": "code",
   "execution_count": 152,
   "metadata": {
    "collapsed": false
   },
   "outputs": [],
   "source": [
    "accounting_neeq.columns = [\"证券代码\", \"证券简称\"] + column_names"
   ]
  },
  {
   "cell_type": "code",
   "execution_count": 153,
   "metadata": {
    "collapsed": false
   },
   "outputs": [],
   "source": [
    "accounting_neeq_long = pandas.wide_to_long(accounting_neeq, stubnames=columns, i=\"证券代码\", j=\"年度\")"
   ]
  },
  {
   "cell_type": "code",
   "execution_count": 154,
   "metadata": {
    "collapsed": true
   },
   "outputs": [],
   "source": [
    "neeq_sample = pandas.read_csv(\"../data/NEEQ_sample.csv\", parse_dates=[7, 8], index_col=13)"
   ]
  },
  {
   "cell_type": "code",
   "execution_count": 155,
   "metadata": {
    "collapsed": true
   },
   "outputs": [],
   "source": [
    "neeq_sample = neeq_sample[[\"挂牌日期\", \"主办券商\", \"所属园区\", \"所属证监会行业\", \"摘牌日期\"]]\n",
    "neeq_sample = neeq_sample.sort_index()\n",
    "neeq_sample[\"挂牌年度\"] = neeq_sample[\"挂牌日期\"].apply(lambda x: x.year)\n",
    "neeq_sample[\"挂牌月份\"] = neeq_sample[\"挂牌日期\"].apply(lambda x: x.month)"
   ]
  },
  {
   "cell_type": "code",
   "execution_count": 156,
   "metadata": {
    "collapsed": false
   },
   "outputs": [],
   "source": [
    "accounting_neeq_long = pandas.merge(neeq_sample, accounting_neeq_long, \n",
    "                                    how=\"inner\", left_index=True, \n",
    "                                    right_index=True)"
   ]
  },
  {
   "cell_type": "code",
   "execution_count": 157,
   "metadata": {
    "collapsed": false,
    "scrolled": true
   },
   "outputs": [],
   "source": [
    "accounting_neeq_long.reset_index(inplace=True)"
   ]
  },
  {
   "cell_type": "code",
   "execution_count": 158,
   "metadata": {
    "collapsed": false
   },
   "outputs": [
    {
     "data": {
      "text/html": [
       "<div>\n",
       "<table border=\"1\" class=\"dataframe\">\n",
       "  <thead>\n",
       "    <tr style=\"text-align: right;\">\n",
       "      <th></th>\n",
       "      <th>证券代码</th>\n",
       "      <th>年度</th>\n",
       "      <th>挂牌日期</th>\n",
       "      <th>主办券商</th>\n",
       "      <th>所属园区</th>\n",
       "      <th>所属证监会行业</th>\n",
       "      <th>摘牌日期</th>\n",
       "      <th>挂牌年度</th>\n",
       "      <th>挂牌月份</th>\n",
       "      <th>证券简称</th>\n",
       "      <th>...</th>\n",
       "      <th>扣除非经常性损益后的净利</th>\n",
       "      <th>经营活动产生的现金流量净额</th>\n",
       "      <th>应收账款</th>\n",
       "      <th>固定资产</th>\n",
       "      <th>ROA</th>\n",
       "      <th>折旧</th>\n",
       "      <th>长期待摊费用摊销</th>\n",
       "      <th>存货的减少</th>\n",
       "      <th>经营性应收项目的减少</th>\n",
       "      <th>经营性应付项目的增加</th>\n",
       "    </tr>\n",
       "  </thead>\n",
       "  <tbody>\n",
       "    <tr>\n",
       "      <th>0</th>\n",
       "      <td>430001.OC</td>\n",
       "      <td>2003</td>\n",
       "      <td>2006-01-18</td>\n",
       "      <td>申银万国证券股份有限公司</td>\n",
       "      <td>中关村科技园区非上市股份有限公司</td>\n",
       "      <td>软件与服务</td>\n",
       "      <td>2010-12-06</td>\n",
       "      <td>2006</td>\n",
       "      <td>1</td>\n",
       "      <td>世纪瑞尔(退市)</td>\n",
       "      <td>...</td>\n",
       "      <td>NaN</td>\n",
       "      <td>10843347.75</td>\n",
       "      <td>27121681.98</td>\n",
       "      <td>29395524.57</td>\n",
       "      <td>NaN</td>\n",
       "      <td>943428.0</td>\n",
       "      <td>610643.0</td>\n",
       "      <td>-2692313.1</td>\n",
       "      <td>-13831571.1</td>\n",
       "      <td>13440729.88</td>\n",
       "    </tr>\n",
       "    <tr>\n",
       "      <th>1</th>\n",
       "      <td>430002.OC</td>\n",
       "      <td>2003</td>\n",
       "      <td>2006-01-23</td>\n",
       "      <td>申万宏源证券有限公司</td>\n",
       "      <td>中关村科技园区</td>\n",
       "      <td>软件和信息技术服务业</td>\n",
       "      <td>NaT</td>\n",
       "      <td>2006</td>\n",
       "      <td>1</td>\n",
       "      <td>中科软</td>\n",
       "      <td>...</td>\n",
       "      <td>6039888.09</td>\n",
       "      <td>NaN</td>\n",
       "      <td>19541521.43</td>\n",
       "      <td>6683984.09</td>\n",
       "      <td>NaN</td>\n",
       "      <td>NaN</td>\n",
       "      <td>NaN</td>\n",
       "      <td>NaN</td>\n",
       "      <td>NaN</td>\n",
       "      <td>NaN</td>\n",
       "    </tr>\n",
       "    <tr>\n",
       "      <th>2</th>\n",
       "      <td>430003.OC</td>\n",
       "      <td>2003</td>\n",
       "      <td>2006-03-31</td>\n",
       "      <td>国泰君安证券股份有限公司</td>\n",
       "      <td>中关村科技园区</td>\n",
       "      <td>通用设备制造业</td>\n",
       "      <td>NaT</td>\n",
       "      <td>2006</td>\n",
       "      <td>3</td>\n",
       "      <td>北京时代</td>\n",
       "      <td>...</td>\n",
       "      <td>NaN</td>\n",
       "      <td>NaN</td>\n",
       "      <td>8586266.12</td>\n",
       "      <td>51466641.87</td>\n",
       "      <td>NaN</td>\n",
       "      <td>NaN</td>\n",
       "      <td>NaN</td>\n",
       "      <td>NaN</td>\n",
       "      <td>NaN</td>\n",
       "      <td>NaN</td>\n",
       "    </tr>\n",
       "    <tr>\n",
       "      <th>3</th>\n",
       "      <td>430004.OC</td>\n",
       "      <td>2003</td>\n",
       "      <td>2006-06-07</td>\n",
       "      <td>广发证券股份有限公司</td>\n",
       "      <td>中关村科技园区</td>\n",
       "      <td>专用设备制造业</td>\n",
       "      <td>NaT</td>\n",
       "      <td>2006</td>\n",
       "      <td>6</td>\n",
       "      <td>绿创环保</td>\n",
       "      <td>...</td>\n",
       "      <td>NaN</td>\n",
       "      <td>NaN</td>\n",
       "      <td>NaN</td>\n",
       "      <td>NaN</td>\n",
       "      <td>NaN</td>\n",
       "      <td>NaN</td>\n",
       "      <td>NaN</td>\n",
       "      <td>NaN</td>\n",
       "      <td>NaN</td>\n",
       "      <td>NaN</td>\n",
       "    </tr>\n",
       "    <tr>\n",
       "      <th>4</th>\n",
       "      <td>430005.OC</td>\n",
       "      <td>2003</td>\n",
       "      <td>2006-07-28</td>\n",
       "      <td>广发证券股份有限公司</td>\n",
       "      <td>中关村科技园区</td>\n",
       "      <td>医药制造业</td>\n",
       "      <td>NaT</td>\n",
       "      <td>2006</td>\n",
       "      <td>7</td>\n",
       "      <td>原子高科</td>\n",
       "      <td>...</td>\n",
       "      <td>NaN</td>\n",
       "      <td>NaN</td>\n",
       "      <td>NaN</td>\n",
       "      <td>NaN</td>\n",
       "      <td>NaN</td>\n",
       "      <td>NaN</td>\n",
       "      <td>NaN</td>\n",
       "      <td>NaN</td>\n",
       "      <td>NaN</td>\n",
       "      <td>NaN</td>\n",
       "    </tr>\n",
       "  </tbody>\n",
       "</table>\n",
       "<p>5 rows × 29 columns</p>\n",
       "</div>"
      ],
      "text/plain": [
       "        证券代码    年度       挂牌日期          主办券商              所属园区     所属证监会行业  \\\n",
       "0  430001.OC  2003 2006-01-18  申银万国证券股份有限公司  中关村科技园区非上市股份有限公司       软件与服务   \n",
       "1  430002.OC  2003 2006-01-23    申万宏源证券有限公司           中关村科技园区  软件和信息技术服务业   \n",
       "2  430003.OC  2003 2006-03-31  国泰君安证券股份有限公司           中关村科技园区     通用设备制造业   \n",
       "3  430004.OC  2003 2006-06-07    广发证券股份有限公司           中关村科技园区     专用设备制造业   \n",
       "4  430005.OC  2003 2006-07-28    广发证券股份有限公司           中关村科技园区       医药制造业   \n",
       "\n",
       "        摘牌日期  挂牌年度  挂牌月份      证券简称     ...       扣除非经常性损益后的净利  经营活动产生的现金流量净额  \\\n",
       "0 2010-12-06  2006     1  世纪瑞尔(退市)     ...                NaN    10843347.75   \n",
       "1        NaT  2006     1       中科软     ...         6039888.09            NaN   \n",
       "2        NaT  2006     3      北京时代     ...                NaN            NaN   \n",
       "3        NaT  2006     6      绿创环保     ...                NaN            NaN   \n",
       "4        NaT  2006     7      原子高科     ...                NaN            NaN   \n",
       "\n",
       "          应收账款         固定资产  ROA        折旧  长期待摊费用摊销      存货的减少  经营性应收项目的减少  \\\n",
       "0  27121681.98  29395524.57  NaN  943428.0  610643.0 -2692313.1 -13831571.1   \n",
       "1  19541521.43   6683984.09  NaN       NaN       NaN        NaN         NaN   \n",
       "2   8586266.12  51466641.87  NaN       NaN       NaN        NaN         NaN   \n",
       "3          NaN          NaN  NaN       NaN       NaN        NaN         NaN   \n",
       "4          NaN          NaN  NaN       NaN       NaN        NaN         NaN   \n",
       "\n",
       "    经营性应付项目的增加  \n",
       "0  13440729.88  \n",
       "1          NaN  \n",
       "2          NaN  \n",
       "3          NaN  \n",
       "4          NaN  \n",
       "\n",
       "[5 rows x 29 columns]"
      ]
     },
     "execution_count": 158,
     "metadata": {},
     "output_type": "execute_result"
    }
   ],
   "source": [
    "accounting_neeq_long.head()"
   ]
  },
  {
   "cell_type": "code",
   "execution_count": 159,
   "metadata": {
    "collapsed": false
   },
   "outputs": [],
   "source": [
    "files = !ls ../data/raw/\n",
    "files_fin_state = []\n",
    "for file in files:\n",
    "    match = re.match(\"财报披露日\", file)\n",
    "    if match is not None:\n",
    "        files_fin_state.append(file)"
   ]
  },
  {
   "cell_type": "code",
   "execution_count": 160,
   "metadata": {
    "collapsed": false
   },
   "outputs": [],
   "source": [
    "fin_report_data = []\n",
    "for item in files_fin_state:\n",
    "    data_dir = \"../data/raw/\" + item\n",
    "    data = pandas.read_excel(data_dir)\n",
    "    data = data[:-2]\n",
    "    fin_report_data.append(data)"
   ]
  },
  {
   "cell_type": "code",
   "execution_count": 161,
   "metadata": {
    "collapsed": false
   },
   "outputs": [],
   "source": [
    "financial_reports = pandas.concat(fin_report_data)"
   ]
  },
  {
   "cell_type": "code",
   "execution_count": 162,
   "metadata": {
    "collapsed": false
   },
   "outputs": [],
   "source": [
    "financial_reports = financial_reports[[\"证券代码\", \"实际披露日期\", \"报告期\"]]\n",
    "financial_reports[\"年度\"] = financial_reports[\"报告期\"].apply(lambda x: x.year)"
   ]
  },
  {
   "cell_type": "code",
   "execution_count": 163,
   "metadata": {
    "collapsed": false
   },
   "outputs": [
    {
     "data": {
      "text/html": [
       "<div>\n",
       "<table border=\"1\" class=\"dataframe\">\n",
       "  <thead>\n",
       "    <tr style=\"text-align: right;\">\n",
       "      <th></th>\n",
       "      <th>证券代码</th>\n",
       "      <th>实际披露日期</th>\n",
       "      <th>报告期</th>\n",
       "      <th>年度</th>\n",
       "    </tr>\n",
       "  </thead>\n",
       "  <tbody>\n",
       "    <tr>\n",
       "      <th>0</th>\n",
       "      <td>400028.OC</td>\n",
       "      <td>2004-05-19</td>\n",
       "      <td>2003-12-31</td>\n",
       "      <td>2003</td>\n",
       "    </tr>\n",
       "    <tr>\n",
       "      <th>1</th>\n",
       "      <td>400029.OC</td>\n",
       "      <td>2004-04-22</td>\n",
       "      <td>2003-12-31</td>\n",
       "      <td>2003</td>\n",
       "    </tr>\n",
       "    <tr>\n",
       "      <th>2</th>\n",
       "      <td>400030.OC</td>\n",
       "      <td>2004-04-17</td>\n",
       "      <td>2003-12-31</td>\n",
       "      <td>2003</td>\n",
       "    </tr>\n",
       "    <tr>\n",
       "      <th>3</th>\n",
       "      <td>400031.OC</td>\n",
       "      <td>2004-03-19</td>\n",
       "      <td>2003-12-31</td>\n",
       "      <td>2003</td>\n",
       "    </tr>\n",
       "    <tr>\n",
       "      <th>4</th>\n",
       "      <td>400032.OC</td>\n",
       "      <td>2004-04-29</td>\n",
       "      <td>2003-12-31</td>\n",
       "      <td>2003</td>\n",
       "    </tr>\n",
       "  </tbody>\n",
       "</table>\n",
       "</div>"
      ],
      "text/plain": [
       "        证券代码     实际披露日期        报告期    年度\n",
       "0  400028.OC 2004-05-19 2003-12-31  2003\n",
       "1  400029.OC 2004-04-22 2003-12-31  2003\n",
       "2  400030.OC 2004-04-17 2003-12-31  2003\n",
       "3  400031.OC 2004-03-19 2003-12-31  2003\n",
       "4  400032.OC 2004-04-29 2003-12-31  2003"
      ]
     },
     "execution_count": 163,
     "metadata": {},
     "output_type": "execute_result"
    }
   ],
   "source": [
    "financial_reports.head()"
   ]
  },
  {
   "cell_type": "code",
   "execution_count": 164,
   "metadata": {
    "collapsed": false
   },
   "outputs": [],
   "source": [
    "accounting_neeq_long = pandas.merge(accounting_neeq_long, financial_reports, \n",
    "                                    how=\"left\", on=[\"证券代码\", \"年度\"])"
   ]
  },
  {
   "cell_type": "code",
   "execution_count": 165,
   "metadata": {
    "collapsed": false
   },
   "outputs": [
    {
     "data": {
      "text/plain": [
       "证券代码                       430001.OC\n",
       "年度                              2003\n",
       "挂牌日期             2006-01-18 00:00:00\n",
       "主办券商                    申银万国证券股份有限公司\n",
       "所属园区                中关村科技园区非上市股份有限公司\n",
       "所属证监会行业                        软件与服务\n",
       "摘牌日期             2010-12-06 00:00:00\n",
       "挂牌年度                            2006\n",
       "挂牌月份                               1\n",
       "证券简称                        世纪瑞尔(退市)\n",
       "资产总计                     1.03696e+08\n",
       "归属母公司股东的权益               7.06015e+07\n",
       "营业收入                     4.02414e+07\n",
       "营业成本                     1.35694e+07\n",
       "销售费用                     7.71494e+06\n",
       "管理费用                     9.77092e+06\n",
       "财务费用                          235899\n",
       "归属母公司股东的净利润               1.0645e+07\n",
       "非经常性损益                           NaN\n",
       "扣除非经常性损益后的净利                     NaN\n",
       "经营活动产生的现金流量净额            1.08433e+07\n",
       "应收账款                     2.71217e+07\n",
       "固定资产                     2.93955e+07\n",
       "ROA                              NaN\n",
       "折旧                            943428\n",
       "长期待摊费用摊销                      610643\n",
       "存货的减少                   -2.69231e+06\n",
       "经营性应收项目的减少              -1.38316e+07\n",
       "经营性应付项目的增加               1.34407e+07\n",
       "实际披露日期                           NaT\n",
       "报告期                              NaT\n",
       "Name: 0, dtype: object"
      ]
     },
     "execution_count": 165,
     "metadata": {},
     "output_type": "execute_result"
    }
   ],
   "source": [
    "accounting_neeq_long.iloc[0]"
   ]
  },
  {
   "cell_type": "code",
   "execution_count": 166,
   "metadata": {
    "collapsed": false
   },
   "outputs": [],
   "source": [
    "accounting_neeq_long[\"挂牌前后\"] = numpy.nan"
   ]
  },
  {
   "cell_type": "code",
   "execution_count": 167,
   "metadata": {
    "collapsed": false
   },
   "outputs": [],
   "source": [
    "accounting_neeq_long.loc[(accounting_neeq_long[\"年度\"] >= accounting_neeq_long[\"挂牌年度\"]), \"挂牌前后\"] = \"挂牌后\"\n",
    "accounting_neeq_long.loc[(accounting_neeq_long[\"年度\"] == accounting_neeq_long[\"挂牌年度\"] - 1) &\n",
    "                         (accounting_neeq_long[\"实际披露日期\"] > accounting_neeq_long[\"挂牌日期\"]), \"挂牌前后\"] = \"挂牌后\"\n",
    "\n",
    "accounting_neeq_long.loc[(accounting_neeq_long[\"年度\"] <= accounting_neeq_long[\"挂牌年度\"] - 2), \"挂牌前后\"] = \"挂牌前\"\n",
    "accounting_neeq_long.loc[(accounting_neeq_long[\"年度\"] == accounting_neeq_long[\"挂牌年度\"] - 1) &\n",
    "                         (accounting_neeq_long[\"实际披露日期\"] <= accounting_neeq_long[\"挂牌日期\"]), \"挂牌前后\"] = \"挂牌前\""
   ]
  },
  {
   "cell_type": "code",
   "execution_count": 168,
   "metadata": {
    "collapsed": false
   },
   "outputs": [],
   "source": [
    "drops = accounting_neeq_long.loc[(accounting_neeq_long[\"年度\"] < accounting_neeq_long[\"挂牌年度\"] - 1) &\n",
    "                                 (accounting_neeq_long.iloc[:, 10:28].isnull().all(axis=1))].index"
   ]
  },
  {
   "cell_type": "code",
   "execution_count": 169,
   "metadata": {
    "collapsed": false
   },
   "outputs": [],
   "source": [
    "accounting_neeq_long = accounting_neeq_long.drop(drops)"
   ]
  },
  {
   "cell_type": "code",
   "execution_count": 170,
   "metadata": {
    "collapsed": false
   },
   "outputs": [],
   "source": [
    "accounting_neeq_long.loc[(accounting_neeq_long[\"年度\"] == accounting_neeq_long[\"挂牌年度\"] - 1) &\n",
    "                         (accounting_neeq_long[\"挂牌月份\"] < 5), \"挂牌前后\"] = \"挂牌后\"\n",
    "\n",
    "accounting_neeq_long.loc[(accounting_neeq_long[\"年度\"] == accounting_neeq_long[\"挂牌年度\"] - 1) &\n",
    "                         (accounting_neeq_long[\"挂牌月份\"] >= 5) & \n",
    "                         (~accounting_neeq_long.iloc[:, 10:28].isnull().all(axis=1)), \"挂牌前后\"] = \"挂牌前\""
   ]
  },
  {
   "cell_type": "code",
   "execution_count": 171,
   "metadata": {
    "collapsed": false
   },
   "outputs": [],
   "source": [
    "accounting_neeq_long.loc[(accounting_neeq_long[\"证券代码\"] == \"832668.OC\"), \"挂牌前后\"] = \"挂牌后\""
   ]
  },
  {
   "cell_type": "code",
   "execution_count": 111,
   "metadata": {
    "collapsed": false
   },
   "outputs": [],
   "source": [
    "accounting_groups = accounting_neeq_long.groupby(\"证券代码\")"
   ]
  },
  {
   "cell_type": "code",
   "execution_count": 172,
   "metadata": {
    "collapsed": true
   },
   "outputs": [],
   "source": [
    "def relative_index(data):\n",
    "    data = data.sort_values(\"年度\")\n",
    "    len1 = len(data[data[\"挂牌前后\"] == \"挂牌前\"])\n",
    "    len2 = len(data[data[\"挂牌前后\"] == \"挂牌后\"])\n",
    "    year_pre = numpy.arange(start=-1 * len1, stop=0, step=1)\n",
    "    year_post = numpy.arange(start=0, stop=len2, step=1)\n",
    "    data[\"relativeYear\"] = numpy.concatenate((year_pre, year_post))\n",
    "    return data"
   ]
  },
  {
   "cell_type": "code",
   "execution_count": 175,
   "metadata": {
    "collapsed": false
   },
   "outputs": [],
   "source": [
    "accounting_neeq_long1 = accounting_groups.apply(relative_index)"
   ]
  },
  {
   "cell_type": "code",
   "execution_count": 178,
   "metadata": {
    "collapsed": false
   },
   "outputs": [],
   "source": [
    "accounting_neeq_long1 = accounting_neeq_long1.reset_index(drop=True)"
   ]
  },
  {
   "cell_type": "code",
   "execution_count": 186,
   "metadata": {
    "collapsed": false,
    "scrolled": true
   },
   "outputs": [],
   "source": [
    "accounting_neeq_long1[accounting_neeq_long1[\"relativeYear\"] <= -5].to_csv('../data/tmp.csv', index=False)"
   ]
  },
  {
   "cell_type": "code",
   "execution_count": 143,
   "metadata": {
    "collapsed": false
   },
   "outputs": [
    {
     "data": {
      "text/html": [
       "<div>\n",
       "<table border=\"1\" class=\"dataframe\">\n",
       "  <thead>\n",
       "    <tr style=\"text-align: right;\">\n",
       "      <th></th>\n",
       "      <th>年度</th>\n",
       "      <th>挂牌日期</th>\n",
       "      <th>主办券商</th>\n",
       "      <th>所属园区</th>\n",
       "      <th>所属证监会行业</th>\n",
       "      <th>摘牌日期</th>\n",
       "      <th>挂牌年度</th>\n",
       "      <th>挂牌月份</th>\n",
       "      <th>证券简称</th>\n",
       "      <th>资产总计</th>\n",
       "      <th>...</th>\n",
       "      <th>固定资产</th>\n",
       "      <th>ROA</th>\n",
       "      <th>折旧</th>\n",
       "      <th>长期待摊费用摊销</th>\n",
       "      <th>存货的减少</th>\n",
       "      <th>经营性应收项目的减少</th>\n",
       "      <th>经营性应付项目的增加</th>\n",
       "      <th>实际披露日期</th>\n",
       "      <th>报告期</th>\n",
       "      <th>挂牌前后</th>\n",
       "    </tr>\n",
       "  </thead>\n",
       "  <tbody>\n",
       "    <tr>\n",
       "      <th>0</th>\n",
       "      <td>2003</td>\n",
       "      <td>2006-01-18</td>\n",
       "      <td>申银万国证券股份有限公司</td>\n",
       "      <td>中关村科技园区非上市股份有限公司</td>\n",
       "      <td>软件与服务</td>\n",
       "      <td>2010-12-06</td>\n",
       "      <td>2006</td>\n",
       "      <td>1</td>\n",
       "      <td>世纪瑞尔(退市)</td>\n",
       "      <td>1.036964e+08</td>\n",
       "      <td>...</td>\n",
       "      <td>2.939552e+07</td>\n",
       "      <td>NaN</td>\n",
       "      <td>943428.00</td>\n",
       "      <td>610643.0</td>\n",
       "      <td>-2692313.10</td>\n",
       "      <td>-13831571.10</td>\n",
       "      <td>13440729.88</td>\n",
       "      <td>NaT</td>\n",
       "      <td>NaT</td>\n",
       "      <td>挂牌前</td>\n",
       "    </tr>\n",
       "    <tr>\n",
       "      <th>1</th>\n",
       "      <td>2003</td>\n",
       "      <td>2006-01-23</td>\n",
       "      <td>申万宏源证券有限公司</td>\n",
       "      <td>中关村科技园区</td>\n",
       "      <td>软件和信息技术服务业</td>\n",
       "      <td>NaT</td>\n",
       "      <td>2006</td>\n",
       "      <td>1</td>\n",
       "      <td>中科软</td>\n",
       "      <td>1.839072e+08</td>\n",
       "      <td>...</td>\n",
       "      <td>6.683984e+06</td>\n",
       "      <td>NaN</td>\n",
       "      <td>NaN</td>\n",
       "      <td>NaN</td>\n",
       "      <td>NaN</td>\n",
       "      <td>NaN</td>\n",
       "      <td>NaN</td>\n",
       "      <td>NaT</td>\n",
       "      <td>NaT</td>\n",
       "      <td>挂牌前</td>\n",
       "    </tr>\n",
       "    <tr>\n",
       "      <th>2</th>\n",
       "      <td>2003</td>\n",
       "      <td>2006-03-31</td>\n",
       "      <td>国泰君安证券股份有限公司</td>\n",
       "      <td>中关村科技园区</td>\n",
       "      <td>通用设备制造业</td>\n",
       "      <td>NaT</td>\n",
       "      <td>2006</td>\n",
       "      <td>3</td>\n",
       "      <td>北京时代</td>\n",
       "      <td>1.133991e+08</td>\n",
       "      <td>...</td>\n",
       "      <td>5.146664e+07</td>\n",
       "      <td>NaN</td>\n",
       "      <td>NaN</td>\n",
       "      <td>NaN</td>\n",
       "      <td>NaN</td>\n",
       "      <td>NaN</td>\n",
       "      <td>NaN</td>\n",
       "      <td>NaT</td>\n",
       "      <td>NaT</td>\n",
       "      <td>挂牌前</td>\n",
       "    </tr>\n",
       "    <tr>\n",
       "      <th>3941</th>\n",
       "      <td>2003</td>\n",
       "      <td>2015-11-23</td>\n",
       "      <td>申万宏源证券有限公司</td>\n",
       "      <td>非高新产业区</td>\n",
       "      <td>化学原料和化学制品制造业</td>\n",
       "      <td>NaT</td>\n",
       "      <td>2015</td>\n",
       "      <td>11</td>\n",
       "      <td>大自然</td>\n",
       "      <td>4.343391e+08</td>\n",
       "      <td>...</td>\n",
       "      <td>2.801762e+08</td>\n",
       "      <td>2.7488</td>\n",
       "      <td>23517307.42</td>\n",
       "      <td>NaN</td>\n",
       "      <td>4822758.23</td>\n",
       "      <td>-1687981.33</td>\n",
       "      <td>-2123876.62</td>\n",
       "      <td>NaT</td>\n",
       "      <td>NaT</td>\n",
       "      <td>挂牌前</td>\n",
       "    </tr>\n",
       "    <tr>\n",
       "      <th>4096</th>\n",
       "      <td>2003</td>\n",
       "      <td>2015-12-01</td>\n",
       "      <td>国泰君安证券股份有限公司</td>\n",
       "      <td>非高新产业区</td>\n",
       "      <td>有色金属冶炼和压延加工业</td>\n",
       "      <td>NaT</td>\n",
       "      <td>2015</td>\n",
       "      <td>12</td>\n",
       "      <td>金田铜业</td>\n",
       "      <td>NaN</td>\n",
       "      <td>...</td>\n",
       "      <td>NaN</td>\n",
       "      <td>NaN</td>\n",
       "      <td>NaN</td>\n",
       "      <td>NaN</td>\n",
       "      <td>NaN</td>\n",
       "      <td>NaN</td>\n",
       "      <td>NaN</td>\n",
       "      <td>NaT</td>\n",
       "      <td>NaT</td>\n",
       "      <td>挂牌前</td>\n",
       "    </tr>\n",
       "  </tbody>\n",
       "</table>\n",
       "<p>5 rows × 31 columns</p>\n",
       "</div>"
      ],
      "text/plain": [
       "        年度       挂牌日期          主办券商              所属园区       所属证监会行业  \\\n",
       "0     2003 2006-01-18  申银万国证券股份有限公司  中关村科技园区非上市股份有限公司         软件与服务   \n",
       "1     2003 2006-01-23    申万宏源证券有限公司           中关村科技园区    软件和信息技术服务业   \n",
       "2     2003 2006-03-31  国泰君安证券股份有限公司           中关村科技园区       通用设备制造业   \n",
       "3941  2003 2015-11-23    申万宏源证券有限公司            非高新产业区  化学原料和化学制品制造业   \n",
       "4096  2003 2015-12-01  国泰君安证券股份有限公司            非高新产业区  有色金属冶炼和压延加工业   \n",
       "\n",
       "           摘牌日期  挂牌年度  挂牌月份      证券简称          资产总计  ...           固定资产  \\\n",
       "0    2010-12-06  2006     1  世纪瑞尔(退市)  1.036964e+08  ...   2.939552e+07   \n",
       "1           NaT  2006     1       中科软  1.839072e+08  ...   6.683984e+06   \n",
       "2           NaT  2006     3      北京时代  1.133991e+08  ...   5.146664e+07   \n",
       "3941        NaT  2015    11       大自然  4.343391e+08  ...   2.801762e+08   \n",
       "4096        NaT  2015    12      金田铜业           NaN  ...            NaN   \n",
       "\n",
       "         ROA           折旧  长期待摊费用摊销       存货的减少   经营性应收项目的减少   经营性应付项目的增加  \\\n",
       "0        NaN    943428.00  610643.0 -2692313.10 -13831571.10  13440729.88   \n",
       "1        NaN          NaN       NaN         NaN          NaN          NaN   \n",
       "2        NaN          NaN       NaN         NaN          NaN          NaN   \n",
       "3941  2.7488  23517307.42       NaN  4822758.23  -1687981.33  -2123876.62   \n",
       "4096     NaN          NaN       NaN         NaN          NaN          NaN   \n",
       "\n",
       "      实际披露日期  报告期  挂牌前后  \n",
       "0        NaT  NaT   挂牌前  \n",
       "1        NaT  NaT   挂牌前  \n",
       "2        NaT  NaT   挂牌前  \n",
       "3941     NaT  NaT   挂牌前  \n",
       "4096     NaT  NaT   挂牌前  \n",
       "\n",
       "[5 rows x 31 columns]"
      ]
     },
     "execution_count": 143,
     "metadata": {},
     "output_type": "execute_result"
    }
   ],
   "source": [
    "834019"
   ]
  },
  {
   "cell_type": "code",
   "execution_count": null,
   "metadata": {
    "collapsed": true
   },
   "outputs": [],
   "source": [
    "relative_index(accounting_neeq_long[accounting_neeq_long[\"证券代码\"] == \"\"])"
   ]
  }
 ],
 "metadata": {
  "kernelspec": {
   "display_name": "Python 3",
   "language": "python",
   "name": "python3"
  },
  "language_info": {
   "codemirror_mode": {
    "name": "ipython",
    "version": 3
   },
   "file_extension": ".py",
   "mimetype": "text/x-python",
   "name": "python",
   "nbconvert_exporter": "python",
   "pygments_lexer": "ipython3",
   "version": "3.5.1"
  }
 },
 "nbformat": 4,
 "nbformat_minor": 0
}
