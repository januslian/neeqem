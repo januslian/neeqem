{
 "cells": [
  {
   "cell_type": "code",
   "execution_count": 1,
   "metadata": {
    "collapsed": true
   },
   "outputs": [],
   "source": [
    "%matplotlib inline\n",
    "import numpy \n",
    "import pandas\n",
    "import matplotlib.pyplot as plt\n",
    "import seaborn as sns"
   ]
  },
  {
   "cell_type": "code",
   "execution_count": 2,
   "metadata": {
    "collapsed": true
   },
   "outputs": [],
   "source": [
    "accounting_neeq = pandas.read_excel(\"../data/raw/accounting2015.xlsx\")"
   ]
  },
  {
   "cell_type": "code",
   "execution_count": 3,
   "metadata": {
    "collapsed": false
   },
   "outputs": [
    {
     "data": {
      "text/plain": [
       "Index(['证券代码', '证券简称', '资产总计\\r\\n[报告期] 2003年报\\r\\n[报表类型] 合并报表\\r\\n[单位] 元',\n",
       "       '资产总计\\r\\n[报告期] 2004年报\\r\\n[报表类型] 合并报表\\r\\n[单位] 元',\n",
       "       '资产总计\\r\\n[报告期] 2005年报\\r\\n[报表类型] 合并报表\\r\\n[单位] 元',\n",
       "       '资产总计\\r\\n[报告期] 2006年报\\r\\n[报表类型] 合并报表\\r\\n[单位] 元',\n",
       "       '资产总计\\r\\n[报告期] 2007年报\\r\\n[报表类型] 合并报表\\r\\n[单位] 元',\n",
       "       '资产总计\\r\\n[报告期] 2008年报\\r\\n[报表类型] 合并报表\\r\\n[单位] 元',\n",
       "       '资产总计\\r\\n[报告期] 2009年报\\r\\n[报表类型] 合并报表\\r\\n[单位] 元',\n",
       "       '资产总计\\r\\n[报告期] 2010年报\\r\\n[报表类型] 合并报表\\r\\n[单位] 元',\n",
       "       ...\n",
       "       '总资产净利率ROA\\r\\n[报告期] 2006年报\\r\\n[单位] %',\n",
       "       '总资产净利率ROA\\r\\n[报告期] 2007年报\\r\\n[单位] %',\n",
       "       '总资产净利率ROA\\r\\n[报告期] 2008年报\\r\\n[单位] %',\n",
       "       '总资产净利率ROA\\r\\n[报告期] 2009年报\\r\\n[单位] %',\n",
       "       '总资产净利率ROA\\r\\n[报告期] 2010年报\\r\\n[单位] %',\n",
       "       '总资产净利率ROA\\r\\n[报告期] 2011年报\\r\\n[单位] %',\n",
       "       '总资产净利率ROA\\r\\n[报告期] 2012年报\\r\\n[单位] %',\n",
       "       '总资产净利率ROA\\r\\n[报告期] 2013年报\\r\\n[单位] %',\n",
       "       '总资产净利率ROA\\r\\n[报告期] 2014年报\\r\\n[单位] %',\n",
       "       '总资产净利率ROA\\r\\n[报告期] 2015年报\\r\\n[单位] %'],\n",
       "      dtype='object', length=184)"
      ]
     },
     "execution_count": 3,
     "metadata": {},
     "output_type": "execute_result"
    }
   ],
   "source": [
    "accounting_neeq.columns"
   ]
  },
  {
   "cell_type": "code",
   "execution_count": 5,
   "metadata": {
    "collapsed": false
   },
   "outputs": [],
   "source": [
    "columns = [\"资产总计\", \"归属母公司股东的权益\", \"营业收入\", \"营业成本\", \"销售费用\", \n",
    "           \"管理费用\", \"财务费用\", \"归属母公司股东的净利润\", \"非经常性损益\", \"扣除非经常性损益后的净利\", \n",
    "          \"经营活动产生的现金流量净额\", \"应收账款\", \"固定资产\", \"ROA\", ]\n",
    "year = numpy.arange(2003, 2016)\n",
    "\n",
    "colum_names = [item + str(iyear) for item in columns for iyear in year]"
   ]
  },
  {
   "cell_type": "code",
   "execution_count": 7,
   "metadata": {
    "collapsed": false
   },
   "outputs": [],
   "source": [
    "accounting_neeq.columns = [\"证券代码\", \"证券简称\"] + colum_names"
   ]
  },
  {
   "cell_type": "code",
   "execution_count": 12,
   "metadata": {
    "collapsed": false
   },
   "outputs": [],
   "source": [
    "accounting_neeq_long = pandas.wide_to_long(accounting_neeq, stubnames=columns, i=\"证券代码\", j=\"年度\")"
   ]
  },
  {
   "cell_type": "code",
   "execution_count": 14,
   "metadata": {
    "collapsed": false
   },
   "outputs": [],
   "source": [
    "accounting_neeq_long.reset_index(inplace=True)"
   ]
  },
  {
   "cell_type": "code",
   "execution_count": 15,
   "metadata": {
    "collapsed": false
   },
   "outputs": [
    {
     "data": {
      "text/html": [
       "<div>\n",
       "<table border=\"1\" class=\"dataframe\">\n",
       "  <thead>\n",
       "    <tr style=\"text-align: right;\">\n",
       "      <th></th>\n",
       "      <th>证券代码</th>\n",
       "      <th>年度</th>\n",
       "      <th>证券简称</th>\n",
       "      <th>资产总计</th>\n",
       "      <th>归属母公司股东的权益</th>\n",
       "      <th>营业收入</th>\n",
       "      <th>营业成本</th>\n",
       "      <th>销售费用</th>\n",
       "      <th>管理费用</th>\n",
       "      <th>财务费用</th>\n",
       "      <th>归属母公司股东的净利润</th>\n",
       "      <th>非经常性损益</th>\n",
       "      <th>扣除非经常性损益后的净利</th>\n",
       "      <th>经营活动产生的现金流量净额</th>\n",
       "      <th>应收账款</th>\n",
       "      <th>固定资产</th>\n",
       "      <th>ROA</th>\n",
       "    </tr>\n",
       "  </thead>\n",
       "  <tbody>\n",
       "    <tr>\n",
       "      <th>0</th>\n",
       "      <td>430001.OC</td>\n",
       "      <td>2003</td>\n",
       "      <td>世纪瑞尔(退市)</td>\n",
       "      <td>1.036964e+08</td>\n",
       "      <td>70601541.88</td>\n",
       "      <td>4.024140e+07</td>\n",
       "      <td>1.356939e+07</td>\n",
       "      <td>7714944.32</td>\n",
       "      <td>9770923.24</td>\n",
       "      <td>235899.47</td>\n",
       "      <td>10645043.99</td>\n",
       "      <td>NaN</td>\n",
       "      <td>NaN</td>\n",
       "      <td>10843347.75</td>\n",
       "      <td>27121681.98</td>\n",
       "      <td>29395524.57</td>\n",
       "      <td>NaN</td>\n",
       "    </tr>\n",
       "    <tr>\n",
       "      <th>1</th>\n",
       "      <td>430002.OC</td>\n",
       "      <td>2003</td>\n",
       "      <td>中科软</td>\n",
       "      <td>1.839072e+08</td>\n",
       "      <td>89562635.50</td>\n",
       "      <td>1.490582e+08</td>\n",
       "      <td>1.141121e+08</td>\n",
       "      <td>6892272.09</td>\n",
       "      <td>24343639.09</td>\n",
       "      <td>-180356.33</td>\n",
       "      <td>6765988.09</td>\n",
       "      <td>726100.0</td>\n",
       "      <td>6039888.09</td>\n",
       "      <td>NaN</td>\n",
       "      <td>19541521.43</td>\n",
       "      <td>6683984.09</td>\n",
       "      <td>NaN</td>\n",
       "    </tr>\n",
       "    <tr>\n",
       "      <th>2</th>\n",
       "      <td>430003.OC</td>\n",
       "      <td>2003</td>\n",
       "      <td>北京时代</td>\n",
       "      <td>1.133991e+08</td>\n",
       "      <td>37775443.35</td>\n",
       "      <td>9.185290e+07</td>\n",
       "      <td>6.456308e+07</td>\n",
       "      <td>9269561.32</td>\n",
       "      <td>10623912.74</td>\n",
       "      <td>1230611.04</td>\n",
       "      <td>5548693.21</td>\n",
       "      <td>NaN</td>\n",
       "      <td>NaN</td>\n",
       "      <td>NaN</td>\n",
       "      <td>8586266.12</td>\n",
       "      <td>51466641.87</td>\n",
       "      <td>NaN</td>\n",
       "    </tr>\n",
       "    <tr>\n",
       "      <th>3</th>\n",
       "      <td>430004.OC</td>\n",
       "      <td>2003</td>\n",
       "      <td>绿创环保</td>\n",
       "      <td>NaN</td>\n",
       "      <td>NaN</td>\n",
       "      <td>NaN</td>\n",
       "      <td>NaN</td>\n",
       "      <td>NaN</td>\n",
       "      <td>NaN</td>\n",
       "      <td>NaN</td>\n",
       "      <td>NaN</td>\n",
       "      <td>NaN</td>\n",
       "      <td>NaN</td>\n",
       "      <td>NaN</td>\n",
       "      <td>NaN</td>\n",
       "      <td>NaN</td>\n",
       "      <td>NaN</td>\n",
       "    </tr>\n",
       "    <tr>\n",
       "      <th>4</th>\n",
       "      <td>430005.OC</td>\n",
       "      <td>2003</td>\n",
       "      <td>原子高科</td>\n",
       "      <td>NaN</td>\n",
       "      <td>NaN</td>\n",
       "      <td>NaN</td>\n",
       "      <td>NaN</td>\n",
       "      <td>NaN</td>\n",
       "      <td>NaN</td>\n",
       "      <td>NaN</td>\n",
       "      <td>NaN</td>\n",
       "      <td>NaN</td>\n",
       "      <td>NaN</td>\n",
       "      <td>NaN</td>\n",
       "      <td>NaN</td>\n",
       "      <td>NaN</td>\n",
       "      <td>NaN</td>\n",
       "    </tr>\n",
       "  </tbody>\n",
       "</table>\n",
       "</div>"
      ],
      "text/plain": [
       "        证券代码    年度      证券简称          资产总计   归属母公司股东的权益          营业收入  \\\n",
       "0  430001.OC  2003  世纪瑞尔(退市)  1.036964e+08  70601541.88  4.024140e+07   \n",
       "1  430002.OC  2003       中科软  1.839072e+08  89562635.50  1.490582e+08   \n",
       "2  430003.OC  2003      北京时代  1.133991e+08  37775443.35  9.185290e+07   \n",
       "3  430004.OC  2003      绿创环保           NaN          NaN           NaN   \n",
       "4  430005.OC  2003      原子高科           NaN          NaN           NaN   \n",
       "\n",
       "           营业成本        销售费用         管理费用        财务费用  归属母公司股东的净利润    非经常性损益  \\\n",
       "0  1.356939e+07  7714944.32   9770923.24   235899.47  10645043.99       NaN   \n",
       "1  1.141121e+08  6892272.09  24343639.09  -180356.33   6765988.09  726100.0   \n",
       "2  6.456308e+07  9269561.32  10623912.74  1230611.04   5548693.21       NaN   \n",
       "3           NaN         NaN          NaN         NaN          NaN       NaN   \n",
       "4           NaN         NaN          NaN         NaN          NaN       NaN   \n",
       "\n",
       "   扣除非经常性损益后的净利  经营活动产生的现金流量净额         应收账款         固定资产  ROA  \n",
       "0           NaN    10843347.75  27121681.98  29395524.57  NaN  \n",
       "1    6039888.09            NaN  19541521.43   6683984.09  NaN  \n",
       "2           NaN            NaN   8586266.12  51466641.87  NaN  \n",
       "3           NaN            NaN          NaN          NaN  NaN  \n",
       "4           NaN            NaN          NaN          NaN  NaN  "
      ]
     },
     "execution_count": 15,
     "metadata": {},
     "output_type": "execute_result"
    }
   ],
   "source": [
    "accounting_neeq_long.head()"
   ]
  },
  {
   "cell_type": "code",
   "execution_count": null,
   "metadata": {
    "collapsed": true
   },
   "outputs": [],
   "source": []
  }
 ],
 "metadata": {
  "kernelspec": {
   "display_name": "Python 3",
   "language": "python",
   "name": "python3"
  },
  "language_info": {
   "codemirror_mode": {
    "name": "ipython",
    "version": 3
   },
   "file_extension": ".py",
   "mimetype": "text/x-python",
   "name": "python",
   "nbconvert_exporter": "python",
   "pygments_lexer": "ipython3",
   "version": "3.5.1"
  }
 },
 "nbformat": 4,
 "nbformat_minor": 0
}
