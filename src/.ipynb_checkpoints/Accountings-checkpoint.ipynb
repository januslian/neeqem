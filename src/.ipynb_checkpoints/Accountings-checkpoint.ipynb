{
 "cells": [
  {
   "cell_type": "code",
   "execution_count": 1,
   "metadata": {
    "collapsed": true
   },
   "outputs": [],
   "source": [
    "%matplotlib inline\n",
    "import numpy \n",
    "import pandas\n",
    "import matplotlib.pyplot as plt\n",
    "import seaborn as sns"
   ]
  },
  {
   "cell_type": "code",
   "execution_count": 2,
   "metadata": {
    "collapsed": false
   },
   "outputs": [],
   "source": [
    "accounting_neeq = pandas.read_excel(\"../data/raw/accounting2015.xlsx\")\n",
    "accounting_cf_neeq = pandas.read_excel(\"../data/raw/accounting2015_cf.xlsx\")\n",
    "accounting_neeq = accounting_neeq[:-2]\n",
    "accounting_cf_neeq = accounting_cf_neeq[:-2]\n",
    "#833822"
   ]
  },
  {
   "cell_type": "code",
   "execution_count": 3,
   "metadata": {
    "collapsed": true
   },
   "outputs": [],
   "source": [
    "accounting_neeq = pandas.merge(accounting_neeq, accounting_cf_neeq, on=[\"证券代码\", \"证券简称\"])"
   ]
  },
  {
   "cell_type": "code",
   "execution_count": 4,
   "metadata": {
    "collapsed": false
   },
   "outputs": [],
   "source": [
    "columns = [\"资产总计\", \"归属母公司股东的权益\", \"营业收入\", \"营业成本\", \"销售费用\", \n",
    "           \"管理费用\", \"财务费用\", \"归属母公司股东的净利润\", \"非经常性损益\", \"扣除非经常性损益后的净利\", \n",
    "          \"经营活动产生的现金流量净额\", \"应收账款\", \"固定资产\", \"ROA\", \"折旧\", \"长期待摊费用摊销\",\n",
    "           \"存货的减少\", \"经营性应收项目的减少\", \"经营性应付项目的增加\"]\n",
    "\n",
    "year = numpy.arange(2003, 2016)\n",
    "\n",
    "column_names = [item + str(iyear) for item in columns for iyear in year]"
   ]
  },
  {
   "cell_type": "code",
   "execution_count": 5,
   "metadata": {
    "collapsed": false
   },
   "outputs": [],
   "source": [
    "accounting_neeq.columns = [\"证券代码\", \"证券简称\"] + column_names"
   ]
  },
  {
   "cell_type": "code",
   "execution_count": 6,
   "metadata": {
    "collapsed": false
   },
   "outputs": [],
   "source": [
    "accounting_neeq_long = pandas.wide_to_long(accounting_neeq, stubnames=columns, i=\"证券代码\", j=\"年度\")"
   ]
  },
  {
   "cell_type": "code",
   "execution_count": 7,
   "metadata": {
    "collapsed": true
   },
   "outputs": [],
   "source": [
    "neeq_sample = pandas.read_csv(\"../data/NEEQ_sample.csv\", parse_dates=[7, 8], index_col=13)"
   ]
  },
  {
   "cell_type": "code",
   "execution_count": 8,
   "metadata": {
    "collapsed": true
   },
   "outputs": [],
   "source": [
    "neeq_sample = neeq_sample[[\"挂牌日期\", \"主办券商\", \"所属园区\", \"所属证监会行业\", \"摘牌日期\"]]\n",
    "neeq_sample = neeq_sample.sort_index()\n",
    "neeq_sample[\"挂牌年度\"] = neeq_sample[\"挂牌日期\"].apply(lambda x: x.year)\n",
    "neeq_sample[\"挂牌月份\"] = neeq_sample[\"挂牌日期\"].apply(lambda x: x.month)"
   ]
  },
  {
   "cell_type": "code",
   "execution_count": 9,
   "metadata": {
    "collapsed": false
   },
   "outputs": [],
   "source": [
    "accounting_neeq_long = pandas.merge(neeq_sample, accounting_neeq_long, \n",
    "                                    how=\"inner\", left_index=True, \n",
    "                                    right_index=True)"
   ]
  },
  {
   "cell_type": "code",
   "execution_count": 10,
   "metadata": {
    "collapsed": false,
    "scrolled": true
   },
   "outputs": [],
   "source": [
    "accounting_neeq_long.reset_index(inplace=True)"
   ]
  },
  {
   "cell_type": "code",
   "execution_count": 11,
   "metadata": {
    "collapsed": false
   },
   "outputs": [
    {
     "data": {
      "text/html": [
       "<div>\n",
       "<table border=\"1\" class=\"dataframe\">\n",
       "  <thead>\n",
       "    <tr style=\"text-align: right;\">\n",
       "      <th></th>\n",
       "      <th>证券代码</th>\n",
       "      <th>年度</th>\n",
       "      <th>挂牌日期</th>\n",
       "      <th>主办券商</th>\n",
       "      <th>所属园区</th>\n",
       "      <th>所属证监会行业</th>\n",
       "      <th>摘牌日期</th>\n",
       "      <th>挂牌年度</th>\n",
       "      <th>挂牌月份</th>\n",
       "      <th>证券简称</th>\n",
       "      <th>...</th>\n",
       "      <th>扣除非经常性损益后的净利</th>\n",
       "      <th>经营活动产生的现金流量净额</th>\n",
       "      <th>应收账款</th>\n",
       "      <th>固定资产</th>\n",
       "      <th>ROA</th>\n",
       "      <th>折旧</th>\n",
       "      <th>长期待摊费用摊销</th>\n",
       "      <th>存货的减少</th>\n",
       "      <th>经营性应收项目的减少</th>\n",
       "      <th>经营性应付项目的增加</th>\n",
       "    </tr>\n",
       "  </thead>\n",
       "  <tbody>\n",
       "    <tr>\n",
       "      <th>0</th>\n",
       "      <td>430001.OC</td>\n",
       "      <td>2003</td>\n",
       "      <td>2006-01-18</td>\n",
       "      <td>申银万国证券股份有限公司</td>\n",
       "      <td>中关村科技园区非上市股份有限公司</td>\n",
       "      <td>软件与服务</td>\n",
       "      <td>2010-12-06</td>\n",
       "      <td>2006</td>\n",
       "      <td>1</td>\n",
       "      <td>世纪瑞尔(退市)</td>\n",
       "      <td>...</td>\n",
       "      <td>NaN</td>\n",
       "      <td>10843347.75</td>\n",
       "      <td>27121681.98</td>\n",
       "      <td>29395524.57</td>\n",
       "      <td>NaN</td>\n",
       "      <td>943428.0</td>\n",
       "      <td>610643.0</td>\n",
       "      <td>-2692313.1</td>\n",
       "      <td>-13831571.1</td>\n",
       "      <td>13440729.88</td>\n",
       "    </tr>\n",
       "    <tr>\n",
       "      <th>1</th>\n",
       "      <td>430002.OC</td>\n",
       "      <td>2003</td>\n",
       "      <td>2006-01-23</td>\n",
       "      <td>申万宏源证券有限公司</td>\n",
       "      <td>中关村科技园区</td>\n",
       "      <td>软件和信息技术服务业</td>\n",
       "      <td>NaT</td>\n",
       "      <td>2006</td>\n",
       "      <td>1</td>\n",
       "      <td>中科软</td>\n",
       "      <td>...</td>\n",
       "      <td>6039888.09</td>\n",
       "      <td>NaN</td>\n",
       "      <td>19541521.43</td>\n",
       "      <td>6683984.09</td>\n",
       "      <td>NaN</td>\n",
       "      <td>NaN</td>\n",
       "      <td>NaN</td>\n",
       "      <td>NaN</td>\n",
       "      <td>NaN</td>\n",
       "      <td>NaN</td>\n",
       "    </tr>\n",
       "    <tr>\n",
       "      <th>2</th>\n",
       "      <td>430003.OC</td>\n",
       "      <td>2003</td>\n",
       "      <td>2006-03-31</td>\n",
       "      <td>国泰君安证券股份有限公司</td>\n",
       "      <td>中关村科技园区</td>\n",
       "      <td>通用设备制造业</td>\n",
       "      <td>NaT</td>\n",
       "      <td>2006</td>\n",
       "      <td>3</td>\n",
       "      <td>北京时代</td>\n",
       "      <td>...</td>\n",
       "      <td>NaN</td>\n",
       "      <td>NaN</td>\n",
       "      <td>8586266.12</td>\n",
       "      <td>51466641.87</td>\n",
       "      <td>NaN</td>\n",
       "      <td>NaN</td>\n",
       "      <td>NaN</td>\n",
       "      <td>NaN</td>\n",
       "      <td>NaN</td>\n",
       "      <td>NaN</td>\n",
       "    </tr>\n",
       "    <tr>\n",
       "      <th>3</th>\n",
       "      <td>430004.OC</td>\n",
       "      <td>2003</td>\n",
       "      <td>2006-06-07</td>\n",
       "      <td>广发证券股份有限公司</td>\n",
       "      <td>中关村科技园区</td>\n",
       "      <td>专用设备制造业</td>\n",
       "      <td>NaT</td>\n",
       "      <td>2006</td>\n",
       "      <td>6</td>\n",
       "      <td>绿创环保</td>\n",
       "      <td>...</td>\n",
       "      <td>NaN</td>\n",
       "      <td>NaN</td>\n",
       "      <td>NaN</td>\n",
       "      <td>NaN</td>\n",
       "      <td>NaN</td>\n",
       "      <td>NaN</td>\n",
       "      <td>NaN</td>\n",
       "      <td>NaN</td>\n",
       "      <td>NaN</td>\n",
       "      <td>NaN</td>\n",
       "    </tr>\n",
       "    <tr>\n",
       "      <th>4</th>\n",
       "      <td>430005.OC</td>\n",
       "      <td>2003</td>\n",
       "      <td>2006-07-28</td>\n",
       "      <td>广发证券股份有限公司</td>\n",
       "      <td>中关村科技园区</td>\n",
       "      <td>医药制造业</td>\n",
       "      <td>NaT</td>\n",
       "      <td>2006</td>\n",
       "      <td>7</td>\n",
       "      <td>原子高科</td>\n",
       "      <td>...</td>\n",
       "      <td>NaN</td>\n",
       "      <td>NaN</td>\n",
       "      <td>NaN</td>\n",
       "      <td>NaN</td>\n",
       "      <td>NaN</td>\n",
       "      <td>NaN</td>\n",
       "      <td>NaN</td>\n",
       "      <td>NaN</td>\n",
       "      <td>NaN</td>\n",
       "      <td>NaN</td>\n",
       "    </tr>\n",
       "  </tbody>\n",
       "</table>\n",
       "<p>5 rows × 29 columns</p>\n",
       "</div>"
      ],
      "text/plain": [
       "        证券代码    年度       挂牌日期          主办券商              所属园区     所属证监会行业  \\\n",
       "0  430001.OC  2003 2006-01-18  申银万国证券股份有限公司  中关村科技园区非上市股份有限公司       软件与服务   \n",
       "1  430002.OC  2003 2006-01-23    申万宏源证券有限公司           中关村科技园区  软件和信息技术服务业   \n",
       "2  430003.OC  2003 2006-03-31  国泰君安证券股份有限公司           中关村科技园区     通用设备制造业   \n",
       "3  430004.OC  2003 2006-06-07    广发证券股份有限公司           中关村科技园区     专用设备制造业   \n",
       "4  430005.OC  2003 2006-07-28    广发证券股份有限公司           中关村科技园区       医药制造业   \n",
       "\n",
       "        摘牌日期  挂牌年度  挂牌月份      证券简称     ...       扣除非经常性损益后的净利  经营活动产生的现金流量净额  \\\n",
       "0 2010-12-06  2006     1  世纪瑞尔(退市)     ...                NaN    10843347.75   \n",
       "1        NaT  2006     1       中科软     ...         6039888.09            NaN   \n",
       "2        NaT  2006     3      北京时代     ...                NaN            NaN   \n",
       "3        NaT  2006     6      绿创环保     ...                NaN            NaN   \n",
       "4        NaT  2006     7      原子高科     ...                NaN            NaN   \n",
       "\n",
       "          应收账款         固定资产  ROA        折旧  长期待摊费用摊销      存货的减少  经营性应收项目的减少  \\\n",
       "0  27121681.98  29395524.57  NaN  943428.0  610643.0 -2692313.1 -13831571.1   \n",
       "1  19541521.43   6683984.09  NaN       NaN       NaN        NaN         NaN   \n",
       "2   8586266.12  51466641.87  NaN       NaN       NaN        NaN         NaN   \n",
       "3          NaN          NaN  NaN       NaN       NaN        NaN         NaN   \n",
       "4          NaN          NaN  NaN       NaN       NaN        NaN         NaN   \n",
       "\n",
       "    经营性应付项目的增加  \n",
       "0  13440729.88  \n",
       "1          NaN  \n",
       "2          NaN  \n",
       "3          NaN  \n",
       "4          NaN  \n",
       "\n",
       "[5 rows x 29 columns]"
      ]
     },
     "execution_count": 11,
     "metadata": {},
     "output_type": "execute_result"
    }
   ],
   "source": [
    "accounting_neeq_long.head()"
   ]
  },
  {
   "cell_type": "code",
   "execution_count": 12,
   "metadata": {
    "collapsed": false
   },
   "outputs": [
    {
     "data": {
      "text/plain": [
       "-1     6866\n",
       "-2     6866\n",
       "-3     6866\n",
       "-4     6856\n",
       "-5     6842\n",
       "-6     6825\n",
       "-7     6805\n",
       "-8     6789\n",
       "-9     6764\n",
       "-10    6659\n",
       "-11    6503\n",
       "-12    5283\n",
       " 0     5057\n",
       "-13    1809\n",
       " 1     1583\n",
       " 2      363\n",
       " 3      207\n",
       " 4      102\n",
       " 5       77\n",
       " 6       61\n",
       " 7       41\n",
       " 8       24\n",
       " 9       10\n",
       "dtype: int64"
      ]
     },
     "execution_count": 12,
     "metadata": {},
     "output_type": "execute_result"
    }
   ],
   "source": [
    "(accounting_neeq_long[\"年度\"] - accounting_neeq_long[\"挂牌年度\"]).value_counts()"
   ]
  },
  {
   "cell_type": "code",
   "execution_count": 12,
   "metadata": {
    "collapsed": false
   },
   "outputs": [
    {
     "data": {
      "text/plain": [
       "6866"
      ]
     },
     "execution_count": 12,
     "metadata": {},
     "output_type": "execute_result"
    }
   ],
   "source": [
    "len(accounting_neeq)"
   ]
  },
  {
   "cell_type": "code",
   "execution_count": 13,
   "metadata": {
    "collapsed": false
   },
   "outputs": [
    {
     "data": {
      "text/plain": [
       "89258"
      ]
     },
     "execution_count": 13,
     "metadata": {},
     "output_type": "execute_result"
    }
   ],
   "source": [
    "6866 * len(year)"
   ]
  },
  {
   "cell_type": "code",
   "execution_count": 14,
   "metadata": {
    "collapsed": false
   },
   "outputs": [
    {
     "data": {
      "text/plain": [
       "89258"
      ]
     },
     "execution_count": 14,
     "metadata": {},
     "output_type": "execute_result"
    }
   ],
   "source": [
    "len(accounting_neeq_long)"
   ]
  },
  {
   "cell_type": "code",
   "execution_count": null,
   "metadata": {
    "collapsed": true
   },
   "outputs": [],
   "source": []
  }
 ],
 "metadata": {
  "kernelspec": {
   "display_name": "Python 3",
   "language": "python",
   "name": "python3"
  },
  "language_info": {
   "codemirror_mode": {
    "name": "ipython",
    "version": 3
   },
   "file_extension": ".py",
   "mimetype": "text/x-python",
   "name": "python",
   "nbconvert_exporter": "python",
   "pygments_lexer": "ipython3",
   "version": "3.5.1"
  }
 },
 "nbformat": 4,
 "nbformat_minor": 0
}
