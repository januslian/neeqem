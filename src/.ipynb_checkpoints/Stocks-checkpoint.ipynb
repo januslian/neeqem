{
 "cells": [
  {
   "cell_type": "markdown",
   "metadata": {},
   "source": [
    "本文件的程序用于筛选出适合检验的股票，针对新三板的公司，需要踢除的公司包括了：\n",
    "* 从主板退市的54家公司；\n",
    "* 继承的“两网”（下边有原因的说明）8家公司，\n",
    "* 保险、银行、证券、小额信贷、基金等金融类144家公司\n",
    "\n",
    "数据来源于Wind资讯和同花顺。数据库导出的原始数据不包含已经退市的公司，所以在进行分析时加回了那些退市的公司。\n",
    "\n",
    "文中使用的代号：NEEQ表示新三板公司（代码以4或8开头），MB表示主板（代码以00、60开头，主板不包含B股股票），SME表示中小企业板（代码以002开头），ChiNext表示创业板（代码以300开头）。还有一部分可能涉及到预披露的、正在接受核准的以及正在等待证券发行的拟上市公司对应的信息（通常是wind或者同花顺数据库自己编码的以A开头的代码）\n",
    "\n",
    "所有数据选自从新三板建立之初（2006）到2016年4月30日。有效的“新三板”样本6867家公司。"
   ]
  },
  {
   "cell_type": "code",
   "execution_count": 1,
   "metadata": {
    "collapsed": true
   },
   "outputs": [],
   "source": [
    "%matplotlib inline\n",
    "import numpy \n",
    "import pandas\n",
    "import matplotlib.pyplot as plt\n",
    "import seaborn as sns"
   ]
  },
  {
   "cell_type": "code",
   "execution_count": 2,
   "metadata": {
    "collapsed": false
   },
   "outputs": [],
   "source": [
    "stocks_neeq = pandas.read_excel(\"../data/raw/挂牌公司一览.xlsx\")\n",
    "stocks_neeq = stocks_neeq.iloc[:-2] #最后两行不是有用信息\n",
    "stocks_neeq_20160430 = pandas.read_excel(\"../data/raw/挂牌公司一览20160430.xls\")\n",
    "stocks_neeq = stocks_neeq.append(stocks_neeq_20160430)"
   ]
  },
  {
   "cell_type": "code",
   "execution_count": 3,
   "metadata": {
    "collapsed": false
   },
   "outputs": [
    {
     "data": {
      "text/plain": [
       "非高新产业区           5128\n",
       "中关村科技园区           829\n",
       "武汉东湖高新区            93\n",
       "上海张江高新技术产业开发区      86\n",
       "成都高新区              64\n",
       "郑州高新区              57\n",
       "西安高新区              57\n",
       "济南高新区              54\n",
       "主板退市公司             54\n",
       "长沙高新区              39\n",
       "天津滨海高新技术产业开发区      32\n",
       "合肥高新区              30\n",
       "厦门火炬高新区            29\n",
       "苏州高新区              29\n",
       "广州高新区              28\n",
       "大连高新区              28\n",
       "深圳高新区              28\n",
       "南京高新区              20\n",
       "洛阳高新区              18\n",
       "宁波高新区              18\n",
       "南昌高新区              17\n",
       "东莞松山湖高新区           15\n",
       "石家庄高新区             14\n",
       "哈尔滨高新区             12\n",
       "长春高新区              12\n",
       "太原高新区              11\n",
       "昆明高新区              11\n",
       "烟台高新区               9\n",
       "乌鲁木齐高新区             9\n",
       "贵阳高新区               9\n",
       "                 ... \n",
       "新莱芜高新技术产业开发区        3\n",
       "蚌埠高新区               2\n",
       "泰安高新区               2\n",
       "杭州高新区               2\n",
       "佛山高新区               2\n",
       "自贡高新区               2\n",
       "鞍山高新区               2\n",
       "福州高新区               2\n",
       "襄樊高新区               2\n",
       "徐州高新区               2\n",
       "桂林高新区               2\n",
       "宝鸡高新区               2\n",
       "肇庆高新区               2\n",
       "新乡高新区               2\n",
       "温州高新区               2\n",
       "绍兴高新区               1\n",
       "玉溪高新区               1\n",
       "南阳高新区               1\n",
       "泰州高新区               1\n",
       "海口高新区               1\n",
       "昌吉高新区               1\n",
       "阜新高新区               1\n",
       "石嘴山高新区              1\n",
       "银川高新区               1\n",
       "常州高新区               1\n",
       "咸阳高新区               1\n",
       "株洲高新区               1\n",
       "长春净月高新技术产业开发区       1\n",
       "杨凌高新区               1\n",
       "营口高新区               1\n",
       "Name: 所属园区, dtype: int64"
      ]
     },
     "execution_count": 3,
     "metadata": {},
     "output_type": "execute_result"
    }
   ],
   "source": [
    "stocks_neeq[\"所属园区\"].value_counts()"
   ]
  },
  {
   "cell_type": "code",
   "execution_count": 4,
   "metadata": {
    "collapsed": true
   },
   "outputs": [],
   "source": [
    "MB_delist = stocks_neeq[stocks_neeq[\"所属园区\"] == \"主板退市公司\"]"
   ]
  },
  {
   "cell_type": "code",
   "execution_count": 5,
   "metadata": {
    "collapsed": false
   },
   "outputs": [
    {
     "data": {
      "text/plain": [
       "54"
      ]
     },
     "execution_count": 5,
     "metadata": {},
     "output_type": "execute_result"
    }
   ],
   "source": [
    "len(MB_delist) #与wind退市中数量一致"
   ]
  },
  {
   "cell_type": "code",
   "execution_count": 6,
   "metadata": {
    "collapsed": true
   },
   "outputs": [],
   "source": [
    "#踢除主板退市到新三板的公司\n",
    "stocks_neeq = stocks_neeq[stocks_neeq[\"所属园区\"] != \"主板退市公司\"]"
   ]
  },
  {
   "cell_type": "markdown",
   "metadata": {},
   "source": [
    "在新三板挂牌的公司还包括了原两网的公司（NET和STAQ），两网的公司是在90年代有中国人民银行批准设立的，总用9家公司（粤传媒(400003)上市后剩余8家公司），由于政策方面的约束，此类公司即便在三板市场上依然不被允许进行新的融资而只能股份转让。这些公司包含了： \n",
    "* 大自然（400001），该股票已经在在新三板退市，并以834019为代码成为全国股转公司的挂牌企业。可能出现的问题是，数据库把400001公布的财务信息也作为了新挂牌公司的财务信息，因此，处理时直接以新挂牌的公司转让公告书中披露的财务信息作为检验标准（To-do: 作为对比直接踢除这家公司的数据。）\n",
    "* 长白5 (400002)\n",
    "* 海国实5(400005)\n",
    "* 京中兴5(400006)\n",
    "* 华凯1 (400007)\n",
    "* 广建1 (400009)\n",
    "* 鹫峰5 (400010)\n",
    "* 港岳1 (400013)"
   ]
  },
  {
   "cell_type": "code",
   "execution_count": 7,
   "metadata": {
    "collapsed": false
   },
   "outputs": [],
   "source": [
    "stkcs_net_staq = [\"400001.OC\", \"400002.OC\", \"400005.OC\", \"400006.OC\", \"400007.OC\", \"400009.OC\", \"400010.OC\", \"400013.OC\"]\n",
    "\n",
    "stocks_neeq = stocks_neeq[~stocks_neeq[\"证券代码\"].isin(stkcs_net_staq)]"
   ]
  },
  {
   "cell_type": "code",
   "execution_count": 8,
   "metadata": {
    "collapsed": false
   },
   "outputs": [
    {
     "data": {
      "text/plain": [
       "6947"
      ]
     },
     "execution_count": 8,
     "metadata": {},
     "output_type": "execute_result"
    }
   ],
   "source": [
    "len(stocks_neeq)"
   ]
  },
  {
   "cell_type": "code",
   "execution_count": 9,
   "metadata": {
    "collapsed": false
   },
   "outputs": [
    {
     "data": {
      "text/html": [
       "<div>\n",
       "<table border=\"1\" class=\"dataframe\">\n",
       "  <thead>\n",
       "    <tr style=\"text-align: right;\">\n",
       "      <th></th>\n",
       "      <th>证券代码</th>\n",
       "      <th>证券简称</th>\n",
       "      <th>挂牌日期</th>\n",
       "      <th>主办券商</th>\n",
       "      <th>转让方式</th>\n",
       "      <th>主营产品</th>\n",
       "      <th>股份总量(万股)</th>\n",
       "      <th>可交易股份总量(万股)</th>\n",
       "      <th>最新成交价(元)</th>\n",
       "      <th>最新成交日</th>\n",
       "      <th>总市值(万元)</th>\n",
       "      <th>所属Wind行业</th>\n",
       "      <th>所属证监会行业</th>\n",
       "      <th>所属园区</th>\n",
       "    </tr>\n",
       "  </thead>\n",
       "  <tbody>\n",
       "    <tr>\n",
       "      <th>2323</th>\n",
       "      <td>834019.OC</td>\n",
       "      <td>大自然</td>\n",
       "      <td>2015-11-23</td>\n",
       "      <td>申万宏源证券有限公司</td>\n",
       "      <td>协议转让</td>\n",
       "      <td>高分子聚合物</td>\n",
       "      <td>8560.06</td>\n",
       "      <td>6871.0</td>\n",
       "      <td>7.35</td>\n",
       "      <td>2016-04-14 00:00:00</td>\n",
       "      <td>62916.441</td>\n",
       "      <td>材料Ⅱ</td>\n",
       "      <td>化学原料和化学制品制造业</td>\n",
       "      <td>非高新产业区</td>\n",
       "    </tr>\n",
       "    <tr>\n",
       "      <th>6644</th>\n",
       "      <td>834019.OC</td>\n",
       "      <td>大自然</td>\n",
       "      <td>2001-07-16</td>\n",
       "      <td>申万宏源证券有限公司</td>\n",
       "      <td>协议转让</td>\n",
       "      <td>高分子聚合物</td>\n",
       "      <td>8560.06</td>\n",
       "      <td>6871.0</td>\n",
       "      <td>7.35</td>\n",
       "      <td>2016-04-14 00:00:00</td>\n",
       "      <td>62916.441</td>\n",
       "      <td>材料Ⅱ</td>\n",
       "      <td>化学原料和化学制品制造业</td>\n",
       "      <td>其他</td>\n",
       "    </tr>\n",
       "  </tbody>\n",
       "</table>\n",
       "</div>"
      ],
      "text/plain": [
       "           证券代码 证券简称       挂牌日期        主办券商  转让方式    主营产品  股份总量(万股)  \\\n",
       "2323  834019.OC  大自然 2015-11-23  申万宏源证券有限公司  协议转让  高分子聚合物   8560.06   \n",
       "6644  834019.OC  大自然 2001-07-16  申万宏源证券有限公司  协议转让  高分子聚合物   8560.06   \n",
       "\n",
       "      可交易股份总量(万股)  最新成交价(元)                最新成交日    总市值(万元) 所属Wind行业  \\\n",
       "2323       6871.0      7.35  2016-04-14 00:00:00  62916.441      材料Ⅱ   \n",
       "6644       6871.0      7.35  2016-04-14 00:00:00  62916.441      材料Ⅱ   \n",
       "\n",
       "           所属证监会行业    所属园区  \n",
       "2323  化学原料和化学制品制造业  非高新产业区  \n",
       "6644  化学原料和化学制品制造业      其他  "
      ]
     },
     "execution_count": 9,
     "metadata": {},
     "output_type": "execute_result"
    }
   ],
   "source": [
    "stocks_neeq[stocks_neeq[\"证券代码\"] == \"834019.OC\"]"
   ]
  },
  {
   "cell_type": "code",
   "execution_count": 10,
   "metadata": {
    "collapsed": false
   },
   "outputs": [],
   "source": [
    "stocks_neeq = stocks_neeq.drop(6644)"
   ]
  },
  {
   "cell_type": "code",
   "execution_count": 11,
   "metadata": {
    "collapsed": false
   },
   "outputs": [
    {
     "data": {
      "text/html": [
       "<div>\n",
       "<table border=\"1\" class=\"dataframe\">\n",
       "  <thead>\n",
       "    <tr style=\"text-align: right;\">\n",
       "      <th></th>\n",
       "      <th>证券代码</th>\n",
       "      <th>证券简称</th>\n",
       "      <th>挂牌日期</th>\n",
       "      <th>主办券商</th>\n",
       "      <th>转让方式</th>\n",
       "      <th>主营产品</th>\n",
       "      <th>股份总量(万股)</th>\n",
       "      <th>可交易股份总量(万股)</th>\n",
       "      <th>最新成交价(元)</th>\n",
       "      <th>最新成交日</th>\n",
       "      <th>总市值(万元)</th>\n",
       "      <th>所属Wind行业</th>\n",
       "      <th>所属证监会行业</th>\n",
       "      <th>所属园区</th>\n",
       "    </tr>\n",
       "  </thead>\n",
       "  <tbody>\n",
       "    <tr>\n",
       "      <th>2323</th>\n",
       "      <td>834019.OC</td>\n",
       "      <td>大自然</td>\n",
       "      <td>2015-11-23</td>\n",
       "      <td>申万宏源证券有限公司</td>\n",
       "      <td>协议转让</td>\n",
       "      <td>高分子聚合物</td>\n",
       "      <td>8560.06</td>\n",
       "      <td>6871.0</td>\n",
       "      <td>7.35</td>\n",
       "      <td>2016-04-14 00:00:00</td>\n",
       "      <td>62916.441</td>\n",
       "      <td>材料Ⅱ</td>\n",
       "      <td>化学原料和化学制品制造业</td>\n",
       "      <td>非高新产业区</td>\n",
       "    </tr>\n",
       "  </tbody>\n",
       "</table>\n",
       "</div>"
      ],
      "text/plain": [
       "           证券代码 证券简称       挂牌日期        主办券商  转让方式    主营产品  股份总量(万股)  \\\n",
       "2323  834019.OC  大自然 2015-11-23  申万宏源证券有限公司  协议转让  高分子聚合物   8560.06   \n",
       "\n",
       "      可交易股份总量(万股)  最新成交价(元)                最新成交日    总市值(万元) 所属Wind行业  \\\n",
       "2323       6871.0      7.35  2016-04-14 00:00:00  62916.441      材料Ⅱ   \n",
       "\n",
       "           所属证监会行业    所属园区  \n",
       "2323  化学原料和化学制品制造业  非高新产业区  "
      ]
     },
     "execution_count": 11,
     "metadata": {},
     "output_type": "execute_result"
    }
   ],
   "source": [
    "stocks_neeq[stocks_neeq[\"证券代码\"] == \"834019.OC\"]"
   ]
  },
  {
   "cell_type": "markdown",
   "metadata": {},
   "source": [
    "退市股票处理：11个转板上市公司，1个连续四年亏损，16个吸收合并的公司，3家公司将公司变为有限责任公司，6家公司未说明退市原因。在数据库退市股票列表里有两家公司400001和400003属于两网公司转板，不作为研究样本处理。"
   ]
  },
  {
   "cell_type": "code",
   "execution_count": 12,
   "metadata": {
    "collapsed": true
   },
   "outputs": [],
   "source": [
    "delisting = pandas.read_excel(\"../data/raw/退市股票一览.xlsx\") #2016年4月15日之前退市的公司\n",
    "delisting = delisting[:-2]"
   ]
  },
  {
   "cell_type": "code",
   "execution_count": 13,
   "metadata": {
    "collapsed": false
   },
   "outputs": [
    {
     "data": {
      "text/html": [
       "<div>\n",
       "<table border=\"1\" class=\"dataframe\">\n",
       "  <thead>\n",
       "    <tr style=\"text-align: right;\">\n",
       "      <th></th>\n",
       "      <th>代码</th>\n",
       "      <th>名称</th>\n",
       "      <th>挂牌日期</th>\n",
       "      <th>退市日期</th>\n",
       "      <th>退市时股价(元)</th>\n",
       "      <th>退市时每股净资产(元)</th>\n",
       "      <th>终止上市原因</th>\n",
       "    </tr>\n",
       "  </thead>\n",
       "  <tbody>\n",
       "    <tr>\n",
       "      <th>0</th>\n",
       "      <td>400001.OC</td>\n",
       "      <td>大自然5(退市)</td>\n",
       "      <td>2015-11-20</td>\n",
       "      <td>2015-11-03</td>\n",
       "      <td>5.62</td>\n",
       "      <td>3.20</td>\n",
       "      <td>转板上市</td>\n",
       "    </tr>\n",
       "    <tr>\n",
       "      <th>1</th>\n",
       "      <td>833097.OC</td>\n",
       "      <td>众益制药(退市)</td>\n",
       "      <td>2015-07-29</td>\n",
       "      <td>2015-08-27</td>\n",
       "      <td>NaN</td>\n",
       "      <td>3.66</td>\n",
       "      <td>NaN</td>\n",
       "    </tr>\n",
       "    <tr>\n",
       "      <th>2</th>\n",
       "      <td>831976.OC</td>\n",
       "      <td>祥辉电缆(退市)</td>\n",
       "      <td>2015-02-11</td>\n",
       "      <td>2015-06-10</td>\n",
       "      <td>NaN</td>\n",
       "      <td>1.02</td>\n",
       "      <td>NaN</td>\n",
       "    </tr>\n",
       "    <tr>\n",
       "      <th>3</th>\n",
       "      <td>831966.OC</td>\n",
       "      <td>业际光电(退市)</td>\n",
       "      <td>2015-02-10</td>\n",
       "      <td>2015-09-30</td>\n",
       "      <td>NaN</td>\n",
       "      <td>2.01</td>\n",
       "      <td>吸收合并</td>\n",
       "    </tr>\n",
       "    <tr>\n",
       "      <th>4</th>\n",
       "      <td>831812.OC</td>\n",
       "      <td>宇寿医疗(退市)</td>\n",
       "      <td>2015-01-16</td>\n",
       "      <td>2015-12-02</td>\n",
       "      <td>NaN</td>\n",
       "      <td>3.04</td>\n",
       "      <td>吸收合并</td>\n",
       "    </tr>\n",
       "  </tbody>\n",
       "</table>\n",
       "</div>"
      ],
      "text/plain": [
       "          代码        名称       挂牌日期       退市日期  退市时股价(元)  退市时每股净资产(元) 终止上市原因\n",
       "0  400001.OC  大自然5(退市) 2015-11-20 2015-11-03      5.62         3.20   转板上市\n",
       "1  833097.OC  众益制药(退市) 2015-07-29 2015-08-27       NaN         3.66    NaN\n",
       "2  831976.OC  祥辉电缆(退市) 2015-02-11 2015-06-10       NaN         1.02    NaN\n",
       "3  831966.OC  业际光电(退市) 2015-02-10 2015-09-30       NaN         2.01   吸收合并\n",
       "4  831812.OC  宇寿医疗(退市) 2015-01-16 2015-12-02       NaN         3.04   吸收合并"
      ]
     },
     "execution_count": 13,
     "metadata": {},
     "output_type": "execute_result"
    }
   ],
   "source": [
    "delisting.head()"
   ]
  },
  {
   "cell_type": "code",
   "execution_count": 14,
   "metadata": {
    "collapsed": true
   },
   "outputs": [],
   "source": [
    "delisting = delisting[~delisting[\"代码\"].isin([\"400001.OC\", \"400003.OC\"])]"
   ]
  },
  {
   "cell_type": "code",
   "execution_count": 15,
   "metadata": {
    "collapsed": false
   },
   "outputs": [],
   "source": [
    "stkcd = stocks_neeq[\"证券代码\"].append(delisting[\"代码\"])"
   ]
  },
  {
   "cell_type": "code",
   "execution_count": 16,
   "metadata": {
    "collapsed": false
   },
   "outputs": [
    {
     "data": {
      "text/plain": [
       "Series([], dtype: object)"
      ]
     },
     "execution_count": 16,
     "metadata": {},
     "output_type": "execute_result"
    }
   ],
   "source": [
    "stkcd[stkcd.duplicated()]"
   ]
  },
  {
   "cell_type": "code",
   "execution_count": 17,
   "metadata": {
    "collapsed": true
   },
   "outputs": [],
   "source": [
    "delisting = pandas.read_excel(\"../data/delist.xls\")"
   ]
  },
  {
   "cell_type": "code",
   "execution_count": 18,
   "metadata": {
    "collapsed": false
   },
   "outputs": [
    {
     "data": {
      "text/html": [
       "<div>\n",
       "<table border=\"1\" class=\"dataframe\">\n",
       "  <thead>\n",
       "    <tr style=\"text-align: right;\">\n",
       "      <th></th>\n",
       "      <th>证券代码</th>\n",
       "      <th>证券简称</th>\n",
       "      <th>挂牌日期</th>\n",
       "      <th>摘牌日期</th>\n",
       "      <th>主办券商</th>\n",
       "      <th>转让方式</th>\n",
       "      <th>主营产品</th>\n",
       "      <th>股份总量(万股)</th>\n",
       "      <th>可交易股份总量(万股)</th>\n",
       "      <th>最新成交价(元)</th>\n",
       "      <th>最新成交日</th>\n",
       "      <th>总市值(万元)</th>\n",
       "      <th>所属Wind行业</th>\n",
       "      <th>所属证监会行业</th>\n",
       "      <th>所属园区</th>\n",
       "      <th>终止上市原因</th>\n",
       "    </tr>\n",
       "  </thead>\n",
       "  <tbody>\n",
       "    <tr>\n",
       "      <th>0</th>\n",
       "      <td>430001.OC</td>\n",
       "      <td>世纪瑞尔(退市)</td>\n",
       "      <td>2006-01-18</td>\n",
       "      <td>2010-12-06</td>\n",
       "      <td>申银万国证券股份有限公司</td>\n",
       "      <td>NaN</td>\n",
       "      <td>NaN</td>\n",
       "      <td>54000.0000</td>\n",
       "      <td>35772.8472</td>\n",
       "      <td>9.99</td>\n",
       "      <td>2010-12-06</td>\n",
       "      <td>NaN</td>\n",
       "      <td>软件和信息技术服务业</td>\n",
       "      <td>软件与服务</td>\n",
       "      <td>中关村科技园区非上市股份有限公司</td>\n",
       "      <td>转板上市</td>\n",
       "    </tr>\n",
       "    <tr>\n",
       "      <th>1</th>\n",
       "      <td>430006.OC</td>\n",
       "      <td>北陆药业(退市)</td>\n",
       "      <td>2006-08-23</td>\n",
       "      <td>2009-09-30</td>\n",
       "      <td>广发证券股份有限公</td>\n",
       "      <td>NaN</td>\n",
       "      <td>NaN</td>\n",
       "      <td>33050.9651</td>\n",
       "      <td>24856.3514</td>\n",
       "      <td>5.50</td>\n",
       "      <td>2009-09-30</td>\n",
       "      <td>NaN</td>\n",
       "      <td>医药制造业</td>\n",
       "      <td>制药、生物科技与生命科学</td>\n",
       "      <td>中关村科技园区非上市股份有限公司</td>\n",
       "      <td>转板上市</td>\n",
       "    </tr>\n",
       "    <tr>\n",
       "      <th>2</th>\n",
       "      <td>430007.OC</td>\n",
       "      <td>久其软件(退市)</td>\n",
       "      <td>2006-09-06</td>\n",
       "      <td>2009-07-29</td>\n",
       "      <td>申银万国证券股份有限公司</td>\n",
       "      <td>NaN</td>\n",
       "      <td>NaN</td>\n",
       "      <td>21659.6780</td>\n",
       "      <td>7043.2625</td>\n",
       "      <td>15.00</td>\n",
       "      <td>2009-07-29</td>\n",
       "      <td>NaN</td>\n",
       "      <td>软件和信息技术服务业</td>\n",
       "      <td>软件与服务</td>\n",
       "      <td>中关村科技园区非上市股份有限公司</td>\n",
       "      <td>转板上市</td>\n",
       "    </tr>\n",
       "    <tr>\n",
       "      <th>3</th>\n",
       "      <td>430008.OC</td>\n",
       "      <td>紫光华宇(退市)</td>\n",
       "      <td>2006-08-25</td>\n",
       "      <td>2011-09-28</td>\n",
       "      <td>国信证券有限责任公</td>\n",
       "      <td>NaN</td>\n",
       "      <td>NaN</td>\n",
       "      <td>64222.2018</td>\n",
       "      <td>45897.6142</td>\n",
       "      <td>11.00</td>\n",
       "      <td>2011-09-28</td>\n",
       "      <td>NaN</td>\n",
       "      <td>软件和信息技术服务业</td>\n",
       "      <td>软件与服务</td>\n",
       "      <td>中关村科技园区非上市股份有限公司</td>\n",
       "      <td>转板上市</td>\n",
       "    </tr>\n",
       "    <tr>\n",
       "      <th>4</th>\n",
       "      <td>430012.OC</td>\n",
       "      <td>博晖创新(退市)</td>\n",
       "      <td>2007-02-12</td>\n",
       "      <td>2012-05-10</td>\n",
       "      <td>国信证券有限责任公</td>\n",
       "      <td>NaN</td>\n",
       "      <td>NaN</td>\n",
       "      <td>40910.5938</td>\n",
       "      <td>20346.9608</td>\n",
       "      <td>7.00</td>\n",
       "      <td>2012-05-10</td>\n",
       "      <td>NaN</td>\n",
       "      <td>专用设备制造业</td>\n",
       "      <td>制药、生物科技与生命科学</td>\n",
       "      <td>中关村科技园区非上市股份有限公司</td>\n",
       "      <td>转板上市</td>\n",
       "    </tr>\n",
       "  </tbody>\n",
       "</table>\n",
       "</div>"
      ],
      "text/plain": [
       "        证券代码      证券简称       挂牌日期       摘牌日期          主办券商 转让方式  主营产品  \\\n",
       "0  430001.OC  世纪瑞尔(退市) 2006-01-18 2010-12-06  申银万国证券股份有限公司  NaN   NaN   \n",
       "1  430006.OC  北陆药业(退市) 2006-08-23 2009-09-30     广发证券股份有限公  NaN   NaN   \n",
       "2  430007.OC  久其软件(退市) 2006-09-06 2009-07-29  申银万国证券股份有限公司  NaN   NaN   \n",
       "3  430008.OC  紫光华宇(退市) 2006-08-25 2011-09-28     国信证券有限责任公  NaN   NaN   \n",
       "4  430012.OC  博晖创新(退市) 2007-02-12 2012-05-10     国信证券有限责任公  NaN   NaN   \n",
       "\n",
       "     股份总量(万股)  可交易股份总量(万股)  最新成交价(元)      最新成交日  总市值(万元)    所属Wind行业  \\\n",
       "0  54000.0000   35772.8472      9.99 2010-12-06      NaN  软件和信息技术服务业   \n",
       "1  33050.9651   24856.3514      5.50 2009-09-30      NaN       医药制造业   \n",
       "2  21659.6780    7043.2625     15.00 2009-07-29      NaN  软件和信息技术服务业   \n",
       "3  64222.2018   45897.6142     11.00 2011-09-28      NaN  软件和信息技术服务业   \n",
       "4  40910.5938   20346.9608      7.00 2012-05-10      NaN     专用设备制造业   \n",
       "\n",
       "        所属证监会行业              所属园区 终止上市原因  \n",
       "0         软件与服务  中关村科技园区非上市股份有限公司   转板上市  \n",
       "1  制药、生物科技与生命科学  中关村科技园区非上市股份有限公司   转板上市  \n",
       "2         软件与服务  中关村科技园区非上市股份有限公司   转板上市  \n",
       "3         软件与服务  中关村科技园区非上市股份有限公司   转板上市  \n",
       "4  制药、生物科技与生命科学  中关村科技园区非上市股份有限公司   转板上市  "
      ]
     },
     "execution_count": 18,
     "metadata": {},
     "output_type": "execute_result"
    }
   ],
   "source": [
    "delisting.head()"
   ]
  },
  {
   "cell_type": "code",
   "execution_count": 19,
   "metadata": {
    "collapsed": false
   },
   "outputs": [],
   "source": [
    "stocks_neeq_all = pandas.concat([stocks_neeq, delisting], ignore_index=True)"
   ]
  },
  {
   "cell_type": "code",
   "execution_count": 20,
   "metadata": {
    "collapsed": false
   },
   "outputs": [
    {
     "data": {
      "text/plain": [
       "6981"
      ]
     },
     "execution_count": 20,
     "metadata": {},
     "output_type": "execute_result"
    }
   ],
   "source": [
    "len(stocks_neeq_all)"
   ]
  },
  {
   "cell_type": "code",
   "execution_count": 21,
   "metadata": {
    "collapsed": false
   },
   "outputs": [
    {
     "data": {
      "text/plain": [
       "(6946, 35)"
      ]
     },
     "execution_count": 21,
     "metadata": {},
     "output_type": "execute_result"
    }
   ],
   "source": [
    "len(stocks_neeq), len(delisting)"
   ]
  },
  {
   "cell_type": "code",
   "execution_count": 22,
   "metadata": {
    "collapsed": false
   },
   "outputs": [
    {
     "data": {
      "text/plain": [
       "主办券商                    兴业证券股份有限公司\n",
       "主营产品                        铝合金及制品\n",
       "可交易股份总量(万股)                1404.88\n",
       "总市值(万元)                        NaN\n",
       "所属Wind行业                       材料Ⅱ\n",
       "所属园区                        非高新产业区\n",
       "所属证监会行业                      金属制品业\n",
       "挂牌日期           2016-04-15 00:00:00\n",
       "摘牌日期                           NaT\n",
       "最新成交价(元)                       NaN\n",
       "最新成交日                          NaN\n",
       "终止上市原因                         NaN\n",
       "股份总量(万股)                    2775.5\n",
       "证券代码                     835907.OC\n",
       "证券简称                           海德曼\n",
       "转让方式                          协议转让\n",
       "Name: 0, dtype: object"
      ]
     },
     "execution_count": 22,
     "metadata": {},
     "output_type": "execute_result"
    }
   ],
   "source": [
    "stocks_neeq_all.iloc[0]"
   ]
  },
  {
   "cell_type": "code",
   "execution_count": 23,
   "metadata": {
    "collapsed": false
   },
   "outputs": [
    {
     "data": {
      "text/html": [
       "<div>\n",
       "<table border=\"1\" class=\"dataframe\">\n",
       "  <thead>\n",
       "    <tr style=\"text-align: right;\">\n",
       "      <th></th>\n",
       "      <th>主办券商</th>\n",
       "      <th>主营产品</th>\n",
       "      <th>可交易股份总量(万股)</th>\n",
       "      <th>总市值(万元)</th>\n",
       "      <th>所属Wind行业</th>\n",
       "      <th>所属园区</th>\n",
       "      <th>所属证监会行业</th>\n",
       "      <th>挂牌日期</th>\n",
       "      <th>摘牌日期</th>\n",
       "      <th>最新成交价(元)</th>\n",
       "      <th>最新成交日</th>\n",
       "      <th>终止上市原因</th>\n",
       "      <th>股份总量(万股)</th>\n",
       "      <th>证券代码</th>\n",
       "      <th>证券简称</th>\n",
       "      <th>转让方式</th>\n",
       "    </tr>\n",
       "  </thead>\n",
       "  <tbody>\n",
       "    <tr>\n",
       "      <th>1312</th>\n",
       "      <td>大通证券股份有限公司</td>\n",
       "      <td>存贷款业务</td>\n",
       "      <td>2891.6666</td>\n",
       "      <td>NaN</td>\n",
       "      <td>多元金融</td>\n",
       "      <td>非高新产业区</td>\n",
       "      <td>NaN</td>\n",
       "      <td>2016-01-11</td>\n",
       "      <td>NaT</td>\n",
       "      <td>NaN</td>\n",
       "      <td>NaN</td>\n",
       "      <td>NaN</td>\n",
       "      <td>10100.0000</td>\n",
       "      <td>835458.OC</td>\n",
       "      <td>元丰小贷</td>\n",
       "      <td>协议转让</td>\n",
       "    </tr>\n",
       "    <tr>\n",
       "      <th>5829</th>\n",
       "      <td>中泰证券股份有限公司</td>\n",
       "      <td>系统集成服务</td>\n",
       "      <td>238.7000</td>\n",
       "      <td>1.838275e+06</td>\n",
       "      <td>软件与服务</td>\n",
       "      <td>昆明高新区</td>\n",
       "      <td>NaN</td>\n",
       "      <td>2014-06-06</td>\n",
       "      <td>NaT</td>\n",
       "      <td>6.95</td>\n",
       "      <td>2016-04-12 00:00:00</td>\n",
       "      <td>NaN</td>\n",
       "      <td>264500.0000</td>\n",
       "      <td>830806.OC</td>\n",
       "      <td>亚锦科技</td>\n",
       "      <td>协议转让</td>\n",
       "    </tr>\n",
       "    <tr>\n",
       "      <th>6384</th>\n",
       "      <td>西部证券股份有限公司</td>\n",
       "      <td>软件外包服务、专业咨询服务</td>\n",
       "      <td>6218.7494</td>\n",
       "      <td>4.118265e+04</td>\n",
       "      <td>软件与服务</td>\n",
       "      <td>上海张江高新技术产业开发区</td>\n",
       "      <td>NaN</td>\n",
       "      <td>2013-05-17</td>\n",
       "      <td>NaT</td>\n",
       "      <td>3.00</td>\n",
       "      <td>2016-04-14 00:00:00</td>\n",
       "      <td>NaN</td>\n",
       "      <td>13727.5513</td>\n",
       "      <td>430217.OC</td>\n",
       "      <td>申石软件</td>\n",
       "      <td>协议转让</td>\n",
       "    </tr>\n",
       "  </tbody>\n",
       "</table>\n",
       "</div>"
      ],
      "text/plain": [
       "            主办券商           主营产品  可交易股份总量(万股)       总市值(万元) 所属Wind行业  \\\n",
       "1312  大通证券股份有限公司          存贷款业务    2891.6666           NaN     多元金融   \n",
       "5829  中泰证券股份有限公司         系统集成服务     238.7000  1.838275e+06    软件与服务   \n",
       "6384  西部证券股份有限公司  软件外包服务、专业咨询服务    6218.7494  4.118265e+04    软件与服务   \n",
       "\n",
       "               所属园区 所属证监会行业       挂牌日期 摘牌日期  最新成交价(元)                最新成交日  \\\n",
       "1312         非高新产业区     NaN 2016-01-11  NaT       NaN                  NaN   \n",
       "5829          昆明高新区     NaN 2014-06-06  NaT      6.95  2016-04-12 00:00:00   \n",
       "6384  上海张江高新技术产业开发区     NaN 2013-05-17  NaT      3.00  2016-04-14 00:00:00   \n",
       "\n",
       "     终止上市原因     股份总量(万股)       证券代码  证券简称  转让方式  \n",
       "1312    NaN   10100.0000  835458.OC  元丰小贷  协议转让  \n",
       "5829    NaN  264500.0000  830806.OC  亚锦科技  协议转让  \n",
       "6384    NaN   13727.5513  430217.OC  申石软件  协议转让  "
      ]
     },
     "execution_count": 23,
     "metadata": {},
     "output_type": "execute_result"
    }
   ],
   "source": [
    "stocks_neeq_all[stocks_neeq_all[\"所属证监会行业\"].isnull()]"
   ]
  },
  {
   "cell_type": "code",
   "execution_count": 24,
   "metadata": {
    "collapsed": false
   },
   "outputs": [],
   "source": [
    "stocks_neeq_all.loc[stocks_neeq_all[\"证券代码\"] == \"835458.OC\", \"所属证监会行业\"] = \"货币金融服务\"\n",
    "stocks_neeq_all.loc[stocks_neeq_all[\"证券代码\"] == \"830806.OC\", \"所属证监会行业\"] = \"软件和信息技术服务业\"\n",
    "stocks_neeq_all.loc[stocks_neeq_all[\"证券代码\"] == \"430217.OC\", \"所属证监会行业\"] = \"互联网和相关服务业\""
   ]
  },
  {
   "cell_type": "code",
   "execution_count": 25,
   "metadata": {
    "collapsed": false
   },
   "outputs": [
    {
     "data": {
      "text/html": [
       "<div>\n",
       "<table border=\"1\" class=\"dataframe\">\n",
       "  <thead>\n",
       "    <tr style=\"text-align: right;\">\n",
       "      <th></th>\n",
       "      <th>主办券商</th>\n",
       "      <th>主营产品</th>\n",
       "      <th>可交易股份总量(万股)</th>\n",
       "      <th>总市值(万元)</th>\n",
       "      <th>所属Wind行业</th>\n",
       "      <th>所属园区</th>\n",
       "      <th>所属证监会行业</th>\n",
       "      <th>挂牌日期</th>\n",
       "      <th>摘牌日期</th>\n",
       "      <th>最新成交价(元)</th>\n",
       "      <th>最新成交日</th>\n",
       "      <th>终止上市原因</th>\n",
       "      <th>股份总量(万股)</th>\n",
       "      <th>证券代码</th>\n",
       "      <th>证券简称</th>\n",
       "      <th>转让方式</th>\n",
       "    </tr>\n",
       "  </thead>\n",
       "  <tbody>\n",
       "  </tbody>\n",
       "</table>\n",
       "</div>"
      ],
      "text/plain": [
       "Empty DataFrame\n",
       "Columns: [主办券商, 主营产品, 可交易股份总量(万股), 总市值(万元), 所属Wind行业, 所属园区, 所属证监会行业, 挂牌日期, 摘牌日期, 最新成交价(元), 最新成交日, 终止上市原因, 股份总量(万股), 证券代码, 证券简称, 转让方式]\n",
       "Index: []"
      ]
     },
     "execution_count": 25,
     "metadata": {},
     "output_type": "execute_result"
    }
   ],
   "source": [
    "stocks_neeq_all[stocks_neeq_all[\"所属证监会行业\"].isnull()]"
   ]
  },
  {
   "cell_type": "code",
   "execution_count": 26,
   "metadata": {
    "collapsed": false
   },
   "outputs": [
    {
     "name": "stdout",
     "output_type": "stream",
     "text": [
      "114\n"
     ]
    }
   ],
   "source": [
    "finance_sector = [\"货币金融服务\", \"资本市场服务\", \"保险业\", \"其他金融业\"]\n",
    "\n",
    "print(len(stocks_neeq_all[stocks_neeq_all[\"所属证监会行业\"].isin(finance_sector)]))\n",
    "\n",
    "stocks_neeq_all = stocks_neeq_all[~stocks_neeq_all[\"所属证监会行业\"].isin(finance_sector)]"
   ]
  },
  {
   "cell_type": "code",
   "execution_count": 27,
   "metadata": {
    "collapsed": false
   },
   "outputs": [],
   "source": [
    "stocks_neeq_all.to_csv(\"../data/NEEQ_sample.csv\", index=False)"
   ]
  },
  {
   "cell_type": "code",
   "execution_count": 28,
   "metadata": {
    "collapsed": false
   },
   "outputs": [],
   "source": [
    "a = len(stocks_neeq_all[stocks_neeq_all[\"挂牌日期\"] <= pandas.Timestamp('2009-10-30 00:00:00')])"
   ]
  },
  {
   "cell_type": "markdown",
   "metadata": {
    "variables": {
     "a": "<p><strong>NameError</strong>: name &#39;a&#39; is not defined</p>\n",
     "len(stocks_neeq_all)": "<p><strong>NameError</strong>: name &#39;stocks_neeq_all&#39; is not defined</p>\n",
     "stocks_neeq_all[\"挂牌日期\"].min()": "<p><strong>NameError</strong>: name &#39;stocks_neeq_all&#39; is not defined</p>\n"
    }
   },
   "source": [
    "由此得到的“新三板”公司的有效样本数量为{{len(stocks_neeq_all)}}。\n",
    "\n",
    "“新三板”样本公司最早的挂牌时间为{{stocks_neeq_all[\"挂牌日期\"].min()}}，所以在选择与之对比的A股主板、中小板和创业板公司时也选择从2006年以后，其中创业板开始于2009年10月，在2006到2009年10月之间挂牌的新三板公司有{{a}}家公司。\n",
    "\n",
    "由于所有适合本研究的“新三板”公司均为2006年之后挂牌交易的，所以对应的主板、中小板和创业板公司也将会选择2005年之后IPOs的公司作为对比的对象。后续的检验也会将主中创三个板块的定向增发作为对比对象，以保证在发行过程上有些许的可比性。\n",
    "\n",
    "- To-do: 需要确定估计样本的来源，备选的方案包括了：（1）可以使用当年所有已经上市的公司作为估计样本；（2）可以使用当年所有上市已经超过一年的公司作为样本；（3）使用规模分层的估计方法；"
   ]
  },
  {
   "cell_type": "code",
   "execution_count": 47,
   "metadata": {
    "collapsed": false
   },
   "outputs": [
    {
     "data": {
      "text/plain": [
       "主办券商                    兴业证券股份有限公司\n",
       "主营产品                        铝合金及制品\n",
       "可交易股份总量(万股)                1404.88\n",
       "总市值(万元)                        NaN\n",
       "所属Wind行业                       材料Ⅱ\n",
       "所属园区                        非高新产业区\n",
       "所属证监会行业                      金属制品业\n",
       "挂牌日期           2016-04-15 00:00:00\n",
       "摘牌日期                           NaT\n",
       "最新成交价(元)                       NaN\n",
       "最新成交日                          NaN\n",
       "终止上市原因                         NaN\n",
       "股份总量(万股)                    2775.5\n",
       "证券代码                     835907.OC\n",
       "证券简称                           海德曼\n",
       "转让方式                          协议转让\n",
       "挂牌年度                          2016\n",
       "Name: 0, dtype: object"
      ]
     },
     "execution_count": 47,
     "metadata": {},
     "output_type": "execute_result"
    }
   ],
   "source": [
    "stocks_neeq_all.iloc[0]"
   ]
  },
  {
   "cell_type": "code",
   "execution_count": 46,
   "metadata": {
    "collapsed": false
   },
   "outputs": [],
   "source": [
    "year = lambda x: x.year\n",
    "stocks_neeq_all[\"挂牌年度\"] = stocks_neeq_all[\"挂牌日期\"].apply(year)"
   ]
  },
  {
   "cell_type": "code",
   "execution_count": 55,
   "metadata": {
    "collapsed": false
   },
   "outputs": [
    {
     "data": {
      "text/plain": [
       "2006      10\n",
       "2007      14\n",
       "2008      17\n",
       "2009      20\n",
       "2010      16\n",
       "2011      25\n",
       "2012     105\n",
       "2013     156\n",
       "2014    1220\n",
       "2015    3475\n",
       "2016    1809\n",
       "Name: 挂牌年度, dtype: int64"
      ]
     },
     "execution_count": 55,
     "metadata": {},
     "output_type": "execute_result"
    }
   ],
   "source": [
    "stocks_neeq_all[\"挂牌年度\"].value_counts().sort_index()"
   ]
  },
  {
   "cell_type": "code",
   "execution_count": 70,
   "metadata": {
    "collapsed": false
   },
   "outputs": [
    {
     "data": {
      "image/png": "[encoded data removed]",
      "text/plain": [
       "<matplotlib.figure.Figure at 0x7f8c88d2e358>"
      ]
     },
     "metadata": {},
     "output_type": "display_data"
    }
   ],
   "source": [
    "sns.barplot(stocks_neeq_all[\"挂牌年度\"].value_counts().sort_index().index, \n",
    "           stocks_neeq_all[\"挂牌年度\"].value_counts().sort_index(), palette=\"Blues_d\");"
   ]
  },
  {
   "cell_type": "code",
   "execution_count": 75,
   "metadata": {
    "collapsed": false
   },
   "outputs": [
    {
     "data": {
      "image/png": "[encoded data removed]",
      "text/plain": [
       "<matplotlib.figure.Figure at 0x7f8c86590a90>"
      ]
     },
     "metadata": {},
     "output_type": "display_data"
    }
   ],
   "source": [
    "sns.countplot(x=\"挂牌年度\", data=stocks_neeq_all, palette=\"Blues_d\");"
   ]
  },
  {
   "cell_type": "code",
   "execution_count": 74,
   "metadata": {
    "collapsed": false
   },
   "outputs": [
    {
     "data": {
      "text/plain": [
       "软件和信息技术服务业          1062\n",
       "专用设备制造业              481\n",
       "计算机、通信和其他电子设备制造业     423\n",
       "电气机械和器材制造业           400\n",
       "化学原料和化学制品制造业         372\n",
       "通用设备制造业              323\n",
       "互联网和相关服务             296\n",
       "商务服务业                284\n",
       "专业技术服务业              204\n",
       "医药制造业                199\n",
       "仪器仪表制造业              170\n",
       "非金属矿物制品业             170\n",
       "批发业                  162\n",
       "橡胶和塑料制品业             137\n",
       "金属制品业                134\n",
       "汽车制造业                134\n",
       "农副食品加工业              111\n",
       "生态保护和环境治理业           108\n",
       "零售业                   98\n",
       "建筑装饰和其他建筑业            84\n",
       "土木工程建筑业               78\n",
       "食品制造业                 74\n",
       "农业                    74\n",
       "广播、电视、电影和影视录音制作业      72\n",
       "科技推广和应用服务业            71\n",
       "有色金属冶炼和压延加工业          67\n",
       "畜牧业                   48\n",
       "纺织业                   48\n",
       "房地产业                  41\n",
       "造纸和纸制品业               41\n",
       "                    ... \n",
       "金属制品、机械和设备修理业          9\n",
       "技术硬件与设备                9\n",
       "其他服务业                  9\n",
       "居民服务业                  7\n",
       "渔业                     7\n",
       "仓储业                    7\n",
       "软件与服务                  6\n",
       "制药、生物科技与生命科学           4\n",
       "资本货物                   4\n",
       "水利管理业                  3\n",
       "航空运输业                  3\n",
       "医疗保健设备与服务              3\n",
       "有色金属矿采选业               3\n",
       "材料Ⅱ                    3\n",
       "非金属矿采选业                2\n",
       "石油和天然气开采业              2\n",
       "邮政业                    2\n",
       "其他采矿业                  1\n",
       "机动车、电子产品和日用产品修理业       1\n",
       "互联网和相关服务业              1\n",
       "食品、饮料与烟草               1\n",
       "能源Ⅱ                    1\n",
       "烟草制品业                  1\n",
       "管道运输业                  1\n",
       "食品与主要用品零售Ⅱ             1\n",
       "公用事业Ⅱ                  1\n",
       "电信服务Ⅱ                  1\n",
       "铁路运输业                  1\n",
       "黑色金属矿采选业               1\n",
       "商业和专业服务                1\n",
       "Name: 所属证监会行业, dtype: int64"
      ]
     },
     "execution_count": 74,
     "metadata": {},
     "output_type": "execute_result"
    }
   ],
   "source": [
    "stocks_neeq_all[\"所属证监会行业\"].value_counts()"
   ]
  },
  {
   "cell_type": "code",
   "execution_count": null,
   "metadata": {
    "collapsed": true
   },
   "outputs": [],
   "source": []
  }
 ],
 "metadata": {
  "kernelspec": {
   "display_name": "Python 3",
   "language": "python",
   "name": "python3"
  },
  "language_info": {
   "codemirror_mode": {
    "name": "ipython",
    "version": 3
   },
   "file_extension": ".py",
   "mimetype": "text/x-python",
   "name": "python",
   "nbconvert_exporter": "python",
   "pygments_lexer": "ipython3",
   "version": "3.5.1"
  }
 },
 "nbformat": 4,
 "nbformat_minor": 0
}
