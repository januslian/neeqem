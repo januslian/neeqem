{
 "cells": [
  {
   "cell_type": "code",
   "execution_count": 1,
   "metadata": {
    "collapsed": true
   },
   "outputs": [],
   "source": [
    "%matplotlib inline\n",
    "import numpy \n",
    "import pandas\n",
    "import matplotlib.pyplot as plt\n",
    "import seaborn as sns\n",
    "import re"
   ]
  },
  {
   "cell_type": "code",
   "execution_count": 223,
   "metadata": {
    "collapsed": false
   },
   "outputs": [],
   "source": [
    "accounting_neeq = pandas.read_excel(\"../data/raw/accounting2015.xlsx\")\n",
    "accounting_cf_neeq = pandas.read_excel(\"../data/raw/accounting2015_cf.xlsx\")\n",
    "accounting_neeq = accounting_neeq[:-2]\n",
    "accounting_cf_neeq = accounting_cf_neeq[:-2]\n",
    "#833822"
   ]
  },
  {
   "cell_type": "code",
   "execution_count": 224,
   "metadata": {
    "collapsed": true
   },
   "outputs": [],
   "source": [
    "accounting_neeq = pandas.merge(accounting_neeq, accounting_cf_neeq, on=[\"证券代码\", \"证券简称\"])"
   ]
  },
  {
   "cell_type": "code",
   "execution_count": 225,
   "metadata": {
    "collapsed": false
   },
   "outputs": [],
   "source": [
    "columns = [\"资产总计\", \"归属母公司股东的权益\", \"营业收入\", \"营业成本\", \"销售费用\", \n",
    "           \"管理费用\", \"财务费用\", \"归属母公司股东的净利润\", \"非经常性损益\", \"扣除非经常性损益后的净利\", \n",
    "          \"经营活动产生的现金流量净额\", \"应收账款\", \"固定资产\", \"ROA\", \"折旧\", \"长期待摊费用摊销\",\n",
    "           \"存货的减少\", \"经营性应收项目的减少\", \"经营性应付项目的增加\"]\n",
    "\n",
    "year = numpy.arange(2003, 2016)\n",
    "\n",
    "column_names = [item + str(iyear) for item in columns for iyear in year]"
   ]
  },
  {
   "cell_type": "code",
   "execution_count": 226,
   "metadata": {
    "collapsed": false
   },
   "outputs": [],
   "source": [
    "accounting_neeq.columns = [\"证券代码\", \"证券简称\"] + column_names"
   ]
  },
  {
   "cell_type": "code",
   "execution_count": 227,
   "metadata": {
    "collapsed": false
   },
   "outputs": [],
   "source": [
    "accounting_neeq_long = pandas.wide_to_long(accounting_neeq, stubnames=columns, i=\"证券代码\", j=\"年度\")"
   ]
  },
  {
   "cell_type": "code",
   "execution_count": 228,
   "metadata": {
    "collapsed": true
   },
   "outputs": [],
   "source": [
    "neeq_sample = pandas.read_csv(\"../data/NEEQ_sample.csv\", parse_dates=[7, 8], index_col=13)"
   ]
  },
  {
   "cell_type": "code",
   "execution_count": 229,
   "metadata": {
    "collapsed": true
   },
   "outputs": [],
   "source": [
    "neeq_sample = neeq_sample[[\"挂牌日期\", \"主办券商\", \"所属园区\", \"所属证监会行业\", \"摘牌日期\"]]\n",
    "neeq_sample = neeq_sample.sort_index()\n",
    "neeq_sample[\"挂牌年度\"] = neeq_sample[\"挂牌日期\"].apply(lambda x: x.year)\n",
    "neeq_sample[\"挂牌月份\"] = neeq_sample[\"挂牌日期\"].apply(lambda x: x.month)"
   ]
  },
  {
   "cell_type": "code",
   "execution_count": 230,
   "metadata": {
    "collapsed": false
   },
   "outputs": [],
   "source": [
    "accounting_neeq_long = pandas.merge(neeq_sample, accounting_neeq_long, \n",
    "                                    how=\"inner\", left_index=True, \n",
    "                                    right_index=True)"
   ]
  },
  {
   "cell_type": "code",
   "execution_count": 231,
   "metadata": {
    "collapsed": false,
    "scrolled": true
   },
   "outputs": [],
   "source": [
    "accounting_neeq_long.reset_index(inplace=True)"
   ]
  },
  {
   "cell_type": "code",
   "execution_count": 232,
   "metadata": {
    "collapsed": false
   },
   "outputs": [
    {
     "data": {
      "text/html": [
       "<div>\n",
       "<table border=\"1\" class=\"dataframe\">\n",
       "  <thead>\n",
       "    <tr style=\"text-align: right;\">\n",
       "      <th></th>\n",
       "      <th>证券代码</th>\n",
       "      <th>年度</th>\n",
       "      <th>挂牌日期</th>\n",
       "      <th>主办券商</th>\n",
       "      <th>所属园区</th>\n",
       "      <th>所属证监会行业</th>\n",
       "      <th>摘牌日期</th>\n",
       "      <th>挂牌年度</th>\n",
       "      <th>挂牌月份</th>\n",
       "      <th>证券简称</th>\n",
       "      <th>...</th>\n",
       "      <th>扣除非经常性损益后的净利</th>\n",
       "      <th>经营活动产生的现金流量净额</th>\n",
       "      <th>应收账款</th>\n",
       "      <th>固定资产</th>\n",
       "      <th>ROA</th>\n",
       "      <th>折旧</th>\n",
       "      <th>长期待摊费用摊销</th>\n",
       "      <th>存货的减少</th>\n",
       "      <th>经营性应收项目的减少</th>\n",
       "      <th>经营性应付项目的增加</th>\n",
       "    </tr>\n",
       "  </thead>\n",
       "  <tbody>\n",
       "    <tr>\n",
       "      <th>0</th>\n",
       "      <td>430001.OC</td>\n",
       "      <td>2003</td>\n",
       "      <td>2006-01-18</td>\n",
       "      <td>申银万国证券股份有限公司</td>\n",
       "      <td>中关村科技园区非上市股份有限公司</td>\n",
       "      <td>软件与服务</td>\n",
       "      <td>2010-12-06</td>\n",
       "      <td>2006</td>\n",
       "      <td>1</td>\n",
       "      <td>世纪瑞尔(退市)</td>\n",
       "      <td>...</td>\n",
       "      <td>NaN</td>\n",
       "      <td>10843347.75</td>\n",
       "      <td>27121681.98</td>\n",
       "      <td>29395524.57</td>\n",
       "      <td>NaN</td>\n",
       "      <td>943428.0</td>\n",
       "      <td>610643.0</td>\n",
       "      <td>-2692313.1</td>\n",
       "      <td>-13831571.1</td>\n",
       "      <td>13440729.88</td>\n",
       "    </tr>\n",
       "    <tr>\n",
       "      <th>1</th>\n",
       "      <td>430002.OC</td>\n",
       "      <td>2003</td>\n",
       "      <td>2006-01-23</td>\n",
       "      <td>申万宏源证券有限公司</td>\n",
       "      <td>中关村科技园区</td>\n",
       "      <td>软件和信息技术服务业</td>\n",
       "      <td>NaT</td>\n",
       "      <td>2006</td>\n",
       "      <td>1</td>\n",
       "      <td>中科软</td>\n",
       "      <td>...</td>\n",
       "      <td>6039888.09</td>\n",
       "      <td>NaN</td>\n",
       "      <td>19541521.43</td>\n",
       "      <td>6683984.09</td>\n",
       "      <td>NaN</td>\n",
       "      <td>NaN</td>\n",
       "      <td>NaN</td>\n",
       "      <td>NaN</td>\n",
       "      <td>NaN</td>\n",
       "      <td>NaN</td>\n",
       "    </tr>\n",
       "    <tr>\n",
       "      <th>2</th>\n",
       "      <td>430003.OC</td>\n",
       "      <td>2003</td>\n",
       "      <td>2006-03-31</td>\n",
       "      <td>国泰君安证券股份有限公司</td>\n",
       "      <td>中关村科技园区</td>\n",
       "      <td>通用设备制造业</td>\n",
       "      <td>NaT</td>\n",
       "      <td>2006</td>\n",
       "      <td>3</td>\n",
       "      <td>北京时代</td>\n",
       "      <td>...</td>\n",
       "      <td>NaN</td>\n",
       "      <td>NaN</td>\n",
       "      <td>8586266.12</td>\n",
       "      <td>51466641.87</td>\n",
       "      <td>NaN</td>\n",
       "      <td>NaN</td>\n",
       "      <td>NaN</td>\n",
       "      <td>NaN</td>\n",
       "      <td>NaN</td>\n",
       "      <td>NaN</td>\n",
       "    </tr>\n",
       "    <tr>\n",
       "      <th>3</th>\n",
       "      <td>430004.OC</td>\n",
       "      <td>2003</td>\n",
       "      <td>2006-06-07</td>\n",
       "      <td>广发证券股份有限公司</td>\n",
       "      <td>中关村科技园区</td>\n",
       "      <td>专用设备制造业</td>\n",
       "      <td>NaT</td>\n",
       "      <td>2006</td>\n",
       "      <td>6</td>\n",
       "      <td>绿创环保</td>\n",
       "      <td>...</td>\n",
       "      <td>NaN</td>\n",
       "      <td>NaN</td>\n",
       "      <td>NaN</td>\n",
       "      <td>NaN</td>\n",
       "      <td>NaN</td>\n",
       "      <td>NaN</td>\n",
       "      <td>NaN</td>\n",
       "      <td>NaN</td>\n",
       "      <td>NaN</td>\n",
       "      <td>NaN</td>\n",
       "    </tr>\n",
       "    <tr>\n",
       "      <th>4</th>\n",
       "      <td>430005.OC</td>\n",
       "      <td>2003</td>\n",
       "      <td>2006-07-28</td>\n",
       "      <td>广发证券股份有限公司</td>\n",
       "      <td>中关村科技园区</td>\n",
       "      <td>医药制造业</td>\n",
       "      <td>NaT</td>\n",
       "      <td>2006</td>\n",
       "      <td>7</td>\n",
       "      <td>原子高科</td>\n",
       "      <td>...</td>\n",
       "      <td>NaN</td>\n",
       "      <td>NaN</td>\n",
       "      <td>NaN</td>\n",
       "      <td>NaN</td>\n",
       "      <td>NaN</td>\n",
       "      <td>NaN</td>\n",
       "      <td>NaN</td>\n",
       "      <td>NaN</td>\n",
       "      <td>NaN</td>\n",
       "      <td>NaN</td>\n",
       "    </tr>\n",
       "  </tbody>\n",
       "</table>\n",
       "<p>5 rows × 29 columns</p>\n",
       "</div>"
      ],
      "text/plain": [
       "        证券代码    年度       挂牌日期          主办券商              所属园区     所属证监会行业  \\\n",
       "0  430001.OC  2003 2006-01-18  申银万国证券股份有限公司  中关村科技园区非上市股份有限公司       软件与服务   \n",
       "1  430002.OC  2003 2006-01-23    申万宏源证券有限公司           中关村科技园区  软件和信息技术服务业   \n",
       "2  430003.OC  2003 2006-03-31  国泰君安证券股份有限公司           中关村科技园区     通用设备制造业   \n",
       "3  430004.OC  2003 2006-06-07    广发证券股份有限公司           中关村科技园区     专用设备制造业   \n",
       "4  430005.OC  2003 2006-07-28    广发证券股份有限公司           中关村科技园区       医药制造业   \n",
       "\n",
       "        摘牌日期  挂牌年度  挂牌月份      证券简称     ...       扣除非经常性损益后的净利  经营活动产生的现金流量净额  \\\n",
       "0 2010-12-06  2006     1  世纪瑞尔(退市)     ...                NaN    10843347.75   \n",
       "1        NaT  2006     1       中科软     ...         6039888.09            NaN   \n",
       "2        NaT  2006     3      北京时代     ...                NaN            NaN   \n",
       "3        NaT  2006     6      绿创环保     ...                NaN            NaN   \n",
       "4        NaT  2006     7      原子高科     ...                NaN            NaN   \n",
       "\n",
       "          应收账款         固定资产  ROA        折旧  长期待摊费用摊销      存货的减少  经营性应收项目的减少  \\\n",
       "0  27121681.98  29395524.57  NaN  943428.0  610643.0 -2692313.1 -13831571.1   \n",
       "1  19541521.43   6683984.09  NaN       NaN       NaN        NaN         NaN   \n",
       "2   8586266.12  51466641.87  NaN       NaN       NaN        NaN         NaN   \n",
       "3          NaN          NaN  NaN       NaN       NaN        NaN         NaN   \n",
       "4          NaN          NaN  NaN       NaN       NaN        NaN         NaN   \n",
       "\n",
       "    经营性应付项目的增加  \n",
       "0  13440729.88  \n",
       "1          NaN  \n",
       "2          NaN  \n",
       "3          NaN  \n",
       "4          NaN  \n",
       "\n",
       "[5 rows x 29 columns]"
      ]
     },
     "execution_count": 232,
     "metadata": {},
     "output_type": "execute_result"
    }
   ],
   "source": [
    "accounting_neeq_long.head()"
   ]
  },
  {
   "cell_type": "code",
   "execution_count": 233,
   "metadata": {
    "collapsed": false
   },
   "outputs": [],
   "source": [
    "files = !ls ../data/raw/\n",
    "files_fin_state = []\n",
    "for file in files:\n",
    "    match = re.match(\"财报披露日\", file)\n",
    "    if match is not None:\n",
    "        files_fin_state.append(file)"
   ]
  },
  {
   "cell_type": "code",
   "execution_count": 234,
   "metadata": {
    "collapsed": false
   },
   "outputs": [],
   "source": [
    "fin_report_data = []\n",
    "for item in files_fin_state:\n",
    "    data_dir = \"../data/raw/\" + item\n",
    "    data = pandas.read_excel(data_dir)\n",
    "    data = data[:-2]\n",
    "    fin_report_data.append(data)"
   ]
  },
  {
   "cell_type": "code",
   "execution_count": 235,
   "metadata": {
    "collapsed": false
   },
   "outputs": [],
   "source": [
    "financial_reports = pandas.concat(fin_report_data)"
   ]
  },
  {
   "cell_type": "code",
   "execution_count": 236,
   "metadata": {
    "collapsed": false
   },
   "outputs": [],
   "source": [
    "financial_reports = financial_reports[[\"证券代码\", \"实际披露日期\", \"报告期\"]]\n",
    "financial_reports[\"年度\"] = financial_reports[\"报告期\"].apply(lambda x: x.year)"
   ]
  },
  {
   "cell_type": "code",
   "execution_count": 237,
   "metadata": {
    "collapsed": false
   },
   "outputs": [
    {
     "data": {
      "text/html": [
       "<div>\n",
       "<table border=\"1\" class=\"dataframe\">\n",
       "  <thead>\n",
       "    <tr style=\"text-align: right;\">\n",
       "      <th></th>\n",
       "      <th>证券代码</th>\n",
       "      <th>实际披露日期</th>\n",
       "      <th>报告期</th>\n",
       "      <th>年度</th>\n",
       "    </tr>\n",
       "  </thead>\n",
       "  <tbody>\n",
       "    <tr>\n",
       "      <th>0</th>\n",
       "      <td>400028.OC</td>\n",
       "      <td>2004-05-19</td>\n",
       "      <td>2003-12-31</td>\n",
       "      <td>2003</td>\n",
       "    </tr>\n",
       "    <tr>\n",
       "      <th>1</th>\n",
       "      <td>400029.OC</td>\n",
       "      <td>2004-04-22</td>\n",
       "      <td>2003-12-31</td>\n",
       "      <td>2003</td>\n",
       "    </tr>\n",
       "    <tr>\n",
       "      <th>2</th>\n",
       "      <td>400030.OC</td>\n",
       "      <td>2004-04-17</td>\n",
       "      <td>2003-12-31</td>\n",
       "      <td>2003</td>\n",
       "    </tr>\n",
       "    <tr>\n",
       "      <th>3</th>\n",
       "      <td>400031.OC</td>\n",
       "      <td>2004-03-19</td>\n",
       "      <td>2003-12-31</td>\n",
       "      <td>2003</td>\n",
       "    </tr>\n",
       "    <tr>\n",
       "      <th>4</th>\n",
       "      <td>400032.OC</td>\n",
       "      <td>2004-04-29</td>\n",
       "      <td>2003-12-31</td>\n",
       "      <td>2003</td>\n",
       "    </tr>\n",
       "  </tbody>\n",
       "</table>\n",
       "</div>"
      ],
      "text/plain": [
       "        证券代码     实际披露日期        报告期    年度\n",
       "0  400028.OC 2004-05-19 2003-12-31  2003\n",
       "1  400029.OC 2004-04-22 2003-12-31  2003\n",
       "2  400030.OC 2004-04-17 2003-12-31  2003\n",
       "3  400031.OC 2004-03-19 2003-12-31  2003\n",
       "4  400032.OC 2004-04-29 2003-12-31  2003"
      ]
     },
     "execution_count": 237,
     "metadata": {},
     "output_type": "execute_result"
    }
   ],
   "source": [
    "financial_reports.head()"
   ]
  },
  {
   "cell_type": "code",
   "execution_count": 238,
   "metadata": {
    "collapsed": false
   },
   "outputs": [],
   "source": [
    "accounting_neeq_long = pandas.merge(accounting_neeq_long, financial_reports, \n",
    "                                    how=\"left\", on=[\"证券代码\", \"年度\"])"
   ]
  },
  {
   "cell_type": "code",
   "execution_count": 239,
   "metadata": {
    "collapsed": false
   },
   "outputs": [
    {
     "data": {
      "text/plain": [
       "证券代码                       430001.OC\n",
       "年度                              2003\n",
       "挂牌日期             2006-01-18 00:00:00\n",
       "主办券商                    申银万国证券股份有限公司\n",
       "所属园区                中关村科技园区非上市股份有限公司\n",
       "所属证监会行业                        软件与服务\n",
       "摘牌日期             2010-12-06 00:00:00\n",
       "挂牌年度                            2006\n",
       "挂牌月份                               1\n",
       "证券简称                        世纪瑞尔(退市)\n",
       "资产总计                     1.03696e+08\n",
       "归属母公司股东的权益               7.06015e+07\n",
       "营业收入                     4.02414e+07\n",
       "营业成本                     1.35694e+07\n",
       "销售费用                     7.71494e+06\n",
       "管理费用                     9.77092e+06\n",
       "财务费用                          235899\n",
       "归属母公司股东的净利润               1.0645e+07\n",
       "非经常性损益                           NaN\n",
       "扣除非经常性损益后的净利                     NaN\n",
       "经营活动产生的现金流量净额            1.08433e+07\n",
       "应收账款                     2.71217e+07\n",
       "固定资产                     2.93955e+07\n",
       "ROA                              NaN\n",
       "折旧                            943428\n",
       "长期待摊费用摊销                      610643\n",
       "存货的减少                   -2.69231e+06\n",
       "经营性应收项目的减少              -1.38316e+07\n",
       "经营性应付项目的增加               1.34407e+07\n",
       "实际披露日期                           NaT\n",
       "报告期                              NaT\n",
       "Name: 0, dtype: object"
      ]
     },
     "execution_count": 239,
     "metadata": {},
     "output_type": "execute_result"
    }
   ],
   "source": [
    "accounting_neeq_long.iloc[0]"
   ]
  },
  {
   "cell_type": "code",
   "execution_count": 240,
   "metadata": {
    "collapsed": false
   },
   "outputs": [],
   "source": [
    "accounting_neeq_long[\"挂牌前后\"] = numpy.nan"
   ]
  },
  {
   "cell_type": "code",
   "execution_count": 241,
   "metadata": {
    "collapsed": false
   },
   "outputs": [],
   "source": [
    "accounting_neeq_long.loc[(accounting_neeq_long[\"年度\"] >= accounting_neeq_long[\"挂牌年度\"]), \"挂牌前后\"] = \"挂牌后\"\n",
    "accounting_neeq_long.loc[(accounting_neeq_long[\"年度\"] == accounting_neeq_long[\"挂牌年度\"] - 1) &\n",
    "                         (accounting_neeq_long[\"实际披露日期\"] > accounting_neeq_long[\"挂牌日期\"]), \"挂牌前后\"] = \"挂牌后\"\n",
    "\n",
    "accounting_neeq_long.loc[(accounting_neeq_long[\"年度\"] <= accounting_neeq_long[\"挂牌年度\"] - 2), \"挂牌前后\"] = \"挂牌前\"\n",
    "accounting_neeq_long.loc[(accounting_neeq_long[\"年度\"] == accounting_neeq_long[\"挂牌年度\"] - 1) &\n",
    "                         (accounting_neeq_long[\"实际披露日期\"] <= accounting_neeq_long[\"挂牌日期\"]), \"挂牌前后\"] = \"挂牌前\""
   ]
  },
  {
   "cell_type": "code",
   "execution_count": 242,
   "metadata": {
    "collapsed": false
   },
   "outputs": [],
   "source": [
    "drops = accounting_neeq_long.loc[(accounting_neeq_long[\"年度\"] < accounting_neeq_long[\"挂牌年度\"] - 1) &\n",
    "                                 (accounting_neeq_long.iloc[:, 10:28].isnull().all(axis=1))].index"
   ]
  },
  {
   "cell_type": "code",
   "execution_count": 243,
   "metadata": {
    "collapsed": false
   },
   "outputs": [],
   "source": [
    "accounting_neeq_long = accounting_neeq_long.drop(drops)"
   ]
  },
  {
   "cell_type": "code",
   "execution_count": 244,
   "metadata": {
    "collapsed": false
   },
   "outputs": [],
   "source": [
    "accounting_neeq_long.loc[(accounting_neeq_long[\"年度\"] == accounting_neeq_long[\"挂牌年度\"] - 1) &\n",
    "                         (accounting_neeq_long[\"挂牌月份\"] < 5), \"挂牌前后\"] = \"挂牌后\"\n",
    "\n",
    "accounting_neeq_long.loc[(accounting_neeq_long[\"年度\"] == accounting_neeq_long[\"挂牌年度\"] - 1) &\n",
    "                         (accounting_neeq_long[\"挂牌月份\"] >= 5) & \n",
    "                         (~accounting_neeq_long.iloc[:, 10:28].isnull().all(axis=1)), \"挂牌前后\"] = \"挂牌前\""
   ]
  },
  {
   "cell_type": "code",
   "execution_count": 245,
   "metadata": {
    "collapsed": false
   },
   "outputs": [],
   "source": [
    "accounting_neeq_long.loc[(accounting_neeq_long[\"证券代码\"] == \"832668.OC\"), \"挂牌前后\"] = \"挂牌后\""
   ]
  },
  {
   "cell_type": "code",
   "execution_count": 246,
   "metadata": {
    "collapsed": false
   },
   "outputs": [],
   "source": [
    "accounting_groups = accounting_neeq_long.groupby(\"证券代码\")"
   ]
  },
  {
   "cell_type": "code",
   "execution_count": 247,
   "metadata": {
    "collapsed": true
   },
   "outputs": [],
   "source": [
    "def relative_index(data):\n",
    "    data = data.sort_values(\"年度\")\n",
    "    len1 = len(data[data[\"挂牌前后\"] == \"挂牌前\"])\n",
    "    len2 = len(data[data[\"挂牌前后\"] == \"挂牌后\"])\n",
    "    year_pre = numpy.arange(start=-1 * len1, stop=0, step=1)\n",
    "    year_post = numpy.arange(start=0, stop=len2, step=1)\n",
    "    data[\"relativeYear\"] = numpy.concatenate((year_pre, year_post))\n",
    "    return data"
   ]
  },
  {
   "cell_type": "code",
   "execution_count": 248,
   "metadata": {
    "collapsed": false
   },
   "outputs": [],
   "source": [
    "accounting_neeq_long1 = accounting_groups.apply(relative_index)"
   ]
  },
  {
   "cell_type": "code",
   "execution_count": 249,
   "metadata": {
    "collapsed": false
   },
   "outputs": [],
   "source": [
    "accounting_neeq_long1 = accounting_neeq_long1.reset_index(drop=True)"
   ]
  },
  {
   "cell_type": "code",
   "execution_count": 250,
   "metadata": {
    "collapsed": false,
    "scrolled": true
   },
   "outputs": [],
   "source": [
    "accounting_neeq_long1[accounting_neeq_long1[\"relativeYear\"] == -3].to_csv('../data/tmp2.csv', index=False)"
   ]
  },
  {
   "cell_type": "code",
   "execution_count": 417,
   "metadata": {
    "collapsed": false
   },
   "outputs": [],
   "source": [
    "accounting_neeq_long1.loc[accounting_neeq_long1[\"relativeYear\"] == -1][~(accounting_neeq_long1.loc[accounting_neeq_long1[\"relativeYear\"] == -1, \"证券代码\"].isin(\n",
    "accounting_neeq_long1.loc[accounting_neeq_long1[\"relativeYear\"] == -2, \"证券代码\"]))].to_csv(\"../data/tmp5.csv\", index=False)"
   ]
  },
  {
   "cell_type": "code",
   "execution_count": 251,
   "metadata": {
    "collapsed": false
   },
   "outputs": [
    {
     "data": {
      "text/html": [
       "<div>\n",
       "<table border=\"1\" class=\"dataframe\">\n",
       "  <thead>\n",
       "    <tr style=\"text-align: right;\">\n",
       "      <th></th>\n",
       "      <th>证券代码</th>\n",
       "      <th>年度</th>\n",
       "      <th>挂牌日期</th>\n",
       "      <th>主办券商</th>\n",
       "      <th>所属园区</th>\n",
       "      <th>所属证监会行业</th>\n",
       "      <th>摘牌日期</th>\n",
       "      <th>挂牌年度</th>\n",
       "      <th>挂牌月份</th>\n",
       "      <th>证券简称</th>\n",
       "      <th>...</th>\n",
       "      <th>ROA</th>\n",
       "      <th>折旧</th>\n",
       "      <th>长期待摊费用摊销</th>\n",
       "      <th>存货的减少</th>\n",
       "      <th>经营性应收项目的减少</th>\n",
       "      <th>经营性应付项目的增加</th>\n",
       "      <th>实际披露日期</th>\n",
       "      <th>报告期</th>\n",
       "      <th>挂牌前后</th>\n",
       "      <th>relativeYear</th>\n",
       "    </tr>\n",
       "  </thead>\n",
       "  <tbody>\n",
       "    <tr>\n",
       "      <th>11906</th>\n",
       "      <td>832608.OC</td>\n",
       "      <td>2012</td>\n",
       "      <td>2015-06-17</td>\n",
       "      <td>华龙证券股份有限公司</td>\n",
       "      <td>非高新产业区</td>\n",
       "      <td>软件和信息技术服务业</td>\n",
       "      <td>NaT</td>\n",
       "      <td>2015</td>\n",
       "      <td>6</td>\n",
       "      <td>天禹星</td>\n",
       "      <td>...</td>\n",
       "      <td>13.6161</td>\n",
       "      <td>19935709.42</td>\n",
       "      <td>521353.47</td>\n",
       "      <td>386376.70</td>\n",
       "      <td>14912773.25</td>\n",
       "      <td>-31105037.23</td>\n",
       "      <td>NaT</td>\n",
       "      <td>NaT</td>\n",
       "      <td>挂牌前</td>\n",
       "      <td>-3</td>\n",
       "    </tr>\n",
       "    <tr>\n",
       "      <th>11907</th>\n",
       "      <td>832608.OC</td>\n",
       "      <td>2013</td>\n",
       "      <td>2015-06-17</td>\n",
       "      <td>华龙证券股份有限公司</td>\n",
       "      <td>非高新产业区</td>\n",
       "      <td>软件和信息技术服务业</td>\n",
       "      <td>NaT</td>\n",
       "      <td>2015</td>\n",
       "      <td>6</td>\n",
       "      <td>天禹星</td>\n",
       "      <td>...</td>\n",
       "      <td>5.7529</td>\n",
       "      <td>17066122.53</td>\n",
       "      <td>544140.92</td>\n",
       "      <td>-1000688.04</td>\n",
       "      <td>-32042098.60</td>\n",
       "      <td>-6493504.34</td>\n",
       "      <td>NaT</td>\n",
       "      <td>NaT</td>\n",
       "      <td>挂牌前</td>\n",
       "      <td>-2</td>\n",
       "    </tr>\n",
       "    <tr>\n",
       "      <th>11908</th>\n",
       "      <td>832608.OC</td>\n",
       "      <td>2014</td>\n",
       "      <td>2015-06-17</td>\n",
       "      <td>华龙证券股份有限公司</td>\n",
       "      <td>非高新产业区</td>\n",
       "      <td>软件和信息技术服务业</td>\n",
       "      <td>NaT</td>\n",
       "      <td>2015</td>\n",
       "      <td>6</td>\n",
       "      <td>天禹星</td>\n",
       "      <td>...</td>\n",
       "      <td>-5.0298</td>\n",
       "      <td>18498351.34</td>\n",
       "      <td>834494.35</td>\n",
       "      <td>870360.17</td>\n",
       "      <td>13000704.04</td>\n",
       "      <td>-3661172.76</td>\n",
       "      <td>NaT</td>\n",
       "      <td>NaT</td>\n",
       "      <td>挂牌前</td>\n",
       "      <td>-1</td>\n",
       "    </tr>\n",
       "    <tr>\n",
       "      <th>11909</th>\n",
       "      <td>832608.OC</td>\n",
       "      <td>2015</td>\n",
       "      <td>2015-06-17</td>\n",
       "      <td>华龙证券股份有限公司</td>\n",
       "      <td>非高新产业区</td>\n",
       "      <td>软件和信息技术服务业</td>\n",
       "      <td>NaT</td>\n",
       "      <td>2015</td>\n",
       "      <td>6</td>\n",
       "      <td>天禹星</td>\n",
       "      <td>...</td>\n",
       "      <td>1.9566</td>\n",
       "      <td>18204453.91</td>\n",
       "      <td>1155913.54</td>\n",
       "      <td>-115187.29</td>\n",
       "      <td>-22449796.71</td>\n",
       "      <td>-2492503.10</td>\n",
       "      <td>2016-04-15</td>\n",
       "      <td>2015-12-31</td>\n",
       "      <td>挂牌后</td>\n",
       "      <td>0</td>\n",
       "    </tr>\n",
       "  </tbody>\n",
       "</table>\n",
       "<p>4 rows × 33 columns</p>\n",
       "</div>"
      ],
      "text/plain": [
       "            证券代码    年度       挂牌日期        主办券商    所属园区     所属证监会行业 摘牌日期  挂牌年度  \\\n",
       "11906  832608.OC  2012 2015-06-17  华龙证券股份有限公司  非高新产业区  软件和信息技术服务业  NaT  2015   \n",
       "11907  832608.OC  2013 2015-06-17  华龙证券股份有限公司  非高新产业区  软件和信息技术服务业  NaT  2015   \n",
       "11908  832608.OC  2014 2015-06-17  华龙证券股份有限公司  非高新产业区  软件和信息技术服务业  NaT  2015   \n",
       "11909  832608.OC  2015 2015-06-17  华龙证券股份有限公司  非高新产业区  软件和信息技术服务业  NaT  2015   \n",
       "\n",
       "       挂牌月份 证券简称      ...           ROA           折旧    长期待摊费用摊销       存货的减少  \\\n",
       "11906     6  天禹星      ...       13.6161  19935709.42   521353.47   386376.70   \n",
       "11907     6  天禹星      ...        5.7529  17066122.53   544140.92 -1000688.04   \n",
       "11908     6  天禹星      ...       -5.0298  18498351.34   834494.35   870360.17   \n",
       "11909     6  天禹星      ...        1.9566  18204453.91  1155913.54  -115187.29   \n",
       "\n",
       "        经营性应收项目的减少   经营性应付项目的增加     实际披露日期        报告期  挂牌前后  relativeYear  \n",
       "11906  14912773.25 -31105037.23        NaT        NaT   挂牌前            -3  \n",
       "11907 -32042098.60  -6493504.34        NaT        NaT   挂牌前            -2  \n",
       "11908  13000704.04  -3661172.76        NaT        NaT   挂牌前            -1  \n",
       "11909 -22449796.71  -2492503.10 2016-04-15 2015-12-31   挂牌后             0  \n",
       "\n",
       "[4 rows x 33 columns]"
      ]
     },
     "execution_count": 251,
     "metadata": {},
     "output_type": "execute_result"
    }
   ],
   "source": [
    "accounting_neeq_long1[accounting_neeq_long1[\"证券代码\"]==\"832608.OC\"]"
   ]
  },
  {
   "cell_type": "code",
   "execution_count": 252,
   "metadata": {
    "collapsed": false
   },
   "outputs": [],
   "source": [
    "StkcdChangedYear = [\"832482.OC\", \"832498.OC\", \"832537.OC\", \"430702.OC\", \"830767.OC\", \"830780.OC\", \n",
    "                   \"830825.OC\", \"832383.OC\", \"832611.OC\", \"832615.OC\", \"832686.OC\", \"430213.OC\",\n",
    "                   \"430214.OC\", \"430215.OC\", \"430217.OC\", \"430218.OC\", \"430219.OC\", \"430699.OC\", \n",
    "                   \"430720.OC\", \"430722.OC\", \"430724.OC\", \"430725.OC\", \"430727.OC\", \"430729.OC\", \n",
    "                   \"430730.OC\", \"430733.OC\", \"430734.OC\", \"430735.OC\", \"430736.OC\", \"430741.OC\", \n",
    "                   \"430743.OC\", \"430744.OC\", \"430745.OC\", \"430746.OC\", \"430747.OC\", \"430749.OC\", \n",
    "                   \"430750.OC\", \"430751.OC\", \"430752.OC\", \"430754.OC\", \"430755.OC\", \"430756.OC\", \n",
    "                   \"430757.OC\", \"430758.OC\", \"430759.OC\", \"430760.OC\", \"430762.OC\", \"430763.OC\", \n",
    "                   \"830773.OC\", \"830775.OC\", \"830778.OC\", \"830781.OC\", \"830785.OC\", \"830787.OC\", \n",
    "                   \"830790.OC\", \"830799.OC\", \"830800.OC\", \"830801.OC\", \"830805.OC\", \"830806.OC\", \n",
    "                   \"830819.OC\", \"832004.OC\", \"832066.OC\", \"832337.OC\", \"832347.OC\", \"832355.OC\", \n",
    "                   \"832360.OC\", \"832373.OC\", \"832374.OC\", \"832376.OC\", \"832377.OC\", \"832385.OC\", \n",
    "                   \"832386.OC\", \"832387.OC\", \"832388.OC\", \"832389.OC\", \"832390.OC\", \"832391.OC\", \n",
    "                   \"832392.OC\", \"832393.OC\", \"832394.OC\", \"832395.OC\", \"832398.OC\", \"832400.OC\", \n",
    "                   \"832401.OC\", \"832402.OC\", \"832403.OC\", \"832404.OC\", \"832406.OC\", \"832407.OC\", \n",
    "                   \"832408.OC\", \"832409.OC\", \"832410.OC\", \"832411.OC\", \"832412.OC\", \"832413.OC\", \n",
    "                   \"832414.OC\", \"832415.OC\", \"832416.OC\", \"832417.OC\", \"832418.OC\", \"832420.OC\", \n",
    "                   \"832421.OC\", \"832422.OC\", \"832423.OC\", \"832424.OC\", \"832425.OC\", \"832426.OC\", \n",
    "                   \"832427.OC\", \"832432.OC\", \"832433.OC\", \"832434.OC\", \"832436.OC\", \"832437.OC\", \n",
    "                   \"832438.OC\", \"832439.OC\", \"832440.OC\", \"832441.OC\", \"832442.OC\", \"832443.OC\", \n",
    "                   \"832444.OC\", \"832445.OC\", \"832446.OC\", \"832447.OC\", \"832448.OC\", \"832449.OC\", \n",
    "                   \"832452.OC\", \"832453.OC\", \"832454.OC\", \"832455.OC\", \"832456.OC\", \"832457.OC\", \n",
    "                   \"832461.OC\", \"832462.OC\", \"832463.OC\", \"832464.OC\", \"832465.OC\", \"832466.OC\", \n",
    "                   \"832467.OC\", \"832468.OC\", \"832469.OC\", \"832470.OC\", \"832471.OC\", \"832472.OC\", \n",
    "                   \"832473.OC\", \"832475.OC\", \"832477.OC\", \"832478.OC\", \"832479.OC\", \"832480.OC\", \n",
    "                   \"832481.OC\", \"832483.OC\", \"832484.OC\", \"832485.OC\", \"832486.OC\", \"832487.OC\", \n",
    "                   \"832488.OC\", \"832489.OC\", \"832490.OC\", \"832491.OC\", \"832492.OC\", \"832493.OC\", \n",
    "                   \"832494.OC\", \"832495.OC\", \"832496.OC\", \"832497.OC\", \"832500.OC\", \"832501.OC\", \n",
    "                   \"832502.OC\", \"832503.OC\", \"832504.OC\", \"832506.OC\", \"832507.OC\", \n",
    "                   \"832508.OC\", \"832509.OC\", \"832510.OC\", \"832515.OC\", \"832516.OC\", \"832517.OC\", \n",
    "                   \"832518.OC\", \"832520.OC\", \"832521.OC\", \"832522.OC\", \"832523.OC\", \"832524.PC\", \n",
    "                   \"832525.OC\", \"832526.OC\", \"832527.OC\", \"832529.OC\", \"832530.OC\", \"832531.OC\", \n",
    "                   \"832532.OC\", \"832534.OC\", \"832536.OC\", \"832538.OC\", \"832540.OC\", \"832542.OC\", \n",
    "                   \"832545.OC\", \"832546.OC\", \"832547.OC\", \"832552.OC\", \"832553.OC\", \"832556.OC\", \n",
    "                   \"832558.OC\", \"832559.OC\", \"832560.OC\", \"832561.OC\", \"832562.OC\", \"832563.OC\", \n",
    "                   \"832565.OC\", \"832566.OC\", \"832569.OC\", \"832578.OC\", \"832587.OC\", \"832588.OC\", \n",
    "                   \"832589.OC\", \"832592.OC\", \"832593.OC\", \"832594.OC\", \"832595.OC\", \"832596.OC\", \n",
    "                   \"832601.OC\", \"832606.OC\", \"832609.OC\", \"832610.OC\", \"832612.OC\",\n",
    "                   \"832613.OC\", \"832614.OC\", \"832616.OC\", \"832629.OC\", \"832631.OC\", \"832634.OC\", \n",
    "                   \"832637.OC\", \"832639.OC\", \"832650.OC\", \"832663.OC\", \"832680.OC\", \"832687.OC\", \n",
    "                   \"832688.OC\", \"832753.OC\", \"832754.OC\", \"832773.OC\", \"832775.OC\", \"832778.OC\",\n",
    "                   \"832779.OC\", \"832809.OC\"]"
   ]
  },
  {
   "cell_type": "code",
   "execution_count": 253,
   "metadata": {
    "collapsed": true
   },
   "outputs": [],
   "source": [
    "for stkcd in StkcdChangedYear:\n",
    "    accounting_neeq_long1.loc[accounting_neeq_long1[\"证券代码\"] == stkcd, \"relativeYear\"] =\\\n",
    "    accounting_neeq_long1.loc[accounting_neeq_long1[\"证券代码\"] == stkcd, \"relativeYear\"] + 1"
   ]
  },
  {
   "cell_type": "code",
   "execution_count": 254,
   "metadata": {
    "collapsed": true
   },
   "outputs": [],
   "source": [
    "StkcdChangedYear1 = [\"430709.OC\", \"832372.OC\", \"832545.OC\", \"832548.OC\", \"832560.OC\", \"832601.OC\", \n",
    "                     \"836715.OC\", \"836910.OC\"]\n",
    "\n",
    "for stkcd in StkcdChangedYear1:\n",
    "    accounting_neeq_long1.loc[accounting_neeq_long1[\"证券代码\"] == stkcd, \"relativeYear\"] =\\\n",
    "    accounting_neeq_long1.loc[accounting_neeq_long1[\"证券代码\"] == stkcd, \"relativeYear\"] - 1"
   ]
  },
  {
   "cell_type": "code",
   "execution_count": 32,
   "metadata": {
    "collapsed": false
   },
   "outputs": [],
   "source": [
    "StkcdAbsense = [\"430072.OC\", \"834609.OC\"]"
   ]
  },
  {
   "cell_type": "code",
   "execution_count": 255,
   "metadata": {
    "collapsed": true
   },
   "outputs": [],
   "source": [
    "accounting_neeq_long1.loc[(accounting_neeq_long1[\"证券代码\"] == \"830805.OC\") & \n",
    "                          (accounting_neeq_long1[\"年度\"] == 2013), \n",
    "                          [\"实际披露日期\", \"报告期\"]] = [pandas.datetime(2014, 6, 26), pandas.datetime(2013, 12, 31)]"
   ]
  },
  {
   "cell_type": "code",
   "execution_count": 256,
   "metadata": {
    "collapsed": true
   },
   "outputs": [],
   "source": [
    "accounting_neeq_long1.loc[(accounting_neeq_long1[\"证券代码\"] == \"830806.OC\") & \n",
    "                          (accounting_neeq_long1[\"年度\"] == 2013), \n",
    "                          [\"实际披露日期\", \"报告期\"]] = [pandas.datetime(2014, 9, 24), pandas.datetime(2013, 12, 31)]"
   ]
  },
  {
   "cell_type": "code",
   "execution_count": 257,
   "metadata": {
    "collapsed": true
   },
   "outputs": [],
   "source": [
    "accounting_neeq_long1.loc[(accounting_neeq_long1[\"证券代码\"] == \"832385.OC\") & \n",
    "                          (accounting_neeq_long1[\"年度\"] == 2014), \n",
    "                          [\"实际披露日期\", \"报告期\"]] = [pandas.datetime(2015, 5, 20), pandas.datetime(2014, 12, 31)]"
   ]
  },
  {
   "cell_type": "code",
   "execution_count": 258,
   "metadata": {
    "collapsed": true
   },
   "outputs": [],
   "source": [
    "accounting_neeq_long1.loc[(accounting_neeq_long1[\"证券代码\"] == \"832809.OC\") & \n",
    "                          (accounting_neeq_long1[\"年度\"] == 2014), \n",
    "                          [\"实际披露日期\", \"报告期\"]] = [pandas.datetime(2015, 8, 21), pandas.datetime(2014, 12, 31)]"
   ]
  },
  {
   "cell_type": "code",
   "execution_count": 259,
   "metadata": {
    "collapsed": true
   },
   "outputs": [],
   "source": [
    "accounting_neeq_long1.loc[(accounting_neeq_long1[\"证券代码\"] == \"832779.OC\") & \n",
    "                          (accounting_neeq_long1[\"年度\"] == 2014), \n",
    "                          \"报告期\"] = pandas.datetime(2014, 12, 31)"
   ]
  },
  {
   "cell_type": "code",
   "execution_count": 260,
   "metadata": {
    "collapsed": true
   },
   "outputs": [],
   "source": [
    "accounting_neeq_long1.loc[(accounting_neeq_long1[\"证券代码\"] == \"832778.OC\") & \n",
    "                          (accounting_neeq_long1[\"年度\"] == 2014), \n",
    "                          [\"实际披露日期\", \"报告期\"]] = [pandas.datetime(2015, 7, 20), pandas.datetime(2014, 12, 31)]"
   ]
  },
  {
   "cell_type": "code",
   "execution_count": 261,
   "metadata": {
    "collapsed": true
   },
   "outputs": [],
   "source": [
    "accounting_neeq_long1.loc[(accounting_neeq_long1[\"证券代码\"] == \"832775.OC\") & \n",
    "                          (accounting_neeq_long1[\"年度\"] == 2014), \n",
    "                          [\"实际披露日期\", \"报告期\"]] = [pandas.datetime(2015, 8, 19), pandas.datetime(2014, 12, 31)]"
   ]
  },
  {
   "cell_type": "code",
   "execution_count": 262,
   "metadata": {
    "collapsed": true
   },
   "outputs": [],
   "source": [
    "accounting_neeq_long1.loc[(accounting_neeq_long1[\"证券代码\"] == \"832773.OC\") & \n",
    "                          (accounting_neeq_long1[\"年度\"] == 2014), \n",
    "                          [\"实际披露日期\", \"报告期\"]] = [pandas.datetime(2015, 7, 24), pandas.datetime(2014, 12, 31)]"
   ]
  },
  {
   "cell_type": "code",
   "execution_count": 263,
   "metadata": {
    "collapsed": true
   },
   "outputs": [],
   "source": [
    "accounting_neeq_long1.loc[(accounting_neeq_long1[\"证券代码\"] == \"832754.OC\") & \n",
    "                          (accounting_neeq_long1[\"年度\"] == 2014), \n",
    "                          [\"实际披露日期\", \"报告期\"]] = [pandas.datetime(2015, 8, 5), pandas.datetime(2014, 12, 31)]"
   ]
  },
  {
   "cell_type": "code",
   "execution_count": 264,
   "metadata": {
    "collapsed": true
   },
   "outputs": [],
   "source": [
    "accounting_neeq_long1.loc[(accounting_neeq_long1[\"证券代码\"] == \"832753.OC\") & \n",
    "                          (accounting_neeq_long1[\"年度\"] == 2014), \n",
    "                          [\"实际披露日期\", \"报告期\"]] = [pandas.datetime(2015, 8, 13), pandas.datetime(2014, 12, 31)]"
   ]
  },
  {
   "cell_type": "code",
   "execution_count": 265,
   "metadata": {
    "collapsed": true
   },
   "outputs": [],
   "source": [
    "accounting_neeq_long1.loc[(accounting_neeq_long1[\"证券代码\"] == \"832688.OC\") & \n",
    "                          (accounting_neeq_long1[\"年度\"] == 2014), \n",
    "                          [\"实际披露日期\", \"报告期\"]] = [pandas.datetime(2015, 7, 13), pandas.datetime(2014, 12, 31)]"
   ]
  },
  {
   "cell_type": "code",
   "execution_count": 266,
   "metadata": {
    "collapsed": true
   },
   "outputs": [],
   "source": [
    "accounting_neeq_long1.loc[(accounting_neeq_long1[\"证券代码\"] == \"832687.OC\") & \n",
    "                          (accounting_neeq_long1[\"年度\"] == 2014), \n",
    "                          [\"实际披露日期\", \"报告期\"]] = [pandas.datetime(2015, 7, 28), pandas.datetime(2014, 12, 31)]"
   ]
  },
  {
   "cell_type": "code",
   "execution_count": 267,
   "metadata": {
    "collapsed": true
   },
   "outputs": [],
   "source": [
    "accounting_neeq_long1.loc[(accounting_neeq_long1[\"证券代码\"] == \"832680.OC\") & \n",
    "                          (accounting_neeq_long1[\"年度\"] == 2014), \n",
    "                          [\"实际披露日期\", \"报告期\"]] = [pandas.datetime(2015, 6, 29), pandas.datetime(2014, 12, 31)]"
   ]
  },
  {
   "cell_type": "code",
   "execution_count": 268,
   "metadata": {
    "collapsed": true
   },
   "outputs": [],
   "source": [
    "accounting_neeq_long1.loc[(accounting_neeq_long1[\"证券代码\"] == \"832663.OC\") & \n",
    "                          (accounting_neeq_long1[\"年度\"] == 2014), \n",
    "                          \"报告期\"] = pandas.datetime(2014, 12, 31)"
   ]
  },
  {
   "cell_type": "code",
   "execution_count": 269,
   "metadata": {
    "collapsed": true
   },
   "outputs": [],
   "source": [
    "accounting_neeq_long1.loc[(accounting_neeq_long1[\"证券代码\"] == \"832650.OC\") & \n",
    "                          (accounting_neeq_long1[\"年度\"] == 2014), \n",
    "                          [\"实际披露日期\", \"报告期\"]] = [pandas.datetime(2015, 7, 15), pandas.datetime(2014, 12, 31)]"
   ]
  },
  {
   "cell_type": "code",
   "execution_count": 270,
   "metadata": {
    "collapsed": true
   },
   "outputs": [],
   "source": [
    "accounting_neeq_long1.loc[(accounting_neeq_long1[\"证券代码\"] == \"832639.OC\") & \n",
    "                          (accounting_neeq_long1[\"年度\"] == 2014), \n",
    "                          [\"实际披露日期\", \"报告期\"]] = [pandas.datetime(2015, 6, 16), pandas.datetime(2014, 12, 31)]"
   ]
  },
  {
   "cell_type": "code",
   "execution_count": 271,
   "metadata": {
    "collapsed": true
   },
   "outputs": [],
   "source": [
    "accounting_neeq_long1.loc[(accounting_neeq_long1[\"证券代码\"] == \"832637.OC\") & \n",
    "                          (accounting_neeq_long1[\"年度\"] == 2014), \n",
    "                          [\"实际披露日期\", \"报告期\"]] = [pandas.datetime(2015, 7, 27), pandas.datetime(2014, 12, 31)]"
   ]
  },
  {
   "cell_type": "code",
   "execution_count": 272,
   "metadata": {
    "collapsed": true
   },
   "outputs": [],
   "source": [
    "accounting_neeq_long1.loc[(accounting_neeq_long1[\"证券代码\"] == \"832634.OC\") & \n",
    "                          (accounting_neeq_long1[\"年度\"] == 2014), \n",
    "                          [\"实际披露日期\", \"报告期\"]] = [pandas.datetime(2015, 6, 16), pandas.datetime(2014, 12, 31)]"
   ]
  },
  {
   "cell_type": "code",
   "execution_count": 273,
   "metadata": {
    "collapsed": true
   },
   "outputs": [],
   "source": [
    "accounting_neeq_long1.loc[(accounting_neeq_long1[\"证券代码\"] == \"832631.OC\") & \n",
    "                          (accounting_neeq_long1[\"年度\"] == 2014), \n",
    "                          [\"实际披露日期\", \"报告期\"]] = [pandas.datetime(2015, 6, 16), pandas.datetime(2014, 12, 31)]"
   ]
  },
  {
   "cell_type": "code",
   "execution_count": 274,
   "metadata": {
    "collapsed": true
   },
   "outputs": [],
   "source": [
    "accounting_neeq_long1.loc[(accounting_neeq_long1[\"证券代码\"] == \"832629.OC\") & \n",
    "                          (accounting_neeq_long1[\"年度\"] == 2014), \n",
    "                          [\"实际披露日期\", \"报告期\"]] = [pandas.datetime(2015, 7, 7), pandas.datetime(2014, 12, 31)]"
   ]
  },
  {
   "cell_type": "code",
   "execution_count": 275,
   "metadata": {
    "collapsed": true
   },
   "outputs": [],
   "source": [
    "accounting_neeq_long1.loc[(accounting_neeq_long1[\"证券代码\"] == \"832616.OC\") & \n",
    "                          (accounting_neeq_long1[\"年度\"] == 2014), \n",
    "                          [\"实际披露日期\", \"报告期\"]] = [pandas.datetime(2015, 7, 10), pandas.datetime(2014, 12, 31)]"
   ]
  },
  {
   "cell_type": "code",
   "execution_count": 276,
   "metadata": {
    "collapsed": true
   },
   "outputs": [],
   "source": [
    "accounting_neeq_long1.loc[(accounting_neeq_long1[\"证券代码\"] == \"832614.OC\") & \n",
    "                          (accounting_neeq_long1[\"年度\"] == 2014), \n",
    "                          [\"实际披露日期\", \"报告期\"]] = [pandas.datetime(2015, 6, 11), pandas.datetime(2014, 12, 31)]"
   ]
  },
  {
   "cell_type": "code",
   "execution_count": 277,
   "metadata": {
    "collapsed": true
   },
   "outputs": [],
   "source": [
    "accounting_neeq_long1.loc[(accounting_neeq_long1[\"证券代码\"] == \"832613.OC\") & \n",
    "                          (accounting_neeq_long1[\"年度\"] == 2014), \n",
    "                          [\"实际披露日期\", \"报告期\"]] = [pandas.datetime(2015, 6, 9), pandas.datetime(2014, 12, 31)]"
   ]
  },
  {
   "cell_type": "code",
   "execution_count": 278,
   "metadata": {
    "collapsed": true
   },
   "outputs": [],
   "source": [
    "accounting_neeq_long1.loc[(accounting_neeq_long1[\"证券代码\"] == \"832612.OC\") & \n",
    "                          (accounting_neeq_long1[\"年度\"] == 2014), \n",
    "                          [\"实际披露日期\", \"报告期\"]] = [pandas.datetime(2015, 6, 24), pandas.datetime(2014, 12, 31)]"
   ]
  },
  {
   "cell_type": "code",
   "execution_count": 279,
   "metadata": {
    "collapsed": true
   },
   "outputs": [],
   "source": [
    "accounting_neeq_long1.loc[(accounting_neeq_long1[\"证券代码\"] == \"832610.OC\") & \n",
    "                          (accounting_neeq_long1[\"年度\"] == 2014), \n",
    "                          [\"实际披露日期\", \"报告期\"]] = [pandas.datetime(2015, 7, 2), pandas.datetime(2014, 12, 31)]"
   ]
  },
  {
   "cell_type": "code",
   "execution_count": 280,
   "metadata": {
    "collapsed": true
   },
   "outputs": [],
   "source": [
    "accounting_neeq_long1.loc[(accounting_neeq_long1[\"证券代码\"] == \"832609.OC\") & \n",
    "                          (accounting_neeq_long1[\"年度\"] == 2014), \n",
    "                          [\"实际披露日期\", \"报告期\"]] = [pandas.datetime(2015, 6, 30), pandas.datetime(2014, 12, 31)]"
   ]
  },
  {
   "cell_type": "code",
   "execution_count": 281,
   "metadata": {
    "collapsed": true
   },
   "outputs": [],
   "source": [
    "accounting_neeq_long1.loc[(accounting_neeq_long1[\"证券代码\"] == \"832606.OC\") & \n",
    "                          (accounting_neeq_long1[\"年度\"] == 2014), \n",
    "                          [\"实际披露日期\", \"报告期\"]] = [pandas.datetime(2015, 6, 10), pandas.datetime(2014, 12, 31)]"
   ]
  },
  {
   "cell_type": "code",
   "execution_count": 282,
   "metadata": {
    "collapsed": true
   },
   "outputs": [],
   "source": [
    "accounting_neeq_long1.loc[(accounting_neeq_long1[\"证券代码\"] == \"832601.OC\") & \n",
    "                          (accounting_neeq_long1[\"年度\"] == 2014), \n",
    "                          \"报告期\"] = pandas.datetime(2014, 12, 31)"
   ]
  },
  {
   "cell_type": "code",
   "execution_count": 283,
   "metadata": {
    "collapsed": true
   },
   "outputs": [],
   "source": [
    "accounting_neeq_long1.loc[(accounting_neeq_long1[\"证券代码\"] == \"832596.OC\") & \n",
    "                          (accounting_neeq_long1[\"年度\"] == 2014), \n",
    "                          [\"实际披露日期\", \"报告期\"]] = [pandas.datetime(2015, 7, 3), pandas.datetime(2014, 12, 31)]"
   ]
  },
  {
   "cell_type": "code",
   "execution_count": 284,
   "metadata": {
    "collapsed": true
   },
   "outputs": [],
   "source": [
    "accounting_neeq_long1.loc[(accounting_neeq_long1[\"证券代码\"] == \"832595.OC\") & \n",
    "                          (accounting_neeq_long1[\"年度\"] == 2014), \n",
    "                          [\"实际披露日期\", \"报告期\"]] = [pandas.datetime(2015, 7, 3), pandas.datetime(2014, 12, 31)]"
   ]
  },
  {
   "cell_type": "code",
   "execution_count": 285,
   "metadata": {
    "collapsed": true
   },
   "outputs": [],
   "source": [
    "accounting_neeq_long1.loc[(accounting_neeq_long1[\"证券代码\"] == \"832594.OC\") & \n",
    "                          (accounting_neeq_long1[\"年度\"] == 2014), \n",
    "                          [\"实际披露日期\", \"报告期\"]] = [pandas.datetime(2015, 7, 8), pandas.datetime(2014, 12, 31)]"
   ]
  },
  {
   "cell_type": "code",
   "execution_count": 286,
   "metadata": {
    "collapsed": true
   },
   "outputs": [],
   "source": [
    "accounting_neeq_long1.loc[(accounting_neeq_long1[\"证券代码\"] == \"832593.OC\") & \n",
    "                          (accounting_neeq_long1[\"年度\"] == 2014), \n",
    "                          [\"实际披露日期\", \"报告期\"]] = [pandas.datetime(2015, 6, 12), pandas.datetime(2014, 12, 31)]"
   ]
  },
  {
   "cell_type": "code",
   "execution_count": 287,
   "metadata": {
    "collapsed": true
   },
   "outputs": [],
   "source": [
    "accounting_neeq_long1.loc[(accounting_neeq_long1[\"证券代码\"] == \"832592.OC\") & \n",
    "                          (accounting_neeq_long1[\"年度\"] == 2014), \n",
    "                          \"报告期\"] = pandas.datetime(2014, 12, 31)"
   ]
  },
  {
   "cell_type": "code",
   "execution_count": 288,
   "metadata": {
    "collapsed": true
   },
   "outputs": [],
   "source": [
    "accounting_neeq_long1.loc[(accounting_neeq_long1[\"证券代码\"] == \"832589.OC\") & \n",
    "                          (accounting_neeq_long1[\"年度\"] == 2014), \n",
    "                          [\"实际披露日期\", \"报告期\"]] = [pandas.datetime(2015, 6, 11), pandas.datetime(2014, 12, 31)]"
   ]
  },
  {
   "cell_type": "code",
   "execution_count": 289,
   "metadata": {
    "collapsed": true
   },
   "outputs": [],
   "source": [
    "accounting_neeq_long1.loc[(accounting_neeq_long1[\"证券代码\"] == \"832588.OC\") & \n",
    "                          (accounting_neeq_long1[\"年度\"] == 2014), \n",
    "                          \"报告期\"] = pandas.datetime(2014, 12, 31)"
   ]
  },
  {
   "cell_type": "code",
   "execution_count": 290,
   "metadata": {
    "collapsed": true
   },
   "outputs": [],
   "source": [
    "accounting_neeq_long1.loc[(accounting_neeq_long1[\"证券代码\"] == \"832587.OC\") & \n",
    "                          (accounting_neeq_long1[\"年度\"] == 2014), \n",
    "                          \"报告期\"] = pandas.datetime(2014, 12, 31)"
   ]
  },
  {
   "cell_type": "code",
   "execution_count": 291,
   "metadata": {
    "collapsed": true
   },
   "outputs": [],
   "source": [
    "accounting_neeq_long1.loc[(accounting_neeq_long1[\"证券代码\"] == \"832578.OC\") & \n",
    "                          (accounting_neeq_long1[\"年度\"] == 2014), \n",
    "                          [\"实际披露日期\", \"报告期\"]] = [pandas.datetime(2015, 6, 29), pandas.datetime(2014, 12, 31)]"
   ]
  },
  {
   "cell_type": "code",
   "execution_count": 292,
   "metadata": {
    "collapsed": true
   },
   "outputs": [],
   "source": [
    "accounting_neeq_long1.loc[(accounting_neeq_long1[\"证券代码\"] == \"832569.OC\") & \n",
    "                          (accounting_neeq_long1[\"年度\"] == 2014), \n",
    "                          [\"实际披露日期\", \"报告期\"]] = [pandas.datetime(2015, 6, 10), pandas.datetime(2014, 12, 31)]"
   ]
  },
  {
   "cell_type": "code",
   "execution_count": 293,
   "metadata": {
    "collapsed": true
   },
   "outputs": [],
   "source": [
    "accounting_neeq_long1.loc[(accounting_neeq_long1[\"证券代码\"] == \"832566.OC\") & \n",
    "                          (accounting_neeq_long1[\"年度\"] == 2014), \n",
    "                          [\"实际披露日期\", \"报告期\"]] = [pandas.datetime(2015, 7, 7), pandas.datetime(2014, 12, 31)]"
   ]
  },
  {
   "cell_type": "code",
   "execution_count": 294,
   "metadata": {
    "collapsed": true
   },
   "outputs": [],
   "source": [
    "accounting_neeq_long1.loc[(accounting_neeq_long1[\"证券代码\"] == \"832565.OC\") & \n",
    "                          (accounting_neeq_long1[\"年度\"] == 2014), \n",
    "                          \"报告期\"] = pandas.datetime(2014, 12, 31)"
   ]
  },
  {
   "cell_type": "code",
   "execution_count": 295,
   "metadata": {
    "collapsed": true
   },
   "outputs": [],
   "source": [
    "accounting_neeq_long1.loc[(accounting_neeq_long1[\"证券代码\"] == \"832563.OC\") & \n",
    "                          (accounting_neeq_long1[\"年度\"] == 2014), \n",
    "                          [\"实际披露日期\", \"报告期\"]] = [pandas.datetime(2015, 8, 4), pandas.datetime(2014, 12, 31)]"
   ]
  },
  {
   "cell_type": "code",
   "execution_count": 296,
   "metadata": {
    "collapsed": true
   },
   "outputs": [],
   "source": [
    "accounting_neeq_long1.loc[(accounting_neeq_long1[\"证券代码\"] == \"832562.OC\") & \n",
    "                          (accounting_neeq_long1[\"年度\"] == 2014), \n",
    "                          [\"实际披露日期\", \"报告期\"]] = [pandas.datetime(2015, 7, 1), pandas.datetime(2014, 12, 31)]"
   ]
  },
  {
   "cell_type": "code",
   "execution_count": 297,
   "metadata": {
    "collapsed": true
   },
   "outputs": [],
   "source": [
    "accounting_neeq_long1.loc[(accounting_neeq_long1[\"证券代码\"] == \"832561.OC\") & \n",
    "                          (accounting_neeq_long1[\"年度\"] == 2014), \n",
    "                          \"报告期\"] = pandas.datetime(2014, 12, 31)"
   ]
  },
  {
   "cell_type": "code",
   "execution_count": 298,
   "metadata": {
    "collapsed": true
   },
   "outputs": [],
   "source": [
    "accounting_neeq_long1.loc[(accounting_neeq_long1[\"证券代码\"] == \"832560.OC\") & \n",
    "                          (accounting_neeq_long1[\"年度\"] == 2014), \n",
    "                          [\"实际披露日期\", \"报告期\"]] = [pandas.datetime(2015, 6, 30), pandas.datetime(2014, 12, 31)]"
   ]
  },
  {
   "cell_type": "code",
   "execution_count": 299,
   "metadata": {
    "collapsed": true
   },
   "outputs": [],
   "source": [
    "accounting_neeq_long1.loc[(accounting_neeq_long1[\"证券代码\"] == \"832559.OC\") & \n",
    "                          (accounting_neeq_long1[\"年度\"] == 2014), \n",
    "                          [\"实际披露日期\", \"报告期\"]] = [pandas.datetime(2015, 7, 2), pandas.datetime(2014, 12, 31)]"
   ]
  },
  {
   "cell_type": "code",
   "execution_count": 300,
   "metadata": {
    "collapsed": true
   },
   "outputs": [],
   "source": [
    "accounting_neeq_long1.loc[(accounting_neeq_long1[\"证券代码\"] == \"832558.OC\") & \n",
    "                          (accounting_neeq_long1[\"年度\"] == 2014), \n",
    "                          [\"实际披露日期\", \"报告期\"]] = [pandas.datetime(2015, 6, 12), pandas.datetime(2014, 12, 31)]"
   ]
  },
  {
   "cell_type": "code",
   "execution_count": 301,
   "metadata": {
    "collapsed": true
   },
   "outputs": [],
   "source": [
    "accounting_neeq_long1.loc[(accounting_neeq_long1[\"证券代码\"] == \"832556.OC\") & \n",
    "                          (accounting_neeq_long1[\"年度\"] == 2014), \n",
    "                          [\"实际披露日期\", \"报告期\"]] = [pandas.datetime(2015, 6, 11), pandas.datetime(2014, 12, 31)]"
   ]
  },
  {
   "cell_type": "code",
   "execution_count": 302,
   "metadata": {
    "collapsed": true
   },
   "outputs": [],
   "source": [
    "accounting_neeq_long1.loc[(accounting_neeq_long1[\"证券代码\"] == \"832553.OC\") & \n",
    "                          (accounting_neeq_long1[\"年度\"] == 2014), \n",
    "                          [\"实际披露日期\", \"报告期\"]] = [pandas.datetime(2015, 6, 5), pandas.datetime(2014, 12, 31)]"
   ]
  },
  {
   "cell_type": "code",
   "execution_count": 303,
   "metadata": {
    "collapsed": true
   },
   "outputs": [],
   "source": [
    "accounting_neeq_long1.loc[(accounting_neeq_long1[\"证券代码\"] == \"832552.OC\") & \n",
    "                          (accounting_neeq_long1[\"年度\"] == 2014), \n",
    "                          [\"实际披露日期\", \"报告期\"]] = [pandas.datetime(2015, 6, 16), pandas.datetime(2014, 12, 31)]"
   ]
  },
  {
   "cell_type": "code",
   "execution_count": 304,
   "metadata": {
    "collapsed": true
   },
   "outputs": [],
   "source": [
    "accounting_neeq_long1.loc[(accounting_neeq_long1[\"证券代码\"] == \"832548.OC\") & \n",
    "                          (accounting_neeq_long1[\"年度\"] == 2014), \n",
    "                          [\"实际披露日期\", \"报告期\"]] = [pandas.datetime(2015, 7, 7), pandas.datetime(2014, 12, 31)]"
   ]
  },
  {
   "cell_type": "code",
   "execution_count": 305,
   "metadata": {
    "collapsed": true
   },
   "outputs": [],
   "source": [
    "accounting_neeq_long1.loc[(accounting_neeq_long1[\"证券代码\"] == \"832547.OC\") & \n",
    "                          (accounting_neeq_long1[\"年度\"] == 2014), \n",
    "                          [\"实际披露日期\", \"报告期\"]] = [pandas.datetime(2015, 6, 4), pandas.datetime(2014, 12, 31)]"
   ]
  },
  {
   "cell_type": "code",
   "execution_count": 306,
   "metadata": {
    "collapsed": true
   },
   "outputs": [],
   "source": [
    "accounting_neeq_long1.loc[(accounting_neeq_long1[\"证券代码\"] == \"832546.OC\") & \n",
    "                          (accounting_neeq_long1[\"年度\"] == 2014), \n",
    "                          [\"实际披露日期\", \"报告期\"]] = [pandas.datetime(2015, 6, 24), pandas.datetime(2014, 12, 31)]"
   ]
  },
  {
   "cell_type": "code",
   "execution_count": 307,
   "metadata": {
    "collapsed": true
   },
   "outputs": [],
   "source": [
    "accounting_neeq_long1.loc[(accounting_neeq_long1[\"证券代码\"] == \"832545.OC\") & \n",
    "                          (accounting_neeq_long1[\"年度\"] == 2014), \n",
    "                          [\"实际披露日期\", \"报告期\"]] = [pandas.datetime(2015, 7, 2), pandas.datetime(2014, 12, 31)]"
   ]
  },
  {
   "cell_type": "code",
   "execution_count": 308,
   "metadata": {
    "collapsed": true
   },
   "outputs": [],
   "source": [
    "accounting_neeq_long1.loc[(accounting_neeq_long1[\"证券代码\"] == \"832542.OC\") & \n",
    "                          (accounting_neeq_long1[\"年度\"] == 2014), \n",
    "                          [\"实际披露日期\", \"报告期\"]] = [pandas.datetime(2015, 6, 24), pandas.datetime(2014, 12, 31)]"
   ]
  },
  {
   "cell_type": "code",
   "execution_count": 309,
   "metadata": {
    "collapsed": false
   },
   "outputs": [],
   "source": [
    "accounting_neeq_long1.loc[(accounting_neeq_long1[\"证券代码\"] == \"832540.OC\") & \n",
    "                          (accounting_neeq_long1[\"年度\"] == 2014), \n",
    "                          [\"实际披露日期\", \"报告期\"]] = [pandas.datetime(2015, 6, 5), pandas.datetime(2014, 12, 31)]"
   ]
  },
  {
   "cell_type": "code",
   "execution_count": 310,
   "metadata": {
    "collapsed": true
   },
   "outputs": [],
   "source": [
    "accounting_neeq_long1.loc[(accounting_neeq_long1[\"证券代码\"] == \"832538.OC\") & \n",
    "                          (accounting_neeq_long1[\"年度\"] == 2014), \n",
    "                          [\"实际披露日期\", \"报告期\"]] = [pandas.datetime(2015, 6, 8), pandas.datetime(2014, 12, 31)]"
   ]
  },
  {
   "cell_type": "code",
   "execution_count": 311,
   "metadata": {
    "collapsed": true
   },
   "outputs": [],
   "source": [
    "accounting_neeq_long1.loc[(accounting_neeq_long1[\"证券代码\"] == \"832536.OC\") & \n",
    "                          (accounting_neeq_long1[\"年度\"] == 2014), \n",
    "                          [\"实际披露日期\", \"报告期\"]] = [pandas.datetime(2015, 8, 6), pandas.datetime(2014, 12, 31)]"
   ]
  },
  {
   "cell_type": "code",
   "execution_count": 312,
   "metadata": {
    "collapsed": true
   },
   "outputs": [],
   "source": [
    "accounting_neeq_long1.loc[(accounting_neeq_long1[\"证券代码\"] == \"832532.OC\") & \n",
    "                          (accounting_neeq_long1[\"年度\"] == 2014), \n",
    "                          [\"实际披露日期\", \"报告期\"]] = [pandas.datetime(2015, 6, 12), pandas.datetime(2014, 12, 31)]"
   ]
  },
  {
   "cell_type": "code",
   "execution_count": 313,
   "metadata": {
    "collapsed": true
   },
   "outputs": [],
   "source": [
    "accounting_neeq_long1.loc[(accounting_neeq_long1[\"证券代码\"] == \"832531.OC\") & \n",
    "                          (accounting_neeq_long1[\"年度\"] == 2014), \n",
    "                          [\"实际披露日期\", \"报告期\"]] = [pandas.datetime(2015, 6, 8), pandas.datetime(2014, 12, 31)]"
   ]
  },
  {
   "cell_type": "code",
   "execution_count": 314,
   "metadata": {
    "collapsed": true
   },
   "outputs": [],
   "source": [
    "accounting_neeq_long1.loc[(accounting_neeq_long1[\"证券代码\"] == \"832530.OC\") & \n",
    "                          (accounting_neeq_long1[\"年度\"] == 2014), \n",
    "                          [\"实际披露日期\", \"报告期\"]] = [pandas.datetime(2015, 7, 9), pandas.datetime(2014, 12, 31)]"
   ]
  },
  {
   "cell_type": "code",
   "execution_count": 315,
   "metadata": {
    "collapsed": true
   },
   "outputs": [],
   "source": [
    "accounting_neeq_long1.loc[(accounting_neeq_long1[\"证券代码\"] == \"832529.OC\") & \n",
    "                          (accounting_neeq_long1[\"年度\"] == 2014), \n",
    "                          \"报告期\"] = pandas.datetime(2014, 12, 31)"
   ]
  },
  {
   "cell_type": "code",
   "execution_count": 316,
   "metadata": {
    "collapsed": true
   },
   "outputs": [],
   "source": [
    "accounting_neeq_long1.loc[(accounting_neeq_long1[\"证券代码\"] == \"832526.OC\") & \n",
    "                          (accounting_neeq_long1[\"年度\"] == 2014), \n",
    "                          [\"实际披露日期\", \"报告期\"]] = [pandas.datetime(2015, 6, 15), pandas.datetime(2014, 12, 31)]"
   ]
  },
  {
   "cell_type": "code",
   "execution_count": 317,
   "metadata": {
    "collapsed": true
   },
   "outputs": [],
   "source": [
    "accounting_neeq_long1.loc[(accounting_neeq_long1[\"证券代码\"] == \"832525.OC\") & \n",
    "                          (accounting_neeq_long1[\"年度\"] == 2014), \n",
    "                          [\"实际披露日期\", \"报告期\"]] = [pandas.datetime(2015, 6, 11), pandas.datetime(2014, 12, 31)]"
   ]
  },
  {
   "cell_type": "code",
   "execution_count": 318,
   "metadata": {
    "collapsed": true
   },
   "outputs": [],
   "source": [
    "accounting_neeq_long1.loc[(accounting_neeq_long1[\"证券代码\"] == \"832524.OC\") & \n",
    "                          (accounting_neeq_long1[\"年度\"] == 2014), \n",
    "                          [\"实际披露日期\", \"报告期\"]] = [pandas.datetime(2015, 7, 3), pandas.datetime(2014, 12, 31)]"
   ]
  },
  {
   "cell_type": "code",
   "execution_count": 319,
   "metadata": {
    "collapsed": true
   },
   "outputs": [],
   "source": [
    "accounting_neeq_long1.loc[(accounting_neeq_long1[\"证券代码\"] == \"832521.OC\") & \n",
    "                          (accounting_neeq_long1[\"年度\"] == 2014), \n",
    "                          [\"实际披露日期\", \"报告期\"]] = [pandas.datetime(2015, 6, 9), pandas.datetime(2014, 12, 31)]"
   ]
  },
  {
   "cell_type": "code",
   "execution_count": 320,
   "metadata": {
    "collapsed": true
   },
   "outputs": [],
   "source": [
    "accounting_neeq_long1.loc[(accounting_neeq_long1[\"证券代码\"] == \"832522.OC\") & \n",
    "                          (accounting_neeq_long1[\"年度\"] == 2014), \n",
    "                          [\"实际披露日期\", \"报告期\"]] = [pandas.datetime(2015, 6, 8), pandas.datetime(2014, 12, 31)]"
   ]
  },
  {
   "cell_type": "code",
   "execution_count": 321,
   "metadata": {
    "collapsed": true
   },
   "outputs": [],
   "source": [
    "accounting_neeq_long1.loc[(accounting_neeq_long1[\"证券代码\"] == \"832520.OC\") & \n",
    "                          (accounting_neeq_long1[\"年度\"] == 2014), \n",
    "                          [\"实际披露日期\", \"报告期\"]] = [pandas.datetime(2015, 5, 28), pandas.datetime(2014, 12, 31)]"
   ]
  },
  {
   "cell_type": "code",
   "execution_count": 322,
   "metadata": {
    "collapsed": true
   },
   "outputs": [],
   "source": [
    "accounting_neeq_long1.loc[(accounting_neeq_long1[\"证券代码\"] == \"832518.OC\") & \n",
    "                          (accounting_neeq_long1[\"年度\"] == 2014), \n",
    "                          [\"实际披露日期\", \"报告期\"]] = [pandas.datetime(2015, 5, 29), pandas.datetime(2014, 12, 31)]"
   ]
  },
  {
   "cell_type": "code",
   "execution_count": 323,
   "metadata": {
    "collapsed": true
   },
   "outputs": [],
   "source": [
    "accounting_neeq_long1.loc[(accounting_neeq_long1[\"证券代码\"] == \"832517.OC\") & \n",
    "                          (accounting_neeq_long1[\"年度\"] == 2014), \n",
    "                          [\"实际披露日期\", \"报告期\"]] = [pandas.datetime(2015, 5, 27), pandas.datetime(2014, 12, 31)]"
   ]
  },
  {
   "cell_type": "code",
   "execution_count": 324,
   "metadata": {
    "collapsed": true
   },
   "outputs": [],
   "source": [
    "accounting_neeq_long1.loc[(accounting_neeq_long1[\"证券代码\"] == \"832516.OC\") & \n",
    "                          (accounting_neeq_long1[\"年度\"] == 2014), \n",
    "                          [\"实际披露日期\", \"报告期\"]] = [pandas.datetime(2015, 6, 9), pandas.datetime(2014, 12, 31)]"
   ]
  },
  {
   "cell_type": "code",
   "execution_count": 325,
   "metadata": {
    "collapsed": true
   },
   "outputs": [],
   "source": [
    "accounting_neeq_long1.loc[(accounting_neeq_long1[\"证券代码\"] == \"832515.OC\") & \n",
    "                          (accounting_neeq_long1[\"年度\"] == 2014), \n",
    "                          [\"实际披露日期\", \"报告期\"]] = [pandas.datetime(2015, 6, 29), pandas.datetime(2014, 12, 31)]"
   ]
  },
  {
   "cell_type": "code",
   "execution_count": 326,
   "metadata": {
    "collapsed": true
   },
   "outputs": [],
   "source": [
    "accounting_neeq_long1.loc[(accounting_neeq_long1[\"证券代码\"] == \"832510.OC\") & \n",
    "                          (accounting_neeq_long1[\"年度\"] == 2014), \n",
    "                          [\"实际披露日期\", \"报告期\"]] = [pandas.datetime(2015, 6, 10), pandas.datetime(2014, 12, 31)]"
   ]
  },
  {
   "cell_type": "code",
   "execution_count": 327,
   "metadata": {
    "collapsed": true
   },
   "outputs": [],
   "source": [
    "accounting_neeq_long1.loc[(accounting_neeq_long1[\"证券代码\"] == \"832509.OC\") & \n",
    "                          (accounting_neeq_long1[\"年度\"] == 2014), \n",
    "                          [\"实际披露日期\", \"报告期\"]] = [pandas.datetime(2015, 5, 29), pandas.datetime(2014, 12, 31)]"
   ]
  },
  {
   "cell_type": "code",
   "execution_count": 328,
   "metadata": {
    "collapsed": true
   },
   "outputs": [],
   "source": [
    "accounting_neeq_long1.loc[(accounting_neeq_long1[\"证券代码\"] == \"832508.OC\") & \n",
    "                          (accounting_neeq_long1[\"年度\"] == 2014), \n",
    "                          [\"实际披露日期\", \"报告期\"]] = [pandas.datetime(2015, 6, 12), pandas.datetime(2014, 12, 31)]"
   ]
  },
  {
   "cell_type": "code",
   "execution_count": 329,
   "metadata": {
    "collapsed": true
   },
   "outputs": [],
   "source": [
    "accounting_neeq_long1.loc[(accounting_neeq_long1[\"证券代码\"] == \"832507.OC\") & \n",
    "                          (accounting_neeq_long1[\"年度\"] == 2014), \n",
    "                          [\"实际披露日期\", \"报告期\"]] = [pandas.datetime(2015, 5, 22), pandas.datetime(2014, 12, 31)]"
   ]
  },
  {
   "cell_type": "code",
   "execution_count": 330,
   "metadata": {
    "collapsed": true
   },
   "outputs": [],
   "source": [
    "accounting_neeq_long1.loc[(accounting_neeq_long1[\"证券代码\"] == \"832506.OC\") & \n",
    "                          (accounting_neeq_long1[\"年度\"] == 2014), \n",
    "                          [\"实际披露日期\", \"报告期\"]] = [pandas.datetime(2015, 6, 8), pandas.datetime(2014, 12, 31)]"
   ]
  },
  {
   "cell_type": "code",
   "execution_count": 331,
   "metadata": {
    "collapsed": true
   },
   "outputs": [],
   "source": [
    "accounting_neeq_long1.loc[(accounting_neeq_long1[\"证券代码\"] == \"832502.OC\") & \n",
    "                          (accounting_neeq_long1[\"年度\"] == 2014), \n",
    "                          [\"实际披露日期\", \"报告期\"]] = [pandas.datetime(2015, 6, 12), pandas.datetime(2014, 12, 31)]"
   ]
  },
  {
   "cell_type": "code",
   "execution_count": 332,
   "metadata": {
    "collapsed": true
   },
   "outputs": [],
   "source": [
    "accounting_neeq_long1.loc[(accounting_neeq_long1[\"证券代码\"] == \"832503.OC\") & \n",
    "                          (accounting_neeq_long1[\"年度\"] == 2014), \n",
    "                          [\"实际披露日期\", \"报告期\"]] = [pandas.datetime(2015, 5, 28), pandas.datetime(2014, 12, 31)]"
   ]
  },
  {
   "cell_type": "code",
   "execution_count": 333,
   "metadata": {
    "collapsed": true
   },
   "outputs": [],
   "source": [
    "accounting_neeq_long1.loc[(accounting_neeq_long1[\"证券代码\"] == \"832501.OC\") & \n",
    "                          (accounting_neeq_long1[\"年度\"] == 2014), \n",
    "                          [\"实际披露日期\", \"报告期\"]] = [pandas.datetime(2015, 6, 10), pandas.datetime(2014, 12, 31)]"
   ]
  },
  {
   "cell_type": "code",
   "execution_count": 334,
   "metadata": {
    "collapsed": true
   },
   "outputs": [],
   "source": [
    "accounting_neeq_long1.loc[(accounting_neeq_long1[\"证券代码\"] == \"832500.OC\") & \n",
    "                          (accounting_neeq_long1[\"年度\"] == 2014), \n",
    "                          [\"实际披露日期\", \"报告期\"]] = [pandas.datetime(2015, 6, 4), pandas.datetime(2014, 12, 31)]"
   ]
  },
  {
   "cell_type": "code",
   "execution_count": 335,
   "metadata": {
    "collapsed": false
   },
   "outputs": [],
   "source": [
    "accounting_neeq_long1.loc[(accounting_neeq_long1[\"证券代码\"] == \"832497.OC\") & \n",
    "                          (accounting_neeq_long1[\"年度\"] == 2014), \n",
    "                          \"报告期\"] = pandas.datetime(2014, 12, 31)"
   ]
  },
  {
   "cell_type": "code",
   "execution_count": 336,
   "metadata": {
    "collapsed": true
   },
   "outputs": [],
   "source": [
    "accounting_neeq_long1.loc[(accounting_neeq_long1[\"证券代码\"] == \"832496.OC\") & \n",
    "                          (accounting_neeq_long1[\"年度\"] == 2014), \n",
    "                          [\"实际披露日期\", \"报告期\"]] = [pandas.datetime(2015, 6, 4), pandas.datetime(2014, 12, 31)]"
   ]
  },
  {
   "cell_type": "code",
   "execution_count": 337,
   "metadata": {
    "collapsed": true
   },
   "outputs": [],
   "source": [
    "accounting_neeq_long1.loc[(accounting_neeq_long1[\"证券代码\"] == \"832495.OC\") & \n",
    "                          (accounting_neeq_long1[\"年度\"] == 2014), \n",
    "                          [\"实际披露日期\", \"报告期\"]] = [pandas.datetime(2015, 5, 14), pandas.datetime(2014, 12, 31)]"
   ]
  },
  {
   "cell_type": "code",
   "execution_count": 338,
   "metadata": {
    "collapsed": true
   },
   "outputs": [],
   "source": [
    "accounting_neeq_long1.loc[(accounting_neeq_long1[\"证券代码\"] == \"832494.OC\") & \n",
    "                          (accounting_neeq_long1[\"年度\"] == 2014), \n",
    "                          [\"实际披露日期\", \"报告期\"]] = [pandas.datetime(2015, 6, 19), pandas.datetime(2014, 12, 31)]"
   ]
  },
  {
   "cell_type": "code",
   "execution_count": 339,
   "metadata": {
    "collapsed": true
   },
   "outputs": [],
   "source": [
    "accounting_neeq_long1.loc[(accounting_neeq_long1[\"证券代码\"] == \"832493.OC\") & \n",
    "                          (accounting_neeq_long1[\"年度\"] == 2014), \n",
    "                          [\"实际披露日期\", \"报告期\"]] = [pandas.datetime(2015, 6, 2), pandas.datetime(2014, 12, 31)]"
   ]
  },
  {
   "cell_type": "code",
   "execution_count": 340,
   "metadata": {
    "collapsed": true
   },
   "outputs": [],
   "source": [
    "accounting_neeq_long1.loc[(accounting_neeq_long1[\"证券代码\"] == \"832492.OC\") & \n",
    "                          (accounting_neeq_long1[\"年度\"] == 2014), \n",
    "                          [\"实际披露日期\", \"报告期\"]] = [pandas.datetime(2015, 6, 25), pandas.datetime(2014, 12, 31)]"
   ]
  },
  {
   "cell_type": "code",
   "execution_count": 341,
   "metadata": {
    "collapsed": true
   },
   "outputs": [],
   "source": [
    "accounting_neeq_long1.loc[(accounting_neeq_long1[\"证券代码\"] == \"832491.OC\") & \n",
    "                          (accounting_neeq_long1[\"年度\"] == 2014), \n",
    "                          [\"实际披露日期\", \"报告期\"]] = [pandas.datetime(2015, 5, 15), pandas.datetime(2014, 12, 31)]"
   ]
  },
  {
   "cell_type": "code",
   "execution_count": 342,
   "metadata": {
    "collapsed": true
   },
   "outputs": [],
   "source": [
    "accounting_neeq_long1.loc[(accounting_neeq_long1[\"证券代码\"] == \"832489.OC\") & \n",
    "                          (accounting_neeq_long1[\"年度\"] == 2014), \n",
    "                          [\"实际披露日期\", \"报告期\"]] = [pandas.datetime(2015, 5, 26), pandas.datetime(2014, 12, 31)]"
   ]
  },
  {
   "cell_type": "code",
   "execution_count": 343,
   "metadata": {
    "collapsed": true
   },
   "outputs": [],
   "source": [
    "accounting_neeq_long1.loc[(accounting_neeq_long1[\"证券代码\"] == \"832488.OC\") & \n",
    "                          (accounting_neeq_long1[\"年度\"] == 2014), \n",
    "                          [\"实际披露日期\", \"报告期\"]] = [pandas.datetime(2015, 5, 29), pandas.datetime(2014, 12, 31)]"
   ]
  },
  {
   "cell_type": "code",
   "execution_count": 344,
   "metadata": {
    "collapsed": true
   },
   "outputs": [],
   "source": [
    "accounting_neeq_long1.loc[(accounting_neeq_long1[\"证券代码\"] == \"832487.OC\") & \n",
    "                          (accounting_neeq_long1[\"年度\"] == 2014), \n",
    "                          [\"实际披露日期\", \"报告期\"]] = [pandas.datetime(2015, 6, 19), pandas.datetime(2014, 12, 31)]"
   ]
  },
  {
   "cell_type": "code",
   "execution_count": 345,
   "metadata": {
    "collapsed": true
   },
   "outputs": [],
   "source": [
    "accounting_neeq_long1.loc[(accounting_neeq_long1[\"证券代码\"] == \"832486.OC\") & \n",
    "                          (accounting_neeq_long1[\"年度\"] == 2014), \n",
    "                          [\"实际披露日期\", \"报告期\"]] = [pandas.datetime(2015, 6, 2), pandas.datetime(2014, 12, 31)]"
   ]
  },
  {
   "cell_type": "code",
   "execution_count": 346,
   "metadata": {
    "collapsed": true
   },
   "outputs": [],
   "source": [
    "accounting_neeq_long1.loc[(accounting_neeq_long1[\"证券代码\"] == \"832485.OC\") & \n",
    "                          (accounting_neeq_long1[\"年度\"] == 2014), \n",
    "                          [\"实际披露日期\", \"报告期\"]] = [pandas.datetime(2015, 5, 18), pandas.datetime(2014, 12, 31)]"
   ]
  },
  {
   "cell_type": "code",
   "execution_count": 347,
   "metadata": {
    "collapsed": true
   },
   "outputs": [],
   "source": [
    "accounting_neeq_long1.loc[(accounting_neeq_long1[\"证券代码\"] == \"832483.OC\") & \n",
    "                          (accounting_neeq_long1[\"年度\"] == 2014), \n",
    "                          [\"实际披露日期\", \"报告期\"]] = [pandas.datetime(2015, 6, 9), pandas.datetime(2014, 12, 31)]"
   ]
  },
  {
   "cell_type": "code",
   "execution_count": 348,
   "metadata": {
    "collapsed": true
   },
   "outputs": [],
   "source": [
    "accounting_neeq_long1.loc[(accounting_neeq_long1[\"证券代码\"] == \"832481.OC\") & \n",
    "                          (accounting_neeq_long1[\"年度\"] == 2014), \n",
    "                          [\"实际披露日期\", \"报告期\"]] = [pandas.datetime(2015, 6, 9), pandas.datetime(2014, 12, 31)]"
   ]
  },
  {
   "cell_type": "code",
   "execution_count": 349,
   "metadata": {
    "collapsed": true
   },
   "outputs": [],
   "source": [
    "accounting_neeq_long1.loc[(accounting_neeq_long1[\"证券代码\"] == \"832480.OC\") & \n",
    "                          (accounting_neeq_long1[\"年度\"] == 2014), \n",
    "                          [\"实际披露日期\", \"报告期\"]] = [pandas.datetime(2015, 6, 5), pandas.datetime(2014, 12, 31)]"
   ]
  },
  {
   "cell_type": "code",
   "execution_count": 350,
   "metadata": {
    "collapsed": true
   },
   "outputs": [],
   "source": [
    "accounting_neeq_long1.loc[(accounting_neeq_long1[\"证券代码\"] == \"832479.OC\") & \n",
    "                          (accounting_neeq_long1[\"年度\"] == 2014), \n",
    "                          [\"实际披露日期\", \"报告期\"]] = [pandas.datetime(2015, 5, 27), pandas.datetime(2014, 12, 31)]"
   ]
  },
  {
   "cell_type": "code",
   "execution_count": 351,
   "metadata": {
    "collapsed": true
   },
   "outputs": [],
   "source": [
    "accounting_neeq_long1.loc[(accounting_neeq_long1[\"证券代码\"] == \"832478.OC\") & \n",
    "                          (accounting_neeq_long1[\"年度\"] == 2014), \n",
    "                          [\"实际披露日期\", \"报告期\"]] = [pandas.datetime(2015, 6, 8), pandas.datetime(2014, 12, 31)]"
   ]
  },
  {
   "cell_type": "code",
   "execution_count": 352,
   "metadata": {
    "collapsed": true
   },
   "outputs": [],
   "source": [
    "accounting_neeq_long1.loc[(accounting_neeq_long1[\"证券代码\"] == \"832477.OC\") & \n",
    "                          (accounting_neeq_long1[\"年度\"] == 2014), \n",
    "                          [\"实际披露日期\", \"报告期\"]] = [pandas.datetime(2015, 6, 10), pandas.datetime(2014, 12, 31)]"
   ]
  },
  {
   "cell_type": "code",
   "execution_count": 353,
   "metadata": {
    "collapsed": true
   },
   "outputs": [],
   "source": [
    "accounting_neeq_long1.loc[(accounting_neeq_long1[\"证券代码\"] == \"832476.OC\") & \n",
    "                          (accounting_neeq_long1[\"年度\"] == 2014), \n",
    "                          [\"实际披露日期\", \"报告期\"]] = [pandas.datetime(2015, 5, 25), pandas.datetime(2014, 12, 31)]"
   ]
  },
  {
   "cell_type": "code",
   "execution_count": 354,
   "metadata": {
    "collapsed": true
   },
   "outputs": [],
   "source": [
    "accounting_neeq_long1.loc[(accounting_neeq_long1[\"证券代码\"] == \"832475.OC\") & \n",
    "                          (accounting_neeq_long1[\"年度\"] == 2014), \n",
    "                          [\"实际披露日期\", \"报告期\"]] = [pandas.datetime(2015, 6, 5), pandas.datetime(2014, 12, 31)]"
   ]
  },
  {
   "cell_type": "code",
   "execution_count": 355,
   "metadata": {
    "collapsed": true
   },
   "outputs": [],
   "source": [
    "accounting_neeq_long1.loc[(accounting_neeq_long1[\"证券代码\"] == \"832473.OC\") & \n",
    "                          (accounting_neeq_long1[\"年度\"] == 2014), \n",
    "                          [\"实际披露日期\", \"报告期\"]] = [pandas.datetime(2015, 5, 28), pandas.datetime(2014, 12, 31)]"
   ]
  },
  {
   "cell_type": "code",
   "execution_count": 356,
   "metadata": {
    "collapsed": true
   },
   "outputs": [],
   "source": [
    "accounting_neeq_long1.loc[(accounting_neeq_long1[\"证券代码\"] == \"832472.OC\") & \n",
    "                          (accounting_neeq_long1[\"年度\"] == 2014), \n",
    "                          [\"实际披露日期\", \"报告期\"]] = [pandas.datetime(2015, 5, 27), pandas.datetime(2014, 12, 31)]"
   ]
  },
  {
   "cell_type": "code",
   "execution_count": 357,
   "metadata": {
    "collapsed": true
   },
   "outputs": [],
   "source": [
    "accounting_neeq_long1.loc[(accounting_neeq_long1[\"证券代码\"] == \"832471.OC\") & \n",
    "                          (accounting_neeq_long1[\"年度\"] == 2014), \n",
    "                          [\"实际披露日期\", \"报告期\"]] = [pandas.datetime(2015, 5, 27), pandas.datetime(2014, 12, 31)]"
   ]
  },
  {
   "cell_type": "code",
   "execution_count": 358,
   "metadata": {
    "collapsed": true
   },
   "outputs": [],
   "source": [
    "accounting_neeq_long1.loc[(accounting_neeq_long1[\"证券代码\"] == \"832470.OC\") & \n",
    "                          (accounting_neeq_long1[\"年度\"] == 2014), \n",
    "                          [\"实际披露日期\", \"报告期\"]] = [pandas.datetime(2015, 6, 5), pandas.datetime(2014, 12, 31)]"
   ]
  },
  {
   "cell_type": "code",
   "execution_count": 359,
   "metadata": {
    "collapsed": true
   },
   "outputs": [],
   "source": [
    "accounting_neeq_long1.loc[(accounting_neeq_long1[\"证券代码\"] == \"832469.OC\") & \n",
    "                          (accounting_neeq_long1[\"年度\"] == 2014), \n",
    "                          [\"实际披露日期\", \"报告期\"]] = [pandas.datetime(2015, 5, 26), pandas.datetime(2014, 12, 31)]"
   ]
  },
  {
   "cell_type": "code",
   "execution_count": 360,
   "metadata": {
    "collapsed": true
   },
   "outputs": [],
   "source": [
    "accounting_neeq_long1.loc[(accounting_neeq_long1[\"证券代码\"] == \"832468.OC\") & \n",
    "                          (accounting_neeq_long1[\"年度\"] == 2014), \n",
    "                          [\"实际披露日期\", \"报告期\"]] = [pandas.datetime(2015, 5, 14), pandas.datetime(2014, 12, 31)]"
   ]
  },
  {
   "cell_type": "code",
   "execution_count": 361,
   "metadata": {
    "collapsed": true
   },
   "outputs": [],
   "source": [
    "accounting_neeq_long1.loc[(accounting_neeq_long1[\"证券代码\"] == \"832467.OC\") & \n",
    "                          (accounting_neeq_long1[\"年度\"] == 2014), \n",
    "                          [\"实际披露日期\", \"报告期\"]] = [pandas.datetime(2015, 5, 21), pandas.datetime(2014, 12, 31)]"
   ]
  },
  {
   "cell_type": "code",
   "execution_count": 362,
   "metadata": {
    "collapsed": true
   },
   "outputs": [],
   "source": [
    "accounting_neeq_long1.loc[(accounting_neeq_long1[\"证券代码\"] == \"832466.OC\") & \n",
    "                          (accounting_neeq_long1[\"年度\"] == 2014), \n",
    "                          [\"实际披露日期\", \"报告期\"]] = [pandas.datetime(2015, 5, 18), pandas.datetime(2014, 12, 31)]"
   ]
  },
  {
   "cell_type": "code",
   "execution_count": 363,
   "metadata": {
    "collapsed": true
   },
   "outputs": [],
   "source": [
    "accounting_neeq_long1.loc[(accounting_neeq_long1[\"证券代码\"] == \"832465.OC\") & \n",
    "                          (accounting_neeq_long1[\"年度\"] == 2014), \n",
    "                          [\"实际披露日期\", \"报告期\"]] = [pandas.datetime(2015, 6, 9), pandas.datetime(2014, 12, 31)]"
   ]
  },
  {
   "cell_type": "code",
   "execution_count": 364,
   "metadata": {
    "collapsed": true
   },
   "outputs": [],
   "source": [
    "accounting_neeq_long1.loc[(accounting_neeq_long1[\"证券代码\"] == \"832464.OC\") & \n",
    "                          (accounting_neeq_long1[\"年度\"] == 2014), \n",
    "                          [\"实际披露日期\", \"报告期\"]] = [pandas.datetime(2015, 6, 9), pandas.datetime(2014, 12, 31)]"
   ]
  },
  {
   "cell_type": "code",
   "execution_count": 365,
   "metadata": {
    "collapsed": true
   },
   "outputs": [],
   "source": [
    "accounting_neeq_long1.loc[(accounting_neeq_long1[\"证券代码\"] == \"832463.OC\") & \n",
    "                          (accounting_neeq_long1[\"年度\"] == 2014), \n",
    "                          [\"实际披露日期\", \"报告期\"]] = [pandas.datetime(2015, 5, 18), pandas.datetime(2014, 12, 31)]"
   ]
  },
  {
   "cell_type": "code",
   "execution_count": 366,
   "metadata": {
    "collapsed": true
   },
   "outputs": [],
   "source": [
    "accounting_neeq_long1.loc[(accounting_neeq_long1[\"证券代码\"] == \"832462.OC\") & \n",
    "                          (accounting_neeq_long1[\"年度\"] == 2014), \n",
    "                          [\"实际披露日期\", \"报告期\"]] = [pandas.datetime(2015, 5, 13), pandas.datetime(2014, 12, 31)]"
   ]
  },
  {
   "cell_type": "code",
   "execution_count": 367,
   "metadata": {
    "collapsed": true
   },
   "outputs": [],
   "source": [
    "accounting_neeq_long1.loc[(accounting_neeq_long1[\"证券代码\"] == \"832461.OC\") & \n",
    "                          (accounting_neeq_long1[\"年度\"] == 2014), \n",
    "                          [\"实际披露日期\", \"报告期\"]] = [pandas.datetime(2015, 6, 10), pandas.datetime(2014, 12, 31)]"
   ]
  },
  {
   "cell_type": "code",
   "execution_count": 368,
   "metadata": {
    "collapsed": true
   },
   "outputs": [],
   "source": [
    "accounting_neeq_long1.loc[(accounting_neeq_long1[\"证券代码\"] == \"832457.OC\") & \n",
    "                          (accounting_neeq_long1[\"年度\"] == 2014), \n",
    "                          [\"实际披露日期\", \"报告期\"]] = [pandas.datetime(2015, 5, 29), pandas.datetime(2014, 12, 31)]"
   ]
  },
  {
   "cell_type": "code",
   "execution_count": 369,
   "metadata": {
    "collapsed": true
   },
   "outputs": [],
   "source": [
    "accounting_neeq_long1.loc[(accounting_neeq_long1[\"证券代码\"] == \"832456.OC\") & \n",
    "                          (accounting_neeq_long1[\"年度\"] == 2014), \n",
    "                          [\"实际披露日期\", \"报告期\"]] = [pandas.datetime(2015, 6, 8), pandas.datetime(2014, 12, 31)]"
   ]
  },
  {
   "cell_type": "code",
   "execution_count": 370,
   "metadata": {
    "collapsed": true
   },
   "outputs": [],
   "source": [
    "accounting_neeq_long1.loc[(accounting_neeq_long1[\"证券代码\"] == \"832454.OC\") & \n",
    "                          (accounting_neeq_long1[\"年度\"] == 2014), \n",
    "                          [\"实际披露日期\", \"报告期\"]] = [pandas.datetime(2015, 6, 3), pandas.datetime(2014, 12, 31)]"
   ]
  },
  {
   "cell_type": "code",
   "execution_count": 371,
   "metadata": {
    "collapsed": true
   },
   "outputs": [],
   "source": [
    "accounting_neeq_long1.loc[(accounting_neeq_long1[\"证券代码\"] == \"832453.OC\") & \n",
    "                          (accounting_neeq_long1[\"年度\"] == 2014), \n",
    "                          [\"实际披露日期\", \"报告期\"]] = [pandas.datetime(2015, 6, 9), pandas.datetime(2014, 12, 31)]"
   ]
  },
  {
   "cell_type": "code",
   "execution_count": 372,
   "metadata": {
    "collapsed": true
   },
   "outputs": [],
   "source": [
    "accounting_neeq_long1.loc[(accounting_neeq_long1[\"证券代码\"] == \"832452.OC\") & \n",
    "                          (accounting_neeq_long1[\"年度\"] == 2014), \n",
    "                          [\"实际披露日期\", \"报告期\"]] = [pandas.datetime(2015, 6, 10), pandas.datetime(2014, 12, 31)]"
   ]
  },
  {
   "cell_type": "code",
   "execution_count": 373,
   "metadata": {
    "collapsed": true
   },
   "outputs": [],
   "source": [
    "accounting_neeq_long1.loc[(accounting_neeq_long1[\"证券代码\"] == \"832449.OC\") & \n",
    "                          (accounting_neeq_long1[\"年度\"] == 2014), \n",
    "                          [\"实际披露日期\", \"报告期\"]] = [pandas.datetime(2015, 5, 18), pandas.datetime(2014, 12, 31)]"
   ]
  },
  {
   "cell_type": "code",
   "execution_count": 374,
   "metadata": {
    "collapsed": true
   },
   "outputs": [],
   "source": [
    "accounting_neeq_long1.loc[(accounting_neeq_long1[\"证券代码\"] == \"832448.OC\") & \n",
    "                          (accounting_neeq_long1[\"年度\"] == 2014), \n",
    "                          [\"实际披露日期\", \"报告期\"]] = [pandas.datetime(2015, 6, 11), pandas.datetime(2014, 12, 31)]"
   ]
  },
  {
   "cell_type": "code",
   "execution_count": 375,
   "metadata": {
    "collapsed": true
   },
   "outputs": [],
   "source": [
    "accounting_neeq_long1.loc[(accounting_neeq_long1[\"证券代码\"] == \"832447.OC\") & \n",
    "                          (accounting_neeq_long1[\"年度\"] == 2014), \n",
    "                          [\"实际披露日期\", \"报告期\"]] = [pandas.datetime(2015, 5, 21), pandas.datetime(2014, 12, 31)]"
   ]
  },
  {
   "cell_type": "code",
   "execution_count": 376,
   "metadata": {
    "collapsed": true
   },
   "outputs": [],
   "source": [
    "accounting_neeq_long1.loc[(accounting_neeq_long1[\"证券代码\"] == \"832446.OC\") & \n",
    "                          (accounting_neeq_long1[\"年度\"] == 2014), \n",
    "                          [\"实际披露日期\", \"报告期\"]] = [pandas.datetime(2015, 6, 19), pandas.datetime(2014, 12, 31)]"
   ]
  },
  {
   "cell_type": "code",
   "execution_count": 377,
   "metadata": {
    "collapsed": true
   },
   "outputs": [],
   "source": [
    "accounting_neeq_long1.loc[(accounting_neeq_long1[\"证券代码\"] == \"832445.OC\") & \n",
    "                          (accounting_neeq_long1[\"年度\"] == 2014), \n",
    "                          [\"实际披露日期\", \"报告期\"]] = [pandas.datetime(2015, 5, 21), pandas.datetime(2014, 12, 31)]"
   ]
  },
  {
   "cell_type": "code",
   "execution_count": 378,
   "metadata": {
    "collapsed": true
   },
   "outputs": [],
   "source": [
    "accounting_neeq_long1.loc[(accounting_neeq_long1[\"证券代码\"] == \"832444.OC\") & \n",
    "                          (accounting_neeq_long1[\"年度\"] == 2014), \n",
    "                          [\"实际披露日期\", \"报告期\"]] = [pandas.datetime(2015, 5, 11), pandas.datetime(2014, 12, 31)]"
   ]
  },
  {
   "cell_type": "code",
   "execution_count": 379,
   "metadata": {
    "collapsed": true
   },
   "outputs": [],
   "source": [
    "accounting_neeq_long1.loc[(accounting_neeq_long1[\"证券代码\"] == \"832443.OC\") & \n",
    "                          (accounting_neeq_long1[\"年度\"] == 2014), \n",
    "                          [\"实际披露日期\", \"报告期\"]] = [pandas.datetime(2015, 6, 3), pandas.datetime(2014, 12, 31)]\n",
    "\n",
    "accounting_neeq_long1.loc[(accounting_neeq_long1[\"证券代码\"] == \"832442.OC\") & \n",
    "                          (accounting_neeq_long1[\"年度\"] == 2014), \n",
    "                          [\"实际披露日期\", \"报告期\"]] = [pandas.datetime(2015, 5, 12), pandas.datetime(2014, 12, 31)]\n",
    "\n",
    "accounting_neeq_long1.loc[(accounting_neeq_long1[\"证券代码\"] == \"832440.OC\") & \n",
    "                          (accounting_neeq_long1[\"年度\"] == 2014), \n",
    "                          [\"实际披露日期\", \"报告期\"]] = [pandas.datetime(2015, 5, 25), pandas.datetime(2014, 12, 31)]\n",
    "\n",
    "accounting_neeq_long1.loc[(accounting_neeq_long1[\"证券代码\"] == \"832439.OC\") & \n",
    "                          (accounting_neeq_long1[\"年度\"] == 2014), \n",
    "                          [\"实际披露日期\", \"报告期\"]] = [pandas.datetime(2015, 5, 28), pandas.datetime(2014, 12, 31)]\n",
    "\n",
    "accounting_neeq_long1.loc[(accounting_neeq_long1[\"证券代码\"] == \"832438.OC\") & \n",
    "                          (accounting_neeq_long1[\"年度\"] == 2014), \n",
    "                          [\"实际披露日期\", \"报告期\"]] = [pandas.datetime(2015, 6, 9), pandas.datetime(2014, 12, 31)]\n",
    "\n",
    "accounting_neeq_long1.loc[(accounting_neeq_long1[\"证券代码\"] == \"832437.OC\") & \n",
    "                          (accounting_neeq_long1[\"年度\"] == 2014), \n",
    "                          [\"实际披露日期\", \"报告期\"]] = [pandas.datetime(2015, 6, 16), pandas.datetime(2014, 12, 31)]\n",
    "\n",
    "accounting_neeq_long1.loc[(accounting_neeq_long1[\"证券代码\"] == \"832436.OC\") & \n",
    "                          (accounting_neeq_long1[\"年度\"] == 2014), \n",
    "                          [\"实际披露日期\", \"报告期\"]] = [pandas.datetime(2015, 5, 28), pandas.datetime(2014, 12, 31)]\n",
    "\n",
    "accounting_neeq_long1.loc[(accounting_neeq_long1[\"证券代码\"] == \"832434.OC\") & \n",
    "                          (accounting_neeq_long1[\"年度\"] == 2014), \n",
    "                          [\"实际披露日期\", \"报告期\"]] = [pandas.datetime(2015, 5, 29), pandas.datetime(2014, 12, 31)]\n",
    "\n",
    "accounting_neeq_long1.loc[(accounting_neeq_long1[\"证券代码\"] == \"832433.OC\") & \n",
    "                          (accounting_neeq_long1[\"年度\"] == 2014), \n",
    "                          [\"实际披露日期\", \"报告期\"]] = [pandas.datetime(2015, 5, 28), pandas.datetime(2014, 12, 31)]\n",
    "\n",
    "accounting_neeq_long1.loc[(accounting_neeq_long1[\"证券代码\"] == \"832432.OC\") & \n",
    "                          (accounting_neeq_long1[\"年度\"] == 2014), \n",
    "                          [\"实际披露日期\", \"报告期\"]] = [pandas.datetime(2015, 7, 14), pandas.datetime(2014, 12, 31)]\n",
    "\n",
    "accounting_neeq_long1.loc[(accounting_neeq_long1[\"证券代码\"] == \"832427.OC\") & \n",
    "                          (accounting_neeq_long1[\"年度\"] == 2014), \n",
    "                          [\"实际披露日期\", \"报告期\"]] = [pandas.datetime(2015, 6, 5), pandas.datetime(2014, 12, 31)]\n",
    "\n",
    "accounting_neeq_long1.loc[(accounting_neeq_long1[\"证券代码\"] == \"832426.OC\") & \n",
    "                          (accounting_neeq_long1[\"年度\"] == 2014), \n",
    "                          [\"实际披露日期\", \"报告期\"]] = [pandas.datetime(2015, 6, 1), pandas.datetime(2014, 12, 31)]\n",
    "\n",
    "accounting_neeq_long1.loc[(accounting_neeq_long1[\"证券代码\"] == \"832425.OC\") & \n",
    "                          (accounting_neeq_long1[\"年度\"] == 2014), \n",
    "                          [\"实际披露日期\", \"报告期\"]] = [pandas.datetime(2015, 5, 29), pandas.datetime(2014, 12, 31)]\n",
    "\n",
    "accounting_neeq_long1.loc[(accounting_neeq_long1[\"证券代码\"] == \"832424.OC\") & \n",
    "                          (accounting_neeq_long1[\"年度\"] == 2014), \n",
    "                          [\"实际披露日期\", \"报告期\"]] = [pandas.datetime(2015, 10, 26), pandas.datetime(2014, 12, 31)]\n",
    "\n",
    "accounting_neeq_long1.loc[(accounting_neeq_long1[\"证券代码\"] == \"832422.OC\") & \n",
    "                          (accounting_neeq_long1[\"年度\"] == 2014), \n",
    "                          [\"实际披露日期\", \"报告期\"]] = [pandas.datetime(2015, 5, 12), pandas.datetime(2014, 12, 31)]\n",
    "\n",
    "accounting_neeq_long1.loc[(accounting_neeq_long1[\"证券代码\"] == \"832421.OC\") & \n",
    "                          (accounting_neeq_long1[\"年度\"] == 2014), \n",
    "                          [\"实际披露日期\", \"报告期\"]] = [pandas.datetime(2015, 5, 22), pandas.datetime(2014, 12, 31)]\n",
    "\n",
    "accounting_neeq_long1.loc[(accounting_neeq_long1[\"证券代码\"] == \"832420.OC\") & \n",
    "                          (accounting_neeq_long1[\"年度\"] == 2014), \n",
    "                          [\"实际披露日期\", \"报告期\"]] = [pandas.datetime(2015, 6, 9), pandas.datetime(2014, 12, 31)]\n",
    "\n",
    "accounting_neeq_long1.loc[(accounting_neeq_long1[\"证券代码\"] == \"832418.OC\") & \n",
    "                          (accounting_neeq_long1[\"年度\"] == 2014), \n",
    "                          [\"实际披露日期\", \"报告期\"]] = [pandas.datetime(2015, 5, 18), pandas.datetime(2014, 12, 31)]\n",
    "\n",
    "accounting_neeq_long1.loc[(accounting_neeq_long1[\"证券代码\"] == \"832417.OC\") & \n",
    "                          (accounting_neeq_long1[\"年度\"] == 2014), \n",
    "                          [\"实际披露日期\", \"报告期\"]] = [pandas.datetime(2015, 6, 5), pandas.datetime(2014, 12, 31)]\n",
    "\n",
    "accounting_neeq_long1.loc[(accounting_neeq_long1[\"证券代码\"] == \"832416.OC\") & \n",
    "                          (accounting_neeq_long1[\"年度\"] == 2014), \n",
    "                          [\"实际披露日期\", \"报告期\"]] = [pandas.datetime(2015, 5, 19), pandas.datetime(2014, 12, 31)]\n",
    "\n",
    "accounting_neeq_long1.loc[(accounting_neeq_long1[\"证券代码\"] == \"832415.OC\") & \n",
    "                          (accounting_neeq_long1[\"年度\"] == 2014), \n",
    "                          [\"实际披露日期\", \"报告期\"]] = [pandas.datetime(2015, 6, 5), pandas.datetime(2014, 12, 31)]\n",
    "\n",
    "accounting_neeq_long1.loc[(accounting_neeq_long1[\"证券代码\"] == \"832414.OC\") & \n",
    "                          (accounting_neeq_long1[\"年度\"] == 2014), \n",
    "                          [\"实际披露日期\", \"报告期\"]] = [pandas.datetime(2015, 5, 27), pandas.datetime(2014, 12, 31)]\n",
    "\n",
    "accounting_neeq_long1.loc[(accounting_neeq_long1[\"证券代码\"] == \"832413.OC\") & \n",
    "                          (accounting_neeq_long1[\"年度\"] == 2014), \n",
    "                          [\"实际披露日期\", \"报告期\"]] = [pandas.datetime(2015, 5, 19), pandas.datetime(2014, 12, 31)]\n",
    "\n",
    "accounting_neeq_long1.loc[(accounting_neeq_long1[\"证券代码\"] == \"832412.OC\") & \n",
    "                          (accounting_neeq_long1[\"年度\"] == 2014), \n",
    "                          [\"实际披露日期\", \"报告期\"]] = [pandas.datetime(2015, 5, 12), pandas.datetime(2014, 12, 31)]\n",
    "\n",
    "accounting_neeq_long1.loc[(accounting_neeq_long1[\"证券代码\"] == \"832411.OC\") & \n",
    "                          (accounting_neeq_long1[\"年度\"] == 2014), \n",
    "                          [\"实际披露日期\", \"报告期\"]] = [pandas.datetime(2015, 5, 28), pandas.datetime(2014, 12, 31)]\n",
    "\n",
    "accounting_neeq_long1.loc[(accounting_neeq_long1[\"证券代码\"] == \"832410.OC\") & \n",
    "                          (accounting_neeq_long1[\"年度\"] == 2014), \n",
    "                          [\"实际披露日期\", \"报告期\"]] = [pandas.datetime(2015, 5, 19), pandas.datetime(2014, 12, 31)]\n",
    "\n",
    "accounting_neeq_long1.loc[(accounting_neeq_long1[\"证券代码\"] == \"832409.OC\") & \n",
    "                          (accounting_neeq_long1[\"年度\"] == 2014), \n",
    "                          [\"实际披露日期\", \"报告期\"]] = [pandas.datetime(2015, 5, 5), pandas.datetime(2014, 12, 31)]\n",
    "\n",
    "accounting_neeq_long1.loc[(accounting_neeq_long1[\"证券代码\"] == \"832407.OC\") & \n",
    "                          (accounting_neeq_long1[\"年度\"] == 2014), \n",
    "                          [\"实际披露日期\", \"报告期\"]] = [pandas.datetime(2015, 6, 1), pandas.datetime(2014, 12, 31)]\n",
    "\n",
    "accounting_neeq_long1.loc[(accounting_neeq_long1[\"证券代码\"] == \"832406.OC\") & \n",
    "                          (accounting_neeq_long1[\"年度\"] == 2014), \n",
    "                          [\"实际披露日期\", \"报告期\"]] = [pandas.datetime(2015, 5, 21), pandas.datetime(2014, 12, 31)]\n",
    "\n",
    "accounting_neeq_long1.loc[(accounting_neeq_long1[\"证券代码\"] == \"832404.OC\") & \n",
    "                          (accounting_neeq_long1[\"年度\"] == 2014), \n",
    "                          [\"实际披露日期\", \"报告期\"]] = [pandas.datetime(2015, 5, 12), pandas.datetime(2014, 12, 31)]\n",
    "\n",
    "accounting_neeq_long1.loc[(accounting_neeq_long1[\"证券代码\"] == \"832403.OC\") & \n",
    "                          (accounting_neeq_long1[\"年度\"] == 2014), \n",
    "                          [\"实际披露日期\", \"报告期\"]] = [pandas.datetime(2015, 5, 8), pandas.datetime(2014, 12, 31)]\n",
    "\n",
    "accounting_neeq_long1.loc[(accounting_neeq_long1[\"证券代码\"] == \"832398.OC\") & \n",
    "                          (accounting_neeq_long1[\"年度\"] == 2014), \n",
    "                          [\"实际披露日期\", \"报告期\"]] = [pandas.datetime(2015, 5, 7), pandas.datetime(2014, 12, 31)]\n",
    "\n",
    "accounting_neeq_long1.loc[(accounting_neeq_long1[\"证券代码\"] == \"832395.OC\") & \n",
    "                          (accounting_neeq_long1[\"年度\"] == 2014), \n",
    "                          [\"实际披露日期\", \"报告期\"]] = [pandas.datetime(2015, 5, 12), pandas.datetime(2014, 12, 31)]\n",
    "\n",
    "accounting_neeq_long1.loc[(accounting_neeq_long1[\"证券代码\"] == \"832394.OC\") & \n",
    "                          (accounting_neeq_long1[\"年度\"] == 2014), \n",
    "                          [\"实际披露日期\", \"报告期\"]] = [pandas.datetime(2015, 5, 8), pandas.datetime(2014, 12, 31)]\n",
    "\n",
    "accounting_neeq_long1.loc[(accounting_neeq_long1[\"证券代码\"] == \"832393.OC\") & \n",
    "                          (accounting_neeq_long1[\"年度\"] == 2014), \n",
    "                          [\"实际披露日期\", \"报告期\"]] = [pandas.datetime(2015, 6, 18), pandas.datetime(2014, 12, 31)]\n",
    "\n",
    "accounting_neeq_long1.loc[(accounting_neeq_long1[\"证券代码\"] == \"832391.OC\") & \n",
    "                          (accounting_neeq_long1[\"年度\"] == 2014), \n",
    "                          [\"实际披露日期\", \"报告期\"]] = [pandas.datetime(2015, 5, 20), pandas.datetime(2014, 12, 31)]\n",
    "\n",
    "accounting_neeq_long1.loc[(accounting_neeq_long1[\"证券代码\"] == \"832390.OC\") & \n",
    "                          (accounting_neeq_long1[\"年度\"] == 2014), \n",
    "                          [\"实际披露日期\", \"报告期\"]] = [pandas.datetime(2015, 5, 5), pandas.datetime(2014, 12, 31)]\n",
    "\n",
    "accounting_neeq_long1.loc[(accounting_neeq_long1[\"证券代码\"] == \"832389.OC\") & \n",
    "                          (accounting_neeq_long1[\"年度\"] == 2014), \n",
    "                          [\"实际披露日期\", \"报告期\"]] = [pandas.datetime(2015, 5, 6), pandas.datetime(2014, 12, 31)]\n",
    "\n",
    "accounting_neeq_long1.loc[(accounting_neeq_long1[\"证券代码\"] == \"832388.OC\") & \n",
    "                          (accounting_neeq_long1[\"年度\"] == 2014), \n",
    "                          [\"实际披露日期\", \"报告期\"]] = [pandas.datetime(2015, 6, 4), pandas.datetime(2014, 12, 31)]\n",
    "\n",
    "\n",
    "accounting_neeq_long1.loc[(accounting_neeq_long1[\"证券代码\"] == \"832387.OC\") & \n",
    "                          (accounting_neeq_long1[\"年度\"] == 2014), \n",
    "                          [\"实际披露日期\", \"报告期\"]] = [pandas.datetime(2015, 6, 8), pandas.datetime(2014, 12, 31)]\n",
    "\n",
    "accounting_neeq_long1.loc[(accounting_neeq_long1[\"证券代码\"] == \"832386.OC\") & \n",
    "                          (accounting_neeq_long1[\"年度\"] == 2014), \n",
    "                          [\"实际披露日期\", \"报告期\"]] = [pandas.datetime(2015, 5, 18), pandas.datetime(2014, 12, 31)]\n",
    "\n",
    "accounting_neeq_long1.loc[(accounting_neeq_long1[\"证券代码\"] == \"832377.OC\") & \n",
    "                          (accounting_neeq_long1[\"年度\"] == 2014), \n",
    "                          [\"实际披露日期\", \"报告期\"]] = [pandas.datetime(2015, 5, 11), pandas.datetime(2014, 12, 31)]\n",
    "\n",
    "accounting_neeq_long1.loc[(accounting_neeq_long1[\"证券代码\"] == \"832374.OC\") & \n",
    "                          (accounting_neeq_long1[\"年度\"] == 2014), \n",
    "                          [\"实际披露日期\", \"报告期\"]] = [pandas.datetime(2015, 6, 12), pandas.datetime(2014, 12, 31)]\n",
    "\n",
    "accounting_neeq_long1.loc[(accounting_neeq_long1[\"证券代码\"] == \"832373.OC\") & \n",
    "                          (accounting_neeq_long1[\"年度\"] == 2014), \n",
    "                          [\"实际披露日期\", \"报告期\"]] = [pandas.datetime(2015, 5, 27), pandas.datetime(2014, 12, 31)]\n",
    "\n",
    "accounting_neeq_long1.loc[(accounting_neeq_long1[\"证券代码\"] == \"832360.OC\") & \n",
    "                          (accounting_neeq_long1[\"年度\"] == 2014), \n",
    "                          [\"实际披露日期\", \"报告期\"]] = [pandas.datetime(2015, 5, 20), pandas.datetime(2014, 12, 31)]\n",
    "\n",
    "accounting_neeq_long1.loc[(accounting_neeq_long1[\"证券代码\"] == \"832355.OC\") & \n",
    "                          (accounting_neeq_long1[\"年度\"] == 2014), \n",
    "                          [\"实际披露日期\", \"报告期\"]] = [pandas.datetime(2015, 5, 29), pandas.datetime(2014, 12, 31)]\n",
    "\n",
    "accounting_neeq_long1.loc[(accounting_neeq_long1[\"证券代码\"] == \"832347.OC\") & \n",
    "                          (accounting_neeq_long1[\"年度\"] == 2014), \n",
    "                          [\"实际披露日期\", \"报告期\"]] = [pandas.datetime(2015, 4, 29), pandas.datetime(2014, 12, 31)]\n",
    "\n",
    "accounting_neeq_long1.loc[(accounting_neeq_long1[\"证券代码\"] == \"830819.OC\") & \n",
    "                          (accounting_neeq_long1[\"年度\"] == 2013), \n",
    "                          [\"实际披露日期\", \"报告期\"]] = [pandas.datetime(2014, 8, 6), pandas.datetime(2013, 12, 31)]\n",
    "\n",
    "accounting_neeq_long1.loc[(accounting_neeq_long1[\"证券代码\"] == \"832337.OC\") & \n",
    "                          (accounting_neeq_long1[\"年度\"] == 2014), \n",
    "                          [\"实际披露日期\", \"报告期\"]] = [pandas.datetime(2015, 5, 12), pandas.datetime(2014, 12, 31)]\n",
    "\n",
    "accounting_neeq_long1.loc[(accounting_neeq_long1[\"证券代码\"] == \"830800.OC\") & \n",
    "                          (accounting_neeq_long1[\"年度\"] == 2013), \n",
    "                          [\"实际披露日期\", \"报告期\"]] = [pandas.datetime(2014, 5, 30), pandas.datetime(2013, 12, 31)]\n",
    "\n",
    "accounting_neeq_long1.loc[(accounting_neeq_long1[\"证券代码\"] == \"830799.OC\") & \n",
    "                          (accounting_neeq_long1[\"年度\"] == 2013), \n",
    "                          [\"实际披露日期\", \"报告期\"]] = [pandas.datetime(2014, 6, 27), pandas.datetime(2013, 12, 31)]\n",
    "\n",
    "accounting_neeq_long1.loc[(accounting_neeq_long1[\"证券代码\"] == \"830786.OC\") & \n",
    "                          (accounting_neeq_long1[\"年度\"] == 2013), \n",
    "                          [\"实际披露日期\", \"报告期\"]] = [pandas.datetime(2014, 5, 30), pandas.datetime(2013, 12, 31)]\n",
    "\n",
    "accounting_neeq_long1.loc[(accounting_neeq_long1[\"证券代码\"] == \"830790.OC\") & \n",
    "                          (accounting_neeq_long1[\"年度\"] == 2013), \n",
    "                          [\"实际披露日期\", \"报告期\"]] = [pandas.datetime(2014, 7, 7), pandas.datetime(2013, 12, 31)]\n",
    "\n",
    "accounting_neeq_long1.loc[(accounting_neeq_long1[\"证券代码\"] == \"830787.OC\") & \n",
    "                          (accounting_neeq_long1[\"年度\"] == 2013), \n",
    "                          [\"实际披露日期\", \"报告期\"]] = [pandas.datetime(2014, 6, 30), pandas.datetime(2013, 12, 31)]\n",
    "\n",
    "accounting_neeq_long1.loc[(accounting_neeq_long1[\"证券代码\"] == \"830785.OC\") & \n",
    "                          (accounting_neeq_long1[\"年度\"] == 2013), \n",
    "                          [\"实际披露日期\", \"报告期\"]] = [pandas.datetime(2014, 6, 11), pandas.datetime(2013, 12, 31)]"
   ]
  },
  {
   "cell_type": "code",
   "execution_count": 380,
   "metadata": {
    "collapsed": false
   },
   "outputs": [],
   "source": [
    "accounting_neeq_long1.loc[(accounting_neeq_long1[\"证券代码\"] == \"832482.OC\") & \n",
    "                          (accounting_neeq_long1[\"年度\"] == 2014), \n",
    "                          [\"实际披露日期\", \"报告期\"]] = [pandas.datetime(2015, 5, 18), pandas.datetime(2014, 12, 31)]"
   ]
  },
  {
   "cell_type": "code",
   "execution_count": 381,
   "metadata": {
    "collapsed": true
   },
   "outputs": [],
   "source": [
    "accounting_neeq_long1.loc[(accounting_neeq_long1[\"证券代码\"] == \"832498.OC\") & \n",
    "                          (accounting_neeq_long1[\"年度\"] == 2014), \n",
    "                          [\"实际披露日期\", \"报告期\"]] = [pandas.datetime(2015, 6, 23), pandas.datetime(2014, 12, 31)]"
   ]
  },
  {
   "cell_type": "code",
   "execution_count": 382,
   "metadata": {
    "collapsed": false
   },
   "outputs": [],
   "source": [
    "accounting_neeq_long1.loc[(accounting_neeq_long1[\"证券代码\"] == \"832537.OC\") & \n",
    "                          (accounting_neeq_long1[\"年度\"] == 2014), \n",
    "                          [\"实际披露日期\", \"报告期\"]] = [pandas.datetime(2015, 6, 5), pandas.datetime(2014, 12, 31)]"
   ]
  },
  {
   "cell_type": "code",
   "execution_count": 383,
   "metadata": {
    "collapsed": false
   },
   "outputs": [],
   "source": [
    "accounting_neeq_long1.loc[(accounting_neeq_long1[\"证券代码\"] == \"832568.OC\") & \n",
    "                          (accounting_neeq_long1[\"年度\"] == 2015), \n",
    "                          [\"折旧\", \"长期待摊费用摊销\", \"存货的减少\", \"经营性应收项目的减少\", \"经营性应付项目的增加\"]] =\\\n",
    "[14500391.74, 0, 32365482.17, -102364408.41, -137055152.65]\n",
    "\n",
    "accounting_neeq_long1.loc[(accounting_neeq_long1[\"证券代码\"] == \"832568.OC\") & \n",
    "                          (accounting_neeq_long1[\"年度\"] == 2014), \n",
    "                          [\"折旧\", \"长期待摊费用摊销\", \"存货的减少\", \"经营性应收项目的减少\", \"经营性应付项目的增加\"]] =\\\n",
    "[10058905.53, 0, -17061012.49,  -10599958.09, 459435.69]\n",
    "\n",
    "accounting_neeq_long1.loc[(accounting_neeq_long1[\"证券代码\"] == \"832568.OC\") & \n",
    "                          (accounting_neeq_long1[\"年度\"] == 2013), \n",
    "                          [\"折旧\", \"长期待摊费用摊销\", \"存货的减少\", \"经营性应收项目的减少\", \"经营性应付项目的增加\"]] =\\\n",
    "[11218661.06, 0, -25707153.13, 34482646.00, 112376137.46]"
   ]
  },
  {
   "cell_type": "code",
   "execution_count": 384,
   "metadata": {
    "collapsed": false
   },
   "outputs": [],
   "source": [
    "accounting_neeq_long1.loc[(accounting_neeq_long1[\"证券代码\"] == \"430702.OC\") &\n",
    "                          (accounting_neeq_long1[\"年度\"] == 2013), [\"实际披露日期\", \"报告期\"]] =\\\n",
    "[pandas.datetime(2014, 5, 21), pandas.datetime(2013, 12, 31)]"
   ]
  },
  {
   "cell_type": "code",
   "execution_count": 385,
   "metadata": {
    "collapsed": true
   },
   "outputs": [],
   "source": [
    "accounting_neeq_long1.loc[(accounting_neeq_long1[\"证券代码\"] == \"830825.OC\") &\n",
    "                          (accounting_neeq_long1[\"年度\"] == 2013), [\"实际披露日期\", \"报告期\"]] =\\\n",
    "[pandas.datetime(2014, 6, 24), pandas.datetime(2013, 12, 31)]"
   ]
  },
  {
   "cell_type": "code",
   "execution_count": 386,
   "metadata": {
    "collapsed": true
   },
   "outputs": [],
   "source": [
    "accounting_neeq_long1.loc[(accounting_neeq_long1[\"证券代码\"] == \"830767.OC\") &\n",
    "                          (accounting_neeq_long1[\"年度\"] == 2013), [\"实际披露日期\", \"报告期\"]] =\\\n",
    "[pandas.datetime(2014, 6, 9), pandas.datetime(2013, 12, 31)]"
   ]
  },
  {
   "cell_type": "code",
   "execution_count": 387,
   "metadata": {
    "collapsed": true
   },
   "outputs": [],
   "source": [
    "accounting_neeq_long1.loc[(accounting_neeq_long1[\"证券代码\"] == \"830780.OC\") &\n",
    "                          (accounting_neeq_long1[\"年度\"] == 2013), [\"实际披露日期\", \"报告期\"]] =\\\n",
    "[pandas.datetime(2014, 6, 9), pandas.datetime(2013, 12, 31)]"
   ]
  },
  {
   "cell_type": "code",
   "execution_count": 388,
   "metadata": {
    "collapsed": true
   },
   "outputs": [],
   "source": [
    "accounting_neeq_long1.loc[(accounting_neeq_long1[\"证券代码\"] == \"832383.OC\") &\n",
    "                          (accounting_neeq_long1[\"年度\"] == 2014), [\"实际披露日期\", \"报告期\"]] =\\\n",
    "[pandas.datetime(2015, 6, 9), pandas.datetime(2014, 12, 31)]"
   ]
  },
  {
   "cell_type": "code",
   "execution_count": 389,
   "metadata": {
    "collapsed": true
   },
   "outputs": [],
   "source": [
    "accounting_neeq_long1.loc[(accounting_neeq_long1[\"证券代码\"] == \"832611.OC\") &\n",
    "                          (accounting_neeq_long1[\"年度\"] == 2014), [\"实际披露日期\", \"报告期\"]] =\\\n",
    "[pandas.datetime(2015, 6, 11), pandas.datetime(2014, 12, 31)]"
   ]
  },
  {
   "cell_type": "code",
   "execution_count": 390,
   "metadata": {
    "collapsed": true
   },
   "outputs": [],
   "source": [
    "accounting_neeq_long1.loc[(accounting_neeq_long1[\"证券代码\"] == \"832615.OC\") &\n",
    "                          (accounting_neeq_long1[\"年度\"] == 2014), [\"实际披露日期\", \"报告期\"]] =\\\n",
    "[pandas.datetime(2015, 7, 17), pandas.datetime(2014, 12, 31)]"
   ]
  },
  {
   "cell_type": "code",
   "execution_count": 391,
   "metadata": {
    "collapsed": true
   },
   "outputs": [],
   "source": [
    "accounting_neeq_long1.loc[(accounting_neeq_long1[\"证券代码\"] == \"832686.OC\") &\n",
    "                          (accounting_neeq_long1[\"年度\"] == 2014), [\"实际披露日期\", \"报告期\"]] =\\\n",
    "[pandas.datetime(2015, 10, 13), pandas.datetime(2014, 12, 31)]"
   ]
  },
  {
   "cell_type": "code",
   "execution_count": 392,
   "metadata": {
    "collapsed": true
   },
   "outputs": [],
   "source": [
    "accounting_neeq_long1.loc[(accounting_neeq_long1[\"证券代码\"] == \"430699.OC\") &\n",
    "                          (accounting_neeq_long1[\"年度\"] == 2013), [\"实际披露日期\", \"报告期\"]] =\\\n",
    "[pandas.datetime(2014, 5, 20), pandas.datetime(2013, 12, 31)]"
   ]
  },
  {
   "cell_type": "code",
   "execution_count": 393,
   "metadata": {
    "collapsed": true
   },
   "outputs": [],
   "source": [
    "accounting_neeq_long1.loc[(accounting_neeq_long1[\"证券代码\"] == \"430718.OC\") &\n",
    "                          (accounting_neeq_long1[\"年度\"] == 2013), [\"实际披露日期\", \"报告期\"]] =\\\n",
    "[pandas.datetime(2014, 5, 14), pandas.datetime(2013, 12, 31)]"
   ]
  },
  {
   "cell_type": "code",
   "execution_count": 394,
   "metadata": {
    "collapsed": true
   },
   "outputs": [],
   "source": [
    "accounting_neeq_long1.loc[(accounting_neeq_long1[\"证券代码\"] == \"430720.OC\") &\n",
    "                          (accounting_neeq_long1[\"年度\"] == 2013), [\"实际披露日期\", \"报告期\"]] =\\\n",
    "[pandas.datetime(2014, 5, 7), pandas.datetime(2013, 12, 31)]"
   ]
  },
  {
   "cell_type": "code",
   "execution_count": 395,
   "metadata": {
    "collapsed": true
   },
   "outputs": [],
   "source": [
    "accounting_neeq_long1.loc[(accounting_neeq_long1[\"证券代码\"] == \"430722.OC\") &\n",
    "                          (accounting_neeq_long1[\"年度\"] == 2013), [\"实际披露日期\", \"报告期\"]] =\\\n",
    "[pandas.datetime(2014, 5, 23), pandas.datetime(2013, 12, 31)]"
   ]
  },
  {
   "cell_type": "code",
   "execution_count": 396,
   "metadata": {
    "collapsed": true
   },
   "outputs": [],
   "source": [
    "accounting_neeq_long1.loc[(accounting_neeq_long1[\"证券代码\"] == \"430725.OC\") &\n",
    "                          (accounting_neeq_long1[\"年度\"] == 2013), [\"实际披露日期\", \"报告期\"]] =\\\n",
    "[pandas.datetime(2014, 5, 21), pandas.datetime(2013, 12, 31)]"
   ]
  },
  {
   "cell_type": "code",
   "execution_count": 397,
   "metadata": {
    "collapsed": true
   },
   "outputs": [],
   "source": [
    "accounting_neeq_long1.loc[(accounting_neeq_long1[\"证券代码\"] == \"430727.OC\") &\n",
    "                          (accounting_neeq_long1[\"年度\"] == 2013), [\"实际披露日期\", \"报告期\"]] =\\\n",
    "[pandas.datetime(2014, 6, 4), pandas.datetime(2013, 12, 31)]"
   ]
  },
  {
   "cell_type": "code",
   "execution_count": 398,
   "metadata": {
    "collapsed": true
   },
   "outputs": [],
   "source": [
    "accounting_neeq_long1.loc[(accounting_neeq_long1[\"证券代码\"] == \"430729.OC\") &\n",
    "                          (accounting_neeq_long1[\"年度\"] == 2013), [\"实际披露日期\", \"报告期\"]] =\\\n",
    "[pandas.datetime(2014, 5, 30), pandas.datetime(2013, 12, 31)]"
   ]
  },
  {
   "cell_type": "code",
   "execution_count": 399,
   "metadata": {
    "collapsed": true
   },
   "outputs": [],
   "source": [
    "accounting_neeq_long1.loc[(accounting_neeq_long1[\"证券代码\"] == \"430730.OC\") &\n",
    "                          (accounting_neeq_long1[\"年度\"] == 2013), [\"实际披露日期\", \"报告期\"]] =\\\n",
    "[pandas.datetime(2014, 5, 16), pandas.datetime(2013, 12, 31)]"
   ]
  },
  {
   "cell_type": "code",
   "execution_count": 400,
   "metadata": {
    "collapsed": true
   },
   "outputs": [],
   "source": [
    "accounting_neeq_long1.loc[(accounting_neeq_long1[\"证券代码\"] == \"430733.OC\") &\n",
    "                          (accounting_neeq_long1[\"年度\"] == 2013), [\"实际披露日期\", \"报告期\"]] =\\\n",
    "[pandas.datetime(2014, 5, 19), pandas.datetime(2013, 12, 31)]"
   ]
  },
  {
   "cell_type": "code",
   "execution_count": 401,
   "metadata": {
    "collapsed": true
   },
   "outputs": [],
   "source": [
    "accounting_neeq_long1.loc[(accounting_neeq_long1[\"证券代码\"] == \"430734.OC\") &\n",
    "                          (accounting_neeq_long1[\"年度\"] == 2013), [\"实际披露日期\", \"报告期\"]] =\\\n",
    "[pandas.datetime(2014, 5, 8), pandas.datetime(2013, 12, 31)]"
   ]
  },
  {
   "cell_type": "code",
   "execution_count": 402,
   "metadata": {
    "collapsed": true
   },
   "outputs": [],
   "source": [
    "accounting_neeq_long1.loc[(accounting_neeq_long1[\"证券代码\"] == \"430735.OC\") &\n",
    "                          (accounting_neeq_long1[\"年度\"] == 2013), [\"实际披露日期\", \"报告期\"]] =\\\n",
    "[pandas.datetime(2014, 7, 11), pandas.datetime(2013, 12, 31)]"
   ]
  },
  {
   "cell_type": "code",
   "execution_count": 403,
   "metadata": {
    "collapsed": true
   },
   "outputs": [],
   "source": [
    "accounting_neeq_long1.loc[(accounting_neeq_long1[\"证券代码\"] == \"430736.OC\") &\n",
    "                          (accounting_neeq_long1[\"年度\"] == 2013), [\"实际披露日期\", \"报告期\"]] =\\\n",
    "[pandas.datetime(2014, 5, 8), pandas.datetime(2013, 12, 31)]"
   ]
  },
  {
   "cell_type": "code",
   "execution_count": 404,
   "metadata": {
    "collapsed": true
   },
   "outputs": [],
   "source": [
    "accounting_neeq_long1.loc[(accounting_neeq_long1[\"证券代码\"] == \"430741.OC\") &\n",
    "                          (accounting_neeq_long1[\"年度\"] == 2013), [\"实际披露日期\", \"报告期\"]] =\\\n",
    "[pandas.datetime(2014, 5, 9), pandas.datetime(2013, 12, 31)]"
   ]
  },
  {
   "cell_type": "code",
   "execution_count": 405,
   "metadata": {
    "collapsed": true
   },
   "outputs": [],
   "source": [
    "accounting_neeq_long1.loc[(accounting_neeq_long1[\"证券代码\"] == \"430743.OC\") &\n",
    "                          (accounting_neeq_long1[\"年度\"] == 2013), [\"实际披露日期\", \"报告期\"]] =\\\n",
    "[pandas.datetime(2014, 5, 30), pandas.datetime(2013, 12, 31)]"
   ]
  },
  {
   "cell_type": "code",
   "execution_count": 406,
   "metadata": {
    "collapsed": true
   },
   "outputs": [],
   "source": [
    "accounting_neeq_long1.loc[(accounting_neeq_long1[\"证券代码\"] == \"430744.OC\") &\n",
    "                          (accounting_neeq_long1[\"年度\"] == 2013), [\"实际披露日期\", \"报告期\"]] =\\\n",
    "[pandas.datetime(2014, 5, 5), pandas.datetime(2013, 12, 31)]"
   ]
  },
  {
   "cell_type": "code",
   "execution_count": 407,
   "metadata": {
    "collapsed": true
   },
   "outputs": [],
   "source": [
    "accounting_neeq_long1.loc[(accounting_neeq_long1[\"证券代码\"] == \"430745.OC\") &\n",
    "                          (accounting_neeq_long1[\"年度\"] == 2013), [\"实际披露日期\", \"报告期\"]] =\\\n",
    "[pandas.datetime(2014, 5, 26), pandas.datetime(2013, 12, 31)]"
   ]
  },
  {
   "cell_type": "code",
   "execution_count": 408,
   "metadata": {
    "collapsed": true
   },
   "outputs": [],
   "source": [
    "accounting_neeq_long1.loc[(accounting_neeq_long1[\"证券代码\"] == \"430746.OC\") &\n",
    "                          (accounting_neeq_long1[\"年度\"] == 2013), [\"实际披露日期\", \"报告期\"]] =\\\n",
    "[pandas.datetime(2014, 6, 5), pandas.datetime(2013, 12, 31)]"
   ]
  },
  {
   "cell_type": "code",
   "execution_count": 409,
   "metadata": {
    "collapsed": true
   },
   "outputs": [],
   "source": [
    "accounting_neeq_long1.loc[(accounting_neeq_long1[\"证券代码\"] == \"430747.OC\") &\n",
    "                          (accounting_neeq_long1[\"年度\"] == 2013), [\"实际披露日期\", \"报告期\"]] =\\\n",
    "[pandas.datetime(2014, 5, 20), pandas.datetime(2013, 12, 31)]"
   ]
  },
  {
   "cell_type": "code",
   "execution_count": 410,
   "metadata": {
    "collapsed": true
   },
   "outputs": [],
   "source": [
    "accounting_neeq_long1.loc[(accounting_neeq_long1[\"证券代码\"] == \"430749.OC\") &\n",
    "                          (accounting_neeq_long1[\"年度\"] == 2013), [\"实际披露日期\", \"报告期\"]] =\\\n",
    "[pandas.datetime(2014, 5, 15), pandas.datetime(2013, 12, 31)]"
   ]
  },
  {
   "cell_type": "code",
   "execution_count": 411,
   "metadata": {
    "collapsed": true
   },
   "outputs": [],
   "source": [
    "accounting_neeq_long1.loc[(accounting_neeq_long1[\"证券代码\"] == \"430750.OC\") &\n",
    "                          (accounting_neeq_long1[\"年度\"] == 2013), [\"实际披露日期\", \"报告期\"]] =\\\n",
    "[pandas.datetime(2014, 6, 9), pandas.datetime(2013, 12, 31)]"
   ]
  },
  {
   "cell_type": "code",
   "execution_count": 412,
   "metadata": {
    "collapsed": true
   },
   "outputs": [],
   "source": [
    "accounting_neeq_long1.loc[(accounting_neeq_long1[\"证券代码\"] == \"430751.OC\") &\n",
    "                          (accounting_neeq_long1[\"年度\"] == 2013), [\"实际披露日期\", \"报告期\"]] =\\\n",
    "[pandas.datetime(2014, 5, 30), pandas.datetime(2013, 12, 31)]"
   ]
  },
  {
   "cell_type": "code",
   "execution_count": 413,
   "metadata": {
    "collapsed": true
   },
   "outputs": [],
   "source": [
    "accounting_neeq_long1.loc[(accounting_neeq_long1[\"证券代码\"] == \"430752.OC\") &\n",
    "                          (accounting_neeq_long1[\"年度\"] == 2013), [\"实际披露日期\", \"报告期\"]] =\\\n",
    "[pandas.datetime(2014, 5, 30), pandas.datetime(2013, 12, 31)]"
   ]
  },
  {
   "cell_type": "code",
   "execution_count": 414,
   "metadata": {
    "collapsed": true
   },
   "outputs": [],
   "source": [
    "accounting_neeq_long1.loc[(accounting_neeq_long1[\"证券代码\"] == \"430754.OC\") &\n",
    "                          (accounting_neeq_long1[\"年度\"] == 2013), [\"实际披露日期\", \"报告期\"]] =\\\n",
    "[pandas.datetime(2014, 6, 9), pandas.datetime(2013, 12, 31)]"
   ]
  },
  {
   "cell_type": "code",
   "execution_count": 415,
   "metadata": {
    "collapsed": true
   },
   "outputs": [],
   "source": [
    "accounting_neeq_long1.loc[(accounting_neeq_long1[\"证券代码\"] == \"430755.OC\") &\n",
    "                          (accounting_neeq_long1[\"年度\"] == 2013), [\"实际披露日期\", \"报告期\"]] =\\\n",
    "[pandas.datetime(2014, 6, 24), pandas.datetime(2013, 12, 31)]"
   ]
  },
  {
   "cell_type": "code",
   "execution_count": 416,
   "metadata": {
    "collapsed": true
   },
   "outputs": [],
   "source": [
    "accounting_neeq_long1.loc[(accounting_neeq_long1[\"证券代码\"] == \"430757.OC\") &\n",
    "                          (accounting_neeq_long1[\"年度\"] == 2013), [\"实际披露日期\", \"报告期\"]] =\\\n",
    "[pandas.datetime(2014, 5, 30), pandas.datetime(2013, 12, 31)]"
   ]
  },
  {
   "cell_type": "code",
   "execution_count": 417,
   "metadata": {
    "collapsed": true
   },
   "outputs": [],
   "source": [
    "accounting_neeq_long1.loc[(accounting_neeq_long1[\"证券代码\"] == \"430758.OC\") &\n",
    "                          (accounting_neeq_long1[\"年度\"] == 2013), [\"实际披露日期\", \"报告期\"]] =\\\n",
    "[pandas.datetime(2014, 6, 6), pandas.datetime(2013, 12, 31)]"
   ]
  },
  {
   "cell_type": "code",
   "execution_count": 418,
   "metadata": {
    "collapsed": true
   },
   "outputs": [],
   "source": [
    "accounting_neeq_long1.loc[(accounting_neeq_long1[\"证券代码\"] == \"430759.OC\") &\n",
    "                          (accounting_neeq_long1[\"年度\"] == 2013), [\"实际披露日期\", \"报告期\"]] =\\\n",
    "[pandas.datetime(2014, 6, 12), pandas.datetime(2013, 12, 31)]"
   ]
  },
  {
   "cell_type": "code",
   "execution_count": 419,
   "metadata": {
    "collapsed": true
   },
   "outputs": [],
   "source": [
    "accounting_neeq_long1.loc[(accounting_neeq_long1[\"证券代码\"] == \"430760.OC\") &\n",
    "                          (accounting_neeq_long1[\"年度\"] == 2013), [\"实际披露日期\", \"报告期\"]] =\\\n",
    "[pandas.datetime(2014, 6, 11), pandas.datetime(2013, 12, 31)]"
   ]
  },
  {
   "cell_type": "code",
   "execution_count": 420,
   "metadata": {
    "collapsed": true
   },
   "outputs": [],
   "source": [
    "accounting_neeq_long1.loc[(accounting_neeq_long1[\"证券代码\"] == \"430761.OC\") &\n",
    "                          (accounting_neeq_long1[\"年度\"] == 2013), [\"实际披露日期\", \"报告期\"]] =\\\n",
    "[pandas.datetime(2014, 6, 11), pandas.datetime(2013, 12, 31)]"
   ]
  },
  {
   "cell_type": "code",
   "execution_count": 421,
   "metadata": {
    "collapsed": true
   },
   "outputs": [],
   "source": [
    "accounting_neeq_long1.loc[(accounting_neeq_long1[\"证券代码\"] == \"430763.OC\") &\n",
    "                          (accounting_neeq_long1[\"年度\"] == 2013), [\"实际披露日期\", \"报告期\"]] =\\\n",
    "[pandas.datetime(2014, 6, 3), pandas.datetime(2013, 12, 31)]"
   ]
  },
  {
   "cell_type": "code",
   "execution_count": 422,
   "metadata": {
    "collapsed": true
   },
   "outputs": [],
   "source": [
    "accounting_neeq_long1.loc[(accounting_neeq_long1[\"证券代码\"] == \"830773.OC\") &\n",
    "                          (accounting_neeq_long1[\"年度\"] == 2013), [\"实际披露日期\", \"报告期\"]] =\\\n",
    "[pandas.datetime(2014, 6, 17), pandas.datetime(2013, 12, 31)]"
   ]
  },
  {
   "cell_type": "code",
   "execution_count": 423,
   "metadata": {
    "collapsed": true
   },
   "outputs": [],
   "source": [
    "accounting_neeq_long1.loc[(accounting_neeq_long1[\"证券代码\"] == \"830775.OC\") &\n",
    "                          (accounting_neeq_long1[\"年度\"] == 2013), [\"实际披露日期\", \"报告期\"]] =\\\n",
    "[pandas.datetime(2014, 6, 16), pandas.datetime(2013, 12, 31)]"
   ]
  },
  {
   "cell_type": "code",
   "execution_count": 424,
   "metadata": {
    "collapsed": true
   },
   "outputs": [],
   "source": [
    "accounting_neeq_long1.loc[(accounting_neeq_long1[\"证券代码\"] == \"830778.OC\") &\n",
    "                          (accounting_neeq_long1[\"年度\"] == 2013), [\"实际披露日期\", \"报告期\"]] =\\\n",
    "[pandas.datetime(2014, 6, 3), pandas.datetime(2013, 12, 31)]"
   ]
  },
  {
   "cell_type": "code",
   "execution_count": 425,
   "metadata": {
    "collapsed": true
   },
   "outputs": [],
   "source": [
    "accounting_neeq_long1.loc[(accounting_neeq_long1[\"证券代码\"] == \"830781.OC\") &\n",
    "                          (accounting_neeq_long1[\"年度\"] == 2013), [\"实际披露日期\", \"报告期\"]] =\\\n",
    "[pandas.datetime(2014, 9, 25), pandas.datetime(2013, 12, 31)]"
   ]
  },
  {
   "cell_type": "code",
   "execution_count": 427,
   "metadata": {
    "collapsed": false
   },
   "outputs": [],
   "source": [
    "file = \"FinancialStatementDisclosingDateUpdated.csv\"\n",
    "accounting_neeq_long1.loc[(accounting_neeq_long1[\"证券代码\"].isin(pandas.Series(StkcdChangedYear, name=\"证券代码\"))) & \n",
    "                          (accounting_neeq_long1[\"relativeYear\"] == 0)].to_csv(\"../data/\" + file, \n",
    "                                                                              index=False)"
   ]
  },
  {
   "cell_type": "code",
   "execution_count": 429,
   "metadata": {
    "collapsed": true
   },
   "outputs": [],
   "source": [
    "accounting_neeq_long1.to_csv(\"../data/NEEQAccountingData.csv\", index=False)"
   ]
  },
  {
   "cell_type": "code",
   "execution_count": 430,
   "metadata": {
    "collapsed": false
   },
   "outputs": [
    {
     "data": {
      "text/plain": [
       "Index(['证券代码', '年度', '挂牌日期', '主办券商', '所属园区', '所属证监会行业', '摘牌日期', '挂牌年度', '挂牌月份',\n",
       "       '证券简称', '资产总计', '归属母公司股东的权益', '营业收入', '营业成本', '销售费用', '管理费用', '财务费用',\n",
       "       '归属母公司股东的净利润', '非经常性损益', '扣除非经常性损益后的净利', '经营活动产生的现金流量净额', '应收账款',\n",
       "       '固定资产', 'ROA', '折旧', '长期待摊费用摊销', '存货的减少', '经营性应收项目的减少', '经营性应付项目的增加',\n",
       "       '实际披露日期', '报告期', '挂牌前后', 'relativeYear'],\n",
       "      dtype='object')"
      ]
     },
     "execution_count": 430,
     "metadata": {},
     "output_type": "execute_result"
    }
   ],
   "source": [
    "accounting_neeq_long1.columns"
   ]
  },
  {
   "cell_type": "code",
   "execution_count": null,
   "metadata": {
    "collapsed": true
   },
   "outputs": [],
   "source": [
    "items = [\"资产总计\", \"营业收入\", \"归属母公司股东的净利润\", \"经营活动产生的现金流量净额\", \"固定资产\"]\n",
    "accounting_neeq_long1[item].isnull().all()"
   ]
  }
 ],
 "metadata": {
  "kernelspec": {
   "display_name": "Python 3",
   "language": "python",
   "name": "python3"
  },
  "language_info": {
   "codemirror_mode": {
    "name": "ipython",
    "version": 3
   },
   "file_extension": ".py",
   "mimetype": "text/x-python",
   "name": "python",
   "nbconvert_exporter": "python",
   "pygments_lexer": "ipython3",
   "version": "3.5.1"
  }
 },
 "nbformat": 4,
 "nbformat_minor": 0
}
