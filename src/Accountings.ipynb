{
 "cells": [
  {
   "cell_type": "code",
   "execution_count": 1,
   "metadata": {
    "collapsed": true
   },
   "outputs": [],
   "source": [
    "%matplotlib inline\n",
    "import numpy \n",
    "import pandas\n",
    "import matplotlib.pyplot as plt\n",
    "import seaborn as sns"
   ]
  },
  {
   "cell_type": "code",
   "execution_count": 2,
   "metadata": {
    "collapsed": true
   },
   "outputs": [],
   "source": [
    "accounting_neeq = pandas.read_excel(\"../data/raw/accounting2015.xlsx\")"
   ]
  },
  {
   "cell_type": "code",
   "execution_count": 4,
   "metadata": {
    "collapsed": false
   },
   "outputs": [
    {
     "data": {
      "text/plain": [
       "Index(['证券代码', '证券简称', '资产总计\\r\\n[报告期] 2003年报\\r\\n[报表类型] 合并报表\\r\\n[单位] 元',\n",
       "       '资产总计\\r\\n[报告期] 2004年报\\r\\n[报表类型] 合并报表\\r\\n[单位] 元',\n",
       "       '资产总计\\r\\n[报告期] 2005年报\\r\\n[报表类型] 合并报表\\r\\n[单位] 元',\n",
       "       '资产总计\\r\\n[报告期] 2006年报\\r\\n[报表类型] 合并报表\\r\\n[单位] 元',\n",
       "       '资产总计\\r\\n[报告期] 2007年报\\r\\n[报表类型] 合并报表\\r\\n[单位] 元',\n",
       "       '资产总计\\r\\n[报告期] 2008年报\\r\\n[报表类型] 合并报表\\r\\n[单位] 元',\n",
       "       '资产总计\\r\\n[报告期] 2009年报\\r\\n[报表类型] 合并报表\\r\\n[单位] 元',\n",
       "       '资产总计\\r\\n[报告期] 2010年报\\r\\n[报表类型] 合并报表\\r\\n[单位] 元',\n",
       "       ...\n",
       "       '总资产净利率ROA\\r\\n[报告期] 2006年报\\r\\n[单位] %',\n",
       "       '总资产净利率ROA\\r\\n[报告期] 2007年报\\r\\n[单位] %',\n",
       "       '总资产净利率ROA\\r\\n[报告期] 2008年报\\r\\n[单位] %',\n",
       "       '总资产净利率ROA\\r\\n[报告期] 2009年报\\r\\n[单位] %',\n",
       "       '总资产净利率ROA\\r\\n[报告期] 2010年报\\r\\n[单位] %',\n",
       "       '总资产净利率ROA\\r\\n[报告期] 2011年报\\r\\n[单位] %',\n",
       "       '总资产净利率ROA\\r\\n[报告期] 2012年报\\r\\n[单位] %',\n",
       "       '总资产净利率ROA\\r\\n[报告期] 2013年报\\r\\n[单位] %',\n",
       "       '总资产净利率ROA\\r\\n[报告期] 2014年报\\r\\n[单位] %',\n",
       "       '总资产净利率ROA\\r\\n[报告期] 2015年报\\r\\n[单位] %'],\n",
       "      dtype='object', length=184)"
      ]
     },
     "execution_count": 4,
     "metadata": {},
     "output_type": "execute_result"
    }
   ],
   "source": [
    "accounting_neeq.columns"
   ]
  },
  {
   "cell_type": "code",
   "execution_count": null,
   "metadata": {
    "collapsed": true
   },
   "outputs": [],
   "source": []
  }
 ],
 "metadata": {
  "kernelspec": {
   "display_name": "Python 3",
   "language": "python",
   "name": "python3"
  },
  "language_info": {
   "codemirror_mode": {
    "name": "ipython",
    "version": 3
   },
   "file_extension": ".py",
   "mimetype": "text/x-python",
   "name": "python",
   "nbconvert_exporter": "python",
   "pygments_lexer": "ipython3",
   "version": "3.5.1"
  }
 },
 "nbformat": 4,
 "nbformat_minor": 0
}
