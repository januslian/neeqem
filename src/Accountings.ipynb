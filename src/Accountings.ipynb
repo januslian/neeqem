{
 "cells": [
  {
   "cell_type": "code",
   "execution_count": 1,
   "metadata": {
    "collapsed": true
   },
   "outputs": [],
   "source": [
    "%matplotlib inline\n",
    "import numpy \n",
    "import pandas\n",
    "import matplotlib.pyplot as plt\n",
    "import seaborn as sns"
   ]
  },
  {
   "cell_type": "code",
   "execution_count": 2,
   "metadata": {
    "collapsed": false
   },
   "outputs": [],
   "source": [
    "accounting_neeq = pandas.read_excel(\"../data/raw/accounting2015.xlsx\")\n",
    "accounting_cf_neeq = pandas.read_excel(\"../data/raw/accounting2015_cf.xlsx\")\n",
    "accounting_neeq = accounting_neeq[:-2]\n",
    "accounting_cf_neeq = accounting_cf_neeq[:-2]\n",
    "#833822"
   ]
  },
  {
   "cell_type": "code",
   "execution_count": 3,
   "metadata": {
    "collapsed": true
   },
   "outputs": [],
   "source": [
    "accounting_neeq = pandas.merge(accounting_neeq, accounting_cf_neeq, on=[\"证券代码\", \"证券简称\"])"
   ]
  },
  {
   "cell_type": "code",
   "execution_count": 4,
   "metadata": {
    "collapsed": false
   },
   "outputs": [],
   "source": [
    "columns = [\"资产总计\", \"归属母公司股东的权益\", \"营业收入\", \"营业成本\", \"销售费用\", \n",
    "           \"管理费用\", \"财务费用\", \"归属母公司股东的净利润\", \"非经常性损益\", \"扣除非经常性损益后的净利\", \n",
    "          \"经营活动产生的现金流量净额\", \"应收账款\", \"固定资产\", \"ROA\", \"折旧\", \"长期待摊费用摊销\",\n",
    "           \"存货的减少\", \"经营性应收项目的减少\", \"经营性应付项目的增加\"]\n",
    "\n",
    "year = numpy.arange(2003, 2016)\n",
    "\n",
    "column_names = [item + str(iyear) for item in columns for iyear in year]"
   ]
  },
  {
   "cell_type": "code",
   "execution_count": 5,
   "metadata": {
    "collapsed": false
   },
   "outputs": [],
   "source": [
    "accounting_neeq.columns = [\"证券代码\", \"证券简称\"] + column_names"
   ]
  },
  {
   "cell_type": "code",
   "execution_count": 6,
   "metadata": {
    "collapsed": false
   },
   "outputs": [],
   "source": [
    "accounting_neeq_long = pandas.wide_to_long(accounting_neeq, stubnames=columns, i=\"证券代码\", j=\"年度\")"
   ]
  },
  {
   "cell_type": "code",
   "execution_count": 7,
   "metadata": {
    "collapsed": true
   },
   "outputs": [],
   "source": [
    "neeq_sample = pandas.read_csv(\"../data/NEEQ_sample.csv\", parse_dates=[7, 8], index_col=13)"
   ]
  },
  {
   "cell_type": "code",
   "execution_count": 8,
   "metadata": {
    "collapsed": true
   },
   "outputs": [],
   "source": [
    "neeq_sample = neeq_sample[[\"挂牌日期\", \"主办券商\", \"所属园区\", \"所属证监会行业\", \"摘牌日期\"]]\n",
    "neeq_sample = neeq_sample.sort_index()\n",
    "neeq_sample[\"挂牌年度\"] = neeq_sample[\"挂牌日期\"].apply(lambda x: x.year)\n",
    "neeq_sample[\"挂牌月份\"] = neeq_sample[\"挂牌日期\"].apply(lambda x: x.month)"
   ]
  },
  {
   "cell_type": "code",
   "execution_count": 9,
   "metadata": {
    "collapsed": false
   },
   "outputs": [],
   "source": [
    "accounting_neeq_long = pandas.merge(neeq_sample, accounting_neeq_long, \n",
    "                                    how=\"inner\", left_index=True, \n",
    "                                    right_index=True)"
   ]
  },
  {
   "cell_type": "code",
   "execution_count": 10,
   "metadata": {
    "collapsed": false,
    "scrolled": true
   },
   "outputs": [],
   "source": [
    "accounting_neeq_long.reset_index(inplace=True)"
   ]
  },
  {
   "cell_type": "code",
   "execution_count": 13,
   "metadata": {
    "collapsed": false
   },
   "outputs": [],
   "source": [
    "accounting_neeq_long[\"相对年度\"] = accounting_neeq_long[\"年度\"] - accounting_neeq_long[\"挂牌年度\"]"
   ]
  },
  {
   "cell_type": "code",
   "execution_count": 35,
   "metadata": {
    "collapsed": false
   },
   "outputs": [],
   "source": [
    "drops = accounting_neeq_long[(accounting_neeq_long[\"相对年度\"] < 0) & (accounting_neeq_long.iloc[:, 10:29].isnull().all(axis=1))].index"
   ]
  },
  {
   "cell_type": "code",
   "execution_count": 37,
   "metadata": {
    "collapsed": false
   },
   "outputs": [],
   "source": [
    "accounting_neeq_long = accounting_neeq_long.drop(drops)"
   ]
  },
  {
   "cell_type": "code",
   "execution_count": 52,
   "metadata": {
    "collapsed": false
   },
   "outputs": [],
   "source": [
    "accounting_neeq_long.loc[accounting_neeq_long[\"挂牌月份\"] <= 4, \"相对年度\"] =\\\n",
    "accounting_neeq_long.loc[accounting_neeq_long[\"挂牌月份\"] <= 4, \"相对年度\"] + 1"
   ]
  },
  {
   "cell_type": "code",
   "execution_count": 72,
   "metadata": {
    "collapsed": false
   },
   "outputs": [
    {
     "data": {
      "text/plain": [
       "-12       3\n",
       "-11       3\n",
       "-10       7\n",
       "-9       15\n",
       "-8       29\n",
       "-7       56\n",
       "-6       86\n",
       "-5      122\n",
       "-4      174\n",
       "-3      624\n",
       "-2     6860\n",
       "-1     6866\n",
       " 0     6833\n",
       " 1     2348\n",
       " 2      722\n",
       " 3      212\n",
       " 4      120\n",
       " 5       86\n",
       " 6       67\n",
       " 7       55\n",
       " 8       28\n",
       " 9       13\n",
       " 10       3\n",
       "Name: 相对年度, dtype: int64"
      ]
     },
     "execution_count": 72,
     "metadata": {},
     "output_type": "execute_result"
    }
   ],
   "source": [
    "accounting_neeq_long[\"相对年度\"].value_counts().sort_index()"
   ]
  },
  {
   "cell_type": "code",
   "execution_count": 63,
   "metadata": {
    "collapsed": false
   },
   "outputs": [],
   "source": [
    "accounting_neeq_long[accounting_neeq_long[\"相对年度\"] == -1].to_csv(\"../data/tmp.csv\")"
   ]
  },
  {
   "cell_type": "code",
   "execution_count": 64,
   "metadata": {
    "collapsed": false
   },
   "outputs": [],
   "source": [
    "neeq_sample = neeq_sample.reset_index()"
   ]
  },
  {
   "cell_type": "code",
   "execution_count": 67,
   "metadata": {
    "collapsed": false
   },
   "outputs": [],
   "source": [
    "pandas.merge(neeq_sample, accounting_neeq_long[accounting_neeq_long[\"相对年度\"] == -1], how=\"left\", on=\"证券代码\").to_csv(\"../data/tmp.csv\")"
   ]
  },
  {
   "cell_type": "code",
   "execution_count": 70,
   "metadata": {
    "collapsed": false
   },
   "outputs": [],
   "source": [
    "accounting_neeq_long.loc[accounting_neeq_long[\"证券代码\"] == \"832668.OC\", \"相对年度\"] = \\\n",
    "accounting_neeq_long.loc[accounting_neeq_long[\"证券代码\"] == \"832668.OC\", \"相对年度\"] + 1"
   ]
  },
  {
   "cell_type": "code",
   "execution_count": 71,
   "metadata": {
    "collapsed": false
   },
   "outputs": [
    {
     "data": {
      "text/plain": [
       "64431   -2\n",
       "71297   -1\n",
       "85029    1\n",
       "Name: 相对年度, dtype: int64"
      ]
     },
     "execution_count": 71,
     "metadata": {},
     "output_type": "execute_result"
    }
   ],
   "source": [
    "accounting_neeq_long.loc[accounting_neeq_long[\"证券代码\"] == \"832668.OC\", \"相对年度\"]"
   ]
  },
  {
   "cell_type": "code",
   "execution_count": null,
   "metadata": {
    "collapsed": true
   },
   "outputs": [],
   "source": []
  }
 ],
 "metadata": {
  "kernelspec": {
   "display_name": "Python 3",
   "language": "python",
   "name": "python3"
  },
  "language_info": {
   "codemirror_mode": {
    "name": "ipython",
    "version": 3
   },
   "file_extension": ".py",
   "mimetype": "text/x-python",
   "name": "python",
   "nbconvert_exporter": "python",
   "pygments_lexer": "ipython3",
   "version": "3.5.1"
  }
 },
 "nbformat": 4,
 "nbformat_minor": 0
}
