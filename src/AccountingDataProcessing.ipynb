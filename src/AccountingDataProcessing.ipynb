{
 "cells": [
  {
   "cell_type": "code",
   "execution_count": 1,
   "metadata": {
    "collapsed": true
   },
   "outputs": [],
   "source": [
    "%matplotlib inline\n",
    "import numpy \n",
    "import pandas\n",
    "import matplotlib.pyplot as plt\n",
    "import seaborn as sns\n",
    "import re"
   ]
  },
  {
   "cell_type": "code",
   "execution_count": 79,
   "metadata": {
    "collapsed": false
   },
   "outputs": [],
   "source": [
    "accounting_neeq = pandas.read_csv(\"../data/NEEQAccountingData.csv\", parse_dates=[2, 6, 29, 30])"
   ]
  },
  {
   "cell_type": "code",
   "execution_count": 6,
   "metadata": {
    "collapsed": false
   },
   "outputs": [],
   "source": [
    "items =  [\"资产总计\", \"营业收入\", \"归属母公司股东的净利润\", \"经营活动产生的现金流量净额\", \"固定资产\"]\n",
    "index_drops = accounting_neeq[accounting_neeq[items].isnull().all(axis=1)].index"
   ]
  },
  {
   "cell_type": "code",
   "execution_count": 14,
   "metadata": {
    "collapsed": false
   },
   "outputs": [],
   "source": [
    "accounting_neeq.loc[index_drops, :].to_csv(\"../data/accountingtmp.csv\", index=False)"
   ]
  },
  {
   "cell_type": "code",
   "execution_count": 80,
   "metadata": {
    "collapsed": false
   },
   "outputs": [],
   "source": [
    "accounting_neeq.loc[accounting_neeq[\"relativeYear\"] == 0, \"挂牌前后\"] = \"挂牌后\""
   ]
  },
  {
   "cell_type": "code",
   "execution_count": 91,
   "metadata": {
    "collapsed": false
   },
   "outputs": [],
   "source": [
    "accounting_group = accounting_neeq.groupby([\"证券代码\"])"
   ]
  },
  {
   "cell_type": "code",
   "execution_count": 77,
   "metadata": {
    "collapsed": true
   },
   "outputs": [],
   "source": [
    "x = accounting_neeq[accounting_neeq[\"证券代码\"] == \"430699.OC\"]"
   ]
  },
  {
   "cell_type": "code",
   "execution_count": 100,
   "metadata": {
    "collapsed": true
   },
   "outputs": [],
   "source": [
    "def relative_years_correction(data):\n",
    "    year = data.loc[data[\"relativeYear\"] == 0, \"年度\"]\n",
    "    if len(year) != 0:\n",
    "        relativeYears = numpy.array(data.loc[:, \"年度\"] - int(year))\n",
    "    else:\n",
    "        year = data.loc[data[\"relativeYear\"] == -1, \"年度\"]\n",
    "        relativeYears = numpy.array(data.loc[:, \"年度\"] - int(year) - 1)\n",
    "        \n",
    "    data.loc[:, \"relativeYear\"] = relativeYears\n",
    "    return data"
   ]
  },
  {
   "cell_type": "code",
   "execution_count": 101,
   "metadata": {
    "collapsed": false,
    "scrolled": true
   },
   "outputs": [],
   "source": [
    "accounting_neeq = accounting_group.apply(relative_years_correction)"
   ]
  },
  {
   "cell_type": "code",
   "execution_count": 103,
   "metadata": {
    "collapsed": false
   },
   "outputs": [],
   "source": [
    "accounting_neeq.to_csv(\"../data/NEEQAccountingData.csv\", index=False)"
   ]
  },
  {
   "cell_type": "code",
   "execution_count": null,
   "metadata": {
    "collapsed": false
   },
   "outputs": [],
   "source": []
  },
  {
   "cell_type": "code",
   "execution_count": null,
   "metadata": {
    "collapsed": true
   },
   "outputs": [],
   "source": []
  }
 ],
 "metadata": {
  "kernelspec": {
   "display_name": "Python 3",
   "language": "python",
   "name": "python3"
  },
  "language_info": {
   "codemirror_mode": {
    "name": "ipython",
    "version": 3
   },
   "file_extension": ".py",
   "mimetype": "text/x-python",
   "name": "python",
   "nbconvert_exporter": "python",
   "pygments_lexer": "ipython3",
   "version": "3.5.1"
  }
 },
 "nbformat": 4,
 "nbformat_minor": 0
}
