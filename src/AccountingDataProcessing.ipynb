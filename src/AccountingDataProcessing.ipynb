{
 "cells": [
  {
   "cell_type": "code",
   "execution_count": 1,
   "metadata": {
    "collapsed": true
   },
   "outputs": [],
   "source": [
    "%matplotlib inline\n",
    "import numpy \n",
    "import pandas\n",
    "import matplotlib.pyplot as plt\n",
    "import seaborn as sns\n",
    "import re"
   ]
  },
  {
   "cell_type": "code",
   "execution_count": 79,
   "metadata": {
    "collapsed": false
   },
   "outputs": [],
   "source": [
    "accounting_neeq = pandas.read_csv(\"../data/NEEQAccountingData.csv\", parse_dates=[2, 6, 29, 30])"
   ]
  },
  {
   "cell_type": "code",
   "execution_count": 6,
   "metadata": {
    "collapsed": false
   },
   "outputs": [],
   "source": [
    "items =  [\"资产总计\", \"营业收入\", \"归属母公司股东的净利润\", \"经营活动产生的现金流量净额\", \"固定资产\"]\n",
    "index_drops = accounting_neeq[accounting_neeq[items].isnull().all(axis=1)].index"
   ]
  },
  {
   "cell_type": "code",
   "execution_count": 14,
   "metadata": {
    "collapsed": false
   },
   "outputs": [],
   "source": [
    "accounting_neeq.loc[index_drops, :].to_csv(\"../data/accountingtmp.csv\", index=False)"
   ]
  },
  {
   "cell_type": "code",
   "execution_count": 80,
   "metadata": {
    "collapsed": false
   },
   "outputs": [],
   "source": [
    "accounting_neeq.loc[accounting_neeq[\"relativeYear\"] == 0, \"挂牌前后\"] = \"挂牌后\""
   ]
  },
  {
   "cell_type": "code",
   "execution_count": 91,
   "metadata": {
    "collapsed": false
   },
   "outputs": [],
   "source": [
    "accounting_group = accounting_neeq.groupby([\"证券代码\"])"
   ]
  },
  {
   "cell_type": "code",
   "execution_count": 77,
   "metadata": {
    "collapsed": true
   },
   "outputs": [],
   "source": [
    "x = accounting_neeq[accounting_neeq[\"证券代码\"] == \"430699.OC\"]"
   ]
  },
  {
   "cell_type": "code",
   "execution_count": 100,
   "metadata": {
    "collapsed": true
   },
   "outputs": [],
   "source": [
    "def relative_years_correction(data):\n",
    "    year = data.loc[data[\"relativeYear\"] == 0, \"年度\"]\n",
    "    if len(year) != 0:\n",
    "        relativeYears = numpy.array(data.loc[:, \"年度\"] - int(year))\n",
    "    else:\n",
    "        year = data.loc[data[\"relativeYear\"] == -1, \"年度\"]\n",
    "        relativeYears = numpy.array(data.loc[:, \"年度\"] - int(year) - 1)\n",
    "        \n",
    "    data.loc[:, \"relativeYear\"] = relativeYears\n",
    "    return data"
   ]
  },
  {
   "cell_type": "code",
   "execution_count": 101,
   "metadata": {
    "collapsed": false,
    "scrolled": true
   },
   "outputs": [],
   "source": [
    "accounting_neeq = accounting_group.apply(relative_years_correction)"
   ]
  },
  {
   "cell_type": "code",
   "execution_count": 103,
   "metadata": {
    "collapsed": false
   },
   "outputs": [],
   "source": [
    "accounting_neeq.to_csv(\"../data/NEEQAccountingData.csv\", index=False)"
   ]
  },
  {
   "cell_type": "code",
   "execution_count": 2,
   "metadata": {
    "collapsed": false
   },
   "outputs": [],
   "source": [
    "accounting_neeq = pandas.read_csv(\"../data/NEEQAccountingData.csv\", parse_dates=[2, 6, 29, 30])"
   ]
  },
  {
   "cell_type": "code",
   "execution_count": 8,
   "metadata": {
    "collapsed": false
   },
   "outputs": [
    {
     "data": {
      "text/plain": [
       "证券代码                       430001.OC\n",
       "年度                              2003\n",
       "挂牌日期             2006-01-18 00:00:00\n",
       "主办券商                    申银万国证券股份有限公司\n",
       "所属园区                中关村科技园区非上市股份有限公司\n",
       "所属证监会行业                        软件与服务\n",
       "摘牌日期             2010-12-06 00:00:00\n",
       "挂牌年度                            2006\n",
       "挂牌月份                               1\n",
       "证券简称                        世纪瑞尔(退市)\n",
       "资产总计                     1.03696e+08\n",
       "归属母公司股东的权益               7.06015e+07\n",
       "营业收入                     4.02414e+07\n",
       "营业成本                     1.35694e+07\n",
       "销售费用                     7.71494e+06\n",
       "管理费用                     9.77092e+06\n",
       "财务费用                          235899\n",
       "归属母公司股东的净利润               1.0645e+07\n",
       "非经常性损益                           NaN\n",
       "扣除非经常性损益后的净利                     NaN\n",
       "经营活动产生的现金流量净额            1.08433e+07\n",
       "应收账款                     2.71217e+07\n",
       "固定资产                     2.93955e+07\n",
       "ROA                              NaN\n",
       "折旧                            943428\n",
       "长期待摊费用摊销                      610643\n",
       "存货的减少                   -2.69231e+06\n",
       "经营性应收项目的减少              -1.38316e+07\n",
       "经营性应付项目的增加               1.34407e+07\n",
       "实际披露日期                           NaT\n",
       "报告期                              NaT\n",
       "挂牌前后                             挂牌前\n",
       "relativeYear                      -2\n",
       "Name: 0, dtype: object"
      ]
     },
     "execution_count": 8,
     "metadata": {},
     "output_type": "execute_result"
    }
   ],
   "source": [
    "TooManyYears = [\"832715.OC\", \"834019.OC\"]\n",
    "RevenueOnly = [\"833318.OC\", \"834178.OC\", \"834906.OC\", \"835024.OC\", \"835433.OC\", \"834090.OC\", \"835919.OC\", ]"
   ]
  },
  {
   "cell_type": "markdown",
   "metadata": {
    "collapsed": true
   },
   "source": [
    "### 特例\n",
    "Wind数据库中有些无法确认来源的信息，比如金田铜业（834178）的营业收入可以追溯到2003年以前，但是公司是2015年挂牌的公司，所以，这一部分专门列出来无法有同花顺等其他数据库相互确认的公司财务信息。"
   ]
  },
  {
   "cell_type": "code",
   "execution_count": null,
   "metadata": {
    "collapsed": true
   },
   "outputs": [],
   "source": []
  }
 ],
 "metadata": {
  "kernelspec": {
   "display_name": "Python 3",
   "language": "python",
   "name": "python3"
  },
  "language_info": {
   "codemirror_mode": {
    "name": "ipython",
    "version": 3
   },
   "file_extension": ".py",
   "mimetype": "text/x-python",
   "name": "python",
   "nbconvert_exporter": "python",
   "pygments_lexer": "ipython3",
   "version": "3.5.1"
  }
 },
 "nbformat": 4,
 "nbformat_minor": 0
}
